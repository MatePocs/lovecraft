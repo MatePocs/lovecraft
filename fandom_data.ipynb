{
 "cells": [
  {
   "cell_type": "markdown",
   "metadata": {},
   "source": [
    "notes: \n",
    "\n",
    "wikia or fandom: free webhosting service, https://www.mediawiki.org/wiki/Wikia\n",
    "\n",
    "aim of project: download all cards from this list: https://eldritchhorrorgame.fandom.com/wiki/Mythos\n",
    "just the flavor text\n",
    "\n",
    "interestingly, if you disable javascript, the content is still there, meaning it's not loaded in from javascript, meaning you can just use beautifulsoup"
   ]
  },
  {
   "cell_type": "markdown",
   "metadata": {},
   "source": [
    "mediawiki api: \n",
    "https://www.mediawiki.org/wiki/API:Main_page\n",
    "https://www.mediawiki.org/wiki/API:FAQ\n",
    "python wrapper: https://www.mediawiki.org/wiki/API:Client_code#Python"
   ]
  },
  {
   "cell_type": "markdown",
   "metadata": {},
   "source": [
    "https://mwclient.readthedocs.io/en/latest/"
   ]
  },
  {
   "cell_type": "code",
   "execution_count": 1,
   "metadata": {},
   "outputs": [
    {
     "name": "stdout",
     "output_type": "stream",
     "text": [
      "Collecting mwclient\n",
      "  Downloading https://files.pythonhosted.org/packages/34/30/5acd9628ee039d5caf439218aa05e2de7808bfd4a135bb7c889a7f1da222/mwclient-0.10.0-py2.py3-none-any.whl\n",
      "Requirement already satisfied: six in /Users/flatiron/opt/anaconda3/lib/python3.7/site-packages (from mwclient) (1.12.0)\n",
      "Requirement already satisfied: requests-oauthlib in /Users/flatiron/opt/anaconda3/lib/python3.7/site-packages (from mwclient) (1.3.0)\n",
      "Requirement already satisfied: requests>=2.0.0 in /Users/flatiron/opt/anaconda3/lib/python3.7/site-packages (from requests-oauthlib->mwclient) (2.22.0)\n",
      "Requirement already satisfied: oauthlib>=3.0.0 in /Users/flatiron/opt/anaconda3/lib/python3.7/site-packages (from requests-oauthlib->mwclient) (3.1.0)\n",
      "Requirement already satisfied: certifi>=2017.4.17 in /Users/flatiron/opt/anaconda3/lib/python3.7/site-packages (from requests>=2.0.0->requests-oauthlib->mwclient) (2019.9.11)\n",
      "Requirement already satisfied: chardet<3.1.0,>=3.0.2 in /Users/flatiron/opt/anaconda3/lib/python3.7/site-packages (from requests>=2.0.0->requests-oauthlib->mwclient) (3.0.4)\n",
      "Requirement already satisfied: urllib3!=1.25.0,!=1.25.1,<1.26,>=1.21.1 in /Users/flatiron/opt/anaconda3/lib/python3.7/site-packages (from requests>=2.0.0->requests-oauthlib->mwclient) (1.24.2)\n",
      "Requirement already satisfied: idna<2.9,>=2.5 in /Users/flatiron/opt/anaconda3/lib/python3.7/site-packages (from requests>=2.0.0->requests-oauthlib->mwclient) (2.8)\n",
      "Installing collected packages: mwclient\n",
      "Successfully installed mwclient-0.10.0\n"
     ]
    }
   ],
   "source": [
    "!pip install mwclient"
   ]
  },
  {
   "cell_type": "code",
   "execution_count": 2,
   "metadata": {},
   "outputs": [],
   "source": [
    "import mwclient"
   ]
  },
  {
   "cell_type": "code",
   "execution_count": 3,
   "metadata": {},
   "outputs": [],
   "source": [
    "site = mwclient.Site('en.wikipedia.org')"
   ]
  },
  {
   "cell_type": "code",
   "execution_count": 16,
   "metadata": {},
   "outputs": [
    {
     "ename": "InvalidResponse",
     "evalue": "Did not get a valid JSON response from the server. Check that you used the correct hostname. If you did, the server might be wrongly configured or experiencing temporary problems.",
     "output_type": "error",
     "traceback": [
      "\u001b[0;31m---------------------------------------------------------------------------\u001b[0m",
      "\u001b[0;31mJSONDecodeError\u001b[0m                           Traceback (most recent call last)",
      "\u001b[0;32m~/opt/anaconda3/lib/python3.7/site-packages/mwclient/client.py\u001b[0m in \u001b[0;36mraw_api\u001b[0;34m(self, action, http_method, *args, **kwargs)\u001b[0m\n\u001b[1;32m    436\u001b[0m         \u001b[0;32mtry\u001b[0m\u001b[0;34m:\u001b[0m\u001b[0;34m\u001b[0m\u001b[0;34m\u001b[0m\u001b[0m\n\u001b[0;32m--> 437\u001b[0;31m             \u001b[0;32mreturn\u001b[0m \u001b[0mjson\u001b[0m\u001b[0;34m.\u001b[0m\u001b[0mloads\u001b[0m\u001b[0;34m(\u001b[0m\u001b[0mres\u001b[0m\u001b[0;34m,\u001b[0m \u001b[0mobject_pairs_hook\u001b[0m\u001b[0;34m=\u001b[0m\u001b[0mOrderedDict\u001b[0m\u001b[0;34m)\u001b[0m\u001b[0;34m\u001b[0m\u001b[0;34m\u001b[0m\u001b[0m\n\u001b[0m\u001b[1;32m    438\u001b[0m         \u001b[0;32mexcept\u001b[0m \u001b[0mValueError\u001b[0m\u001b[0;34m:\u001b[0m\u001b[0;34m\u001b[0m\u001b[0;34m\u001b[0m\u001b[0m\n",
      "\u001b[0;32m~/opt/anaconda3/lib/python3.7/json/__init__.py\u001b[0m in \u001b[0;36mloads\u001b[0;34m(s, encoding, cls, object_hook, parse_float, parse_int, parse_constant, object_pairs_hook, **kw)\u001b[0m\n\u001b[1;32m    360\u001b[0m         \u001b[0mkw\u001b[0m\u001b[0;34m[\u001b[0m\u001b[0;34m'parse_constant'\u001b[0m\u001b[0;34m]\u001b[0m \u001b[0;34m=\u001b[0m \u001b[0mparse_constant\u001b[0m\u001b[0;34m\u001b[0m\u001b[0;34m\u001b[0m\u001b[0m\n\u001b[0;32m--> 361\u001b[0;31m     \u001b[0;32mreturn\u001b[0m \u001b[0mcls\u001b[0m\u001b[0;34m(\u001b[0m\u001b[0;34m**\u001b[0m\u001b[0mkw\u001b[0m\u001b[0;34m)\u001b[0m\u001b[0;34m.\u001b[0m\u001b[0mdecode\u001b[0m\u001b[0;34m(\u001b[0m\u001b[0ms\u001b[0m\u001b[0;34m)\u001b[0m\u001b[0;34m\u001b[0m\u001b[0;34m\u001b[0m\u001b[0m\n\u001b[0m",
      "\u001b[0;32m~/opt/anaconda3/lib/python3.7/json/decoder.py\u001b[0m in \u001b[0;36mdecode\u001b[0;34m(self, s, _w)\u001b[0m\n\u001b[1;32m    336\u001b[0m         \"\"\"\n\u001b[0;32m--> 337\u001b[0;31m         \u001b[0mobj\u001b[0m\u001b[0;34m,\u001b[0m \u001b[0mend\u001b[0m \u001b[0;34m=\u001b[0m \u001b[0mself\u001b[0m\u001b[0;34m.\u001b[0m\u001b[0mraw_decode\u001b[0m\u001b[0;34m(\u001b[0m\u001b[0ms\u001b[0m\u001b[0;34m,\u001b[0m \u001b[0midx\u001b[0m\u001b[0;34m=\u001b[0m\u001b[0m_w\u001b[0m\u001b[0;34m(\u001b[0m\u001b[0ms\u001b[0m\u001b[0;34m,\u001b[0m \u001b[0;36m0\u001b[0m\u001b[0;34m)\u001b[0m\u001b[0;34m.\u001b[0m\u001b[0mend\u001b[0m\u001b[0;34m(\u001b[0m\u001b[0;34m)\u001b[0m\u001b[0;34m)\u001b[0m\u001b[0;34m\u001b[0m\u001b[0;34m\u001b[0m\u001b[0m\n\u001b[0m\u001b[1;32m    338\u001b[0m         \u001b[0mend\u001b[0m \u001b[0;34m=\u001b[0m \u001b[0m_w\u001b[0m\u001b[0;34m(\u001b[0m\u001b[0ms\u001b[0m\u001b[0;34m,\u001b[0m \u001b[0mend\u001b[0m\u001b[0;34m)\u001b[0m\u001b[0;34m.\u001b[0m\u001b[0mend\u001b[0m\u001b[0;34m(\u001b[0m\u001b[0;34m)\u001b[0m\u001b[0;34m\u001b[0m\u001b[0;34m\u001b[0m\u001b[0m\n",
      "\u001b[0;32m~/opt/anaconda3/lib/python3.7/json/decoder.py\u001b[0m in \u001b[0;36mraw_decode\u001b[0;34m(self, s, idx)\u001b[0m\n\u001b[1;32m    354\u001b[0m         \u001b[0;32mexcept\u001b[0m \u001b[0mStopIteration\u001b[0m \u001b[0;32mas\u001b[0m \u001b[0merr\u001b[0m\u001b[0;34m:\u001b[0m\u001b[0;34m\u001b[0m\u001b[0;34m\u001b[0m\u001b[0m\n\u001b[0;32m--> 355\u001b[0;31m             \u001b[0;32mraise\u001b[0m \u001b[0mJSONDecodeError\u001b[0m\u001b[0;34m(\u001b[0m\u001b[0;34m\"Expecting value\"\u001b[0m\u001b[0;34m,\u001b[0m \u001b[0ms\u001b[0m\u001b[0;34m,\u001b[0m \u001b[0merr\u001b[0m\u001b[0;34m.\u001b[0m\u001b[0mvalue\u001b[0m\u001b[0;34m)\u001b[0m \u001b[0;32mfrom\u001b[0m \u001b[0;32mNone\u001b[0m\u001b[0;34m\u001b[0m\u001b[0;34m\u001b[0m\u001b[0m\n\u001b[0m\u001b[1;32m    356\u001b[0m         \u001b[0;32mreturn\u001b[0m \u001b[0mobj\u001b[0m\u001b[0;34m,\u001b[0m \u001b[0mend\u001b[0m\u001b[0;34m\u001b[0m\u001b[0;34m\u001b[0m\u001b[0m\n",
      "\u001b[0;31mJSONDecodeError\u001b[0m: Expecting value: line 1 column 1 (char 0)",
      "\nDuring handling of the above exception, another exception occurred:\n",
      "\u001b[0;31mInvalidResponse\u001b[0m                           Traceback (most recent call last)",
      "\u001b[0;32m<ipython-input-16-641bda2dc562>\u001b[0m in \u001b[0;36m<module>\u001b[0;34m\u001b[0m\n\u001b[0;32m----> 1\u001b[0;31m \u001b[0msite2\u001b[0m \u001b[0;34m=\u001b[0m \u001b[0mmwclient\u001b[0m\u001b[0;34m.\u001b[0m\u001b[0mSite\u001b[0m\u001b[0;34m(\u001b[0m\u001b[0;34m'eldritchhorrorgame.fandom.com'\u001b[0m\u001b[0;34m,\u001b[0m \u001b[0mpath\u001b[0m \u001b[0;34m=\u001b[0m \u001b[0;34m'/wiki/'\u001b[0m\u001b[0;34m)\u001b[0m\u001b[0;34m\u001b[0m\u001b[0;34m\u001b[0m\u001b[0m\n\u001b[0m",
      "\u001b[0;32m~/opt/anaconda3/lib/python3.7/site-packages/mwclient/client.py\u001b[0m in \u001b[0;36m__init__\u001b[0;34m(self, host, path, ext, pool, retry_timeout, max_retries, wait_callback, clients_useragent, max_lag, compress, force_login, do_init, httpauth, reqs, consumer_token, consumer_secret, access_token, access_secret, client_certificate, custom_headers, scheme)\u001b[0m\n\u001b[1;32m    129\u001b[0m         \u001b[0;32mif\u001b[0m \u001b[0mdo_init\u001b[0m\u001b[0;34m:\u001b[0m\u001b[0;34m\u001b[0m\u001b[0;34m\u001b[0m\u001b[0m\n\u001b[1;32m    130\u001b[0m             \u001b[0;32mtry\u001b[0m\u001b[0;34m:\u001b[0m\u001b[0;34m\u001b[0m\u001b[0;34m\u001b[0m\u001b[0m\n\u001b[0;32m--> 131\u001b[0;31m                 \u001b[0mself\u001b[0m\u001b[0;34m.\u001b[0m\u001b[0msite_init\u001b[0m\u001b[0;34m(\u001b[0m\u001b[0;34m)\u001b[0m\u001b[0;34m\u001b[0m\u001b[0;34m\u001b[0m\u001b[0m\n\u001b[0m\u001b[1;32m    132\u001b[0m             \u001b[0;32mexcept\u001b[0m \u001b[0merrors\u001b[0m\u001b[0;34m.\u001b[0m\u001b[0mAPIError\u001b[0m \u001b[0;32mas\u001b[0m \u001b[0me\u001b[0m\u001b[0;34m:\u001b[0m\u001b[0;34m\u001b[0m\u001b[0;34m\u001b[0m\u001b[0m\n\u001b[1;32m    133\u001b[0m                 \u001b[0;32mif\u001b[0m \u001b[0me\u001b[0m\u001b[0;34m.\u001b[0m\u001b[0margs\u001b[0m\u001b[0;34m[\u001b[0m\u001b[0;36m0\u001b[0m\u001b[0;34m]\u001b[0m \u001b[0;34m==\u001b[0m \u001b[0;34m'mwoauth-invalid-authorization'\u001b[0m\u001b[0;34m:\u001b[0m\u001b[0;34m\u001b[0m\u001b[0;34m\u001b[0m\u001b[0m\n",
      "\u001b[0;32m~/opt/anaconda3/lib/python3.7/site-packages/mwclient/client.py\u001b[0m in \u001b[0;36msite_init\u001b[0;34m(self)\u001b[0m\n\u001b[1;32m    151\u001b[0m         meta = self.get('query', meta='siteinfo|userinfo',\n\u001b[1;32m    152\u001b[0m                         \u001b[0msiprop\u001b[0m\u001b[0;34m=\u001b[0m\u001b[0;34m'general|namespaces'\u001b[0m\u001b[0;34m,\u001b[0m \u001b[0muiprop\u001b[0m\u001b[0;34m=\u001b[0m\u001b[0;34m'groups|rights'\u001b[0m\u001b[0;34m,\u001b[0m\u001b[0;34m\u001b[0m\u001b[0;34m\u001b[0m\u001b[0m\n\u001b[0;32m--> 153\u001b[0;31m                         retry_on_error=False)\n\u001b[0m\u001b[1;32m    154\u001b[0m \u001b[0;34m\u001b[0m\u001b[0m\n\u001b[1;32m    155\u001b[0m         \u001b[0;31m# Extract site info\u001b[0m\u001b[0;34m\u001b[0m\u001b[0;34m\u001b[0m\u001b[0;34m\u001b[0m\u001b[0m\n",
      "\u001b[0;32m~/opt/anaconda3/lib/python3.7/site-packages/mwclient/client.py\u001b[0m in \u001b[0;36mget\u001b[0;34m(self, action, *args, **kwargs)\u001b[0m\n\u001b[1;32m    233\u001b[0m             \u001b[0mThe\u001b[0m \u001b[0mraw\u001b[0m \u001b[0mresponse\u001b[0m \u001b[0;32mfrom\u001b[0m \u001b[0mthe\u001b[0m \u001b[0mAPI\u001b[0m \u001b[0mcall\u001b[0m\u001b[0;34m,\u001b[0m \u001b[0;32mas\u001b[0m \u001b[0ma\u001b[0m \u001b[0mdictionary\u001b[0m\u001b[0;34m.\u001b[0m\u001b[0;34m\u001b[0m\u001b[0;34m\u001b[0m\u001b[0m\n\u001b[1;32m    234\u001b[0m         \"\"\"\n\u001b[0;32m--> 235\u001b[0;31m         \u001b[0;32mreturn\u001b[0m \u001b[0mself\u001b[0m\u001b[0;34m.\u001b[0m\u001b[0mapi\u001b[0m\u001b[0;34m(\u001b[0m\u001b[0maction\u001b[0m\u001b[0;34m,\u001b[0m \u001b[0;34m'GET'\u001b[0m\u001b[0;34m,\u001b[0m \u001b[0;34m*\u001b[0m\u001b[0margs\u001b[0m\u001b[0;34m,\u001b[0m \u001b[0;34m**\u001b[0m\u001b[0mkwargs\u001b[0m\u001b[0;34m)\u001b[0m\u001b[0;34m\u001b[0m\u001b[0;34m\u001b[0m\u001b[0m\n\u001b[0m\u001b[1;32m    236\u001b[0m \u001b[0;34m\u001b[0m\u001b[0m\n\u001b[1;32m    237\u001b[0m     \u001b[0;32mdef\u001b[0m \u001b[0mpost\u001b[0m\u001b[0;34m(\u001b[0m\u001b[0mself\u001b[0m\u001b[0;34m,\u001b[0m \u001b[0maction\u001b[0m\u001b[0;34m,\u001b[0m \u001b[0;34m*\u001b[0m\u001b[0margs\u001b[0m\u001b[0;34m,\u001b[0m \u001b[0;34m**\u001b[0m\u001b[0mkwargs\u001b[0m\u001b[0;34m)\u001b[0m\u001b[0;34m:\u001b[0m\u001b[0;34m\u001b[0m\u001b[0;34m\u001b[0m\u001b[0m\n",
      "\u001b[0;32m~/opt/anaconda3/lib/python3.7/site-packages/mwclient/client.py\u001b[0m in \u001b[0;36mapi\u001b[0;34m(self, action, http_method, *args, **kwargs)\u001b[0m\n\u001b[1;32m    284\u001b[0m \u001b[0;34m\u001b[0m\u001b[0m\n\u001b[1;32m    285\u001b[0m         \u001b[0;32mwhile\u001b[0m \u001b[0;32mTrue\u001b[0m\u001b[0;34m:\u001b[0m\u001b[0;34m\u001b[0m\u001b[0;34m\u001b[0m\u001b[0m\n\u001b[0;32m--> 286\u001b[0;31m             \u001b[0minfo\u001b[0m \u001b[0;34m=\u001b[0m \u001b[0mself\u001b[0m\u001b[0;34m.\u001b[0m\u001b[0mraw_api\u001b[0m\u001b[0;34m(\u001b[0m\u001b[0maction\u001b[0m\u001b[0;34m,\u001b[0m \u001b[0mhttp_method\u001b[0m\u001b[0;34m,\u001b[0m \u001b[0;34m**\u001b[0m\u001b[0mkwargs\u001b[0m\u001b[0;34m)\u001b[0m\u001b[0;34m\u001b[0m\u001b[0;34m\u001b[0m\u001b[0m\n\u001b[0m\u001b[1;32m    287\u001b[0m             \u001b[0;32mif\u001b[0m \u001b[0;32mnot\u001b[0m \u001b[0minfo\u001b[0m\u001b[0;34m:\u001b[0m\u001b[0;34m\u001b[0m\u001b[0;34m\u001b[0m\u001b[0m\n\u001b[1;32m    288\u001b[0m                 \u001b[0minfo\u001b[0m \u001b[0;34m=\u001b[0m \u001b[0;34m{\u001b[0m\u001b[0;34m}\u001b[0m\u001b[0;34m\u001b[0m\u001b[0;34m\u001b[0m\u001b[0m\n",
      "\u001b[0;32m~/opt/anaconda3/lib/python3.7/site-packages/mwclient/client.py\u001b[0m in \u001b[0;36mraw_api\u001b[0;34m(self, action, http_method, *args, **kwargs)\u001b[0m\n\u001b[1;32m    439\u001b[0m             \u001b[0;32mif\u001b[0m \u001b[0mres\u001b[0m\u001b[0;34m.\u001b[0m\u001b[0mstartswith\u001b[0m\u001b[0;34m(\u001b[0m\u001b[0;34m'MediaWiki API is not enabled for this site.'\u001b[0m\u001b[0;34m)\u001b[0m\u001b[0;34m:\u001b[0m\u001b[0;34m\u001b[0m\u001b[0;34m\u001b[0m\u001b[0m\n\u001b[1;32m    440\u001b[0m                 \u001b[0;32mraise\u001b[0m \u001b[0merrors\u001b[0m\u001b[0;34m.\u001b[0m\u001b[0mAPIDisabledError\u001b[0m\u001b[0;34m\u001b[0m\u001b[0;34m\u001b[0m\u001b[0m\n\u001b[0;32m--> 441\u001b[0;31m             \u001b[0;32mraise\u001b[0m \u001b[0merrors\u001b[0m\u001b[0;34m.\u001b[0m\u001b[0mInvalidResponse\u001b[0m\u001b[0;34m(\u001b[0m\u001b[0mres\u001b[0m\u001b[0;34m)\u001b[0m\u001b[0;34m\u001b[0m\u001b[0;34m\u001b[0m\u001b[0m\n\u001b[0m\u001b[1;32m    442\u001b[0m \u001b[0;34m\u001b[0m\u001b[0m\n\u001b[1;32m    443\u001b[0m     \u001b[0;32mdef\u001b[0m \u001b[0mraw_index\u001b[0m\u001b[0;34m(\u001b[0m\u001b[0mself\u001b[0m\u001b[0;34m,\u001b[0m \u001b[0maction\u001b[0m\u001b[0;34m,\u001b[0m \u001b[0mhttp_method\u001b[0m\u001b[0;34m=\u001b[0m\u001b[0;34m'POST'\u001b[0m\u001b[0;34m,\u001b[0m \u001b[0;34m*\u001b[0m\u001b[0margs\u001b[0m\u001b[0;34m,\u001b[0m \u001b[0;34m**\u001b[0m\u001b[0mkwargs\u001b[0m\u001b[0;34m)\u001b[0m\u001b[0;34m:\u001b[0m\u001b[0;34m\u001b[0m\u001b[0;34m\u001b[0m\u001b[0m\n",
      "\u001b[0;31mInvalidResponse\u001b[0m: Did not get a valid JSON response from the server. Check that you used the correct hostname. If you did, the server might be wrongly configured or experiencing temporary problems."
     ]
    }
   ],
   "source": [
    "site2 = mwclient.Site('eldritchhorrorgame.fandom.com', path = '/wiki/')"
   ]
  },
  {
   "cell_type": "code",
   "execution_count": 17,
   "metadata": {},
   "outputs": [],
   "source": [
    "page = site.pages['Greater guinea pig']"
   ]
  },
  {
   "cell_type": "code",
   "execution_count": 22,
   "metadata": {},
   "outputs": [],
   "source": [
    "text = page.text()"
   ]
  },
  {
   "cell_type": "code",
   "execution_count": 26,
   "metadata": {},
   "outputs": [
    {
     "data": {
      "text/plain": [
       "'Greater guinea pig'"
      ]
     },
     "execution_count": 26,
     "metadata": {},
     "output_type": "execute_result"
    }
   ],
   "source": [
    "page.page_title"
   ]
  },
  {
   "cell_type": "code",
   "execution_count": 23,
   "metadata": {},
   "outputs": [
    {
     "data": {
      "text/plain": [
       "'{{Speciesbox \\n| name = Greater guinea pig\\n| image = Cavia magna (Wroclaw zoo).JPG\\n| status = LC\\n| status_system = IUCN3.1\\n| status_ref = <ref name=iucn>{{cite iucn|author=Gonzalez, E.|author2=Lessa, E.|last-author-amp=yes|year=2008 |url=https://www.iucnredlist.org/details/4066/0 |title=\\'\\'Cavia magna\\'\\'|access-date=11 August 2015|ref=harv}}</ref>\\n| taxon = Cavia magna\\n| authority = [[A. Ximenez (mammalologist)|Ximenez]] et al., 1980 <ref name = MSW3>{{MSW3 Hystricognathi | id = 13400180 | page = 1553}}</ref>\\n| range_map = Cavia magna map.svg\\n}}\\n\\nThe \\'\\'\\'greater guinea pig\\'\\'\\' (\\'\\'Cavia magna\\'\\') is a [[species]] of [[rodent]] found in the coastal strip of [[Brazil]] and [[Uruguay]], where it lives in moist grassland and marshes.\\n\\n==Description==\\nA large rodent, the greater guinea pig grows to a total length of {{convert|310|mm|in|1|abbr=on}} and weight of {{convert|636|g|oz|1|abbr=on}} for males and a total length of {{convert|303|mm|in|1|abbr=on}} and weight of {{convert|537|g|oz|1|abbr=on}} for females. The dorsal fur is dark agouti brown and the underparts are reddish brown.<ref name=Eisenberg>{{cite book|author1=John F. Eisenberg|author2=Kent H. Redford|title=Mammals of the Neotropics, Volume 3: Ecuador, Bolivia, Brazil|url=https://books.google.com/books?id=p2MDAzCeQQoC&pg=PA456|date=15 May 2000|publisher=University of Chicago Press|isbn=978-0-226-19542-1|page=456}}</ref> It is semiaquatic and has membranes joining the toes.<ref name=Patton/>\\n\\nIts [[karyotype]] has [[Diploid|2n]] = 64 and [[Fundamental number|FN]] = 128.<ref name = MSW3/>\\n\\n==Distribution and habitat==\\nThis species is native to the coastal strip of land in eastern Uruguay and southeastern Brazil. Its typical habitat is moist grassland, marshes,<ref name=Patton>{{cite book|author1=James L. Patton|author2=Ulyses F. J. Pardiñas|author3=Guillermo D\\'Elía|title=Mammals of South America, Volume 2: Rodents|url=https://books.google.com/books?id=mbjnBgAAQBAJ&pg=PA699 |year=2015 |publisher=University of Chicago Press |isbn=978-0-226-16960-6 |pages=699–}}</ref> the edges of woodland and small valleys.<ref name=iucn/>\\n\\n==Behaviour==\\nThe greater guinea pig is a [[herbivore]]. It is a solitary animal and has a complex network of tunnels and runways through the vegetation. The home range is variable and seems to be related to the animal\\'s size, its sex, and the water level in the area. Females seem capable of breeding at any time of year but births predominate in spring and the early part of summer. Females may have up to three litters in one year. The [[gestation]] period is about 64 days and the litter size is very small (1 or 2 pups). The young are quite large when born and grow fast, and some females born in the spring themselves breed successfully when between 30 and 45 days old.<ref name=Patton/>  This small mammal is unusual in that it produces a small number of [[precocial]] offspring with a high survival rate when it might have been expected to produce large litters of [[altricial]] young.<ref>Kraus, C. \\'\\'et al.\\'\\' 2005. Living slow and dying young? Life-history strategy and age-specific survival rates in a precocial small mammal. In: \\'\\'Journal of Animal Ecology\\'\\' 74:171–180</ref>\\n\\n==Status==\\nThe [[International Union for Conservation of Nature]] has rated the conservation status of the greater guinea pig as being of \"[[Least-concern species|least concern]]\". It has a restricted range but has a total area of occupancy of more than {{convert|20000|km2|0}}. It is believed to have a large total population, and although the population is thought to be slightly declining in Uruguay, this is not at a rate sufficiently significant for it to be listed in a more threatened category.<ref name=iucn/>\\n\\n==References==\\n{{Reflist|colwidth=30em}}\\n*[http://www.natureserve.org/infonatura/ Infonatura]\\n\\n==External links==\\n*{{Commons category-inline|Cavia magna}}\\n*{{Wikispecies-inline|Cavia magna}}\\n\\n{{Caviidae nav}}\\n{{Taxonbar|from=Q1762803}}\\n\\n[[Category:Guinea pigs]]\\n[[Category:Mammals of Brazil]]\\n[[Category:Mammals of Uruguay]]\\n[[Category:Rodents of South America]]\\n[[Category:Environment of Rio Grande do Sul]]\\n[[Category:Mammals described in 1980]]'"
      ]
     },
     "execution_count": 23,
     "metadata": {},
     "output_type": "execute_result"
    }
   ],
   "source": [
    "text"
   ]
  },
  {
   "cell_type": "code",
   "execution_count": 27,
   "metadata": {},
   "outputs": [
    {
     "data": {
      "text/plain": [
       "6828818"
      ]
     },
     "execution_count": 27,
     "metadata": {},
     "output_type": "execute_result"
    }
   ],
   "source": [
    "page.pageid"
   ]
  },
  {
   "cell_type": "code",
   "execution_count": 34,
   "metadata": {},
   "outputs": [],
   "source": [
    "text = page.text(section = 'Distribution and habitat')"
   ]
  },
  {
   "cell_type": "code",
   "execution_count": 35,
   "metadata": {},
   "outputs": [
    {
     "data": {
      "text/plain": [
       "\"{{Speciesbox \\n| name = Greater guinea pig\\n| image = Cavia magna (Wroclaw zoo).JPG\\n| status = LC\\n| status_system = IUCN3.1\\n| status_ref = <ref name=iucn>{{cite iucn|author=Gonzalez, E.|author2=Lessa, E.|last-author-amp=yes|year=2008 |url=https://www.iucnredlist.org/details/4066/0 |title=''Cavia magna''|access-date=11 August 2015|ref=harv}}</ref>\\n| taxon = Cavia magna\\n| authority = [[A. Ximenez (mammalologist)|Ximenez]] et al., 1980 <ref name = MSW3>{{MSW3 Hystricognathi | id = 13400180 | page = 1553}}</ref>\\n| range_map = Cavia magna map.svg\\n}}\\n\\nThe '''greater guinea pig''' (''Cavia magna'') is a [[species]] of [[rodent]] found in the coastal strip of [[Brazil]] and [[Uruguay]], where it lives in moist grassland and marshes.\""
      ]
     },
     "execution_count": 35,
     "metadata": {},
     "output_type": "execute_result"
    }
   ],
   "source": [
    "text"
   ]
  },
  {
   "cell_type": "code",
   "execution_count": null,
   "metadata": {},
   "outputs": [],
   "source": []
  }
 ],
 "metadata": {
  "kernelspec": {
   "display_name": "Python 3",
   "language": "python",
   "name": "python3"
  },
  "language_info": {
   "codemirror_mode": {
    "name": "ipython",
    "version": 3
   },
   "file_extension": ".py",
   "mimetype": "text/x-python",
   "name": "python",
   "nbconvert_exporter": "python",
   "pygments_lexer": "ipython3",
   "version": "3.7.4"
  },
  "toc": {
   "base_numbering": 1,
   "nav_menu": {},
   "number_sections": true,
   "sideBar": true,
   "skip_h1_title": false,
   "title_cell": "Table of Contents",
   "title_sidebar": "Contents",
   "toc_cell": false,
   "toc_position": {},
   "toc_section_display": true,
   "toc_window_display": false
  },
  "varInspector": {
   "cols": {
    "lenName": 16,
    "lenType": 16,
    "lenVar": 40
   },
   "kernels_config": {
    "python": {
     "delete_cmd_postfix": "",
     "delete_cmd_prefix": "del ",
     "library": "var_list.py",
     "varRefreshCmd": "print(var_dic_list())"
    },
    "r": {
     "delete_cmd_postfix": ") ",
     "delete_cmd_prefix": "rm(",
     "library": "var_list.r",
     "varRefreshCmd": "cat(var_dic_list()) "
    }
   },
   "types_to_exclude": [
    "module",
    "function",
    "builtin_function_or_method",
    "instance",
    "_Feature"
   ],
   "window_display": false
  }
 },
 "nbformat": 4,
 "nbformat_minor": 2
}
