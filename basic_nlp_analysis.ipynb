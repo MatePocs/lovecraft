{
 "cells": [
  {
   "cell_type": "markdown",
   "metadata": {},
   "source": [
    "# Infrastructure"
   ]
  },
  {
   "cell_type": "markdown",
   "metadata": {},
   "source": [
    "In this section, we are importing necessary libraries, setting up global parameters like folders, and creating the lists of titles, years, etc. "
   ]
  },
  {
   "cell_type": "code",
   "execution_count": 1,
   "metadata": {},
   "outputs": [],
   "source": [
    "# General\n",
    "import re\n",
    "import pandas as pd\n",
    "import word_count_func\n",
    "\n",
    "import seaborn as sns\n",
    "import matplotlib.pyplot as plt\n",
    "plt.style.use('seaborn-deep')"
   ]
  },
  {
   "cell_type": "code",
   "execution_count": 2,
   "metadata": {},
   "outputs": [],
   "source": [
    "# this is the folder that should be used: \n",
    "txt_adjusted_folder = './data/original/txts_adjusted/'\n",
    "# only used in pdf extraction\n",
    "txt_folder = './data/original/txts/'"
   ]
  },
  {
   "cell_type": "code",
   "execution_count": 3,
   "metadata": {},
   "outputs": [],
   "source": [
    "df = pd.read_csv('./data/original/table_of_contents.csv', header = None, \\\n",
    "                 names = ['original_title', 'page_num','filename','year'])\n",
    "\n",
    "# skipping first one\n",
    "filenames =  df['filename'][1:]"
   ]
  },
  {
   "cell_type": "code",
   "execution_count": 4,
   "metadata": {},
   "outputs": [],
   "source": [
    "# sentiment analysis\n",
    "from vaderSentiment.vaderSentiment import SentimentIntensityAnalyzer"
   ]
  },
  {
   "cell_type": "code",
   "execution_count": 5,
   "metadata": {},
   "outputs": [],
   "source": [
    "# Tokenisation & TF-IDF\n",
    "import spacy\n",
    "nlp = spacy.load(\"en_core_web_lg\")"
   ]
  },
  {
   "cell_type": "code",
   "execution_count": 109,
   "metadata": {},
   "outputs": [],
   "source": [
    "# TF-IDF\n",
    "from sklearn.feature_extraction.text import TfidfVectorizer\n",
    "from sklearn.metrics.pairwise import linear_kernel\n",
    "from sklearn.cluster import KMeans"
   ]
  },
  {
   "cell_type": "markdown",
   "metadata": {
    "heading_collapsed": true
   },
   "source": [
    "# Preparation"
   ]
  },
  {
   "cell_type": "markdown",
   "metadata": {
    "hidden": true
   },
   "source": [
    "Contains code that cleans the data further. As of now: handling weird characters, most importantly quotation marks and apostrophes, which hurt lemmatization. To keep things simple, we are changing everything to ' and \". (Called typewriter apostrophe I think.)"
   ]
  },
  {
   "cell_type": "markdown",
   "metadata": {
    "hidden": true
   },
   "source": [
    "## Example"
   ]
  },
  {
   "cell_type": "markdown",
   "metadata": {
    "hidden": true
   },
   "source": [
    "Checking one writing for examples. "
   ]
  },
  {
   "cell_type": "code",
   "execution_count": 57,
   "metadata": {
    "hidden": true
   },
   "outputs": [],
   "source": [
    "my_file = open(txt_folder + 'the_dunwich_horror.txt')\n",
    "raw_text = my_file.read()\n",
    "characters = raw_text.lower().replace('\\n','')\n",
    "characters = characters.replace('\\x0c','')\n",
    "characters = characters.replace(' ','')"
   ]
  },
  {
   "cell_type": "code",
   "execution_count": 70,
   "metadata": {
    "hidden": true
   },
   "outputs": [
    {
     "data": {
      "text/plain": [
       "'-2wdj0i”m8uüosczävèr‖l)q,4b76e’n—a1(:é.ftpk?x‘hg!;93―y5'"
      ]
     },
     "execution_count": 70,
     "metadata": {},
     "output_type": "execute_result"
    }
   ],
   "source": [
    "unique_characters = set(characters)\n",
    "unique_characters_in_string = ''.join(set(characters))\n",
    "unique_characters_in_string"
   ]
  },
  {
   "cell_type": "markdown",
   "metadata": {
    "hidden": true
   },
   "source": [
    "We create a string of regular characters, ones that we expect in a text. (Might be expanded later.)"
   ]
  },
  {
   "cell_type": "code",
   "execution_count": 81,
   "metadata": {
    "hidden": true
   },
   "outputs": [],
   "source": [
    "regular_characters = 'abcdefghijklmnopqrstuvwxyz1234567890.,?!()-:;\\'\"'"
   ]
  },
  {
   "cell_type": "code",
   "execution_count": 82,
   "metadata": {
    "hidden": true
   },
   "outputs": [],
   "source": [
    "for character in regular_characters:\n",
    "    try:\n",
    "        unique_characters.remove(character)\n",
    "    except:\n",
    "        pass"
   ]
  },
  {
   "cell_type": "markdown",
   "metadata": {
    "hidden": true
   },
   "source": [
    "See what we are left with. "
   ]
  },
  {
   "cell_type": "code",
   "execution_count": 83,
   "metadata": {
    "hidden": true
   },
   "outputs": [
    {
     "data": {
      "text/plain": [
       "{'ä', 'è', 'é', 'ü', '—', '―', '‖', '‘', '’', '”'}"
      ]
     },
     "execution_count": 83,
     "metadata": {},
     "output_type": "execute_result"
    }
   ],
   "source": [
    "unique_characters"
   ]
  },
  {
   "cell_type": "code",
   "execution_count": 80,
   "metadata": {
    "hidden": true
   },
   "outputs": [
    {
     "data": {
      "text/plain": [
       "False"
      ]
     },
     "execution_count": 80,
     "metadata": {},
     "output_type": "execute_result"
    }
   ],
   "source": [
    "'—' == '―'"
   ]
  },
  {
   "cell_type": "code",
   "execution_count": 84,
   "metadata": {
    "hidden": true
   },
   "outputs": [
    {
     "data": {
      "text/plain": [
       "False"
      ]
     },
     "execution_count": 84,
     "metadata": {},
     "output_type": "execute_result"
    }
   ],
   "source": [
    "'‘' == '’'"
   ]
  },
  {
   "cell_type": "code",
   "execution_count": 85,
   "metadata": {
    "hidden": true
   },
   "outputs": [
    {
     "data": {
      "text/plain": [
       "False"
      ]
     },
     "execution_count": 85,
     "metadata": {},
     "output_type": "execute_result"
    }
   ],
   "source": [
    "'‘' == \"'\" or  '’' == \"'\""
   ]
  },
  {
   "cell_type": "code",
   "execution_count": 59,
   "metadata": {
    "hidden": true
   },
   "outputs": [
    {
     "data": {
      "text/plain": [
       "36016"
      ]
     },
     "execution_count": 59,
     "metadata": {},
     "output_type": "execute_result"
    }
   ],
   "source": [
    "raw_text.index('ä')"
   ]
  },
  {
   "cell_type": "code",
   "execution_count": 86,
   "metadata": {
    "hidden": true
   },
   "outputs": [
    {
     "data": {
      "text/plain": [
       "32285"
      ]
     },
     "execution_count": 86,
     "metadata": {},
     "output_type": "execute_result"
    }
   ],
   "source": [
    "raw_text.index('è')"
   ]
  },
  {
   "cell_type": "code",
   "execution_count": 88,
   "metadata": {
    "hidden": true
   },
   "outputs": [
    {
     "data": {
      "text/plain": [
       "66610"
      ]
     },
     "execution_count": 88,
     "metadata": {},
     "output_type": "execute_result"
    }
   ],
   "source": [
    "raw_text.index('é')"
   ]
  },
  {
   "cell_type": "code",
   "execution_count": 90,
   "metadata": {
    "hidden": true
   },
   "outputs": [
    {
     "data": {
      "text/plain": [
       "66781"
      ]
     },
     "execution_count": 90,
     "metadata": {},
     "output_type": "execute_result"
    }
   ],
   "source": [
    "raw_text.index('ü')"
   ]
  },
  {
   "cell_type": "markdown",
   "metadata": {
    "hidden": true
   },
   "source": [
    "I checked in the text, the Latin letters look OK. Dashes and apostrophes are annoying. "
   ]
  },
  {
   "cell_type": "markdown",
   "metadata": {
    "hidden": true
   },
   "source": [
    "## Listing Characters"
   ]
  },
  {
   "cell_type": "markdown",
   "metadata": {
    "hidden": true
   },
   "source": [
    "Let's gather a similar string, just for all the writings combined."
   ]
  },
  {
   "cell_type": "code",
   "execution_count": 94,
   "metadata": {
    "hidden": true
   },
   "outputs": [],
   "source": [
    "raw_text = ''\n",
    "for filename in filenames:\n",
    "    my_file = open(txt_folder + filename + '.txt')\n",
    "    raw_text += my_file.read()\n",
    "# this runs surprisingly fast"
   ]
  },
  {
   "cell_type": "code",
   "execution_count": 225,
   "metadata": {
    "hidden": true
   },
   "outputs": [],
   "source": [
    "regular_characters = 'abcdefghijklmnopqrstuvwxyz1234567890°×·/.,?¿!¡()[]-–:;\\'\"áääæéêëèïñöü#&'\n",
    "# expanded after considering examples in the text "
   ]
  },
  {
   "cell_type": "code",
   "execution_count": 206,
   "metadata": {
    "hidden": true
   },
   "outputs": [],
   "source": [
    "characters = raw_text.lower().replace('\\n','')\n",
    "characters = characters.replace('\\x0c','')\n",
    "characters = characters.replace(' ','')"
   ]
  },
  {
   "cell_type": "code",
   "execution_count": 207,
   "metadata": {
    "hidden": true
   },
   "outputs": [],
   "source": [
    "unique_characters = set(characters)\n",
    "for character in regular_characters:\n",
    "    try:\n",
    "        unique_characters.remove(character)\n",
    "    except:\n",
    "        pass"
   ]
  },
  {
   "cell_type": "code",
   "execution_count": 208,
   "metadata": {
    "hidden": true
   },
   "outputs": [
    {
     "data": {
      "text/plain": [
       "{'*', 'å', 'ν', 'ο', 'π', 'ς', 'υ', '—', '―', '‖', '‗', '‘', '’', '”', '•'}"
      ]
     },
     "execution_count": 208,
     "metadata": {},
     "output_type": "execute_result"
    }
   ],
   "source": [
    "unique_characters"
   ]
  },
  {
   "cell_type": "markdown",
   "metadata": {
    "hidden": true
   },
   "source": [
    "One by one, check examples in the text make the decision whether we 1) delete, 2) leave unchanged, or 3) replace with an other character. Decision is collected in the dictionary at the end. "
   ]
  },
  {
   "cell_type": "code",
   "execution_count": 197,
   "metadata": {
    "hidden": true
   },
   "outputs": [
    {
     "data": {
      "text/plain": [
       "'ing to its ashes. \\n\\n*      *      * \\n\\nTh'"
      ]
     },
     "execution_count": 197,
     "metadata": {},
     "output_type": "execute_result"
    }
   ],
   "source": [
    "position_1 = raw_text.find('*')\n",
    "raw_text[position_1-20:position_1+20]"
   ]
  },
  {
   "cell_type": "code",
   "execution_count": 198,
   "metadata": {
    "hidden": true
   },
   "outputs": [
    {
     "data": {
      "text/plain": [
       "''"
      ]
     },
     "execution_count": 198,
     "metadata": {},
     "output_type": "execute_result"
    }
   ],
   "source": [
    "position_2 = raw_text[position_1 + 20:].find('*')\n",
    "raw_text[position_1 + 20:][position_2-20:position_2+20]"
   ]
  },
  {
   "cell_type": "code",
   "execution_count": 226,
   "metadata": {
    "hidden": true
   },
   "outputs": [
    {
     "data": {
      "text/plain": [
       "\"\\n 'å',\\n 'ν',\\n 'ο',\\n 'π',\\n 'ς',\\n 'υ',\\n\""
      ]
     },
     "execution_count": 226,
     "metadata": {},
     "output_type": "execute_result"
    }
   ],
   "source": [
    "# these letters are assumed OK\n",
    "\"\"\"\n",
    " 'å',\n",
    " 'ν',\n",
    " 'ο',\n",
    " 'π',\n",
    " 'ς',\n",
    " 'υ',\n",
    "\"\"\""
   ]
  },
  {
   "cell_type": "code",
   "execution_count": 195,
   "metadata": {
    "hidden": true
   },
   "outputs": [
    {
     "data": {
      "text/plain": [
       "'man authority, ―es lässt sich nicht lese'"
      ]
     },
     "execution_count": 195,
     "metadata": {},
     "output_type": "execute_result"
    }
   ],
   "source": [
    "position_1 = raw_text.find('ä')\n",
    "raw_text[position_1-20:position_1+20]"
   ]
  },
  {
   "cell_type": "code",
   "execution_count": 196,
   "metadata": {
    "hidden": true
   },
   "outputs": [
    {
     "data": {
      "text/plain": [
       "'ces of the Widmannstätten \\nfigures found'"
      ]
     },
     "execution_count": 196,
     "metadata": {},
     "output_type": "execute_result"
    }
   ],
   "source": [
    "position_2 = raw_text[position_1 + 20:].find('ä')\n",
    "raw_text[position_1 + 20:][position_2-20:position_2+20]"
   ]
  },
  {
   "cell_type": "code",
   "execution_count": 200,
   "metadata": {
    "hidden": true
   },
   "outputs": [
    {
     "data": {
      "text/plain": [
       "' \\nthe winter of 1900–1901, when to the s'"
      ]
     },
     "execution_count": 200,
     "metadata": {},
     "output_type": "execute_result"
    }
   ],
   "source": [
    "character_to_check = '–'\n",
    "position_1 = raw_text.find(character_to_check)\n",
    "raw_text[position_1-20:position_1+20]"
   ]
  },
  {
   "cell_type": "code",
   "execution_count": 201,
   "metadata": {
    "hidden": true
   },
   "outputs": [
    {
     "data": {
      "text/plain": [
       "' of September 24, 19––, I heard a knock '"
      ]
     },
     "execution_count": 201,
     "metadata": {},
     "output_type": "execute_result"
    }
   ],
   "source": [
    "position_2 = raw_text[position_1 + 20:].find(character_to_check)\n",
    "raw_text[position_1 + 20:][position_2-20:position_2+20]"
   ]
  },
  {
   "cell_type": "code",
   "execution_count": 212,
   "metadata": {
    "hidden": true
   },
   "outputs": [
    {
     "data": {
      "text/plain": [
       "'ams of a waning moon—but of these things'"
      ]
     },
     "execution_count": 212,
     "metadata": {},
     "output_type": "execute_result"
    }
   ],
   "source": [
    "character_to_check = '—'\n",
    "position_1 = raw_text.find(character_to_check)\n",
    "raw_text[position_1-20:position_1+20]"
   ]
  },
  {
   "cell_type": "code",
   "execution_count": 213,
   "metadata": {
    "hidden": true
   },
   "outputs": [
    {
     "data": {
      "text/plain": [
       "'Than white as a lily—and dead half a yea'"
      ]
     },
     "execution_count": 213,
     "metadata": {},
     "output_type": "execute_result"
    }
   ],
   "source": [
    "position_2 = raw_text[position_1 + 20:].find(character_to_check)\n",
    "raw_text[position_1 + 20:][position_2-20:position_2+20]"
   ]
  },
  {
   "cell_type": "code",
   "execution_count": 214,
   "metadata": {
    "hidden": true
   },
   "outputs": [
    {
     "data": {
      "text/plain": [
       "'g to what they call ―divine wrath‖ in a '"
      ]
     },
     "execution_count": 214,
     "metadata": {},
     "output_type": "execute_result"
    }
   ],
   "source": [
    "character_to_check = '―'\n",
    "position_1 = raw_text.find(character_to_check)\n",
    "raw_text[position_1-20:position_1+20]"
   ]
  },
  {
   "cell_type": "code",
   "execution_count": 215,
   "metadata": {
    "hidden": true
   },
   "outputs": [
    {
     "data": {
      "text/plain": [
       "'d bore the initials ―J. H.‖ The face was'"
      ]
     },
     "execution_count": 215,
     "metadata": {},
     "output_type": "execute_result"
    }
   ],
   "source": [
    "position_2 = raw_text[position_1 + 20:].find(character_to_check)\n",
    "raw_text[position_1 + 20:][position_2-20:position_2+20]"
   ]
  },
  {
   "cell_type": "code",
   "execution_count": 216,
   "metadata": {
    "hidden": true
   },
   "outputs": [
    {
     "data": {
      "text/plain": [
       "'y call ―divine wrath‖ in a \\nmanner that '"
      ]
     },
     "execution_count": 216,
     "metadata": {},
     "output_type": "execute_result"
    }
   ],
   "source": [
    "character_to_check = '‖'\n",
    "position_1 = raw_text.find(character_to_check)\n",
    "raw_text[position_1-20:position_1+20]"
   ]
  },
  {
   "cell_type": "code",
   "execution_count": 217,
   "metadata": {
    "hidden": true
   },
   "outputs": [
    {
     "data": {
      "text/plain": [
       "' the initials ―J. H.‖ The face was such '"
      ]
     },
     "execution_count": 217,
     "metadata": {},
     "output_type": "execute_result"
    }
   ],
   "source": [
    "position_2 = raw_text[position_1 + 20:].find(character_to_check)\n",
    "raw_text[position_1 + 20:][position_2-20:position_2+20]"
   ]
  },
  {
   "cell_type": "code",
   "execution_count": 218,
   "metadata": {
    "hidden": true
   },
   "outputs": [
    {
     "data": {
      "text/plain": [
       "'ation to reach some ‗big, big \\ncabin wit'"
      ]
     },
     "execution_count": 218,
     "metadata": {},
     "output_type": "execute_result"
    }
   ],
   "source": [
    "character_to_check = '‗'\n",
    "position_1 = raw_text.find(character_to_check)\n",
    "raw_text[position_1-20:position_1+20]"
   ]
  },
  {
   "cell_type": "code",
   "execution_count": 219,
   "metadata": {
    "hidden": true
   },
   "outputs": [
    {
     "data": {
      "text/plain": [
       "' and kill a certain ‗thing that shines a'"
      ]
     },
     "execution_count": 219,
     "metadata": {},
     "output_type": "execute_result"
    }
   ],
   "source": [
    "position_2 = raw_text[position_1 + 20:].find(character_to_check)\n",
    "raw_text[position_1 + 20:][position_2-20:position_2+20]"
   ]
  },
  {
   "cell_type": "code",
   "execution_count": 223,
   "metadata": {
    "hidden": true
   },
   "outputs": [
    {
     "data": {
      "text/plain": [
       "'an decadence: \\n\\nHEL • HELOYM • SOTHER • '"
      ]
     },
     "execution_count": 223,
     "metadata": {},
     "output_type": "execute_result"
    }
   ],
   "source": [
    "character_to_check = '•'\n",
    "position_1 = raw_text.find(character_to_check)\n",
    "raw_text[position_1-20:position_1+20]"
   ]
  },
  {
   "cell_type": "code",
   "execution_count": 224,
   "metadata": {
    "hidden": true
   },
   "outputs": [],
   "source": [
    "#that looks intentional, leave it"
   ]
  },
  {
   "cell_type": "code",
   "execution_count": 241,
   "metadata": {
    "hidden": true
   },
   "outputs": [],
   "source": [
    "replace_dict = {}\n",
    "replace_dict['*'] = ''\n",
    "replace_dict['—'] = '–'\n",
    "replace_dict['―'] = ''\n",
    "replace_dict['‖'] = '\\\"'\n",
    "replace_dict['‗'] = ''\n",
    "replace_dict['”'] = '\"'\n",
    "replace_dict['‘'] = '\\''\n",
    "replace_dict['’'] = '\\''"
   ]
  },
  {
   "cell_type": "markdown",
   "metadata": {
    "hidden": true
   },
   "source": [
    "## Adjusting the Text Files"
   ]
  },
  {
   "cell_type": "markdown",
   "metadata": {
    "hidden": true
   },
   "source": [
    "Loop through the writings, replace the text, then save in the adjusted txt folder. "
   ]
  },
  {
   "cell_type": "code",
   "execution_count": 248,
   "metadata": {
    "hidden": true
   },
   "outputs": [],
   "source": [
    "for filename in filenames: \n",
    "    # read in original file\n",
    "    my_file = open(txt_folder + filename + '.txt')\n",
    "    raw_text = my_file.read()\n",
    "    # replace characters\n",
    "    for replace_char in replace_dict: \n",
    "        raw_text = raw_text.replace(replace_char, replace_dict[replace_char])\n",
    "    # save the adjusted text in a different file\n",
    "    text_file = open(txt_adjusted_folder + filename + '.txt', 'w')\n",
    "    text_file.write(raw_text)\n",
    "    text_file.close()"
   ]
  },
  {
   "cell_type": "markdown",
   "metadata": {
    "heading_collapsed": true
   },
   "source": [
    "# Word Count"
   ]
  },
  {
   "cell_type": "markdown",
   "metadata": {
    "hidden": true
   },
   "source": [
    "Simply count the words, can use string split for that. \n",
    "This will for example combine end-of-sentence punctuations, but that's fine. "
   ]
  },
  {
   "cell_type": "code",
   "execution_count": 5,
   "metadata": {
    "hidden": true
   },
   "outputs": [],
   "source": [
    "my_file = open(txt_folder + 'the_dunwich_horror.txt')\n",
    "raw_text = my_file.read()"
   ]
  },
  {
   "cell_type": "code",
   "execution_count": 6,
   "metadata": {
    "hidden": true
   },
   "outputs": [],
   "source": [
    "words = raw_text.split()"
   ]
  },
  {
   "cell_type": "code",
   "execution_count": 7,
   "metadata": {
    "hidden": true
   },
   "outputs": [
    {
     "data": {
      "text/plain": [
       "17435"
      ]
     },
     "execution_count": 7,
     "metadata": {},
     "output_type": "execute_result"
    }
   ],
   "source": [
    "len(words)"
   ]
  },
  {
   "cell_type": "markdown",
   "metadata": {
    "hidden": true
   },
   "source": [
    "this would not work, leaves in dashes, like 'superstition—but'"
   ]
  },
  {
   "cell_type": "code",
   "execution_count": 8,
   "metadata": {
    "hidden": true
   },
   "outputs": [],
   "source": [
    "words = re.split(r'[-\\s.,;—!‖?]+', raw_text)"
   ]
  },
  {
   "cell_type": "code",
   "execution_count": 9,
   "metadata": {
    "hidden": true
   },
   "outputs": [
    {
     "data": {
      "text/plain": [
       "17607"
      ]
     },
     "execution_count": 9,
     "metadata": {},
     "output_type": "execute_result"
    }
   ],
   "source": [
    "len(words)"
   ]
  },
  {
   "cell_type": "markdown",
   "metadata": {
    "heading_collapsed": true
   },
   "source": [
    "# Tokenisation and Word Analysis with NLTK"
   ]
  },
  {
   "cell_type": "code",
   "execution_count": 18,
   "metadata": {
    "hidden": true
   },
   "outputs": [],
   "source": [
    "from nltk.tokenize import RegexpTokenizer\n",
    "from nltk.tokenize import TreebankWordTokenizer"
   ]
  },
  {
   "cell_type": "markdown",
   "metadata": {
    "hidden": true
   },
   "source": [
    "## Tokenisation"
   ]
  },
  {
   "cell_type": "markdown",
   "metadata": {
    "hidden": true
   },
   "source": [
    "Instead of analysing a whole story, start with a paragraph, see how we split it. Text_1 is easy, general English, Text_2 is difficult. "
   ]
  },
  {
   "cell_type": "code",
   "execution_count": 15,
   "metadata": {
    "hidden": true
   },
   "outputs": [],
   "source": [
    "text_1 = \"He did not respond, and still the viol shrieked on without slackening. I moved my hand to his head, whose mechanical nodding I was able to stop, and shouted in his ear that we must both flee from the unknown things of the night. But he neither answered me nor abated the frenzy of his unutterable music, while all through the garret strange currents of wind seemed to dance in the darkness and babel. When my hand touched his ear I shuddered, though I knew not why—knew not why till I felt of the still face; the ice-cold, stiffened, unbreathing face whose glassy eyes bulged uselessly into the void. And then, by some miracle finding the door and the large wooden bolt, I plunged wildly away from that glassy-eyed thing in the dark, and from the ghoulish howling of that accursed viol whose fury increased even as I plunged.\"\n",
    "\n",
    "text_2 = \\\n",
    "\"\"\"\n",
    "Boss,\" cried Schultz, as he entered the vile-smelling room with his young victim, meet my \n",
    "friend Al Trever, bes' li'l' sport up at Lawrence–thas' 'n Appleton, Wis., y' know. Some swell \n",
    "guy, too–'s father's a big corp'ration lawyer up in his burg, 'n' 's mother's some lit'ry genius. \n",
    "He wants to see life as she is–wants to know what the real lightnin' juice tastes like–so jus' \n",
    "remember he's me friend an' treat 'im right.\" \n",
    "\"\"\""
   ]
  },
  {
   "cell_type": "markdown",
   "metadata": {
    "heading_collapsed": true,
    "hidden": true
   },
   "source": [
    "### Simple Text"
   ]
  },
  {
   "cell_type": "code",
   "execution_count": 20,
   "metadata": {
    "hidden": true
   },
   "outputs": [],
   "source": [
    "string_tokenizer_1 = '[a-zA-Z0-9]+'\n",
    "string_tokenizer_2 = r'\\w+|$[0-9.]+|\\S+'"
   ]
  },
  {
   "cell_type": "code",
   "execution_count": 32,
   "metadata": {
    "hidden": true
   },
   "outputs": [
    {
     "name": "stdout",
     "output_type": "stream",
     "text": [
      "152\n"
     ]
    },
    {
     "data": {
      "text/plain": [
       "['He',\n",
       " 'did',\n",
       " 'not',\n",
       " 'respond',\n",
       " 'and',\n",
       " 'still',\n",
       " 'the',\n",
       " 'viol',\n",
       " 'shrieked',\n",
       " 'on',\n",
       " 'without',\n",
       " 'slackening',\n",
       " 'I',\n",
       " 'moved',\n",
       " 'my',\n",
       " 'hand',\n",
       " 'to',\n",
       " 'his',\n",
       " 'head',\n",
       " 'whose']"
      ]
     },
     "execution_count": 32,
     "metadata": {},
     "output_type": "execute_result"
    }
   ],
   "source": [
    "tokenizer = RegexpTokenizer(string_tokenizer_1)\n",
    "tokens = tokenizer.tokenize(text_1)\n",
    "print(len(tokens))\n",
    "tokens[:20]"
   ]
  },
  {
   "cell_type": "code",
   "execution_count": 34,
   "metadata": {
    "hidden": true
   },
   "outputs": [
    {
     "name": "stdout",
     "output_type": "stream",
     "text": [
      "167\n"
     ]
    },
    {
     "data": {
      "text/plain": [
       "['He',\n",
       " 'did',\n",
       " 'not',\n",
       " 'respond',\n",
       " ',',\n",
       " 'and',\n",
       " 'still',\n",
       " 'the',\n",
       " 'viol',\n",
       " 'shrieked',\n",
       " 'on',\n",
       " 'without',\n",
       " 'slackening',\n",
       " '.',\n",
       " 'I',\n",
       " 'moved',\n",
       " 'my',\n",
       " 'hand',\n",
       " 'to',\n",
       " 'his']"
      ]
     },
     "execution_count": 34,
     "metadata": {},
     "output_type": "execute_result"
    }
   ],
   "source": [
    "tokenizer = RegexpTokenizer(string_tokenizer_2)\n",
    "tokens = tokenizer.tokenize(text_1)\n",
    "print(len(tokens))\n",
    "tokens[:20]"
   ]
  },
  {
   "cell_type": "markdown",
   "metadata": {
    "hidden": true
   },
   "source": [
    "source: http://www.nltk.org/book/ch01.html\n",
    "https://www.nltk.org/book/ch03.html"
   ]
  },
  {
   "cell_type": "code",
   "execution_count": 35,
   "metadata": {
    "hidden": true
   },
   "outputs": [
    {
     "name": "stdout",
     "output_type": "stream",
     "text": [
      "161\n"
     ]
    },
    {
     "data": {
      "text/plain": [
       "['He',\n",
       " 'did',\n",
       " 'not',\n",
       " 'respond',\n",
       " ',',\n",
       " 'and',\n",
       " 'still',\n",
       " 'the',\n",
       " 'viol',\n",
       " 'shrieked',\n",
       " 'on',\n",
       " 'without',\n",
       " 'slackening.',\n",
       " 'I',\n",
       " 'moved',\n",
       " 'my',\n",
       " 'hand',\n",
       " 'to',\n",
       " 'his',\n",
       " 'head']"
      ]
     },
     "execution_count": 35,
     "metadata": {},
     "output_type": "execute_result"
    }
   ],
   "source": [
    "tokenizer = TreebankWordTokenizer()\n",
    "tokens = tokenizer.tokenize(text_1)\n",
    "print(len(tokens))\n",
    "tokens[:20]"
   ]
  },
  {
   "cell_type": "markdown",
   "metadata": {
    "hidden": true
   },
   "source": [
    "I think the Regexp performed better with a simple text, but only because we did not split the sentences. "
   ]
  },
  {
   "cell_type": "markdown",
   "metadata": {
    "hidden": true
   },
   "source": [
    "### Apostrophe Test"
   ]
  },
  {
   "cell_type": "code",
   "execution_count": null,
   "metadata": {
    "hidden": true
   },
   "outputs": [],
   "source": [
    "tokenizer = TreebankWordTokenizer()"
   ]
  },
  {
   "cell_type": "code",
   "execution_count": 27,
   "metadata": {
    "hidden": true
   },
   "outputs": [],
   "source": [
    "test_sentence_2 = \"Why wouldn't we?\"\n",
    "tokenizer.tokenize(test_sentence_2)"
   ]
  },
  {
   "cell_type": "code",
   "execution_count": 29,
   "metadata": {
    "hidden": true
   },
   "outputs": [],
   "source": [
    "test_sentence_3 = \"Why wouldn‘t we?\"\n",
    "tokenizer.tokenize(test_sentence_3)"
   ]
  },
  {
   "cell_type": "markdown",
   "metadata": {
    "heading_collapsed": true,
    "hidden": true
   },
   "source": [
    "### Difficult Text"
   ]
  },
  {
   "cell_type": "code",
   "execution_count": 39,
   "metadata": {
    "hidden": true
   },
   "outputs": [
    {
     "name": "stdout",
     "output_type": "stream",
     "text": [
      "101\n"
     ]
    },
    {
     "data": {
      "text/plain": [
       "['Boss',\n",
       " ',\"',\n",
       " 'cried',\n",
       " 'Schultz',\n",
       " ',',\n",
       " 'as',\n",
       " 'he',\n",
       " 'entered',\n",
       " 'the',\n",
       " 'vile',\n",
       " '-smelling',\n",
       " 'room',\n",
       " 'with',\n",
       " 'his',\n",
       " 'young',\n",
       " 'victim',\n",
       " ',',\n",
       " 'meet',\n",
       " 'my',\n",
       " 'friend',\n",
       " 'Al',\n",
       " 'Trever',\n",
       " ',',\n",
       " 'bes',\n",
       " \"'\",\n",
       " 'li',\n",
       " \"'l'\",\n",
       " 'sport',\n",
       " 'up',\n",
       " 'at',\n",
       " 'Lawrence',\n",
       " \"–thas'\",\n",
       " \"'n\",\n",
       " 'Appleton',\n",
       " ',',\n",
       " 'Wis',\n",
       " '.,',\n",
       " 'y',\n",
       " \"'\",\n",
       " 'know',\n",
       " '.',\n",
       " 'Some',\n",
       " 'swell',\n",
       " 'guy',\n",
       " ',',\n",
       " 'too',\n",
       " \"–'s\",\n",
       " 'father',\n",
       " \"'s\",\n",
       " 'a',\n",
       " 'big',\n",
       " 'corp',\n",
       " \"'ration\",\n",
       " 'lawyer',\n",
       " 'up',\n",
       " 'in',\n",
       " 'his',\n",
       " 'burg',\n",
       " ',',\n",
       " \"'n'\",\n",
       " \"'s\",\n",
       " 'mother',\n",
       " \"'s\",\n",
       " 'some',\n",
       " 'lit',\n",
       " \"'ry\",\n",
       " 'genius',\n",
       " '.',\n",
       " 'He',\n",
       " 'wants',\n",
       " 'to',\n",
       " 'see',\n",
       " 'life',\n",
       " 'as',\n",
       " 'she',\n",
       " 'is',\n",
       " '–wants',\n",
       " 'to',\n",
       " 'know',\n",
       " 'what',\n",
       " 'the',\n",
       " 'real',\n",
       " 'lightnin',\n",
       " \"'\",\n",
       " 'juice',\n",
       " 'tastes',\n",
       " 'like',\n",
       " '–so',\n",
       " 'jus',\n",
       " \"'\",\n",
       " 'remember',\n",
       " 'he',\n",
       " \"'s\",\n",
       " 'me',\n",
       " 'friend',\n",
       " 'an',\n",
       " \"'\",\n",
       " 'treat',\n",
       " \"'im\",\n",
       " 'right',\n",
       " '.\"']"
      ]
     },
     "execution_count": 39,
     "metadata": {},
     "output_type": "execute_result"
    }
   ],
   "source": [
    "tokenizer = RegexpTokenizer(string_tokenizer_2)\n",
    "tokens = tokenizer.tokenize(text_2)\n",
    "print(len(tokens))\n",
    "tokens"
   ]
  },
  {
   "cell_type": "code",
   "execution_count": 40,
   "metadata": {
    "hidden": true
   },
   "outputs": [
    {
     "name": "stdout",
     "output_type": "stream",
     "text": [
      "101\n"
     ]
    },
    {
     "data": {
      "text/plain": [
       "['Boss',\n",
       " ',',\n",
       " \"''\",\n",
       " 'cried',\n",
       " 'Schultz',\n",
       " ',',\n",
       " 'as',\n",
       " 'he',\n",
       " 'entered',\n",
       " 'the',\n",
       " 'vile-smelling',\n",
       " 'room',\n",
       " 'with',\n",
       " 'his',\n",
       " 'young',\n",
       " 'victim',\n",
       " ',',\n",
       " 'meet',\n",
       " 'my',\n",
       " 'friend',\n",
       " 'Al',\n",
       " 'Trever',\n",
       " ',',\n",
       " 'bes',\n",
       " \"'\",\n",
       " 'li',\n",
       " \"'\",\n",
       " 'l',\n",
       " \"'\",\n",
       " 'sport',\n",
       " 'up',\n",
       " 'at',\n",
       " 'Lawrence–thas',\n",
       " \"'\",\n",
       " \"'\",\n",
       " 'n',\n",
       " 'Appleton',\n",
       " ',',\n",
       " 'Wis.',\n",
       " ',',\n",
       " 'y',\n",
       " \"'\",\n",
       " 'know.',\n",
       " 'Some',\n",
       " 'swell',\n",
       " 'guy',\n",
       " ',',\n",
       " 'too–',\n",
       " \"'s\",\n",
       " 'father',\n",
       " \"'s\",\n",
       " 'a',\n",
       " 'big',\n",
       " \"corp'ration\",\n",
       " 'lawyer',\n",
       " 'up',\n",
       " 'in',\n",
       " 'his',\n",
       " 'burg',\n",
       " ',',\n",
       " \"'\",\n",
       " 'n',\n",
       " \"'\",\n",
       " \"'s\",\n",
       " 'mother',\n",
       " \"'s\",\n",
       " 'some',\n",
       " \"lit'ry\",\n",
       " 'genius.',\n",
       " 'He',\n",
       " 'wants',\n",
       " 'to',\n",
       " 'see',\n",
       " 'life',\n",
       " 'as',\n",
       " 'she',\n",
       " 'is–wants',\n",
       " 'to',\n",
       " 'know',\n",
       " 'what',\n",
       " 'the',\n",
       " 'real',\n",
       " 'lightnin',\n",
       " \"'\",\n",
       " 'juice',\n",
       " 'tastes',\n",
       " 'like–so',\n",
       " 'jus',\n",
       " \"'\",\n",
       " 'remember',\n",
       " 'he',\n",
       " \"'s\",\n",
       " 'me',\n",
       " 'friend',\n",
       " 'an',\n",
       " \"'\",\n",
       " 'treat',\n",
       " \"'im\",\n",
       " 'right',\n",
       " '.',\n",
       " \"''\"]"
      ]
     },
     "execution_count": 40,
     "metadata": {},
     "output_type": "execute_result"
    }
   ],
   "source": [
    "tokenizer = TreebankWordTokenizer()\n",
    "tokens = tokenizer.tokenize(text_2)\n",
    "print(len(tokens))\n",
    "tokens"
   ]
  },
  {
   "cell_type": "code",
   "execution_count": null,
   "metadata": {
    "hidden": true
   },
   "outputs": [],
   "source": []
  },
  {
   "cell_type": "code",
   "execution_count": null,
   "metadata": {
    "hidden": true
   },
   "outputs": [],
   "source": []
  },
  {
   "cell_type": "markdown",
   "metadata": {
    "hidden": true
   },
   "source": [
    "## N-Grams"
   ]
  },
  {
   "cell_type": "code",
   "execution_count": 5,
   "metadata": {
    "hidden": true
   },
   "outputs": [],
   "source": [
    "from nltk.util import ngrams"
   ]
  },
  {
   "cell_type": "code",
   "execution_count": 17,
   "metadata": {
    "hidden": true
   },
   "outputs": [],
   "source": [
    "two_grams = list(ngrams(tokens,2))"
   ]
  },
  {
   "cell_type": "code",
   "execution_count": 21,
   "metadata": {
    "hidden": true
   },
   "outputs": [],
   "source": [
    "my_dict = {x:two_grams.count(x) for x in two_grams}"
   ]
  },
  {
   "cell_type": "code",
   "execution_count": 22,
   "metadata": {
    "hidden": true
   },
   "outputs": [],
   "source": [
    "sorted_d = sorted(my_dict.items(), key=lambda x: x[1])"
   ]
  },
  {
   "cell_type": "code",
   "execution_count": 24,
   "metadata": {
    "hidden": true
   },
   "outputs": [
    {
     "data": {
      "text/plain": [
       "[(('o', '‘'), 26),\n",
       " (('of', 'a'), 29),\n",
       " (('It', 'was'), 30),\n",
       " ((',', 'the'), 31),\n",
       " (('seemed', 'to'), 31),\n",
       " ((';', 'and'), 33),\n",
       " (('at', 'the'), 38),\n",
       " ((',', 'an'), 42),\n",
       " (('from', 'the'), 46),\n",
       " (('‘', 't'), 46),\n",
       " ((',', 'but'), 54),\n",
       " (('on', 'the'), 58),\n",
       " (('to', 'the'), 59),\n",
       " (('and', 'the'), 64),\n",
       " (('.', '.'), 78),\n",
       " (('an', '‘'), 80),\n",
       " (('in', 'the'), 85),\n",
       " (('‘', 's'), 135),\n",
       " (('of', 'the'), 170),\n",
       " ((',', 'and'), 233)]"
      ]
     },
     "execution_count": 24,
     "metadata": {},
     "output_type": "execute_result"
    }
   ],
   "source": [
    "sorted_d[-20:]"
   ]
  },
  {
   "cell_type": "markdown",
   "metadata": {
    "hidden": true
   },
   "source": [
    "trying out things from nltk guide, need to convert to nltk text, based on forum here: https://stackoverflow.com/questions/29110950/python-concordance-command-in-nltk"
   ]
  },
  {
   "cell_type": "markdown",
   "metadata": {
    "hidden": true
   },
   "source": [
    "## Other NLTK Stuff"
   ]
  },
  {
   "cell_type": "markdown",
   "metadata": {
    "hidden": true
   },
   "source": [
    "ply with concordance and similar"
   ]
  },
  {
   "cell_type": "code",
   "execution_count": 28,
   "metadata": {
    "hidden": true
   },
   "outputs": [
    {
     "name": "stdout",
     "output_type": "stream",
     "text": [
      "Displaying 24 of 24 matches:\n",
      "The Dunwich Horror ―Gorgons , and Hydras , and Chimaer\n",
      "ble , and since a certain season of horror all the signboards pointing toward \n",
      " our sensible age—since the Dunwich horror of 1928 was hushed up by those who \n",
      "ave the facts concerning the recent horror , can say just what is the matter w\n",
      "ded only in 1928 , when the Dunwich horror came and went ; yet at no time did \n",
      " was thought very notable until the horror of 1928 suggested the most valid of\n",
      "some terrible part of the intruding horror , and to glimpse a hellish advance \n",
      "tains that May-Night ? What Roodmas horror fastened itself on the world in hal\n",
      "as Wilbur Whateley. VI. The Dunwich horror itself came between Lammas and the \n",
      " the dark of September 9th that the horror broke loose. The hill noises had be\n",
      "and Cold Spring Glen , examining in horror the vast , monstrous prints , the m\n",
      "end and beard the unknown Cyclopean horror in its lair. Three dogs that were w\n",
      "re were many who hoped that the new horror had gone as swiftly as it had come.\n",
      " , while early explorers noted with horror a fresh set of the monstrous tracks\n",
      "lasphemously stupendous bulk of the horror ; whilst the conformation of the tr\n",
      " the inexorable trail. Whatever the horror was , it could scale a sheer stony \n",
      " thrashed around by the mountainous horror , whilst upon its slightly concave \n",
      " ruined Whateley farmhouse when the horror escaped. Men looked at one another \n",
      "ooked down the hill. Apparently the horror had descended by a route much the s\n",
      "e spiritually poignant phase of the horror had been blackly unwinding itself b\n",
      "for themselves with rising pangs of horror the drear Frye ruins with their lin\n",
      " that he had actually come upon the horror and its monstrous work , trembled w\n",
      "yer was expected to give the unseen horror a moment of visibility. Two or thre\n",
      " up where it had left off , and the horror of the sight that had prostrated hi\n"
     ]
    }
   ],
   "source": [
    "textList = Text(tokens)\n",
    "textList.concordance('horror')"
   ]
  },
  {
   "cell_type": "code",
   "execution_count": 32,
   "metadata": {
    "hidden": true
   },
   "outputs": [
    {
     "name": "stdout",
     "output_type": "stream",
     "text": [
      "dunwich new recent serene intruding mountainous\n"
     ]
    }
   ],
   "source": [
    "textList.similar('unseen')"
   ]
  },
  {
   "cell_type": "code",
   "execution_count": null,
   "metadata": {
    "hidden": true
   },
   "outputs": [],
   "source": []
  },
  {
   "cell_type": "markdown",
   "metadata": {
    "heading_collapsed": true
   },
   "source": [
    "# SpaCy"
   ]
  },
  {
   "cell_type": "markdown",
   "metadata": {
    "hidden": true
   },
   "source": [
    "https://spacy.io/usage/linguistic-features#tokenization"
   ]
  },
  {
   "cell_type": "markdown",
   "metadata": {
    "hidden": true
   },
   "source": [
    "## Basic Tokenisation"
   ]
  },
  {
   "cell_type": "code",
   "execution_count": 11,
   "metadata": {
    "hidden": true
   },
   "outputs": [],
   "source": [
    "text_1 = 'I moved my hand to his head, whose mechanical nodding I was able to stop, and shouted in his ear that we must both flee from the unknown things of the night.'\n",
    "\n",
    "text_3 = \\\n",
    "\"\"\"\n",
    "He did not respond, and still the viol shrieked on without slackening. I moved my hand to his head, whose mechanical nodding I was able to stop, and shouted in his ear that we must both flee from the unknown things of the night. But he neither answered me nor abated the frenzy of his unutterable music, while all through the garret strange currents of wind seemed to dance in the darkness and babel. When my hand touched his ear I shuddered, though I knew not why—knew not why till I felt of the still face; the ice-cold, stiffened, unbreathing face whose glassy eyes bulged uselessly into the void. And then, by some miracle finding the door and the large wooden bolt, I plunged wildly away from that glassy-eyed thing in the dark, and from the ghoulish howling of that accursed viol whose fury increased even as I plunged.\n",
    "\"\"\"\n",
    "\n",
    "text_2 = \\\n",
    "\"\"\"\n",
    "Boss,\" cried Schultz, as he entered the vile-smelling room with his young victim, meet my \n",
    "friend Al Trever, bes' li'l' sport up at Lawrence–thas' 'n Appleton, Wis., y' know. Some swell \n",
    "guy, too–'s father's a big corp'ration lawyer up in his burg, 'n' 's mother's some lit'ry genius. \n",
    "He wants to see life as she is–wants to know what the real lightnin' juice tastes like–so jus' \n",
    "remember he's me friend an' treat 'im right.\" \n",
    "\"\"\""
   ]
  },
  {
   "cell_type": "code",
   "execution_count": 1,
   "metadata": {
    "hidden": true
   },
   "outputs": [],
   "source": [
    "import spacy\n",
    "from spacy import displacy"
   ]
  },
  {
   "cell_type": "code",
   "execution_count": 2,
   "metadata": {
    "hidden": true
   },
   "outputs": [],
   "source": [
    "nlp = spacy.load(\"en_core_web_sm\")\n",
    "nlp2 = spacy.load('en_core_web_lg')"
   ]
  },
  {
   "cell_type": "code",
   "execution_count": 17,
   "metadata": {
    "hidden": true
   },
   "outputs": [
    {
     "name": "stdout",
     "output_type": "stream",
     "text": [
      "I -PRON- True\n",
      "moved move False\n",
      "my -PRON- True\n",
      "hand hand False\n",
      "to to True\n",
      "his -PRON- True\n",
      "head head False\n",
      ", , False\n",
      "whose whose True\n",
      "mechanical mechanical False\n",
      "nodding nodding False\n",
      "I -PRON- True\n",
      "was be True\n",
      "able able False\n",
      "to to True\n",
      "stop stop False\n",
      ", , False\n",
      "and and True\n",
      "shouted shout False\n",
      "in in True\n",
      "his -PRON- True\n",
      "ear ear False\n",
      "that that True\n",
      "we -PRON- True\n",
      "must must True\n",
      "both both True\n",
      "flee flee False\n",
      "from from True\n",
      "the the True\n",
      "unknown unknown False\n",
      "things thing False\n",
      "of of True\n",
      "the the True\n",
      "night night False\n",
      ". . False\n"
     ]
    }
   ],
   "source": [
    "doc = nlp(text_1)\n",
    "\n",
    "for token in doc:\n",
    "    print(token.text, token.lemma_, token.is_stop)"
   ]
  },
  {
   "cell_type": "code",
   "execution_count": 10,
   "metadata": {
    "hidden": true
   },
   "outputs": [
    {
     "name": "stdout",
     "output_type": "stream",
     "text": [
      "\n",
      " \n",
      " SPACE\n",
      "Some some DET\n",
      "swell swell ADJ\n",
      "guy guy NOUN\n",
      ", , PUNCT\n",
      "too too ADV\n",
      "– – PUNCT\n",
      "'s 's PART\n",
      "father father NOUN\n",
      "'s be AUX\n",
      "a a DET\n",
      "big big ADJ\n",
      "corp'ration corp'ration PROPN\n",
      "lawyer lawyer NOUN\n",
      "up up ADP\n",
      "in in ADP\n",
      "his -PRON- DET\n",
      "burg burg NOUN\n",
      ", , PUNCT\n",
      "' ' PUNCT\n",
      "n n CCONJ\n",
      "' ' PROPN\n",
      "'s 's PART\n",
      "mother mother NOUN\n",
      "'s 's PART\n",
      "some some DET\n",
      "lit'ry lit'ry PROPN\n",
      "genius genius NOUN\n",
      ". . PUNCT\n",
      "\n",
      " \n",
      " SPACE\n"
     ]
    }
   ],
   "source": [
    "doc = nlp(\n",
    "\"\"\"\n",
    "Some swell guy, too–'s father's a big corp'ration lawyer up in his burg, 'n' 's mother's some lit'ry genius.\n",
    "\"\"\")\n",
    "for token in doc:\n",
    "    print(token.text, token.lemma_, token.pos_)"
   ]
  },
  {
   "cell_type": "code",
   "execution_count": 20,
   "metadata": {
    "hidden": true
   },
   "outputs": [
    {
     "data": {
      "text/html": [
       "<span class=\"tex2jax_ignore\"><svg xmlns=\"http://www.w3.org/2000/svg\" xmlns:xlink=\"http://www.w3.org/1999/xlink\" xml:lang=\"en\" id=\"8cda3a5686f9444c87fccb0ffbc44f8f-0\" class=\"displacy\" width=\"5650\" height=\"662.0\" direction=\"ltr\" style=\"max-width: none; height: 662.0px; color: #000000; background: #ffffff; font-family: Arial; direction: ltr\">\n",
       "<text class=\"displacy-token\" fill=\"currentColor\" text-anchor=\"middle\" y=\"572.0\">\n",
       "    <tspan class=\"displacy-word\" fill=\"currentColor\" x=\"50\">I</tspan>\n",
       "    <tspan class=\"displacy-tag\" dy=\"2em\" fill=\"currentColor\" x=\"50\">PRON</tspan>\n",
       "</text>\n",
       "\n",
       "<text class=\"displacy-token\" fill=\"currentColor\" text-anchor=\"middle\" y=\"572.0\">\n",
       "    <tspan class=\"displacy-word\" fill=\"currentColor\" x=\"225\">moved</tspan>\n",
       "    <tspan class=\"displacy-tag\" dy=\"2em\" fill=\"currentColor\" x=\"225\">VERB</tspan>\n",
       "</text>\n",
       "\n",
       "<text class=\"displacy-token\" fill=\"currentColor\" text-anchor=\"middle\" y=\"572.0\">\n",
       "    <tspan class=\"displacy-word\" fill=\"currentColor\" x=\"400\">my</tspan>\n",
       "    <tspan class=\"displacy-tag\" dy=\"2em\" fill=\"currentColor\" x=\"400\">DET</tspan>\n",
       "</text>\n",
       "\n",
       "<text class=\"displacy-token\" fill=\"currentColor\" text-anchor=\"middle\" y=\"572.0\">\n",
       "    <tspan class=\"displacy-word\" fill=\"currentColor\" x=\"575\">hand</tspan>\n",
       "    <tspan class=\"displacy-tag\" dy=\"2em\" fill=\"currentColor\" x=\"575\">NOUN</tspan>\n",
       "</text>\n",
       "\n",
       "<text class=\"displacy-token\" fill=\"currentColor\" text-anchor=\"middle\" y=\"572.0\">\n",
       "    <tspan class=\"displacy-word\" fill=\"currentColor\" x=\"750\">to</tspan>\n",
       "    <tspan class=\"displacy-tag\" dy=\"2em\" fill=\"currentColor\" x=\"750\">ADP</tspan>\n",
       "</text>\n",
       "\n",
       "<text class=\"displacy-token\" fill=\"currentColor\" text-anchor=\"middle\" y=\"572.0\">\n",
       "    <tspan class=\"displacy-word\" fill=\"currentColor\" x=\"925\">his</tspan>\n",
       "    <tspan class=\"displacy-tag\" dy=\"2em\" fill=\"currentColor\" x=\"925\">DET</tspan>\n",
       "</text>\n",
       "\n",
       "<text class=\"displacy-token\" fill=\"currentColor\" text-anchor=\"middle\" y=\"572.0\">\n",
       "    <tspan class=\"displacy-word\" fill=\"currentColor\" x=\"1100\">head,</tspan>\n",
       "    <tspan class=\"displacy-tag\" dy=\"2em\" fill=\"currentColor\" x=\"1100\">NOUN</tspan>\n",
       "</text>\n",
       "\n",
       "<text class=\"displacy-token\" fill=\"currentColor\" text-anchor=\"middle\" y=\"572.0\">\n",
       "    <tspan class=\"displacy-word\" fill=\"currentColor\" x=\"1275\">whose</tspan>\n",
       "    <tspan class=\"displacy-tag\" dy=\"2em\" fill=\"currentColor\" x=\"1275\">DET</tspan>\n",
       "</text>\n",
       "\n",
       "<text class=\"displacy-token\" fill=\"currentColor\" text-anchor=\"middle\" y=\"572.0\">\n",
       "    <tspan class=\"displacy-word\" fill=\"currentColor\" x=\"1450\">mechanical</tspan>\n",
       "    <tspan class=\"displacy-tag\" dy=\"2em\" fill=\"currentColor\" x=\"1450\">ADJ</tspan>\n",
       "</text>\n",
       "\n",
       "<text class=\"displacy-token\" fill=\"currentColor\" text-anchor=\"middle\" y=\"572.0\">\n",
       "    <tspan class=\"displacy-word\" fill=\"currentColor\" x=\"1625\">nodding</tspan>\n",
       "    <tspan class=\"displacy-tag\" dy=\"2em\" fill=\"currentColor\" x=\"1625\">NOUN</tspan>\n",
       "</text>\n",
       "\n",
       "<text class=\"displacy-token\" fill=\"currentColor\" text-anchor=\"middle\" y=\"572.0\">\n",
       "    <tspan class=\"displacy-word\" fill=\"currentColor\" x=\"1800\">I</tspan>\n",
       "    <tspan class=\"displacy-tag\" dy=\"2em\" fill=\"currentColor\" x=\"1800\">PRON</tspan>\n",
       "</text>\n",
       "\n",
       "<text class=\"displacy-token\" fill=\"currentColor\" text-anchor=\"middle\" y=\"572.0\">\n",
       "    <tspan class=\"displacy-word\" fill=\"currentColor\" x=\"1975\">was</tspan>\n",
       "    <tspan class=\"displacy-tag\" dy=\"2em\" fill=\"currentColor\" x=\"1975\">AUX</tspan>\n",
       "</text>\n",
       "\n",
       "<text class=\"displacy-token\" fill=\"currentColor\" text-anchor=\"middle\" y=\"572.0\">\n",
       "    <tspan class=\"displacy-word\" fill=\"currentColor\" x=\"2150\">able</tspan>\n",
       "    <tspan class=\"displacy-tag\" dy=\"2em\" fill=\"currentColor\" x=\"2150\">ADJ</tspan>\n",
       "</text>\n",
       "\n",
       "<text class=\"displacy-token\" fill=\"currentColor\" text-anchor=\"middle\" y=\"572.0\">\n",
       "    <tspan class=\"displacy-word\" fill=\"currentColor\" x=\"2325\">to</tspan>\n",
       "    <tspan class=\"displacy-tag\" dy=\"2em\" fill=\"currentColor\" x=\"2325\">PART</tspan>\n",
       "</text>\n",
       "\n",
       "<text class=\"displacy-token\" fill=\"currentColor\" text-anchor=\"middle\" y=\"572.0\">\n",
       "    <tspan class=\"displacy-word\" fill=\"currentColor\" x=\"2500\">stop,</tspan>\n",
       "    <tspan class=\"displacy-tag\" dy=\"2em\" fill=\"currentColor\" x=\"2500\">VERB</tspan>\n",
       "</text>\n",
       "\n",
       "<text class=\"displacy-token\" fill=\"currentColor\" text-anchor=\"middle\" y=\"572.0\">\n",
       "    <tspan class=\"displacy-word\" fill=\"currentColor\" x=\"2675\">and</tspan>\n",
       "    <tspan class=\"displacy-tag\" dy=\"2em\" fill=\"currentColor\" x=\"2675\">CCONJ</tspan>\n",
       "</text>\n",
       "\n",
       "<text class=\"displacy-token\" fill=\"currentColor\" text-anchor=\"middle\" y=\"572.0\">\n",
       "    <tspan class=\"displacy-word\" fill=\"currentColor\" x=\"2850\">shouted</tspan>\n",
       "    <tspan class=\"displacy-tag\" dy=\"2em\" fill=\"currentColor\" x=\"2850\">VERB</tspan>\n",
       "</text>\n",
       "\n",
       "<text class=\"displacy-token\" fill=\"currentColor\" text-anchor=\"middle\" y=\"572.0\">\n",
       "    <tspan class=\"displacy-word\" fill=\"currentColor\" x=\"3025\">in</tspan>\n",
       "    <tspan class=\"displacy-tag\" dy=\"2em\" fill=\"currentColor\" x=\"3025\">ADP</tspan>\n",
       "</text>\n",
       "\n",
       "<text class=\"displacy-token\" fill=\"currentColor\" text-anchor=\"middle\" y=\"572.0\">\n",
       "    <tspan class=\"displacy-word\" fill=\"currentColor\" x=\"3200\">his</tspan>\n",
       "    <tspan class=\"displacy-tag\" dy=\"2em\" fill=\"currentColor\" x=\"3200\">DET</tspan>\n",
       "</text>\n",
       "\n",
       "<text class=\"displacy-token\" fill=\"currentColor\" text-anchor=\"middle\" y=\"572.0\">\n",
       "    <tspan class=\"displacy-word\" fill=\"currentColor\" x=\"3375\">ear</tspan>\n",
       "    <tspan class=\"displacy-tag\" dy=\"2em\" fill=\"currentColor\" x=\"3375\">NOUN</tspan>\n",
       "</text>\n",
       "\n",
       "<text class=\"displacy-token\" fill=\"currentColor\" text-anchor=\"middle\" y=\"572.0\">\n",
       "    <tspan class=\"displacy-word\" fill=\"currentColor\" x=\"3550\">that</tspan>\n",
       "    <tspan class=\"displacy-tag\" dy=\"2em\" fill=\"currentColor\" x=\"3550\">SCONJ</tspan>\n",
       "</text>\n",
       "\n",
       "<text class=\"displacy-token\" fill=\"currentColor\" text-anchor=\"middle\" y=\"572.0\">\n",
       "    <tspan class=\"displacy-word\" fill=\"currentColor\" x=\"3725\">we</tspan>\n",
       "    <tspan class=\"displacy-tag\" dy=\"2em\" fill=\"currentColor\" x=\"3725\">PRON</tspan>\n",
       "</text>\n",
       "\n",
       "<text class=\"displacy-token\" fill=\"currentColor\" text-anchor=\"middle\" y=\"572.0\">\n",
       "    <tspan class=\"displacy-word\" fill=\"currentColor\" x=\"3900\">must</tspan>\n",
       "    <tspan class=\"displacy-tag\" dy=\"2em\" fill=\"currentColor\" x=\"3900\">VERB</tspan>\n",
       "</text>\n",
       "\n",
       "<text class=\"displacy-token\" fill=\"currentColor\" text-anchor=\"middle\" y=\"572.0\">\n",
       "    <tspan class=\"displacy-word\" fill=\"currentColor\" x=\"4075\">both</tspan>\n",
       "    <tspan class=\"displacy-tag\" dy=\"2em\" fill=\"currentColor\" x=\"4075\">ADV</tspan>\n",
       "</text>\n",
       "\n",
       "<text class=\"displacy-token\" fill=\"currentColor\" text-anchor=\"middle\" y=\"572.0\">\n",
       "    <tspan class=\"displacy-word\" fill=\"currentColor\" x=\"4250\">flee</tspan>\n",
       "    <tspan class=\"displacy-tag\" dy=\"2em\" fill=\"currentColor\" x=\"4250\">VERB</tspan>\n",
       "</text>\n",
       "\n",
       "<text class=\"displacy-token\" fill=\"currentColor\" text-anchor=\"middle\" y=\"572.0\">\n",
       "    <tspan class=\"displacy-word\" fill=\"currentColor\" x=\"4425\">from</tspan>\n",
       "    <tspan class=\"displacy-tag\" dy=\"2em\" fill=\"currentColor\" x=\"4425\">ADP</tspan>\n",
       "</text>\n",
       "\n",
       "<text class=\"displacy-token\" fill=\"currentColor\" text-anchor=\"middle\" y=\"572.0\">\n",
       "    <tspan class=\"displacy-word\" fill=\"currentColor\" x=\"4600\">the</tspan>\n",
       "    <tspan class=\"displacy-tag\" dy=\"2em\" fill=\"currentColor\" x=\"4600\">DET</tspan>\n",
       "</text>\n",
       "\n",
       "<text class=\"displacy-token\" fill=\"currentColor\" text-anchor=\"middle\" y=\"572.0\">\n",
       "    <tspan class=\"displacy-word\" fill=\"currentColor\" x=\"4775\">unknown</tspan>\n",
       "    <tspan class=\"displacy-tag\" dy=\"2em\" fill=\"currentColor\" x=\"4775\">ADJ</tspan>\n",
       "</text>\n",
       "\n",
       "<text class=\"displacy-token\" fill=\"currentColor\" text-anchor=\"middle\" y=\"572.0\">\n",
       "    <tspan class=\"displacy-word\" fill=\"currentColor\" x=\"4950\">things</tspan>\n",
       "    <tspan class=\"displacy-tag\" dy=\"2em\" fill=\"currentColor\" x=\"4950\">NOUN</tspan>\n",
       "</text>\n",
       "\n",
       "<text class=\"displacy-token\" fill=\"currentColor\" text-anchor=\"middle\" y=\"572.0\">\n",
       "    <tspan class=\"displacy-word\" fill=\"currentColor\" x=\"5125\">of</tspan>\n",
       "    <tspan class=\"displacy-tag\" dy=\"2em\" fill=\"currentColor\" x=\"5125\">ADP</tspan>\n",
       "</text>\n",
       "\n",
       "<text class=\"displacy-token\" fill=\"currentColor\" text-anchor=\"middle\" y=\"572.0\">\n",
       "    <tspan class=\"displacy-word\" fill=\"currentColor\" x=\"5300\">the</tspan>\n",
       "    <tspan class=\"displacy-tag\" dy=\"2em\" fill=\"currentColor\" x=\"5300\">DET</tspan>\n",
       "</text>\n",
       "\n",
       "<text class=\"displacy-token\" fill=\"currentColor\" text-anchor=\"middle\" y=\"572.0\">\n",
       "    <tspan class=\"displacy-word\" fill=\"currentColor\" x=\"5475\">night.</tspan>\n",
       "    <tspan class=\"displacy-tag\" dy=\"2em\" fill=\"currentColor\" x=\"5475\">NOUN</tspan>\n",
       "</text>\n",
       "\n",
       "<g class=\"displacy-arrow\">\n",
       "    <path class=\"displacy-arc\" id=\"arrow-8cda3a5686f9444c87fccb0ffbc44f8f-0-0\" stroke-width=\"2px\" d=\"M70,527.0 C70,439.5 200.0,439.5 200.0,527.0\" fill=\"none\" stroke=\"currentColor\"/>\n",
       "    <text dy=\"1.25em\" style=\"font-size: 0.8em; letter-spacing: 1px\">\n",
       "        <textPath xlink:href=\"#arrow-8cda3a5686f9444c87fccb0ffbc44f8f-0-0\" class=\"displacy-label\" startOffset=\"50%\" side=\"left\" fill=\"currentColor\" text-anchor=\"middle\">nsubj</textPath>\n",
       "    </text>\n",
       "    <path class=\"displacy-arrowhead\" d=\"M70,529.0 L62,517.0 78,517.0\" fill=\"currentColor\"/>\n",
       "</g>\n",
       "\n",
       "<g class=\"displacy-arrow\">\n",
       "    <path class=\"displacy-arc\" id=\"arrow-8cda3a5686f9444c87fccb0ffbc44f8f-0-1\" stroke-width=\"2px\" d=\"M420,527.0 C420,439.5 550.0,439.5 550.0,527.0\" fill=\"none\" stroke=\"currentColor\"/>\n",
       "    <text dy=\"1.25em\" style=\"font-size: 0.8em; letter-spacing: 1px\">\n",
       "        <textPath xlink:href=\"#arrow-8cda3a5686f9444c87fccb0ffbc44f8f-0-1\" class=\"displacy-label\" startOffset=\"50%\" side=\"left\" fill=\"currentColor\" text-anchor=\"middle\">poss</textPath>\n",
       "    </text>\n",
       "    <path class=\"displacy-arrowhead\" d=\"M420,529.0 L412,517.0 428,517.0\" fill=\"currentColor\"/>\n",
       "</g>\n",
       "\n",
       "<g class=\"displacy-arrow\">\n",
       "    <path class=\"displacy-arc\" id=\"arrow-8cda3a5686f9444c87fccb0ffbc44f8f-0-2\" stroke-width=\"2px\" d=\"M245,527.0 C245,352.0 555.0,352.0 555.0,527.0\" fill=\"none\" stroke=\"currentColor\"/>\n",
       "    <text dy=\"1.25em\" style=\"font-size: 0.8em; letter-spacing: 1px\">\n",
       "        <textPath xlink:href=\"#arrow-8cda3a5686f9444c87fccb0ffbc44f8f-0-2\" class=\"displacy-label\" startOffset=\"50%\" side=\"left\" fill=\"currentColor\" text-anchor=\"middle\">dobj</textPath>\n",
       "    </text>\n",
       "    <path class=\"displacy-arrowhead\" d=\"M555.0,529.0 L563.0,517.0 547.0,517.0\" fill=\"currentColor\"/>\n",
       "</g>\n",
       "\n",
       "<g class=\"displacy-arrow\">\n",
       "    <path class=\"displacy-arc\" id=\"arrow-8cda3a5686f9444c87fccb0ffbc44f8f-0-3\" stroke-width=\"2px\" d=\"M245,527.0 C245,264.5 735.0,264.5 735.0,527.0\" fill=\"none\" stroke=\"currentColor\"/>\n",
       "    <text dy=\"1.25em\" style=\"font-size: 0.8em; letter-spacing: 1px\">\n",
       "        <textPath xlink:href=\"#arrow-8cda3a5686f9444c87fccb0ffbc44f8f-0-3\" class=\"displacy-label\" startOffset=\"50%\" side=\"left\" fill=\"currentColor\" text-anchor=\"middle\">prep</textPath>\n",
       "    </text>\n",
       "    <path class=\"displacy-arrowhead\" d=\"M735.0,529.0 L743.0,517.0 727.0,517.0\" fill=\"currentColor\"/>\n",
       "</g>\n",
       "\n",
       "<g class=\"displacy-arrow\">\n",
       "    <path class=\"displacy-arc\" id=\"arrow-8cda3a5686f9444c87fccb0ffbc44f8f-0-4\" stroke-width=\"2px\" d=\"M945,527.0 C945,439.5 1075.0,439.5 1075.0,527.0\" fill=\"none\" stroke=\"currentColor\"/>\n",
       "    <text dy=\"1.25em\" style=\"font-size: 0.8em; letter-spacing: 1px\">\n",
       "        <textPath xlink:href=\"#arrow-8cda3a5686f9444c87fccb0ffbc44f8f-0-4\" class=\"displacy-label\" startOffset=\"50%\" side=\"left\" fill=\"currentColor\" text-anchor=\"middle\">poss</textPath>\n",
       "    </text>\n",
       "    <path class=\"displacy-arrowhead\" d=\"M945,529.0 L937,517.0 953,517.0\" fill=\"currentColor\"/>\n",
       "</g>\n",
       "\n",
       "<g class=\"displacy-arrow\">\n",
       "    <path class=\"displacy-arc\" id=\"arrow-8cda3a5686f9444c87fccb0ffbc44f8f-0-5\" stroke-width=\"2px\" d=\"M770,527.0 C770,352.0 1080.0,352.0 1080.0,527.0\" fill=\"none\" stroke=\"currentColor\"/>\n",
       "    <text dy=\"1.25em\" style=\"font-size: 0.8em; letter-spacing: 1px\">\n",
       "        <textPath xlink:href=\"#arrow-8cda3a5686f9444c87fccb0ffbc44f8f-0-5\" class=\"displacy-label\" startOffset=\"50%\" side=\"left\" fill=\"currentColor\" text-anchor=\"middle\">pobj</textPath>\n",
       "    </text>\n",
       "    <path class=\"displacy-arrowhead\" d=\"M1080.0,529.0 L1088.0,517.0 1072.0,517.0\" fill=\"currentColor\"/>\n",
       "</g>\n",
       "\n",
       "<g class=\"displacy-arrow\">\n",
       "    <path class=\"displacy-arc\" id=\"arrow-8cda3a5686f9444c87fccb0ffbc44f8f-0-6\" stroke-width=\"2px\" d=\"M1295,527.0 C1295,352.0 1605.0,352.0 1605.0,527.0\" fill=\"none\" stroke=\"currentColor\"/>\n",
       "    <text dy=\"1.25em\" style=\"font-size: 0.8em; letter-spacing: 1px\">\n",
       "        <textPath xlink:href=\"#arrow-8cda3a5686f9444c87fccb0ffbc44f8f-0-6\" class=\"displacy-label\" startOffset=\"50%\" side=\"left\" fill=\"currentColor\" text-anchor=\"middle\">poss</textPath>\n",
       "    </text>\n",
       "    <path class=\"displacy-arrowhead\" d=\"M1295,529.0 L1287,517.0 1303,517.0\" fill=\"currentColor\"/>\n",
       "</g>\n",
       "\n",
       "<g class=\"displacy-arrow\">\n",
       "    <path class=\"displacy-arc\" id=\"arrow-8cda3a5686f9444c87fccb0ffbc44f8f-0-7\" stroke-width=\"2px\" d=\"M1470,527.0 C1470,439.5 1600.0,439.5 1600.0,527.0\" fill=\"none\" stroke=\"currentColor\"/>\n",
       "    <text dy=\"1.25em\" style=\"font-size: 0.8em; letter-spacing: 1px\">\n",
       "        <textPath xlink:href=\"#arrow-8cda3a5686f9444c87fccb0ffbc44f8f-0-7\" class=\"displacy-label\" startOffset=\"50%\" side=\"left\" fill=\"currentColor\" text-anchor=\"middle\">amod</textPath>\n",
       "    </text>\n",
       "    <path class=\"displacy-arrowhead\" d=\"M1470,529.0 L1462,517.0 1478,517.0\" fill=\"currentColor\"/>\n",
       "</g>\n",
       "\n",
       "<g class=\"displacy-arrow\">\n",
       "    <path class=\"displacy-arc\" id=\"arrow-8cda3a5686f9444c87fccb0ffbc44f8f-0-8\" stroke-width=\"2px\" d=\"M1120,527.0 C1120,264.5 1610.0,264.5 1610.0,527.0\" fill=\"none\" stroke=\"currentColor\"/>\n",
       "    <text dy=\"1.25em\" style=\"font-size: 0.8em; letter-spacing: 1px\">\n",
       "        <textPath xlink:href=\"#arrow-8cda3a5686f9444c87fccb0ffbc44f8f-0-8\" class=\"displacy-label\" startOffset=\"50%\" side=\"left\" fill=\"currentColor\" text-anchor=\"middle\">appos</textPath>\n",
       "    </text>\n",
       "    <path class=\"displacy-arrowhead\" d=\"M1610.0,529.0 L1618.0,517.0 1602.0,517.0\" fill=\"currentColor\"/>\n",
       "</g>\n",
       "\n",
       "<g class=\"displacy-arrow\">\n",
       "    <path class=\"displacy-arc\" id=\"arrow-8cda3a5686f9444c87fccb0ffbc44f8f-0-9\" stroke-width=\"2px\" d=\"M1820,527.0 C1820,439.5 1950.0,439.5 1950.0,527.0\" fill=\"none\" stroke=\"currentColor\"/>\n",
       "    <text dy=\"1.25em\" style=\"font-size: 0.8em; letter-spacing: 1px\">\n",
       "        <textPath xlink:href=\"#arrow-8cda3a5686f9444c87fccb0ffbc44f8f-0-9\" class=\"displacy-label\" startOffset=\"50%\" side=\"left\" fill=\"currentColor\" text-anchor=\"middle\">nsubj</textPath>\n",
       "    </text>\n",
       "    <path class=\"displacy-arrowhead\" d=\"M1820,529.0 L1812,517.0 1828,517.0\" fill=\"currentColor\"/>\n",
       "</g>\n",
       "\n",
       "<g class=\"displacy-arrow\">\n",
       "    <path class=\"displacy-arc\" id=\"arrow-8cda3a5686f9444c87fccb0ffbc44f8f-0-10\" stroke-width=\"2px\" d=\"M1995,527.0 C1995,439.5 2125.0,439.5 2125.0,527.0\" fill=\"none\" stroke=\"currentColor\"/>\n",
       "    <text dy=\"1.25em\" style=\"font-size: 0.8em; letter-spacing: 1px\">\n",
       "        <textPath xlink:href=\"#arrow-8cda3a5686f9444c87fccb0ffbc44f8f-0-10\" class=\"displacy-label\" startOffset=\"50%\" side=\"left\" fill=\"currentColor\" text-anchor=\"middle\">acomp</textPath>\n",
       "    </text>\n",
       "    <path class=\"displacy-arrowhead\" d=\"M2125.0,529.0 L2133.0,517.0 2117.0,517.0\" fill=\"currentColor\"/>\n",
       "</g>\n",
       "\n",
       "<g class=\"displacy-arrow\">\n",
       "    <path class=\"displacy-arc\" id=\"arrow-8cda3a5686f9444c87fccb0ffbc44f8f-0-11\" stroke-width=\"2px\" d=\"M2345,527.0 C2345,439.5 2475.0,439.5 2475.0,527.0\" fill=\"none\" stroke=\"currentColor\"/>\n",
       "    <text dy=\"1.25em\" style=\"font-size: 0.8em; letter-spacing: 1px\">\n",
       "        <textPath xlink:href=\"#arrow-8cda3a5686f9444c87fccb0ffbc44f8f-0-11\" class=\"displacy-label\" startOffset=\"50%\" side=\"left\" fill=\"currentColor\" text-anchor=\"middle\">aux</textPath>\n",
       "    </text>\n",
       "    <path class=\"displacy-arrowhead\" d=\"M2345,529.0 L2337,517.0 2353,517.0\" fill=\"currentColor\"/>\n",
       "</g>\n",
       "\n",
       "<g class=\"displacy-arrow\">\n",
       "    <path class=\"displacy-arc\" id=\"arrow-8cda3a5686f9444c87fccb0ffbc44f8f-0-12\" stroke-width=\"2px\" d=\"M2170,527.0 C2170,352.0 2480.0,352.0 2480.0,527.0\" fill=\"none\" stroke=\"currentColor\"/>\n",
       "    <text dy=\"1.25em\" style=\"font-size: 0.8em; letter-spacing: 1px\">\n",
       "        <textPath xlink:href=\"#arrow-8cda3a5686f9444c87fccb0ffbc44f8f-0-12\" class=\"displacy-label\" startOffset=\"50%\" side=\"left\" fill=\"currentColor\" text-anchor=\"middle\">xcomp</textPath>\n",
       "    </text>\n",
       "    <path class=\"displacy-arrowhead\" d=\"M2480.0,529.0 L2488.0,517.0 2472.0,517.0\" fill=\"currentColor\"/>\n",
       "</g>\n",
       "\n",
       "<g class=\"displacy-arrow\">\n",
       "    <path class=\"displacy-arc\" id=\"arrow-8cda3a5686f9444c87fccb0ffbc44f8f-0-13\" stroke-width=\"2px\" d=\"M1995,527.0 C1995,177.0 2665.0,177.0 2665.0,527.0\" fill=\"none\" stroke=\"currentColor\"/>\n",
       "    <text dy=\"1.25em\" style=\"font-size: 0.8em; letter-spacing: 1px\">\n",
       "        <textPath xlink:href=\"#arrow-8cda3a5686f9444c87fccb0ffbc44f8f-0-13\" class=\"displacy-label\" startOffset=\"50%\" side=\"left\" fill=\"currentColor\" text-anchor=\"middle\">cc</textPath>\n",
       "    </text>\n",
       "    <path class=\"displacy-arrowhead\" d=\"M2665.0,529.0 L2673.0,517.0 2657.0,517.0\" fill=\"currentColor\"/>\n",
       "</g>\n",
       "\n",
       "<g class=\"displacy-arrow\">\n",
       "    <path class=\"displacy-arc\" id=\"arrow-8cda3a5686f9444c87fccb0ffbc44f8f-0-14\" stroke-width=\"2px\" d=\"M1995,527.0 C1995,89.5 2845.0,89.5 2845.0,527.0\" fill=\"none\" stroke=\"currentColor\"/>\n",
       "    <text dy=\"1.25em\" style=\"font-size: 0.8em; letter-spacing: 1px\">\n",
       "        <textPath xlink:href=\"#arrow-8cda3a5686f9444c87fccb0ffbc44f8f-0-14\" class=\"displacy-label\" startOffset=\"50%\" side=\"left\" fill=\"currentColor\" text-anchor=\"middle\">conj</textPath>\n",
       "    </text>\n",
       "    <path class=\"displacy-arrowhead\" d=\"M2845.0,529.0 L2853.0,517.0 2837.0,517.0\" fill=\"currentColor\"/>\n",
       "</g>\n",
       "\n",
       "<g class=\"displacy-arrow\">\n",
       "    <path class=\"displacy-arc\" id=\"arrow-8cda3a5686f9444c87fccb0ffbc44f8f-0-15\" stroke-width=\"2px\" d=\"M2870,527.0 C2870,439.5 3000.0,439.5 3000.0,527.0\" fill=\"none\" stroke=\"currentColor\"/>\n",
       "    <text dy=\"1.25em\" style=\"font-size: 0.8em; letter-spacing: 1px\">\n",
       "        <textPath xlink:href=\"#arrow-8cda3a5686f9444c87fccb0ffbc44f8f-0-15\" class=\"displacy-label\" startOffset=\"50%\" side=\"left\" fill=\"currentColor\" text-anchor=\"middle\">prep</textPath>\n",
       "    </text>\n",
       "    <path class=\"displacy-arrowhead\" d=\"M3000.0,529.0 L3008.0,517.0 2992.0,517.0\" fill=\"currentColor\"/>\n",
       "</g>\n",
       "\n",
       "<g class=\"displacy-arrow\">\n",
       "    <path class=\"displacy-arc\" id=\"arrow-8cda3a5686f9444c87fccb0ffbc44f8f-0-16\" stroke-width=\"2px\" d=\"M3220,527.0 C3220,439.5 3350.0,439.5 3350.0,527.0\" fill=\"none\" stroke=\"currentColor\"/>\n",
       "    <text dy=\"1.25em\" style=\"font-size: 0.8em; letter-spacing: 1px\">\n",
       "        <textPath xlink:href=\"#arrow-8cda3a5686f9444c87fccb0ffbc44f8f-0-16\" class=\"displacy-label\" startOffset=\"50%\" side=\"left\" fill=\"currentColor\" text-anchor=\"middle\">poss</textPath>\n",
       "    </text>\n",
       "    <path class=\"displacy-arrowhead\" d=\"M3220,529.0 L3212,517.0 3228,517.0\" fill=\"currentColor\"/>\n",
       "</g>\n",
       "\n",
       "<g class=\"displacy-arrow\">\n",
       "    <path class=\"displacy-arc\" id=\"arrow-8cda3a5686f9444c87fccb0ffbc44f8f-0-17\" stroke-width=\"2px\" d=\"M3045,527.0 C3045,352.0 3355.0,352.0 3355.0,527.0\" fill=\"none\" stroke=\"currentColor\"/>\n",
       "    <text dy=\"1.25em\" style=\"font-size: 0.8em; letter-spacing: 1px\">\n",
       "        <textPath xlink:href=\"#arrow-8cda3a5686f9444c87fccb0ffbc44f8f-0-17\" class=\"displacy-label\" startOffset=\"50%\" side=\"left\" fill=\"currentColor\" text-anchor=\"middle\">pobj</textPath>\n",
       "    </text>\n",
       "    <path class=\"displacy-arrowhead\" d=\"M3355.0,529.0 L3363.0,517.0 3347.0,517.0\" fill=\"currentColor\"/>\n",
       "</g>\n",
       "\n",
       "<g class=\"displacy-arrow\">\n",
       "    <path class=\"displacy-arc\" id=\"arrow-8cda3a5686f9444c87fccb0ffbc44f8f-0-18\" stroke-width=\"2px\" d=\"M3570,527.0 C3570,177.0 4240.0,177.0 4240.0,527.0\" fill=\"none\" stroke=\"currentColor\"/>\n",
       "    <text dy=\"1.25em\" style=\"font-size: 0.8em; letter-spacing: 1px\">\n",
       "        <textPath xlink:href=\"#arrow-8cda3a5686f9444c87fccb0ffbc44f8f-0-18\" class=\"displacy-label\" startOffset=\"50%\" side=\"left\" fill=\"currentColor\" text-anchor=\"middle\">mark</textPath>\n",
       "    </text>\n",
       "    <path class=\"displacy-arrowhead\" d=\"M3570,529.0 L3562,517.0 3578,517.0\" fill=\"currentColor\"/>\n",
       "</g>\n",
       "\n",
       "<g class=\"displacy-arrow\">\n",
       "    <path class=\"displacy-arc\" id=\"arrow-8cda3a5686f9444c87fccb0ffbc44f8f-0-19\" stroke-width=\"2px\" d=\"M3745,527.0 C3745,264.5 4235.0,264.5 4235.0,527.0\" fill=\"none\" stroke=\"currentColor\"/>\n",
       "    <text dy=\"1.25em\" style=\"font-size: 0.8em; letter-spacing: 1px\">\n",
       "        <textPath xlink:href=\"#arrow-8cda3a5686f9444c87fccb0ffbc44f8f-0-19\" class=\"displacy-label\" startOffset=\"50%\" side=\"left\" fill=\"currentColor\" text-anchor=\"middle\">nsubj</textPath>\n",
       "    </text>\n",
       "    <path class=\"displacy-arrowhead\" d=\"M3745,529.0 L3737,517.0 3753,517.0\" fill=\"currentColor\"/>\n",
       "</g>\n",
       "\n",
       "<g class=\"displacy-arrow\">\n",
       "    <path class=\"displacy-arc\" id=\"arrow-8cda3a5686f9444c87fccb0ffbc44f8f-0-20\" stroke-width=\"2px\" d=\"M3920,527.0 C3920,352.0 4230.0,352.0 4230.0,527.0\" fill=\"none\" stroke=\"currentColor\"/>\n",
       "    <text dy=\"1.25em\" style=\"font-size: 0.8em; letter-spacing: 1px\">\n",
       "        <textPath xlink:href=\"#arrow-8cda3a5686f9444c87fccb0ffbc44f8f-0-20\" class=\"displacy-label\" startOffset=\"50%\" side=\"left\" fill=\"currentColor\" text-anchor=\"middle\">aux</textPath>\n",
       "    </text>\n",
       "    <path class=\"displacy-arrowhead\" d=\"M3920,529.0 L3912,517.0 3928,517.0\" fill=\"currentColor\"/>\n",
       "</g>\n",
       "\n",
       "<g class=\"displacy-arrow\">\n",
       "    <path class=\"displacy-arc\" id=\"arrow-8cda3a5686f9444c87fccb0ffbc44f8f-0-21\" stroke-width=\"2px\" d=\"M4095,527.0 C4095,439.5 4225.0,439.5 4225.0,527.0\" fill=\"none\" stroke=\"currentColor\"/>\n",
       "    <text dy=\"1.25em\" style=\"font-size: 0.8em; letter-spacing: 1px\">\n",
       "        <textPath xlink:href=\"#arrow-8cda3a5686f9444c87fccb0ffbc44f8f-0-21\" class=\"displacy-label\" startOffset=\"50%\" side=\"left\" fill=\"currentColor\" text-anchor=\"middle\">advmod</textPath>\n",
       "    </text>\n",
       "    <path class=\"displacy-arrowhead\" d=\"M4095,529.0 L4087,517.0 4103,517.0\" fill=\"currentColor\"/>\n",
       "</g>\n",
       "\n",
       "<g class=\"displacy-arrow\">\n",
       "    <path class=\"displacy-arc\" id=\"arrow-8cda3a5686f9444c87fccb0ffbc44f8f-0-22\" stroke-width=\"2px\" d=\"M2870,527.0 C2870,2.0 4250.0,2.0 4250.0,527.0\" fill=\"none\" stroke=\"currentColor\"/>\n",
       "    <text dy=\"1.25em\" style=\"font-size: 0.8em; letter-spacing: 1px\">\n",
       "        <textPath xlink:href=\"#arrow-8cda3a5686f9444c87fccb0ffbc44f8f-0-22\" class=\"displacy-label\" startOffset=\"50%\" side=\"left\" fill=\"currentColor\" text-anchor=\"middle\">ccomp</textPath>\n",
       "    </text>\n",
       "    <path class=\"displacy-arrowhead\" d=\"M4250.0,529.0 L4258.0,517.0 4242.0,517.0\" fill=\"currentColor\"/>\n",
       "</g>\n",
       "\n",
       "<g class=\"displacy-arrow\">\n",
       "    <path class=\"displacy-arc\" id=\"arrow-8cda3a5686f9444c87fccb0ffbc44f8f-0-23\" stroke-width=\"2px\" d=\"M4270,527.0 C4270,439.5 4400.0,439.5 4400.0,527.0\" fill=\"none\" stroke=\"currentColor\"/>\n",
       "    <text dy=\"1.25em\" style=\"font-size: 0.8em; letter-spacing: 1px\">\n",
       "        <textPath xlink:href=\"#arrow-8cda3a5686f9444c87fccb0ffbc44f8f-0-23\" class=\"displacy-label\" startOffset=\"50%\" side=\"left\" fill=\"currentColor\" text-anchor=\"middle\">prep</textPath>\n",
       "    </text>\n",
       "    <path class=\"displacy-arrowhead\" d=\"M4400.0,529.0 L4408.0,517.0 4392.0,517.0\" fill=\"currentColor\"/>\n",
       "</g>\n",
       "\n",
       "<g class=\"displacy-arrow\">\n",
       "    <path class=\"displacy-arc\" id=\"arrow-8cda3a5686f9444c87fccb0ffbc44f8f-0-24\" stroke-width=\"2px\" d=\"M4620,527.0 C4620,352.0 4930.0,352.0 4930.0,527.0\" fill=\"none\" stroke=\"currentColor\"/>\n",
       "    <text dy=\"1.25em\" style=\"font-size: 0.8em; letter-spacing: 1px\">\n",
       "        <textPath xlink:href=\"#arrow-8cda3a5686f9444c87fccb0ffbc44f8f-0-24\" class=\"displacy-label\" startOffset=\"50%\" side=\"left\" fill=\"currentColor\" text-anchor=\"middle\">det</textPath>\n",
       "    </text>\n",
       "    <path class=\"displacy-arrowhead\" d=\"M4620,529.0 L4612,517.0 4628,517.0\" fill=\"currentColor\"/>\n",
       "</g>\n",
       "\n",
       "<g class=\"displacy-arrow\">\n",
       "    <path class=\"displacy-arc\" id=\"arrow-8cda3a5686f9444c87fccb0ffbc44f8f-0-25\" stroke-width=\"2px\" d=\"M4795,527.0 C4795,439.5 4925.0,439.5 4925.0,527.0\" fill=\"none\" stroke=\"currentColor\"/>\n",
       "    <text dy=\"1.25em\" style=\"font-size: 0.8em; letter-spacing: 1px\">\n",
       "        <textPath xlink:href=\"#arrow-8cda3a5686f9444c87fccb0ffbc44f8f-0-25\" class=\"displacy-label\" startOffset=\"50%\" side=\"left\" fill=\"currentColor\" text-anchor=\"middle\">amod</textPath>\n",
       "    </text>\n",
       "    <path class=\"displacy-arrowhead\" d=\"M4795,529.0 L4787,517.0 4803,517.0\" fill=\"currentColor\"/>\n",
       "</g>\n",
       "\n",
       "<g class=\"displacy-arrow\">\n",
       "    <path class=\"displacy-arc\" id=\"arrow-8cda3a5686f9444c87fccb0ffbc44f8f-0-26\" stroke-width=\"2px\" d=\"M4445,527.0 C4445,264.5 4935.0,264.5 4935.0,527.0\" fill=\"none\" stroke=\"currentColor\"/>\n",
       "    <text dy=\"1.25em\" style=\"font-size: 0.8em; letter-spacing: 1px\">\n",
       "        <textPath xlink:href=\"#arrow-8cda3a5686f9444c87fccb0ffbc44f8f-0-26\" class=\"displacy-label\" startOffset=\"50%\" side=\"left\" fill=\"currentColor\" text-anchor=\"middle\">pobj</textPath>\n",
       "    </text>\n",
       "    <path class=\"displacy-arrowhead\" d=\"M4935.0,529.0 L4943.0,517.0 4927.0,517.0\" fill=\"currentColor\"/>\n",
       "</g>\n",
       "\n",
       "<g class=\"displacy-arrow\">\n",
       "    <path class=\"displacy-arc\" id=\"arrow-8cda3a5686f9444c87fccb0ffbc44f8f-0-27\" stroke-width=\"2px\" d=\"M4970,527.0 C4970,439.5 5100.0,439.5 5100.0,527.0\" fill=\"none\" stroke=\"currentColor\"/>\n",
       "    <text dy=\"1.25em\" style=\"font-size: 0.8em; letter-spacing: 1px\">\n",
       "        <textPath xlink:href=\"#arrow-8cda3a5686f9444c87fccb0ffbc44f8f-0-27\" class=\"displacy-label\" startOffset=\"50%\" side=\"left\" fill=\"currentColor\" text-anchor=\"middle\">prep</textPath>\n",
       "    </text>\n",
       "    <path class=\"displacy-arrowhead\" d=\"M5100.0,529.0 L5108.0,517.0 5092.0,517.0\" fill=\"currentColor\"/>\n",
       "</g>\n",
       "\n",
       "<g class=\"displacy-arrow\">\n",
       "    <path class=\"displacy-arc\" id=\"arrow-8cda3a5686f9444c87fccb0ffbc44f8f-0-28\" stroke-width=\"2px\" d=\"M5320,527.0 C5320,439.5 5450.0,439.5 5450.0,527.0\" fill=\"none\" stroke=\"currentColor\"/>\n",
       "    <text dy=\"1.25em\" style=\"font-size: 0.8em; letter-spacing: 1px\">\n",
       "        <textPath xlink:href=\"#arrow-8cda3a5686f9444c87fccb0ffbc44f8f-0-28\" class=\"displacy-label\" startOffset=\"50%\" side=\"left\" fill=\"currentColor\" text-anchor=\"middle\">det</textPath>\n",
       "    </text>\n",
       "    <path class=\"displacy-arrowhead\" d=\"M5320,529.0 L5312,517.0 5328,517.0\" fill=\"currentColor\"/>\n",
       "</g>\n",
       "\n",
       "<g class=\"displacy-arrow\">\n",
       "    <path class=\"displacy-arc\" id=\"arrow-8cda3a5686f9444c87fccb0ffbc44f8f-0-29\" stroke-width=\"2px\" d=\"M5145,527.0 C5145,352.0 5455.0,352.0 5455.0,527.0\" fill=\"none\" stroke=\"currentColor\"/>\n",
       "    <text dy=\"1.25em\" style=\"font-size: 0.8em; letter-spacing: 1px\">\n",
       "        <textPath xlink:href=\"#arrow-8cda3a5686f9444c87fccb0ffbc44f8f-0-29\" class=\"displacy-label\" startOffset=\"50%\" side=\"left\" fill=\"currentColor\" text-anchor=\"middle\">pobj</textPath>\n",
       "    </text>\n",
       "    <path class=\"displacy-arrowhead\" d=\"M5455.0,529.0 L5463.0,517.0 5447.0,517.0\" fill=\"currentColor\"/>\n",
       "</g>\n",
       "</svg></span>"
      ],
      "text/plain": [
       "<IPython.core.display.HTML object>"
      ]
     },
     "metadata": {},
     "output_type": "display_data"
    }
   ],
   "source": [
    "# render because we are doing it in jup nb, otherwise it's server\n",
    "displacy.render(doc, style=\"dep\")"
   ]
  },
  {
   "cell_type": "markdown",
   "metadata": {
    "hidden": true
   },
   "source": [
    "Testing the weird apostrophes, we got rid of them in the text, but just to be safe. "
   ]
  },
  {
   "cell_type": "code",
   "execution_count": 40,
   "metadata": {
    "hidden": true
   },
   "outputs": [
    {
     "name": "stdout",
     "output_type": "stream",
     "text": [
      "Why why True\n",
      "wouldn‘t wouldn‘t False\n",
      "we -PRON- True\n",
      "? ? False\n"
     ]
    }
   ],
   "source": [
    "text = \"Why wouldn‘t we?\"\n",
    "doc = nlp(text)\n",
    "for token in doc:\n",
    "    print(token.text, token.lemma_, token.is_stop)"
   ]
  },
  {
   "cell_type": "code",
   "execution_count": 41,
   "metadata": {
    "hidden": true
   },
   "outputs": [
    {
     "name": "stdout",
     "output_type": "stream",
     "text": [
      "Why why True\n",
      "would would True\n",
      "n't not True\n",
      "we -PRON- True\n",
      "? ? False\n"
     ]
    }
   ],
   "source": [
    "text = \"Why wouldn't we?\"\n",
    "doc = nlp(text)\n",
    "for token in doc:\n",
    "    print(token.text, token.lemma_, token.is_stop)"
   ]
  },
  {
   "cell_type": "markdown",
   "metadata": {
    "hidden": true
   },
   "source": [
    "spaCy also can't handle it. "
   ]
  },
  {
   "cell_type": "markdown",
   "metadata": {
    "hidden": true
   },
   "source": [
    "## Named Entities"
   ]
  },
  {
   "cell_type": "markdown",
   "metadata": {
    "hidden": true
   },
   "source": [
    "Let's see if it recognizes named entities. "
   ]
  },
  {
   "cell_type": "code",
   "execution_count": 27,
   "metadata": {
    "hidden": true
   },
   "outputs": [
    {
     "name": "stdout",
     "output_type": "stream",
     "text": [
      "Herbert West PERSON\n"
     ]
    }
   ],
   "source": [
    "text = \\\n",
    "\"\"\"\n",
    "Of Herbert West, who was my friend in college and in after life, I can speak only with extreme \n",
    "terror.\n",
    "\"\"\"\n",
    "doc = nlp(text)\n",
    "for ent in doc.ents:\n",
    "    print(ent.text, ent.label_)"
   ]
  },
  {
   "cell_type": "code",
   "execution_count": 32,
   "metadata": {
    "hidden": true
   },
   "outputs": [
    {
     "name": "stdout",
     "output_type": "stream",
     "text": [
      "the third year DATE\n",
      "University Medical School ORG\n",
      "Arkham GPE\n"
     ]
    }
   ],
   "source": [
    "text = \\\n",
    "\"\"\"\n",
    "We were in the third year of our course at the Miskatonic \n",
    "University Medical School in Arkham.\n",
    "\"\"\"\n",
    "doc = nlp(text)\n",
    "for ent in doc.ents:\n",
    "    print(ent.text, ent.label_)"
   ]
  },
  {
   "cell_type": "code",
   "execution_count": 33,
   "metadata": {
    "hidden": true
   },
   "outputs": [
    {
     "data": {
      "text/html": [
       "<span class=\"tex2jax_ignore\"><div class=\"entities\" style=\"line-height: 2.5; direction: ltr\"></br>We were in \n",
       "<mark class=\"entity\" style=\"background: #bfe1d9; padding: 0.45em 0.6em; margin: 0 0.25em; line-height: 1; border-radius: 0.35em;\">\n",
       "    the third year\n",
       "    <span style=\"font-size: 0.8em; font-weight: bold; line-height: 1; border-radius: 0.35em; text-transform: uppercase; vertical-align: middle; margin-left: 0.5rem\">DATE</span>\n",
       "</mark>\n",
       " of our course at the Miskatonic </br>\n",
       "<mark class=\"entity\" style=\"background: #7aecec; padding: 0.45em 0.6em; margin: 0 0.25em; line-height: 1; border-radius: 0.35em;\">\n",
       "    University Medical School\n",
       "    <span style=\"font-size: 0.8em; font-weight: bold; line-height: 1; border-radius: 0.35em; text-transform: uppercase; vertical-align: middle; margin-left: 0.5rem\">ORG</span>\n",
       "</mark>\n",
       " in \n",
       "<mark class=\"entity\" style=\"background: #feca74; padding: 0.45em 0.6em; margin: 0 0.25em; line-height: 1; border-radius: 0.35em;\">\n",
       "    Arkham\n",
       "    <span style=\"font-size: 0.8em; font-weight: bold; line-height: 1; border-radius: 0.35em; text-transform: uppercase; vertical-align: middle; margin-left: 0.5rem\">GPE</span>\n",
       "</mark>\n",
       ".\n",
       "</div></span>"
      ],
      "text/plain": [
       "<IPython.core.display.HTML object>"
      ]
     },
     "metadata": {},
     "output_type": "display_data"
    }
   ],
   "source": [
    "displacy.render(doc, style=\"ent\")"
   ]
  },
  {
   "cell_type": "code",
   "execution_count": 34,
   "metadata": {
    "hidden": true
   },
   "outputs": [
    {
     "name": "stdout",
     "output_type": "stream",
     "text": [
      "the third year DATE\n",
      "the Miskatonic University Medical School ORG\n"
     ]
    }
   ],
   "source": [
    "text = \\\n",
    "\"\"\"\n",
    "We were in the third year of our course at the Miskatonic University Medical School in Arkham.\n",
    "\"\"\"\n",
    "doc = nlp(text)\n",
    "for ent in doc.ents:\n",
    "    print(ent.text, ent.label_)"
   ]
  },
  {
   "cell_type": "markdown",
   "metadata": {
    "hidden": true
   },
   "source": [
    "It doesn't work for some reason. "
   ]
  },
  {
   "cell_type": "markdown",
   "metadata": {
    "hidden": true
   },
   "source": [
    "Let's see what happens if we import the text from the file. "
   ]
  },
  {
   "cell_type": "code",
   "execution_count": 38,
   "metadata": {
    "hidden": true
   },
   "outputs": [],
   "source": [
    "my_file = open(txt_adjusted_folder + 'herbert_west_—_reanimator.txt')\n",
    "raw_text = my_file.read()"
   ]
  },
  {
   "cell_type": "code",
   "execution_count": 39,
   "metadata": {
    "hidden": true
   },
   "outputs": [
    {
     "name": "stdout",
     "output_type": "stream",
     "text": [
      "Herbert West PERSON\n",
      "Dark GPE\n",
      "Herbert West GPE\n",
      "seventeen years ago DATE\n",
      "the third year DATE\n",
      "University Medical School ORG\n",
      "Arkham GPE\n",
      "first ORDINAL\n",
      "West LOC\n",
      "first ORDINAL\n",
      "Allan Halsey PERSON\n",
      "Arkham PERSON\n",
      "West LOC\n",
      "Haeckel LOC\n",
      "first ORDINAL\n",
      "West LOC\n",
      "two CARDINAL\n",
      "West LOC\n",
      "Christchurch Cemetery ORG\n",
      "Christchurch GPE\n",
      "West LOC\n",
      "Chapman PERSON\n",
      "Meadow Hill LOC\n",
      "Boston GPE\n",
      "West LOC\n",
      "many weeks DATE\n",
      "Arkham ORG\n",
      "the summer DATE\n",
      "one CARDINAL\n",
      "only the morning TIME\n",
      "Sumner's Pond ORG\n",
      "That afternoon TIME\n",
      "midnight TIME\n",
      "today DATE\n",
      "first ORDINAL\n",
      "Chapman PERSON\n",
      "Meadow Hill ORG\n",
      "plebeian NORP\n",
      "grey-eyed PERSON\n",
      "West LOC\n",
      "one CARDINAL\n",
      "West LOC\n",
      "about three-\n",
      "quarters of an hour DATE\n",
      "one CARDINAL\n",
      "dawn TIME\n",
      "shun PERSON\n",
      "the next night TIME\n",
      "West LOC\n",
      "one CARDINAL\n",
      "West LOC\n",
      "Bunsen PERSON\n",
      "West LOC\n",
      "West LOC\n",
      "the day DATE\n",
      "evening TIME\n",
      "two CARDINAL\n",
      "Chapman PERSON\n",
      "earth LOC\n",
      "seventeen years DATE\n",
      "West LOC\n",
      "summer sixteen years ago DATE\n",
      "Eblis GPE\n",
      "Arkham ORG\n",
      "the year DATE\n",
      "Christchurch Cemetery FAC\n",
      "Herbert West PERSON\n",
      "summer DATE\n",
      "the medical school of \n",
      "Miskatonic University ORG\n",
      "freakish NORP\n",
      "Allan PERSON\n",
      "Halsey PERSON\n",
      "West LOC\n",
      "one CARDINAL\n",
      "Meadow Hill GPE\n",
      "West LOC\n",
      "house ORG\n",
      "Dr. \n",
      "Halsey PERSON\n",
      "Sefton Asylum PERSON\n",
      "West LOC\n",
      "West LOC\n",
      "Halsey PERSON\n",
      "later years DATE\n",
      "West LOC\n",
      "Puritanism PERSON\n",
      "anti-Darwinism NORP\n",
      "Halsey PERSON\n",
      "Tartarus ORG\n",
      "summer DATE\n",
      "Arkham PERSON\n",
      "West LOC\n",
      "Halsey PERSON\n",
      "West LOC\n",
      "one night TIME\n",
      "West LOC\n",
      "West LOC\n",
      "August DATE\n",
      "Halsey PERSON\n",
      "14th ORDINAL\n",
      "the 15th DATE\n",
      "Arkham PERSON\n",
      "the afternoon TIME\n",
      "the Commercial House ORG\n",
      "West LOC\n",
      "West LOC\n",
      "a night TIME\n",
      "West LOC\n",
      "about two CARDINAL\n",
      "third ORDINAL\n",
      "about 3 a.m. TIME\n",
      "West LOC\n",
      "two CARDINAL\n",
      "West LOC\n",
      "second ORDINAL\n",
      "companion PERSON\n",
      "West LOC\n",
      "That same night TIME\n",
      "Arkham PERSON\n",
      "Christchurch Cemetery ORG\n",
      "midnight TIME\n",
      "Bolton PERSON\n",
      "Arkham PERSON\n",
      "Eight CARDINAL\n",
      "seventeen CARDINAL\n",
      "half CARDINAL\n",
      "fourteen DATE\n",
      "three CARDINAL\n",
      "third ORDINAL\n",
      "Crane Street FAC\n",
      "only two CARDINAL\n",
      "one CARDINAL\n",
      "Sefton ORG\n",
      "sixteen years DATE\n",
      "Arkham PERSON\n",
      "three days DATE\n",
      "Allan Halsey PERSON\n",
      "Miskatonic University ORG\n",
      "Herbert West PERSON\n",
      "tonight TIME\n",
      "morning TIME\n",
      "West LOC\n",
      "III ORG\n",
      "Six CARDINAL\n",
      "Midnight TIME\n",
      "six CARDINAL\n",
      "Herbert West PERSON\n",
      "Herbert West PERSON\n",
      "Miskatonic University ORG\n",
      "Herbert West's PERSON\n",
      "graveyard PERSON\n",
      "two CARDINAL\n",
      "Bolton PERSON\n",
      "Arkham GPE\n",
      "Bolton PERSON\n",
      "Valley LOC\n",
      "Pond Street FAC\n",
      "five CARDINAL\n",
      "first ORDINAL\n",
      "the small hours of the morning TIME\n",
      "West LOC\n",
      "West LOC\n",
      "West LOC\n",
      "first ORDINAL\n",
      "Meadow Hill FAC\n",
      "Arkham GPE\n",
      "at least one CARDINAL\n",
      "Sefton ORG\n",
      "first ORDINAL\n",
      "Bolton PERSON\n",
      "Arkham PERSON\n",
      "a week DATE\n",
      "the very night TIME\n",
      "January DATE\n",
      "three CARDINAL\n",
      "one CARDINAL\n",
      "one CARDINAL\n",
      "one CARDINAL\n",
      "One CARDINAL\n",
      "March DATE\n",
      "Bolton PERSON\n",
      "Puritanism PERSON\n",
      "two CARDINAL\n",
      "Poles NORP\n",
      "Kid O'Brien PERSON\n",
      "Hibernian NORP\n",
      "Buck Robinson PERSON\n",
      "The Harlem Smoke WORK_OF_ART\n",
      "Congo GPE\n",
      "tom-tom PERSON\n",
      "moon PERSON\n",
      "West LOC\n",
      "one horrible night TIME\n",
      "Arkham GPE\n",
      "The next day DATE\n",
      "the afternoon TIME\n",
      "Italian NORP\n",
      "five CARDINAL\n",
      "early in the morning TIME\n",
      "Italian NORP\n",
      "About seven o'clock TIME\n",
      "West LOC\n",
      "West LOC\n",
      "West LOC\n",
      "Italian NORP\n",
      "Bolton PERSON\n",
      "West LOC\n",
      "three CARDINAL\n",
      "moon PERSON\n",
      "West LOC\n",
      "Italian NORP\n",
      "the weird small hours TIME\n",
      "West LOC\n",
      "six CARDINAL\n",
      "Italian NORP\n",
      "moon PERSON\n",
      "mould GPE\n",
      "Herbert West PERSON\n",
      "the latter years DATE\n",
      "Herbert West PERSON\n",
      "Bolton PERSON\n",
      "West LOC\n",
      "West LOC\n",
      "second ORDINAL\n",
      "the Miskatonic University \n",
      "Medical School in Arkham ORG\n",
      "first ORDINAL\n",
      "seven years before DATE\n",
      "West LOC\n",
      "a day older now DATE\n",
      "graveyard clay PERSON\n",
      "One CARDINAL\n",
      "African NORP\n",
      "West LOC\n",
      "one CARDINAL\n",
      "two CARDINAL\n",
      "West LOC\n",
      "Bolton PERSON\n",
      "half CARDINAL\n",
      "July, 1910 DATE\n",
      "Illinois GPE\n",
      "West LOC\n",
      "West LOC\n",
      "years DATE\n",
      "Bolton PERSON\n",
      "West LOC\n",
      "West LOC\n",
      "Bolton PERSON\n",
      "Worsted Mills ORG\n",
      "only a moment later TIME\n",
      "West LOC\n",
      "Bolton PERSON\n",
      "Robert Leavitt PERSON\n",
      "St. Louis GPE\n",
      "the night of July 18, 1910 TIME\n",
      "Herbert West PERSON\n",
      "two weeks DATE\n",
      "West LOC\n",
      "West LOC\n",
      "first ORDINAL\n",
      "West LOC\n",
      "the afternoon TIME\n",
      "college days DATE\n",
      "first ORDINAL\n",
      "first ORDINAL\n",
      "materialist NORP\n",
      "inhuman NORP\n",
      "first ORDINAL\n",
      "Arkham ORG\n",
      "sandy beard PERSON\n",
      "West LOC\n",
      "one CARDINAL\n",
      "first ORDINAL\n",
      "earth LOC\n",
      "second ORDINAL\n",
      "the Great War EVENT\n",
      "1915 DATE\n",
      "First Lieutenant ORG\n",
      "Canadian NORP\n",
      "Flanders ORG\n",
      "one CARDINAL\n",
      "Americans NORP\n",
      "Boston GPE\n",
      "Herbert West PERSON\n",
      "West PERSON\n",
      "West LOC\n",
      "Ottawa GPE\n",
      "one CARDINAL\n",
      "West PERSON\n",
      "Flanders ORG\n",
      "Herbert West PERSON\n",
      "Boston GPE\n",
      "the old days DATE\n",
      "Miskatonic University Medical School at Arkham ORG\n",
      "first ORDINAL\n",
      "Bolton PERSON\n",
      "one CARDINAL\n",
      "first ORDINAL\n",
      "five years DATE\n",
      "Herbert West PERSON\n",
      "Two CARDINAL\n",
      "first ORDINAL\n",
      "second ORDINAL\n",
      "Herbert PERSON\n",
      "the Great War EVENT\n",
      "one midnight TIME\n",
      "March, 1915 DATE\n",
      "St. Eloi GPE\n",
      "West PERSON\n",
      "West LOC\n",
      "the night TIME\n",
      "West LOC\n",
      "West LOC\n",
      "Eric Moreland PERSON\n",
      "Clapham-Lee PERSON\n",
      "D.S.O. GPE\n",
      "Lieut PERSON\n",
      "Ronald Hill PERSON\n",
      "Hill PERSON\n",
      "Eric Moreland PERSON\n",
      "Clapham-Lee PERSON\n",
      "Herbert West PERSON\n",
      "reptilian NORP\n",
      "West LOC\n",
      "West LOC\n",
      "one CARDINAL\n",
      "West LOC\n",
      "one CARDINAL\n",
      "Herbert West GPE\n",
      "German NORP\n",
      "Jump ORG\n",
      "Ronald PERSON\n",
      "God PERSON\n",
      "VI ORG\n",
      "Herbert West PERSON\n",
      "a year ago DATE\n",
      "Boston GPE\n",
      "West LOC\n",
      "years DATE\n",
      "first ORDINAL\n",
      "West LOC\n",
      "West LOC\n",
      "one CARDINAL\n",
      "West LOC\n",
      "West LOC\n",
      "first ORDINAL\n",
      "Arkham ORG\n",
      "Sefton ORG\n",
      "sixteen years DATE\n",
      "later years DATE\n",
      "West LOC\n",
      "The Great War EVENT\n",
      "West LOC\n",
      "West LOC\n",
      "West LOC\n",
      "only one CARDINAL\n",
      "Canadian NORP\n",
      "1915 DATE\n",
      "West LOC\n",
      "Eric Moreland PERSON\n",
      "Clapham-Lee PERSON\n",
      "D.S.O. ORG\n",
      "German NORP\n",
      "West LOC\n",
      "two CARDINAL\n",
      "West LOC\n",
      "last quarters DATE\n",
      "one CARDINAL\n",
      "Boston GPE\n",
      "West LOC\n",
      "Averills PRODUCT\n",
      "1768 DATE\n",
      "first ORDINAL\n",
      "West LOC\n",
      "hellish night TIME\n",
      "West LOC\n",
      "years DATE\n",
      "Sefton ORG\n",
      "Herbert West FAC\n",
      "one evening TIME\n",
      "sixteen years DATE\n",
      "Sefton ORG\n",
      "fifty miles QUANTITY\n",
      "the small hours of the morning TIME\n",
      "half CARDINAL\n",
      "Arkham PERSON\n",
      "sixteen years DATE\n",
      "four CARDINAL\n",
      "the hour TIME\n",
      "midnight TIME\n",
      "West LOC\n",
      "midnight TIME\n",
      "doorbell rang PERSON\n",
      "one CARDINAL\n",
      "Express ORG\n",
      "West LOC\n",
      "about two feet square QUANTITY\n",
      "West LOC\n",
      "Eric PERSON\n",
      "Moreland Clapham-Lee PERSON\n",
      "Flanders ORG\n",
      "Six years before DATE\n",
      "Flanders ORG\n",
      "Clapham-Lee PERSON\n",
      "Herbert West's PERSON\n",
      "first ORDINAL\n",
      "earth LOC\n",
      "one CARDINAL\n",
      "one CARDINAL\n",
      "Herbert West PERSON\n",
      "West LOC\n",
      "Canadian NORP\n",
      "first ORDINAL\n",
      "the morning TIME\n",
      "West LOC\n"
     ]
    }
   ],
   "source": [
    "doc = nlp(raw_text)\n",
    "for ent in doc.ents:\n",
    "    print(ent.text, ent.label_)"
   ]
  },
  {
   "cell_type": "markdown",
   "metadata": {
    "hidden": true
   },
   "source": [
    "## Word Counts with En Sm"
   ]
  },
  {
   "cell_type": "markdown",
   "metadata": {
    "hidden": true
   },
   "source": [
    "Question: which are the most frequently used non-stopword nouns, verbs, and adjectives in each story. "
   ]
  },
  {
   "cell_type": "code",
   "execution_count": 4,
   "metadata": {
    "hidden": true
   },
   "outputs": [],
   "source": [
    "my_file = open(txt_adjusted_folder + 'herbert_west_—_reanimator.txt')\n",
    "raw_text = my_file.read()"
   ]
  },
  {
   "cell_type": "code",
   "execution_count": 8,
   "metadata": {
    "hidden": true
   },
   "outputs": [],
   "source": [
    "doc = nlp(raw_text)\n",
    "\n",
    "word_count_dict = {}\n",
    "word_count_dict['NOUN'] = {}\n",
    "word_count_dict['PROPN'] = {}\n",
    "word_count_dict['ADJ'] = {}\n",
    "word_count_dict['VERB'] = {}\n",
    "\n",
    "for token in doc: \n",
    "    part_of_speech = token.pos_\n",
    "    if part_of_speech in ['NOUN', 'PROPN', 'ADJ', 'VERB'] and token.is_stop == False:\n",
    "        word_lemma = token.lemma_\n",
    "        current_count = word_count_dict[part_of_speech].get(word_lemma, 0)\n",
    "        current_count += 1\n",
    "        word_count_dict[part_of_speech][word_lemma] = current_count\n"
   ]
  },
  {
   "cell_type": "markdown",
   "metadata": {
    "hidden": true
   },
   "source": [
    "Now we have all the word counts. "
   ]
  },
  {
   "cell_type": "code",
   "execution_count": 9,
   "metadata": {
    "hidden": true
   },
   "outputs": [
    {
     "data": {
      "text/plain": [
       "20"
      ]
     },
     "execution_count": 9,
     "metadata": {},
     "output_type": "execute_result"
    }
   ],
   "source": [
    "word_count_dict['PROPN']['Herbert']"
   ]
  },
  {
   "cell_type": "code",
   "execution_count": 10,
   "metadata": {
    "hidden": true
   },
   "outputs": [
    {
     "data": {
      "text/plain": [
       "132"
      ]
     },
     "execution_count": 10,
     "metadata": {},
     "output_type": "execute_result"
    }
   ],
   "source": [
    "word_count_dict['PROPN']['West']"
   ]
  },
  {
   "cell_type": "code",
   "execution_count": 11,
   "metadata": {
    "hidden": true
   },
   "outputs": [
    {
     "data": {
      "text/plain": [
       "{'Herbert': 20,\n",
       " 'West': 132,\n",
       " 'Reanimator': 1,\n",
       " 'I.': 1,\n",
       " 'Dark': 1,\n",
       " 'Miskatonic': 8,\n",
       " 'University': 6,\n",
       " 'Medical': 3,\n",
       " 'School': 3,\n",
       " 'Arkham': 18,\n",
       " 'medical': 1,\n",
       " 'school': 3,\n",
       " 'dean': 3,\n",
       " 'Dr.': 15,\n",
       " 'Allan': 3,\n",
       " 'Halsey': 8,\n",
       " 'Haeckel': 1,\n",
       " 'Christchurch': 5,\n",
       " 'Cemetery': 3,\n",
       " 'potter': 3,\n",
       " 'Chapman': 3,\n",
       " 'Meadow': 4,\n",
       " 'Hill': 6,\n",
       " 'Boston': 5,\n",
       " 'Sumner': 1,\n",
       " 'Pond': 2,\n",
       " 'Bunsen': 1,\n",
       " 'II': 1,\n",
       " 'Plague': 1,\n",
       " 'Daemon': 1,\n",
       " 'afrite': 1,\n",
       " 'Eblis': 1,\n",
       " 'leeringly': 1,\n",
       " 'house': 2,\n",
       " 'importunate': 1,\n",
       " 'supernormal': 1,\n",
       " 'Sefton': 7,\n",
       " 'Asylum': 2,\n",
       " 'Ptolemaism': 1,\n",
       " 'Calvinism': 1,\n",
       " 'Darwinism': 1,\n",
       " 'anti': 1,\n",
       " '-': 1,\n",
       " 'Nietzscheism': 1,\n",
       " 'Tartarus': 1,\n",
       " 'August': 1,\n",
       " 'Commercial': 1,\n",
       " 'House': 1,\n",
       " 'Bolton': 12,\n",
       " 'Crane': 1,\n",
       " 'Street': 2,\n",
       " 'simianism': 1,\n",
       " 'Midnight': 1,\n",
       " 'Worsted': 2,\n",
       " 'Mills': 2,\n",
       " 'Valley': 1,\n",
       " 'man': 1,\n",
       " 'daemoniac': 3,\n",
       " 'January': 1,\n",
       " 'March': 2,\n",
       " 'Puritanism': 1,\n",
       " 'Poles': 1,\n",
       " 'Kid': 1,\n",
       " \"O'Brien\": 1,\n",
       " 'Hibernian': 1,\n",
       " 'Buck': 1,\n",
       " 'Robinson': 1,\n",
       " 'Harlem': 1,\n",
       " 'Smoke': 1,\n",
       " 'Congo': 1,\n",
       " 'tom': 2,\n",
       " 'Italian': 1,\n",
       " 'long': 1,\n",
       " 'moon': 1,\n",
       " 'Scream': 1,\n",
       " 'Dead': 1,\n",
       " 'July': 2,\n",
       " 'Illinois': 1,\n",
       " 'Robert': 1,\n",
       " 'Leavitt': 1,\n",
       " 'St.': 4,\n",
       " 'Louis': 1,\n",
       " 'V.': 1,\n",
       " 'Shadows': 1,\n",
       " 'Great': 3,\n",
       " 'War': 3,\n",
       " 'Lieutenant': 1,\n",
       " 'Flanders': 4,\n",
       " 'Americans': 1,\n",
       " 'Ottawa': 1,\n",
       " 'Major': 3,\n",
       " 'Elagabalus': 1,\n",
       " 'Eloi': 3,\n",
       " 'babel': 1,\n",
       " 'Sir': 3,\n",
       " 'Eric': 4,\n",
       " 'Moreland': 4,\n",
       " 'Clapham': 5,\n",
       " 'Lee': 5,\n",
       " 'D.S.O.': 2,\n",
       " 'Lieut': 1,\n",
       " 'Ronald': 2,\n",
       " 'Jump': 1,\n",
       " 'God': 1,\n",
       " 'VI': 1,\n",
       " 'Tomb': 1,\n",
       " 'Legions': 1,\n",
       " 'phantasy': 1,\n",
       " 'Canadian': 1,\n",
       " 'Averills': 1,\n",
       " 'cannibal': 1,\n",
       " 'doorbell': 1,\n",
       " 'rang': 1,\n",
       " 'Express': 1,\n",
       " 'masonry': 1}"
      ]
     },
     "execution_count": 11,
     "metadata": {},
     "output_type": "execute_result"
    }
   ],
   "source": [
    "word_count_dict['PROPN']"
   ]
  },
  {
   "cell_type": "markdown",
   "metadata": {
    "hidden": true
   },
   "source": [
    "Interesting, for example, doorbell is also in there. "
   ]
  },
  {
   "cell_type": "code",
   "execution_count": 9,
   "metadata": {
    "hidden": true
   },
   "outputs": [
    {
     "name": "stdout",
     "output_type": "stream",
     "text": [
      "At at ADP\n",
      "midnight midnight NOUN\n",
      "the the DET\n",
      "doorbell doorbell NOUN\n",
      "rang rang PROPN\n",
      ", , PUNCT\n",
      "startling startle VERB\n",
      "him -PRON- PRON\n",
      "fearfully fearfully ADV\n",
      ". . PUNCT\n"
     ]
    }
   ],
   "source": [
    "text = 'At midnight the doorbell rang, startling him fearfully.'\n",
    "doc = nlp(text)\n",
    "for token in doc: \n",
    "    print(token.text, token.lemma_, token.pos_)"
   ]
  },
  {
   "cell_type": "markdown",
   "metadata": {
    "hidden": true
   },
   "source": [
    "OK, trying a different package, en large. "
   ]
  },
  {
   "cell_type": "code",
   "execution_count": 3,
   "metadata": {
    "hidden": true
   },
   "outputs": [
    {
     "name": "stdout",
     "output_type": "stream",
     "text": [
      "At at ADP\n",
      "midnight midnight NOUN\n",
      "the the DET\n",
      "doorbell doorbell PROPN\n",
      "rang ring VERB\n",
      ", , PUNCT\n",
      "startling startle VERB\n",
      "him -PRON- PRON\n",
      "fearfully fearfully ADV\n",
      ". . PUNCT\n"
     ]
    }
   ],
   "source": [
    "text = 'At midnight the doorbell rang, startling him fearfully.'\n",
    "doc = nlp2(text)\n",
    "for token in doc: \n",
    "    print(token.text, token.lemma_, token.pos_)"
   ]
  },
  {
   "cell_type": "code",
   "execution_count": 9,
   "metadata": {
    "hidden": true
   },
   "outputs": [
    {
     "data": {
      "text/plain": [
       "6372"
      ]
     },
     "execution_count": 9,
     "metadata": {},
     "output_type": "execute_result"
    }
   ],
   "source": [
    "from pathlib import Path\n",
    "svg = spacy.displacy.render(doc, style=\"dep\", jupyter=False)\n",
    "output_path = Path(\"./results/word_counts/sentence.svg\")\n",
    "output_path.open(\"w\", encoding=\"utf-8\").write(svg)"
   ]
  },
  {
   "cell_type": "code",
   "execution_count": 13,
   "metadata": {
    "hidden": true
   },
   "outputs": [
    {
     "name": "stdout",
     "output_type": "stream",
     "text": [
      "\n",
      " \n",
      " SPACE\n",
      "Boss Boss PROPN\n",
      ", , PUNCT\n",
      "\" \" PUNCT\n",
      "cried cry VERB\n",
      "Schultz Schultz PROPN\n",
      ", , PUNCT\n",
      "as as SCONJ\n",
      "he -PRON- PRON\n",
      "entered enter VERB\n",
      "the the DET\n",
      "vile vile ADV\n",
      "- - PUNCT\n",
      "smelling smell VERB\n",
      "room room NOUN\n",
      "with with ADP\n",
      "his -PRON- DET\n",
      "young young ADJ\n",
      "victim victim NOUN\n",
      ", , PUNCT\n",
      "meet meet VERB\n",
      "my -PRON- DET\n",
      "\n",
      " \n",
      " SPACE\n",
      "friend friend NOUN\n",
      "Al Al PROPN\n",
      "Trever Trever PROPN\n",
      ", , PUNCT\n",
      "bes bes PROPN\n",
      "' ' PUNCT\n",
      "li'l li'l PROPN\n",
      "' ' PART\n",
      "sport sport NOUN\n",
      "up up ADP\n",
      "at at ADP\n",
      "Lawrence Lawrence PROPN\n",
      "– – PUNCT\n",
      "thas tha NOUN\n",
      "' ' PUNCT\n",
      "' ' CCONJ\n",
      "n n CCONJ\n",
      "Appleton Appleton PROPN\n",
      ", , PUNCT\n",
      "Wis. Wisconsin PROPN\n",
      ", , PUNCT\n",
      "y y NOUN\n",
      "' ' PUNCT\n",
      "know know VERB\n",
      ". . PUNCT\n",
      "Some some DET\n",
      "swell swell ADJ\n",
      "\n",
      " \n",
      " SPACE\n",
      "guy guy NOUN\n",
      ", , PUNCT\n",
      "too too ADV\n",
      "– – PUNCT\n",
      "'s 's PART\n",
      "father father NOUN\n",
      "'s be AUX\n",
      "a a DET\n",
      "big big ADJ\n",
      "corp'ration corp'ration PROPN\n",
      "lawyer lawyer NOUN\n",
      "up up ADP\n",
      "in in ADP\n",
      "his -PRON- DET\n",
      "burg burg NOUN\n",
      ", , PUNCT\n",
      "' ' PUNCT\n",
      "n n CCONJ\n",
      "' ' PROPN\n",
      "'s 's PART\n",
      "mother mother NOUN\n",
      "'s 's PART\n",
      "some some DET\n",
      "lit'ry lit'ry PROPN\n",
      "genius genius NOUN\n",
      ". . PUNCT\n",
      "\n",
      " \n",
      " SPACE\n",
      "He -PRON- PRON\n",
      "wants want VERB\n",
      "to to PART\n",
      "see see VERB\n",
      "life life NOUN\n",
      "as as SCONJ\n",
      "she -PRON- PRON\n",
      "is be AUX\n",
      "– – PUNCT\n",
      "wants want VERB\n",
      "to to PART\n",
      "know know VERB\n",
      "what what PRON\n",
      "the the DET\n",
      "real real ADJ\n",
      "lightnin lightnin NOUN\n",
      "' ' PUNCT\n",
      "juice juice NOUN\n",
      "tastes taste VERB\n",
      "like like SCONJ\n",
      "– – PUNCT\n",
      "so so ADV\n",
      "jus jus PROPN\n",
      "' ' PUNCT\n",
      "\n",
      " \n",
      " SPACE\n",
      "remember remember VERB\n",
      "he -PRON- PRON\n",
      "'s be AUX\n",
      "me -PRON- PRON\n",
      "friend friend VERB\n",
      "an an DET\n",
      "' ' PUNCT\n",
      "treat treat NOUN\n",
      "' ' PUNCT\n",
      "i -PRON- PRON\n",
      "m be VERB\n",
      "right right NOUN\n",
      ". . PUNCT\n",
      "\" \" PUNCT\n",
      "\n",
      " \n",
      " SPACE\n"
     ]
    }
   ],
   "source": [
    "doc = nlp(text_2)\n",
    "for token in doc: \n",
    "    print(token.text, token.lemma_, token.pos_)"
   ]
  },
  {
   "cell_type": "code",
   "execution_count": 12,
   "metadata": {
    "hidden": true
   },
   "outputs": [
    {
     "name": "stdout",
     "output_type": "stream",
     "text": [
      "\n",
      " \n",
      " SPACE\n",
      "Boss boss NOUN\n",
      ", , PUNCT\n",
      "\" \" PUNCT\n",
      "cried cry VERB\n",
      "Schultz Schultz PROPN\n",
      ", , PUNCT\n",
      "as as SCONJ\n",
      "he -PRON- PRON\n",
      "entered enter VERB\n",
      "the the DET\n",
      "vile vile ADV\n",
      "- - PUNCT\n",
      "smelling smell VERB\n",
      "room room NOUN\n",
      "with with ADP\n",
      "his -PRON- DET\n",
      "young young ADJ\n",
      "victim victim NOUN\n",
      ", , PUNCT\n",
      "meet meet VERB\n",
      "my -PRON- DET\n",
      "\n",
      " \n",
      " SPACE\n",
      "friend friend NOUN\n",
      "Al Al PROPN\n",
      "Trever Trever PROPN\n",
      ", , PUNCT\n",
      "bes bes PROPN\n",
      "' ' PART\n",
      "li'l li'l ADJ\n",
      "' ' PUNCT\n",
      "sport sport NOUN\n",
      "up up ADP\n",
      "at at ADP\n",
      "Lawrence Lawrence PROPN\n",
      "– – PUNCT\n",
      "thas thas PROPN\n",
      "' ' PART\n",
      "' ' CCONJ\n",
      "n n CCONJ\n",
      "Appleton Appleton PROPN\n",
      ", , PUNCT\n",
      "Wis. Wisconsin PROPN\n",
      ", , PUNCT\n",
      "y y PROPN\n",
      "' ' PUNCT\n",
      "know know VERB\n",
      ". . PUNCT\n",
      "Some some DET\n",
      "swell swell VERB\n",
      "\n",
      " \n",
      " SPACE\n",
      "guy guy NOUN\n",
      ", , PUNCT\n",
      "too too ADV\n",
      "– – PUNCT\n",
      "'s 's PART\n",
      "father father NOUN\n",
      "'s be AUX\n",
      "a a DET\n",
      "big big ADJ\n",
      "corp'ration corp'ration PROPN\n",
      "lawyer lawyer NOUN\n",
      "up up ADP\n",
      "in in ADP\n",
      "his -PRON- DET\n",
      "burg burg NOUN\n",
      ", , PUNCT\n",
      "' ' PUNCT\n",
      "n n CCONJ\n",
      "' ' PUNCT\n",
      "'s 's PART\n",
      "mother mother NOUN\n",
      "'s be AUX\n",
      "some some DET\n",
      "lit'ry lit'ry NOUN\n",
      "genius genius NOUN\n",
      ". . PUNCT\n",
      "\n",
      " \n",
      " SPACE\n",
      "He -PRON- PRON\n",
      "wants want VERB\n",
      "to to PART\n",
      "see see VERB\n",
      "life life NOUN\n",
      "as as SCONJ\n",
      "she -PRON- PRON\n",
      "is be AUX\n",
      "– – PUNCT\n",
      "wants want VERB\n",
      "to to PART\n",
      "know know VERB\n",
      "what what PRON\n",
      "the the DET\n",
      "real real ADJ\n",
      "lightnin lightnin PROPN\n",
      "' ' PART\n",
      "juice juice NOUN\n",
      "tastes taste NOUN\n",
      "like like VERB\n",
      "– – PUNCT\n",
      "so so ADV\n",
      "jus jus NOUN\n",
      "' ' PUNCT\n",
      "\n",
      " \n",
      " SPACE\n",
      "remember remember VERB\n",
      "he -PRON- PRON\n",
      "'s be AUX\n",
      "me -PRON- PRON\n",
      "friend friend NOUN\n",
      "an an DET\n",
      "' ' PUNCT\n",
      "treat treat NOUN\n",
      "' ' PUNCT\n",
      "i -PRON- PRON\n",
      "m be VERB\n",
      "right right NOUN\n",
      ". . PUNCT\n",
      "\" \" PUNCT\n",
      "\n",
      " \n",
      " SPACE\n"
     ]
    }
   ],
   "source": [
    "doc = nlp2(text_2)\n",
    "for token in doc: \n",
    "    print(token.text, token.lemma_, token.pos_)"
   ]
  },
  {
   "cell_type": "markdown",
   "metadata": {
    "hidden": true
   },
   "source": [
    "## Word Counts with En Lg"
   ]
  },
  {
   "cell_type": "code",
   "execution_count": null,
   "metadata": {
    "hidden": true
   },
   "outputs": [],
   "source": [
    "doc = nlp2(raw_text)"
   ]
  },
  {
   "cell_type": "code",
   "execution_count": 16,
   "metadata": {
    "hidden": true
   },
   "outputs": [],
   "source": [
    "\n",
    "word_count_dict = {}\n",
    "word_count_dict['NOUN'] = {}\n",
    "word_count_dict['PROPN'] = {}\n",
    "word_count_dict['ADJ'] = {}\n",
    "word_count_dict['VERB'] = {}\n",
    "\n",
    "for token in doc: \n",
    "    part_of_speech = token.pos_\n",
    "    if part_of_speech in ['NOUN', 'PROPN', 'ADJ', 'VERB'] and token.is_stop == False:\n",
    "        word_lemma = token.lemma_\n",
    "        current_count = word_count_dict[part_of_speech].get(word_lemma, 0)\n",
    "        current_count += 1\n",
    "        word_count_dict[part_of_speech][word_lemma] = current_count"
   ]
  },
  {
   "cell_type": "code",
   "execution_count": 17,
   "metadata": {
    "hidden": true
   },
   "outputs": [
    {
     "data": {
      "text/plain": [
       "{'NOUN': {'friend': 13,\n",
       "  'college': 21,\n",
       "  'life': 39,\n",
       "  'terror': 6,\n",
       "  'manner': 3,\n",
       "  'disappearance': 5,\n",
       "  'nature': 6,\n",
       "  'work': 18,\n",
       "  'form': 6,\n",
       "  'year': 19,\n",
       "  'course': 3,\n",
       "  'wonder': 2,\n",
       "  'diabolism': 1,\n",
       "  'experiment': 24,\n",
       "  'companion': 3,\n",
       "  'spell': 1,\n",
       "  'fear': 13,\n",
       "  'memory': 4,\n",
       "  'possibility': 5,\n",
       "  'reality': 3,\n",
       "  'incident': 1,\n",
       "  'acquaintance': 1,\n",
       "  'shock': 2,\n",
       "  'reluctance': 1,\n",
       "  'theory': 9,\n",
       "  'death': 16,\n",
       "  'view': 2,\n",
       "  'faculty': 4,\n",
       "  'student': 6,\n",
       "  'mean': 3,\n",
       "  'machinery': 1,\n",
       "  'mankind': 1,\n",
       "  'action': 5,\n",
       "  'failure': 7,\n",
       "  'process': 6,\n",
       "  'solution': 22,\n",
       "  'number': 6,\n",
       "  'rabbit': 2,\n",
       "  'pig': 4,\n",
       "  'cat': 1,\n",
       "  'dog': 1,\n",
       "  'monkey': 1,\n",
       "  'nuisance': 2,\n",
       "  'time': 20,\n",
       "  'sign': 4,\n",
       "  'animal': 7,\n",
       "  'case': 11,\n",
       "  'perfection': 1,\n",
       "  'lifetime': 1,\n",
       "  'research': 6,\n",
       "  'specie': 1,\n",
       "  'subject': 1,\n",
       "  'progress': 1,\n",
       "  'conflict': 1,\n",
       "  'authority': 2,\n",
       "  'dignitary': 1,\n",
       "  'behalf': 1,\n",
       "  'stricken': 1,\n",
       "  'resident': 1,\n",
       "  'pursuit': 3,\n",
       "  'ramification': 1,\n",
       "  'corollary': 1,\n",
       "  'soul': 7,\n",
       "  'myth': 2,\n",
       "  'reanimation': 13,\n",
       "  'dead': 2,\n",
       "  'condition': 3,\n",
       "  'tissue': 7,\n",
       "  'decomposition': 2,\n",
       "  'corpse': 14,\n",
       "  'organ': 2,\n",
       "  'measure': 1,\n",
       "  'fashion': 3,\n",
       "  'deterioration': 2,\n",
       "  'brain': 9,\n",
       "  'cell': 10,\n",
       "  'period': 3,\n",
       "  'hope': 3,\n",
       "  'reagent': 1,\n",
       "  'vitality': 3,\n",
       "  'advent': 1,\n",
       "  'motion': 9,\n",
       "  'freshness': 3,\n",
       "  'specimen': 34,\n",
       "  'blood': 6,\n",
       "  'extinction': 1,\n",
       "  'circumstance': 7,\n",
       "  'professor': 4,\n",
       "  'matter': 6,\n",
       "  'resolution': 1,\n",
       "  'body': 49,\n",
       "  'way': 9,\n",
       "  'morgue': 2,\n",
       "  'negro': 3,\n",
       "  'youth': 7,\n",
       "  'feature': 1,\n",
       "  'hair': 2,\n",
       "  'eye': 17,\n",
       "  'voice': 5,\n",
       "  'merit': 1,\n",
       "  'potter': 9,\n",
       "  'field': 15,\n",
       "  'thing': 53,\n",
       "  'assistant': 6,\n",
       "  'decision': 2,\n",
       "  'source': 4,\n",
       "  'place': 6,\n",
       "  'farmhouse': 5,\n",
       "  'ground': 5,\n",
       "  'floor': 3,\n",
       "  'operating': 2,\n",
       "  'room': 12,\n",
       "  'laboratory': 18,\n",
       "  'curtain': 1,\n",
       "  'midnight': 6,\n",
       "  'doing': 1,\n",
       "  'road': 1,\n",
       "  'sight': 3,\n",
       "  'house': 16,\n",
       "  'precaution': 2,\n",
       "  'rumour': 3,\n",
       "  'light': 8,\n",
       "  'roamer': 1,\n",
       "  'disaster': 1,\n",
       "  'enterprise': 1,\n",
       "  'chemical': 2,\n",
       "  'discovery': 3,\n",
       "  'haunt': 1,\n",
       "  'science': 2,\n",
       "  'material': 6,\n",
       "  'save': 1,\n",
       "  'spade': 4,\n",
       "  'pick': 1,\n",
       "  'burial': 3,\n",
       "  'cellar': 10,\n",
       "  'incinerator': 4,\n",
       "  'apparatus': 1,\n",
       "  'guinea': 3,\n",
       "  'clandestine': 1,\n",
       "  'boarding': 1,\n",
       "  'notice': 2,\n",
       "  'ghoul': 1,\n",
       "  'quality': 2,\n",
       "  'preservation': 2,\n",
       "  'disease': 2,\n",
       "  'accident': 3,\n",
       "  'victim': 5,\n",
       "  'week': 3,\n",
       "  'hospital': 5,\n",
       "  'interest': 6,\n",
       "  'suspicion': 2,\n",
       "  'choice': 1,\n",
       "  'summer': 6,\n",
       "  'school': 5,\n",
       "  'class': 3,\n",
       "  'end': 5,\n",
       "  'luck': 4,\n",
       "  'day': 10,\n",
       "  'workman': 3,\n",
       "  'morning': 7,\n",
       "  'town': 9,\n",
       "  'expense': 1,\n",
       "  'delay': 3,\n",
       "  'embalming': 6,\n",
       "  'afternoon': 5,\n",
       "  'grave': 10,\n",
       "  'task': 1,\n",
       "  'hour': 7,\n",
       "  'horror': 15,\n",
       "  'graveyard': 3,\n",
       "  'experience': 6,\n",
       "  'oil': 1,\n",
       "  'lantern': 2,\n",
       "  'torch': 1,\n",
       "  'contrivance': 1,\n",
       "  'today': 1,\n",
       "  'artist': 1,\n",
       "  'scientist': 3,\n",
       "  'wood': 5,\n",
       "  'pine': 1,\n",
       "  'box': 6,\n",
       "  'lid': 2,\n",
       "  'content': 2,\n",
       "  'spot': 1,\n",
       "  'appearance': 1,\n",
       "  'affair': 4,\n",
       "  'face': 9,\n",
       "  'trophy': 1,\n",
       "  'trace': 3,\n",
       "  'visit': 2,\n",
       "  'shovelful': 1,\n",
       "  'earth': 4,\n",
       "  'canvas': 1,\n",
       "  'sack': 1,\n",
       "  'dissecting': 3,\n",
       "  'table': 4,\n",
       "  'acetylene': 2,\n",
       "  'lamp': 5,\n",
       "  'type': 5,\n",
       "  'subtlety': 1,\n",
       "  'sort': 4,\n",
       "  'test': 5,\n",
       "  'doubt': 3,\n",
       "  'score': 2,\n",
       "  'man': 28,\n",
       "  'kind': 5,\n",
       "  'calculation': 2,\n",
       "  'use': 6,\n",
       "  'tension': 1,\n",
       "  'chance': 3,\n",
       "  'success': 4,\n",
       "  'result': 15,\n",
       "  'animation': 4,\n",
       "  'mind': 8,\n",
       "  'impulse': 2,\n",
       "  'creature': 3,\n",
       "  'space': 1,\n",
       "  'notion': 1,\n",
       "  'awe': 1,\n",
       "  'secret': 5,\n",
       "  'sphere': 1,\n",
       "  'materialism': 1,\n",
       "  'quantity': 1,\n",
       "  'fluid': 1,\n",
       "  'vein': 5,\n",
       "  'arm': 8,\n",
       "  'incision': 1,\n",
       "  'waiting': 1,\n",
       "  'stethoscope': 1,\n",
       "  'three-': 1,\n",
       "  'quarter': 2,\n",
       "  'opportunity': 1,\n",
       "  'change': 2,\n",
       "  'formula': 2,\n",
       "  'prize': 3,\n",
       "  'dawn': 4,\n",
       "  'lock': 1,\n",
       "  'risk': 1,\n",
       "  'night': 17,\n",
       "  'guest': 1,\n",
       "  'slab': 1,\n",
       "  'dark': 4,\n",
       "  'energy': 2,\n",
       "  'mixing': 1,\n",
       "  'weighing': 1,\n",
       "  'care': 6,\n",
       "  'event': 2,\n",
       "  'tube': 2,\n",
       "  'alcohol': 1,\n",
       "  'blast': 1,\n",
       "  'burner': 2,\n",
       "  'edifice': 2,\n",
       "  'pitch': 1,\n",
       "  'daemoniac': 3,\n",
       "  'succession': 2,\n",
       "  'cry': 3,\n",
       "  'chaos': 1,\n",
       "  'sound': 14,\n",
       "  'pit': 1,\n",
       "  'agony': 1,\n",
       "  'cacophony': 1,\n",
       "  'despair': 1,\n",
       "  'thought': 4,\n",
       "  'employment': 1,\n",
       "  'window': 3,\n",
       "  'retort': 1,\n",
       "  'abyss': 2,\n",
       "  'outskirt': 1,\n",
       "  'semblance': 1,\n",
       "  'restraint': 1,\n",
       "  'reveller': 1,\n",
       "  'debauch': 1,\n",
       "  'gas': 1,\n",
       "  'plan': 1,\n",
       "  'investigation': 4,\n",
       "  'item': 3,\n",
       "  'paper': 1,\n",
       "  'heap': 1,\n",
       "  'ashe': 2,\n",
       "  'attempt': 3,\n",
       "  'clawing': 1,\n",
       "  'mould': 2,\n",
       "  'shoulder': 2,\n",
       "  'footstep': 1,\n",
       "  'hall': 2,\n",
       "  'typhoid': 2,\n",
       "  'scourge': 2,\n",
       "  'bat': 1,\n",
       "  'wing': 1,\n",
       "  'pile': 1,\n",
       "  'coffin': 2,\n",
       "  'tomb': 7,\n",
       "  'notoriety': 1,\n",
       "  'revivification': 1,\n",
       "  'slaughter': 1,\n",
       "  'order': 4,\n",
       "  'dean': 3,\n",
       "  'boarding-': 1,\n",
       "  'occasion': 4,\n",
       "  'elixir': 2,\n",
       "  'extent': 2,\n",
       "  'delirium': 2,\n",
       "  'nerve': 7,\n",
       "  'sensation': 3,\n",
       "  'attribute': 1,\n",
       "  'burning': 1,\n",
       "  'zeal': 3,\n",
       "  'plea': 2,\n",
       "  'verdict': 1,\n",
       "  'leader': 5,\n",
       "  'vagary': 1,\n",
       "  'enthusiast': 2,\n",
       "  'hint': 1,\n",
       "  'power': 2,\n",
       "  'mishap': 2,\n",
       "  'term': 1,\n",
       "  'dispute': 1,\n",
       "  'credit': 1,\n",
       "  'point': 4,\n",
       "  'courtesy': 1,\n",
       "  'facility': 1,\n",
       "  'university': 3,\n",
       "  'tradition': 1,\n",
       "  'elder': 1,\n",
       "  'denial': 1,\n",
       "  'temperament': 1,\n",
       "  'maturity': 1,\n",
       "  'limitation': 1,\n",
       "  'doctor': 5,\n",
       "  'product': 2,\n",
       "  'generation': 1,\n",
       "  'puritanism': 1,\n",
       "  'perspective': 1,\n",
       "  'age': 1,\n",
       "  'charity': 1,\n",
       "  'character': 2,\n",
       "  'vice': 1,\n",
       "  'timidity': 2,\n",
       "  'ridicule': 1,\n",
       "  'sin': 2,\n",
       "  'sabbatarianism': 1,\n",
       "  'legislation': 1,\n",
       "  'acquirement': 1,\n",
       "  'patience': 1,\n",
       "  'colleague': 2,\n",
       "  'resentment': 1,\n",
       "  'desire': 1,\n",
       "  'worthy': 1,\n",
       "  'dream': 2,\n",
       "  'revenge': 1,\n",
       "  'triumph': 3,\n",
       "  'forgiveness': 1,\n",
       "  'nightmare': 2,\n",
       "  'cavern': 2,\n",
       "  'beginning': 2,\n",
       "  'fury': 1,\n",
       "  'physician': 7,\n",
       "  'degree': 2,\n",
       "  'service': 2,\n",
       "  'situation': 3,\n",
       "  'management': 1,\n",
       "  'undertaker': 1,\n",
       "  'cemetery': 2,\n",
       "  'effect': 2,\n",
       "  'irony': 1,\n",
       "  'strain': 2,\n",
       "  'brood': 1,\n",
       "  'enemy': 1,\n",
       "  'duty': 2,\n",
       "  'plague': 4,\n",
       "  'skill': 2,\n",
       "  'danger': 3,\n",
       "  'hopelessness': 1,\n",
       "  'month': 1,\n",
       "  'hero': 1,\n",
       "  'fame': 3,\n",
       "  'fatigue': 1,\n",
       "  'exhaustion': 1,\n",
       "  'admiration': 2,\n",
       "  'fortitude': 1,\n",
       "  'foe': 1,\n",
       "  'truth': 2,\n",
       "  'doctrine': 1,\n",
       "  'advantage': 1,\n",
       "  'disorganisation': 1,\n",
       "  'health': 1,\n",
       "  'regulation': 1,\n",
       "  'presence': 1,\n",
       "  'modification': 3,\n",
       "  'ceiling': 1,\n",
       "  'look': 1,\n",
       "  'inertness': 1,\n",
       "  'air': 2,\n",
       "  'advisability': 1,\n",
       "  'misuse': 1,\n",
       "  'peak': 1,\n",
       "  'epidemic': 1,\n",
       "  '14th': 1,\n",
       "  'funeral': 1,\n",
       "  '15th': 1,\n",
       "  'wreath': 1,\n",
       "  'tribute': 1,\n",
       "  'citizen': 1,\n",
       "  'municipality': 1,\n",
       "  'benefactor': 2,\n",
       "  'entombment': 1,\n",
       "  'bar': 4,\n",
       "  'opponent': 1,\n",
       "  'rest': 1,\n",
       "  'reference': 1,\n",
       "  'evening': 3,\n",
       "  'landlady': 1,\n",
       "  'husband': 2,\n",
       "  'matron': 1,\n",
       "  'a.m.': 1,\n",
       "  'door': 8,\n",
       "  'carpet': 1,\n",
       "  'remnant': 4,\n",
       "  'bottle': 1,\n",
       "  'instrument': 1,\n",
       "  'assailant': 1,\n",
       "  'leap': 1,\n",
       "  'story': 1,\n",
       "  'lawn': 1,\n",
       "  'garment': 1,\n",
       "  'consciousness': 5,\n",
       "  'stranger': 4,\n",
       "  'analysis': 1,\n",
       "  'transmission': 1,\n",
       "  'germ': 1,\n",
       "  'fireplace': 1,\n",
       "  'police': 13,\n",
       "  'ignorance': 1,\n",
       "  'identity': 1,\n",
       "  'downtown': 1,\n",
       "  'location': 1,\n",
       "  'scene': 4,\n",
       "  'killing': 1,\n",
       "  'watchman': 1,\n",
       "  'description': 1,\n",
       "  'agency': 1,\n",
       "  'deed': 3,\n",
       "  'manager': 1,\n",
       "  'circus': 1,\n",
       "  'beast': 1,\n",
       "  'cage': 1,\n",
       "  'trail': 3,\n",
       "  'pool': 1,\n",
       "  'concrete': 1,\n",
       "  'gate': 1,\n",
       "  'devil': 1,\n",
       "  'roof': 1,\n",
       "  'madness': 2,\n",
       "  'wind': 2,\n",
       "  'curse': 2,\n",
       "  'daemon': 1,\n",
       "  'wake': 1,\n",
       "  'monster': 6,\n",
       "  'person': 2,\n",
       "  'ape': 1,\n",
       "  'fiend': 3,\n",
       "  'home': 2,\n",
       "  'band': 1,\n",
       "  'searcher': 2,\n",
       "  'campus': 1,\n",
       "  'quest': 4,\n",
       "  'touch': 3,\n",
       "  'volunteer': 1,\n",
       "  'telephone': 1,\n",
       "  'station': 1,\n",
       "  'district': 2,\n",
       "  'scratching': 1,\n",
       "  'net': 1,\n",
       "  'account': 1,\n",
       "  'alarm': 1,\n",
       "  'capture': 1,\n",
       "  'casualty': 1,\n",
       "  'bullet': 1,\n",
       "  'excitement': 1,\n",
       "  'loathing': 1,\n",
       "  'savagery': 1,\n",
       "  'wound': 1,\n",
       "  'asylum': 4,\n",
       "  'head': 10,\n",
       "  'wall': 7,\n",
       "  'mocking': 1,\n",
       "  'resemblance': 1,\n",
       "  'self': 1,\n",
       "  'martyr': 1,\n",
       "  'disgust': 2,\n",
       "  'tonight': 1,\n",
       "  'bandage': 1,\n",
       "  'shot': 3,\n",
       "  'revolver': 6,\n",
       "  'suddenness': 1,\n",
       "  'instance': 1,\n",
       "  'principle': 1,\n",
       "  'selection': 1,\n",
       "  'office': 1,\n",
       "  'poverty': 1,\n",
       "  'practitioner': 1,\n",
       "  'reticence': 1,\n",
       "  'cause': 1,\n",
       "  'requirement': 1,\n",
       "  'surface': 1,\n",
       "  'aim': 1,\n",
       "  'moment': 8,\n",
       "  'essence': 1,\n",
       "  'existence': 4,\n",
       "  'realm': 1,\n",
       "  'unknown': 1,\n",
       "  'clay': 2,\n",
       "  'human': 3,\n",
       "  'interment': 4,\n",
       "  'opening': 1,\n",
       "  'company': 1,\n",
       "  'influence': 2,\n",
       "  'practice': 5,\n",
       "  'factory': 4,\n",
       "  'seat': 1,\n",
       "  'employee': 1,\n",
       "  'patient': 3,\n",
       "  'run': 1,\n",
       "  'cottage': 4,\n",
       "  'neighbour': 1,\n",
       "  'stretch': 1,\n",
       "  'meadow': 3,\n",
       "  'land': 1,\n",
       "  'neck': 3,\n",
       "  'forest': 2,\n",
       "  'north': 1,\n",
       "  'distance': 1,\n",
       "  'people': 1,\n",
       "  'supply': 4,\n",
       "  'walk': 2,\n",
       "  'bore': 1,\n",
       "  'burden': 1,\n",
       "  'mill': 2,\n",
       "  'hand': 7,\n",
       "  'inclination': 1,\n",
       "  'need': 2,\n",
       "  'clash': 1,\n",
       "  'affray': 1,\n",
       "  'plenty': 1,\n",
       "  'obstacle': 1,\n",
       "  'being': 1,\n",
       "  'problem': 2,\n",
       "  'vintage': 1,\n",
       "  'recollection': 1,\n",
       "  'session': 2,\n",
       "  'menace': 1,\n",
       "  'automaton': 2,\n",
       "  'respect': 1,\n",
       "  'delusion': 1,\n",
       "  'fact': 3,\n",
       "  'fate': 3,\n",
       "  'expression': 1,\n",
       "  'track': 1,\n",
       "  'spirit': 2,\n",
       "  'sport': 1,\n",
       "  'boxing': 1,\n",
       "  'bout': 1,\n",
       "  'worker': 1,\n",
       "  'talent': 1,\n",
       "  'grade': 1,\n",
       "  'winter': 1,\n",
       "  'match': 2,\n",
       "  'entreaty': 1,\n",
       "  'barn': 2,\n",
       "  'crowd': 2,\n",
       "  'foreigner': 1,\n",
       "  'nose': 1,\n",
       "  'examination': 1,\n",
       "  'gorilla': 1,\n",
       "  'leg': 2,\n",
       "  'pounding': 1,\n",
       "  'moon': 3,\n",
       "  'world': 4,\n",
       "  'law': 1,\n",
       "  'spite': 1,\n",
       "  'shudder': 1,\n",
       "  'purpose': 1,\n",
       "  'moonlight': 1,\n",
       "  'landscape': 1,\n",
       "  'street': 2,\n",
       "  'rear': 1,\n",
       "  'stair': 2,\n",
       "  'trip': 1,\n",
       "  'patrolman': 1,\n",
       "  'section': 2,\n",
       "  'leave': 2,\n",
       "  'vine': 2,\n",
       "  'fight': 3,\n",
       "  'worry': 1,\n",
       "  'woman': 3,\n",
       "  'child': 2,\n",
       "  'lad': 1,\n",
       "  'dinner': 1,\n",
       "  'symptom': 1,\n",
       "  'heart': 3,\n",
       "  'hysteria': 2,\n",
       "  'boy': 1,\n",
       "  'peasant': 1,\n",
       "  'omen': 1,\n",
       "  \"o'clock\": 1,\n",
       "  'effort': 1,\n",
       "  'stiletto': 1,\n",
       "  'shriek': 2,\n",
       "  'oath': 1,\n",
       "  'vengeance': 1,\n",
       "  'affliction': 1,\n",
       "  'fellow': 2,\n",
       "  'talk': 1,\n",
       "  'family': 2,\n",
       "  'force': 2,\n",
       "  'mess': 1,\n",
       "  'prison': 1,\n",
       "  'clock': 1,\n",
       "  'shade': 1,\n",
       "  'rattling': 1,\n",
       "  'rap': 1,\n",
       "  'dressing': 1,\n",
       "  'gown': 1,\n",
       "  'slipper': 1,\n",
       "  'flashlight': 1,\n",
       "  'fool': 1,\n",
       "  'tiptoe': 1,\n",
       "  'isolation': 1,\n",
       "  'chamber': 2,\n",
       "  'visitor': 2,\n",
       "  'policeman': 1,\n",
       "  'ink': 1,\n",
       "  'apparition': 1,\n",
       "  'four': 1,\n",
       "  'bit': 1,\n",
       "  'tooth': 1,\n",
       "  'snow': 1,\n",
       "  'object': 3,\n",
       "  'scream': 3,\n",
       "  'companionship': 2,\n",
       "  'occurrence': 2,\n",
       "  'associate': 2,\n",
       "  'routine': 1,\n",
       "  'village': 1,\n",
       "  'study': 3,\n",
       "  'phenomenon': 2,\n",
       "  'cessation': 1,\n",
       "  'injection': 2,\n",
       "  'structure': 1,\n",
       "  'organism': 3,\n",
       "  'mode': 1,\n",
       "  'repetition': 1,\n",
       "  'flash': 1,\n",
       "  'hardening': 1,\n",
       "  'fanaticism': 1,\n",
       "  'pressure': 1,\n",
       "  'extreme': 1,\n",
       "  'lump': 1,\n",
       "  'unconsciousness': 1,\n",
       "  'monstrosity': 3,\n",
       "  'reason': 8,\n",
       "  'perforce': 1,\n",
       "  'anxiety': 1,\n",
       "  'half': 1,\n",
       "  'living': 4,\n",
       "  'physique': 2,\n",
       "  'parent': 1,\n",
       "  'return': 3,\n",
       "  'state': 2,\n",
       "  'elation': 1,\n",
       "  'likelihood': 1,\n",
       "  'approach': 1,\n",
       "  'angle': 1,\n",
       "  'compound': 7,\n",
       "  'detail': 1,\n",
       "  'staleness': 1,\n",
       "  'future': 1,\n",
       "  'decay': 2,\n",
       "  'revival': 1,\n",
       "  'landmark': 1,\n",
       "  'spectacle': 2,\n",
       "  'train': 1,\n",
       "  'business': 1,\n",
       "  'traveller': 1,\n",
       "  'stimulant': 1,\n",
       "  'heaven': 1,\n",
       "  'gift': 1,\n",
       "  'conversation': 1,\n",
       "  'search': 1,\n",
       "  'pocket': 1,\n",
       "  'inquiry': 1,\n",
       "  'strip': 1,\n",
       "  'wrist': 3,\n",
       "  'arrival': 2,\n",
       "  'trouble': 2,\n",
       "  'spark': 1,\n",
       "  'figure': 3,\n",
       "  'frame': 1,\n",
       "  'assurance': 2,\n",
       "  'step': 2,\n",
       "  'intricacy': 2,\n",
       "  'drug': 1,\n",
       "  'needle': 3,\n",
       "  'system': 4,\n",
       "  'relaxation': 1,\n",
       "  'tremor': 1,\n",
       "  'limb': 1,\n",
       "  'pillow': 1,\n",
       "  'lifelessness': 1,\n",
       "  'feat': 1,\n",
       "  'wild': 1,\n",
       "  'suspense': 1,\n",
       "  'lip': 3,\n",
       "  'speech': 1,\n",
       "  'materialist': 1,\n",
       "  'working': 1,\n",
       "  'revelation': 1,\n",
       "  'gulf': 1,\n",
       "  'barrier': 1,\n",
       "  'faith': 1,\n",
       "  'forefather': 1,\n",
       "  'expectation': 1,\n",
       "  'colour': 1,\n",
       "  'cheek': 1,\n",
       "  'chalk': 1,\n",
       "  'stubble': 1,\n",
       "  'beard': 1,\n",
       "  'pulse': 1,\n",
       "  'mist': 1,\n",
       "  'mirror': 1,\n",
       "  'mouth': 2,\n",
       "  'breathing': 1,\n",
       "  'chest': 1,\n",
       "  'eyelid': 1,\n",
       "  'quivering': 1,\n",
       "  'whim': 1,\n",
       "  'question': 2,\n",
       "  'ear': 1,\n",
       "  'syllable': 1,\n",
       "  'phrase': 1,\n",
       "  'sense': 2,\n",
       "  'relevancy': 1,\n",
       "  'conviction': 1,\n",
       "  'goal': 1,\n",
       "  'word': 1,\n",
       "  'mission': 1,\n",
       "  'fortune': 1,\n",
       "  'writhing': 1,\n",
       "  'struggle': 4,\n",
       "  'dissolution': 1,\n",
       "  'tow': 1,\n",
       "  'print': 2,\n",
       "  'battlefield': 2,\n",
       "  'nausea': 1,\n",
       "  'shadow': 4,\n",
       "  'rank': 1,\n",
       "  'regiment': 1,\n",
       "  'government': 1,\n",
       "  'army': 2,\n",
       "  'initiative': 1,\n",
       "  'enlistment': 1,\n",
       "  'specialist': 1,\n",
       "  'surgeon': 4,\n",
       "  'war': 2,\n",
       "  'medicine': 1,\n",
       "  'commission': 2,\n",
       "  'persuasion': 1,\n",
       "  'capacity': 1,\n",
       "  'battle': 2,\n",
       "  'safety': 1,\n",
       "  'civilisation': 1,\n",
       "  'ice': 2,\n",
       "  'intellectual': 1,\n",
       "  'machine': 2,\n",
       "  'enthusiasm': 1,\n",
       "  'censure': 1,\n",
       "  'neutrality': 1,\n",
       "  'exterior': 1,\n",
       "  'branch': 1,\n",
       "  'stage': 1,\n",
       "  'dismemberment': 1,\n",
       "  'clientele': 1,\n",
       "  'stimulus': 1,\n",
       "  'eventuality': 1,\n",
       "  'stolidity': 1,\n",
       "  'expedient': 1,\n",
       "  'snatching': 1,\n",
       "  'attitude': 1,\n",
       "  'boldness': 1,\n",
       "  'method': 3,\n",
       "  'cost': 1,\n",
       "  'tongue': 1,\n",
       "  'curiosity': 2,\n",
       "  'charnel': 1,\n",
       "  'picturesqueness': 1,\n",
       "  'addiction': 1,\n",
       "  'repellently': 1,\n",
       "  'fright': 1,\n",
       "  'intellectuality': 1,\n",
       "  'baudelaire': 1,\n",
       "  'crime': 1,\n",
       "  'climax': 1,\n",
       "  'part': 4,\n",
       "  'idea': 2,\n",
       "  'property': 1,\n",
       "  'egg': 1,\n",
       "  'reptile': 3,\n",
       "  'cord': 1,\n",
       "  'centre': 1,\n",
       "  'relation': 1,\n",
       "  'flesh': 2,\n",
       "  'line': 1,\n",
       "  'treatment': 1,\n",
       "  'maiming': 1,\n",
       "  'butcher': 1,\n",
       "  'midst': 2,\n",
       "  'ware': 1,\n",
       "  'levity': 1,\n",
       "  'marvel': 1,\n",
       "  'surgery': 1,\n",
       "  'soldier': 1,\n",
       "  'delight': 1,\n",
       "  'explanation': 1,\n",
       "  'audience': 1,\n",
       "  'embryo': 1,\n",
       "  'organless': 1,\n",
       "  'fragment': 3,\n",
       "  'chief': 1,\n",
       "  'activity': 2,\n",
       "  'corner': 4,\n",
       "  'vat': 3,\n",
       "  'mentality': 1,\n",
       "  'officer': 3,\n",
       "  'past': 1,\n",
       "  'division': 1,\n",
       "  'sector': 1,\n",
       "  'news': 1,\n",
       "  'fighting': 1,\n",
       "  'headquarters': 1,\n",
       "  'aëroplane': 2,\n",
       "  'destination': 1,\n",
       "  'fall': 1,\n",
       "  'wreck': 1,\n",
       "  'scholar': 1,\n",
       "  'artery': 1,\n",
       "  'aperture': 2,\n",
       "  'skin': 1,\n",
       "  'uniform': 2,\n",
       "  'trunk': 4,\n",
       "  'reanimating': 1,\n",
       "  'debris': 1,\n",
       "  'ankle': 1,\n",
       "  'abnormality': 1,\n",
       "  'spectre': 1,\n",
       "  'flame': 1,\n",
       "  'twitching': 1,\n",
       "  'proof': 1,\n",
       "  'opinion': 1,\n",
       "  'personality': 1,\n",
       "  'demonstration': 1,\n",
       "  'mystery': 1,\n",
       "  'category': 1,\n",
       "  'muscle': 1,\n",
       "  'gesture': 1,\n",
       "  'desperation': 2,\n",
       "  'act': 1,\n",
       "  'hallucination': 2,\n",
       "  'instant': 1,\n",
       "  'destruction': 1,\n",
       "  'building': 2,\n",
       "  'cataclysm': 1,\n",
       "  'shell': 3,\n",
       "  'fire': 1,\n",
       "  'survivor': 2,\n",
       "  'groping': 1,\n",
       "  'timbre': 1,\n",
       "  'message': 1,\n",
       "  'sake': 1,\n",
       "  'credence': 1,\n",
       "  'secrecy': 1,\n",
       "  'catastrophe': 1,\n",
       "  'element': 1,\n",
       "  'labour': 1,\n",
       "  'abundance': 1,\n",
       "  'masse': 1,\n",
       "  'undoing': 1,\n",
       "  'alkaloid': 1,\n",
       "  'appraisal': 1,\n",
       "  'People': 1,\n",
       "  'glance': 2,\n",
       "  'basis': 1,\n",
       "  'furtiveness': 1,\n",
       "  'dread': 1,\n",
       "  'nervousness': 1,\n",
       "  'mark': 1,\n",
       "  'madhouse': 1,\n",
       "  'mania': 1,\n",
       "  'apprehension': 1,\n",
       "  'harm': 1,\n",
       "  'whereabouts': 1,\n",
       "  'conjecture': 1,\n",
       "  'elegance': 1,\n",
       "  'burying': 2,\n",
       "  'sub-': 1,\n",
       "  'disposal': 1,\n",
       "  'mockery': 1,\n",
       "  'amusement': 1,\n",
       "  'owner': 1,\n",
       "  'excavation': 1,\n",
       "  'masonry': 2,\n",
       "  'sepulchre': 1,\n",
       "  'nitrous': 1,\n",
       "  'mattock': 1,\n",
       "  'thrill': 1,\n",
       "  'uncovering': 1,\n",
       "  'fibre': 1,\n",
       "  'decadence': 1,\n",
       "  'aspect': 1,\n",
       "  'newspaper': 1,\n",
       "  'headline': 1,\n",
       "  'page': 1,\n",
       "  'titan': 1,\n",
       "  'claw': 1,\n",
       "  'mile': 1,\n",
       "  'neighbourhood': 1,\n",
       "  'attendant': 2,\n",
       "  'beauty': 1,\n",
       "  'superintendent': 1,\n",
       "  'wax': 4,\n",
       "  'glass': 1,\n",
       "  'repellent': 1,\n",
       "  'hulk': 1,\n",
       "  'malady': 1,\n",
       "  'speaker': 1,\n",
       "  'custody': 1,\n",
       "  'signal': 1,\n",
       "  'riot': 1,\n",
       "  'liberation': 1,\n",
       "  'help': 1,\n",
       "  'charge': 1,\n",
       "  'servant': 2,\n",
       "  'attic': 1,\n",
       "  'bell': 1,\n",
       "  'wagon': 1,\n",
       "  'group': 1,\n",
       "  'hallway': 1,\n",
       "  'jerky': 1,\n",
       "  'tread': 1,\n",
       "  'foot': 1,\n",
       "  'address': 1,\n",
       "  'inscription': 1,\n",
       "  'finish': 1,\n",
       "  'particular': 1,\n",
       "  'lie': 1,\n",
       "  'electricity': 1,\n",
       "  'plaster': 2,\n",
       "  'bowel': 1,\n",
       "  'phosphorescence': 1,\n",
       "  'horde': 2,\n",
       "  'insanity': 1,\n",
       "  'outline': 1,\n",
       "  'stone': 1,\n",
       "  'centuried': 1,\n",
       "  'breach': 1,\n",
       "  'file': 1,\n",
       "  'stalking': 1,\n",
       "  'piece': 1,\n",
       "  'vault': 2,\n",
       "  'abomination': 1,\n",
       "  'emotion': 1,\n",
       "  'detective': 1,\n",
       "  'tragedy': 1,\n",
       "  'madman': 1,\n",
       "  'murderer': 1,\n",
       "  'legion': 1},\n",
       " 'PROPN': {'Herbert': 20,\n",
       "  'West': 132,\n",
       "  'Reanimator': 1,\n",
       "  'I.': 1,\n",
       "  'Dark': 1,\n",
       "  'Miskatonic': 8,\n",
       "  'University': 6,\n",
       "  'Medical': 3,\n",
       "  'School': 3,\n",
       "  'Arkham': 18,\n",
       "  'medical': 1,\n",
       "  'school': 3,\n",
       "  'dean': 3,\n",
       "  'Dr.': 15,\n",
       "  'Allan': 3,\n",
       "  'Halsey': 8,\n",
       "  'Haeckel': 1,\n",
       "  'Christchurch': 5,\n",
       "  'Cemetery': 3,\n",
       "  'potter': 3,\n",
       "  'Chapman': 3,\n",
       "  'Meadow': 4,\n",
       "  'Hill': 6,\n",
       "  'Boston': 5,\n",
       "  'Sumner': 1,\n",
       "  'Pond': 2,\n",
       "  'Bunsen': 1,\n",
       "  'II': 1,\n",
       "  'Plague': 1,\n",
       "  'Daemon': 1,\n",
       "  'afrite': 1,\n",
       "  'Eblis': 1,\n",
       "  'leeringly': 1,\n",
       "  'house': 2,\n",
       "  'importunate': 1,\n",
       "  'supernormal': 1,\n",
       "  'Sefton': 7,\n",
       "  'Asylum': 2,\n",
       "  'Ptolemaism': 1,\n",
       "  'Calvinism': 1,\n",
       "  'Darwinism': 1,\n",
       "  'anti': 1,\n",
       "  '-': 1,\n",
       "  'Nietzscheism': 1,\n",
       "  'Tartarus': 1,\n",
       "  'August': 1,\n",
       "  'Commercial': 1,\n",
       "  'House': 1,\n",
       "  'Bolton': 12,\n",
       "  'Crane': 1,\n",
       "  'Street': 2,\n",
       "  'simianism': 1,\n",
       "  'Midnight': 1,\n",
       "  'Worsted': 2,\n",
       "  'Mills': 2,\n",
       "  'Valley': 1,\n",
       "  'man': 1,\n",
       "  'daemoniac': 3,\n",
       "  'January': 1,\n",
       "  'March': 2,\n",
       "  'Puritanism': 1,\n",
       "  'Poles': 1,\n",
       "  'Kid': 1,\n",
       "  \"O'Brien\": 1,\n",
       "  'Hibernian': 1,\n",
       "  'Buck': 1,\n",
       "  'Robinson': 1,\n",
       "  'Harlem': 1,\n",
       "  'Smoke': 1,\n",
       "  'Congo': 1,\n",
       "  'tom': 2,\n",
       "  'Italian': 1,\n",
       "  'long': 1,\n",
       "  'moon': 1,\n",
       "  'Scream': 1,\n",
       "  'Dead': 1,\n",
       "  'July': 2,\n",
       "  'Illinois': 1,\n",
       "  'Robert': 1,\n",
       "  'Leavitt': 1,\n",
       "  'St.': 4,\n",
       "  'Louis': 1,\n",
       "  'V.': 1,\n",
       "  'Shadows': 1,\n",
       "  'Great': 3,\n",
       "  'War': 3,\n",
       "  'Lieutenant': 1,\n",
       "  'Flanders': 4,\n",
       "  'Americans': 1,\n",
       "  'Ottawa': 1,\n",
       "  'Major': 3,\n",
       "  'Elagabalus': 1,\n",
       "  'Eloi': 3,\n",
       "  'babel': 1,\n",
       "  'Sir': 3,\n",
       "  'Eric': 4,\n",
       "  'Moreland': 4,\n",
       "  'Clapham': 5,\n",
       "  'Lee': 5,\n",
       "  'D.S.O.': 2,\n",
       "  'Lieut': 1,\n",
       "  'Ronald': 2,\n",
       "  'Jump': 1,\n",
       "  'God': 1,\n",
       "  'VI': 1,\n",
       "  'Tomb': 1,\n",
       "  'Legions': 1,\n",
       "  'phantasy': 1,\n",
       "  'Canadian': 1,\n",
       "  'Averills': 1,\n",
       "  'cannibal': 1,\n",
       "  'doorbell': 1,\n",
       "  'rang': 1,\n",
       "  'Express': 1,\n",
       "  'masonry': 1},\n",
       " 'ADJ': {'extreme': 3,\n",
       "  'sinister': 4,\n",
       "  'recent': 4,\n",
       "  'acute': 2,\n",
       "  'close': 4,\n",
       "  'actual': 4,\n",
       "  'great': 20,\n",
       "  'hideous': 17,\n",
       "  'horrible': 4,\n",
       "  'notorious': 2,\n",
       "  'wild': 2,\n",
       "  'fellow': 2,\n",
       "  'mechanistic': 1,\n",
       "  'concerned': 1,\n",
       "  'organic': 4,\n",
       "  'chemical': 2,\n",
       "  'natural': 9,\n",
       "  'immense': 2,\n",
       "  'guinea-': 1,\n",
       "  'prime': 2,\n",
       "  'dead': 23,\n",
       "  'violent': 1,\n",
       "  'possible': 7,\n",
       "  'clear': 3,\n",
       "  'different': 4,\n",
       "  'human': 21,\n",
       "  'specialised': 1,\n",
       "  'future': 2,\n",
       "  'medical': 8,\n",
       "  'benevolent': 1,\n",
       "  'old': 9,\n",
       "  'tolerant': 1,\n",
       "  'infinite': 1,\n",
       "  'physical': 4,\n",
       "  'artificial': 7,\n",
       "  'suitable': 3,\n",
       "  'peculiar': 4,\n",
       "  'psychic': 1,\n",
       "  'intellectual': 2,\n",
       "  'slight': 6,\n",
       "  'sensitive': 3,\n",
       "  'short': 1,\n",
       "  'apt': 1,\n",
       "  'incompatible': 1,\n",
       "  'sceptical': 2,\n",
       "  'true': 1,\n",
       "  'long': 6,\n",
       "  'fresh': 28,\n",
       "  'secret': 10,\n",
       "  'ghastly': 7,\n",
       "  'anatomical': 1,\n",
       "  'inadequate': 2,\n",
       "  'local': 7,\n",
       "  'small': 12,\n",
       "  'slender': 1,\n",
       "  'spectacled': 5,\n",
       "  'delicate': 4,\n",
       "  'yellow': 3,\n",
       "  'pale': 2,\n",
       "  'blue': 7,\n",
       "  'soft': 2,\n",
       "  'uncanny': 1,\n",
       "  'relative': 2,\n",
       "  'ruinous': 1,\n",
       "  'active': 1,\n",
       "  'enthralled': 1,\n",
       "  'loathsome': 4,\n",
       "  'dark': 3,\n",
       "  'necessary': 4,\n",
       "  'strange': 6,\n",
       "  'nocturnal': 2,\n",
       "  'unrecognisable': 2,\n",
       "  'expert': 2,\n",
       "  'costly': 1,\n",
       "  'unauthorised': 1,\n",
       "  'particular': 3,\n",
       "  'free': 2,\n",
       "  'present': 4,\n",
       "  'good': 6,\n",
       "  'exciting': 1,\n",
       "  'limited': 1,\n",
       "  'ideal': 2,\n",
       "  'brawny': 1,\n",
       "  'young': 4,\n",
       "  'new': 14,\n",
       "  'repulsive': 2,\n",
       "  'black': 10,\n",
       "  'special': 1,\n",
       "  'electric': 5,\n",
       "  'satisfactory': 1,\n",
       "  'tungsten': 1,\n",
       "  'slow': 1,\n",
       "  'sordid': 1,\n",
       "  'poetical': 1,\n",
       "  'glad': 2,\n",
       "  'nervous': 7,\n",
       "  'stiff': 1,\n",
       "  'vacant': 1,\n",
       "  'improvised': 1,\n",
       "  'powerful': 3,\n",
       "  'spectral': 2,\n",
       "  'sturdy': 2,\n",
       "  'unimaginative': 1,\n",
       "  'wholesome': 1,\n",
       "  'plebeian': 1,\n",
       "  'grey': 2,\n",
       "  'eyed': 5,\n",
       "  'brown-': 1,\n",
       "  'haired': 2,\n",
       "  'sound': 1,\n",
       "  'psychological': 2,\n",
       "  'vital': 5,\n",
       "  'simple': 2,\n",
       "  'healthy': 4,\n",
       "  'asleep': 2,\n",
       "  'real': 3,\n",
       "  'ready': 3,\n",
       "  'careful': 2,\n",
       "  'complete': 4,\n",
       "  'grotesque': 1,\n",
       "  'partial': 3,\n",
       "  'apprehensive': 2,\n",
       "  'cerebral': 1,\n",
       "  'curious': 4,\n",
       "  'traditional': 1,\n",
       "  'placid': 1,\n",
       "  'inaccessible': 1,\n",
       "  'overwhelming': 1,\n",
       "  'calm': 5,\n",
       "  'large': 12,\n",
       "  'gruesome': 2,\n",
       "  'negative': 1,\n",
       "  'remote': 1,\n",
       "  'ghoulish': 4,\n",
       "  'solitary': 2,\n",
       "  'adjacent': 1,\n",
       "  'silent': 8,\n",
       "  'fanatical': 1,\n",
       "  'awful': 6,\n",
       "  'sudden': 2,\n",
       "  'unexpected': 1,\n",
       "  'busy': 2,\n",
       "  'gasless': 1,\n",
       "  'appalling': 1,\n",
       "  'unutterable': 2,\n",
       "  'hellish': 4,\n",
       "  'damned': 3,\n",
       "  'inconceivable': 1,\n",
       "  'supernal': 1,\n",
       "  'unnatural': 7,\n",
       "  'late': 6,\n",
       "  'near': 3,\n",
       "  'rural': 1,\n",
       "  'belated': 1,\n",
       "  'little': 4,\n",
       "  'rational': 7,\n",
       "  'unrelated': 1,\n",
       "  'impossible': 3,\n",
       "  'deserted': 1,\n",
       "  'amorphous': 1,\n",
       "  'upset': 1,\n",
       "  'futile': 1,\n",
       "  'spadeless': 1,\n",
       "  'noxious': 1,\n",
       "  'satanic': 1,\n",
       "  'post': 1,\n",
       "  '-': 4,\n",
       "  'graduate': 1,\n",
       "  'wide': 1,\n",
       "  'scientific': 6,\n",
       "  'uncounted': 1,\n",
       "  'freakish': 1,\n",
       "  'certain': 10,\n",
       "  'dingy': 1,\n",
       "  'terrible': 9,\n",
       "  'unforgettable': 1,\n",
       "  'odious': 1,\n",
       "  'overwrought': 1,\n",
       "  'able': 3,\n",
       "  'maddening': 1,\n",
       "  'obvious': 2,\n",
       "  'normal': 4,\n",
       "  'mental': 5,\n",
       "  'well': 3,\n",
       "  'underground': 1,\n",
       "  'important': 1,\n",
       "  'vain': 1,\n",
       "  'inflexible': 1,\n",
       "  'radical': 2,\n",
       "  'immature': 1,\n",
       "  'youthful': 1,\n",
       "  'diabolical': 1,\n",
       "  'cold': 5,\n",
       "  'stern': 1,\n",
       "  'elderly': 1,\n",
       "  'undergraduate': 1,\n",
       "  'wordy': 1,\n",
       "  'kindly': 1,\n",
       "  'retarded': 1,\n",
       "  'later': 1,\n",
       "  'exceptional': 1,\n",
       "  'singular': 3,\n",
       "  'disgusting': 2,\n",
       "  'incomprehensible': 1,\n",
       "  'logical': 1,\n",
       "  'chronic': 1,\n",
       "  'pathetic': 1,\n",
       "  'conscientious': 1,\n",
       "  'gentle': 3,\n",
       "  'amiable': 1,\n",
       "  'narrow': 2,\n",
       "  'intolerant': 1,\n",
       "  'ridden': 1,\n",
       "  'incomplete': 1,\n",
       "  'high': 2,\n",
       "  'souled': 1,\n",
       "  'bad': 5,\n",
       "  'general': 4,\n",
       "  'anti': 1,\n",
       "  'sumptuary': 1,\n",
       "  'marvellous': 1,\n",
       "  'scant': 1,\n",
       "  'erudite': 1,\n",
       "  'obtuse': 1,\n",
       "  'striking': 1,\n",
       "  'dramatic': 1,\n",
       "  'elaborate': 1,\n",
       "  'final': 4,\n",
       "  'magnanimous': 1,\n",
       "  'lethal': 1,\n",
       "  'additional': 1,\n",
       "  'licenced': 1,\n",
       "  'public': 5,\n",
       "  'past': 1,\n",
       "  'rapid': 1,\n",
       "  'unembalmed': 1,\n",
       "  'overworked': 1,\n",
       "  'terrific': 2,\n",
       "  'closed': 2,\n",
       "  'hearted': 1,\n",
       "  'apparent': 1,\n",
       "  'fearless': 1,\n",
       "  'popular': 2,\n",
       "  'unconscious': 3,\n",
       "  'determined': 1,\n",
       "  'amazing': 2,\n",
       "  'municipal': 1,\n",
       "  'deceased': 2,\n",
       "  'soul-': 1,\n",
       "  'petrifying': 1,\n",
       "  'hot': 1,\n",
       "  'daring': 1,\n",
       "  'hasty': 1,\n",
       "  'impressive': 1,\n",
       "  'wealthy': 1,\n",
       "  'depressed': 1,\n",
       "  'chief': 3,\n",
       "  'advanced': 2,\n",
       "  'acidulous': 1,\n",
       "  'right': 1,\n",
       "  'broken': 1,\n",
       "  'open': 3,\n",
       "  'second': 4,\n",
       "  'bacteriological': 1,\n",
       "  'capacious': 1,\n",
       "  'congenial': 1,\n",
       "  'uncertain': 1,\n",
       "  'jovial': 1,\n",
       "  'pugnacious': 1,\n",
       "  'alive': 6,\n",
       "  'neighbouring': 1,\n",
       "  'red': 2,\n",
       "  'faint': 2,\n",
       "  'fevered': 1,\n",
       "  'nameless': 6,\n",
       "  'maimed': 2,\n",
       "  'shapeless': 1,\n",
       "  'voiceless': 2,\n",
       "  'sadistic': 1,\n",
       "  'white': 5,\n",
       "  'malformed': 1,\n",
       "  'anthropomorphic': 1,\n",
       "  'hungry': 1,\n",
       "  'stricken': 1,\n",
       "  'frantic': 4,\n",
       "  'shuttered': 1,\n",
       "  'major': 1,\n",
       "  'fatal': 1,\n",
       "  'universal': 1,\n",
       "  'nauseous': 2,\n",
       "  'padded': 2,\n",
       "  'unbelievable': 3,\n",
       "  'learned': 1,\n",
       "  'supreme': 1,\n",
       "  'uncommon': 4,\n",
       "  'sufficient': 2,\n",
       "  'isolated': 2,\n",
       "  'unpopular': 1,\n",
       "  'forbidden': 1,\n",
       "  'perpetual': 2,\n",
       "  'indispensable': 2,\n",
       "  'informal': 1,\n",
       "  'inseparable': 1,\n",
       "  'easy': 2,\n",
       "  'polyglot': 1,\n",
       "  'dense': 3,\n",
       "  'displeased': 1,\n",
       "  'undisturbed': 1,\n",
       "  'turbulent': 1,\n",
       "  'frequent': 2,\n",
       "  'perfect': 3,\n",
       "  'doubtful': 1,\n",
       "  'imperfect': 2,\n",
       "  'total': 3,\n",
       "  'fearsome': 2,\n",
       "  'blond': 3,\n",
       "  'shuddering': 2,\n",
       "  'stealthy': 1,\n",
       "  'disturbing': 2,\n",
       "  'frightful': 5,\n",
       "  'carnivorous': 2,\n",
       "  'exact': 1,\n",
       "  'fair': 1,\n",
       "  'muscular': 2,\n",
       "  'shivery': 1,\n",
       "  'poor': 1,\n",
       "  'diseased': 1,\n",
       "  'systematic': 1,\n",
       "  'usual': 6,\n",
       "  'surreptitious': 1,\n",
       "  'common': 1,\n",
       "  'professional': 2,\n",
       "  'low': 1,\n",
       "  'disastrous': 1,\n",
       "  'timorous': 1,\n",
       "  'desperate': 1,\n",
       "  'frightened': 1,\n",
       "  'lubberly': 1,\n",
       "  'un-': 1,\n",
       "  'like': 3,\n",
       "  'fore': 1,\n",
       "  'unspeakable': 1,\n",
       "  'eerie': 1,\n",
       "  'ugly': 1,\n",
       "  'pitiful': 2,\n",
       "  'grateful': 1,\n",
       "  'involuntary': 1,\n",
       "  'bright': 1,\n",
       "  'snowless': 1,\n",
       "  'similar': 2,\n",
       "  'anticlimactic': 1,\n",
       "  'unresponsive': 1,\n",
       "  'frozen': 1,\n",
       "  'deep': 3,\n",
       "  'previous': 1,\n",
       "  'dim': 2,\n",
       "  'italian': 4,\n",
       "  'hysterical': 1,\n",
       "  'alarming': 1,\n",
       "  'weak': 2,\n",
       "  'foolish': 1,\n",
       "  'superstitious': 1,\n",
       "  'inhuman': 2,\n",
       "  'tremendous': 1,\n",
       "  'mad': 5,\n",
       "  'steady': 1,\n",
       "  'dazed': 1,\n",
       "  'crazed': 1,\n",
       "  'justified': 1,\n",
       "  'weird': 1,\n",
       "  'gigantic': 2,\n",
       "  'misshapen': 1,\n",
       "  'glassy': 1,\n",
       "  'foul': 1,\n",
       "  'caked': 1,\n",
       "  'cylindrical': 1,\n",
       "  'tiny': 1,\n",
       "  'pleasing': 1,\n",
       "  'ordinary': 3,\n",
       "  'afraid': 3,\n",
       "  'sole': 2,\n",
       "  'excitant': 1,\n",
       "  'constant': 1,\n",
       "  'blind': 3,\n",
       "  'intact': 3,\n",
       "  'capable': 1,\n",
       "  'extinct': 1,\n",
       "  'awesome': 1,\n",
       "  'conscious': 1,\n",
       "  'mechanical': 1,\n",
       "  'clean': 1,\n",
       "  'shaven': 1,\n",
       "  'voiced': 1,\n",
       "  'occasional': 2,\n",
       "  'defective': 1,\n",
       "  'morbid': 4,\n",
       "  'brainless': 2,\n",
       "  'shocking': 4,\n",
       "  'african': 1,\n",
       "  'shallow': 1,\n",
       "  'subordinate': 1,\n",
       "  'avid': 4,\n",
       "  'unusual': 1,\n",
       "  'surprised': 1,\n",
       "  'puzzled': 1,\n",
       "  'objectionable': 1,\n",
       "  'immediate': 1,\n",
       "  'unburied': 1,\n",
       "  'kind': 1,\n",
       "  'accustomed': 1,\n",
       "  'vigorous': 3,\n",
       "  'overtaxed': 1,\n",
       "  'brief': 2,\n",
       "  'unknown': 2,\n",
       "  'instant': 1,\n",
       "  'rekindled': 1,\n",
       "  'arc': 1,\n",
       "  'original': 2,\n",
       "  'preliminary': 2,\n",
       "  'impressed': 1,\n",
       "  'vast': 2,\n",
       "  'quiet': 2,\n",
       "  'perfunctory': 1,\n",
       "  'absolute': 2,\n",
       "  'satisfied': 1,\n",
       "  'left': 2,\n",
       "  'breathless': 1,\n",
       "  'unfathomable': 1,\n",
       "  'bodily': 2,\n",
       "  'vague': 1,\n",
       "  'instinctive': 1,\n",
       "  'primitive': 1,\n",
       "  'awe': 1,\n",
       "  'ample': 1,\n",
       "  'sandy': 1,\n",
       "  'spasmodic': 1,\n",
       "  'audible': 1,\n",
       "  'visible': 2,\n",
       "  'unintelligent': 1,\n",
       "  'fantastic': 3,\n",
       "  'subsequent': 1,\n",
       "  'thin': 1,\n",
       "  'elated': 1,\n",
       "  'distinct': 2,\n",
       "  'articulate': 3,\n",
       "  'terrifying': 1,\n",
       "  'devastating': 1,\n",
       "  'canadian': 2,\n",
       "  'celebrated': 1,\n",
       "  'surgical': 1,\n",
       "  'irritating': 1,\n",
       "  'imperious': 1,\n",
       "  'warlike': 1,\n",
       "  'anxious': 2,\n",
       "  'martial': 1,\n",
       "  'supine': 1,\n",
       "  'military': 2,\n",
       "  'abundant': 1,\n",
       "  'fashionable': 1,\n",
       "  'known': 2,\n",
       "  'proper': 1,\n",
       "  'conceivable': 1,\n",
       "  'requisite': 1,\n",
       "  'useful': 1,\n",
       "  'early': 1,\n",
       "  'fascinated': 1,\n",
       "  'nightmarish': 1,\n",
       "  'sheer': 1,\n",
       "  'mere': 1,\n",
       "  'perverse': 1,\n",
       "  'abnormal': 1,\n",
       "  'pallid': 1,\n",
       "  'fastidious': 1,\n",
       "  'languid': 1,\n",
       "  'unmoved': 1,\n",
       "  'detached': 3,\n",
       "  'independent': 1,\n",
       "  'physiological': 1,\n",
       "  'indescribable': 2,\n",
       "  'tropical': 1,\n",
       "  'biological': 1,\n",
       "  'spinal': 1,\n",
       "  'ethereal': 1,\n",
       "  'intangible': 2,\n",
       "  'single': 2,\n",
       "  'prodigious': 1,\n",
       "  'phantasmal': 1,\n",
       "  'unmentionable': 1,\n",
       "  'private': 1,\n",
       "  'east': 1,\n",
       "  'temporary': 1,\n",
       "  'hopeless': 1,\n",
       "  'gory': 1,\n",
       "  'philanthropic': 1,\n",
       "  'queer': 2,\n",
       "  'reptilian': 2,\n",
       "  'splendid': 2,\n",
       "  'ironic': 1,\n",
       "  'heavy': 1,\n",
       "  'intrepid': 1,\n",
       "  'spectacular': 1,\n",
       "  'lifeless': 1,\n",
       "  'pulpy': 1,\n",
       "  'headless': 5,\n",
       "  'unidentified': 2,\n",
       "  'organised': 1,\n",
       "  'classified': 1,\n",
       "  'charnel': 2,\n",
       "  'less': 1,\n",
       "  'slimy': 1,\n",
       "  'bluish': 2,\n",
       "  'green': 1,\n",
       "  'far': 1,\n",
       "  'feverish': 1,\n",
       "  'strong': 1,\n",
       "  'central': 1,\n",
       "  'connective': 1,\n",
       "  'triumphant': 1,\n",
       "  'intelligent': 2,\n",
       "  'german': 2,\n",
       "  'notable': 1,\n",
       "  'grave': 2,\n",
       "  'extensive': 1,\n",
       "  'confidential': 1,\n",
       "  'grisly': 1,\n",
       "  'moral': 1,\n",
       "  'hard': 1,\n",
       "  'memorable': 1,\n",
       "  'calloused': 1,\n",
       "  'absurd': 1,\n",
       "  'abominable': 1,\n",
       "  'nebulous': 2,\n",
       "  'quick': 1,\n",
       "  'cannibal': 1,\n",
       "  'unhealthy': 1,\n",
       "  'entire': 1,\n",
       "  'complex': 1,\n",
       "  'subtle': 1,\n",
       "  'severe': 1,\n",
       "  'quasi': 1,\n",
       "  'sure': 1,\n",
       "  'shadowy': 1,\n",
       "  'merciful': 1,\n",
       "  'venerable': 1,\n",
       "  'symbolic': 1,\n",
       "  'aesthetic': 1,\n",
       "  'colonial': 1,\n",
       "  'huge': 1,\n",
       "  'synthetic': 1,\n",
       "  'unhallowed': 1,\n",
       "  'ancient': 3,\n",
       "  'bare': 1,\n",
       "  'centuried': 1,\n",
       "  'joint': 1,\n",
       "  'crumpled': 1,\n",
       "  'incredible': 1,\n",
       "  'menacing': 1,\n",
       "  'expressionless': 1,\n",
       "  'handsome': 1,\n",
       "  'radiant': 1,\n",
       "  'unthinkable': 1,\n",
       "  'paralysed': 1,\n",
       "  'square': 2,\n",
       "  'prepaid': 1,\n",
       "  'odd': 1,\n",
       "  'correct': 1,\n",
       "  'vicious': 1,\n",
       "  'unopened': 1,\n",
       "  'wooden': 1,\n",
       "  'putrescent': 1,\n",
       "  'nether': 1,\n",
       "  'semi': 1,\n",
       "  'heterogeneous': 1,\n",
       "  'beautiful': 1,\n",
       "  'subterranean': 1,\n",
       "  'fabulous': 1,\n",
       "  'unidentifiable': 1,\n",
       "  'unbroken': 1,\n",
       "  'accursed': 1},\n",
       " 'VERB': {'speak': 6,\n",
       "  'engender': 1,\n",
       "  'gain': 1,\n",
       "  'fascinate': 1,\n",
       "  'go': 9,\n",
       "  'break': 3,\n",
       "  'experience': 1,\n",
       "  'repeat': 5,\n",
       "  'say': 9,\n",
       "  'happen': 4,\n",
       "  'overcome': 1,\n",
       "  'ridicule': 1,\n",
       "  'hinge': 1,\n",
       "  'operate': 1,\n",
       "  'calculate': 2,\n",
       "  'animate': 2,\n",
       "  'kill': 7,\n",
       "  'treat': 3,\n",
       "  'obtain': 10,\n",
       "  'see': 17,\n",
       "  'involve': 2,\n",
       "  'work': 5,\n",
       "  'require': 4,\n",
       "  'come': 24,\n",
       "  'debar': 1,\n",
       "  'learn': 5,\n",
       "  'recall': 4,\n",
       "  'discuss': 2,\n",
       "  'hold': 11,\n",
       "  'call': 5,\n",
       "  'believe': 4,\n",
       "  'depend': 1,\n",
       "  'set': 4,\n",
       "  'equip': 2,\n",
       "  'know': 18,\n",
       "  'impair': 1,\n",
       "  'cause': 2,\n",
       "  'realise': 1,\n",
       "  'find': 14,\n",
       "  'restore': 11,\n",
       "  'shew': 4,\n",
       "  'seek': 5,\n",
       "  'inject': 15,\n",
       "  'feel': 7,\n",
       "  'occur': 5,\n",
       "  'stop': 5,\n",
       "  'view': 1,\n",
       "  'interdict': 1,\n",
       "  'confide': 1,\n",
       "  'continue': 3,\n",
       "  'perform': 3,\n",
       "  'hear': 9,\n",
       "  'procure': 1,\n",
       "  'prove': 7,\n",
       "  'attend': 4,\n",
       "  'question': 4,\n",
       "  'dwell': 1,\n",
       "  'decide': 2,\n",
       "  'embalm': 1,\n",
       "  'help': 9,\n",
       "  'concern': 3,\n",
       "  'think': 18,\n",
       "  'desert': 5,\n",
       "  'fit': 2,\n",
       "  'conceal': 2,\n",
       "  'start': 3,\n",
       "  'chance': 1,\n",
       "  'bring': 4,\n",
       "  'agree': 1,\n",
       "  'purchase': 1,\n",
       "  'borrow': 1,\n",
       "  'provide': 1,\n",
       "  'follow': 7,\n",
       "  'demand': 3,\n",
       "  'want': 6,\n",
       "  'inter': 1,\n",
       "  'malforme': 1,\n",
       "  'talk': 2,\n",
       "  'remain': 6,\n",
       "  'favour': 2,\n",
       "  'drown': 1,\n",
       "  'bury': 4,\n",
       "  'determine': 3,\n",
       "  'begin': 10,\n",
       "  'undertake': 1,\n",
       "  'lack': 2,\n",
       "  'carry': 7,\n",
       "  'manufacture': 1,\n",
       "  'unearth': 1,\n",
       "  'strike': 4,\n",
       "  'uncover': 2,\n",
       "  'scramble': 1,\n",
       "  'remove': 4,\n",
       "  'drag': 3,\n",
       "  'prop': 1,\n",
       "  'reach': 6,\n",
       "  'haul': 2,\n",
       "  'toil': 2,\n",
       "  'manage': 3,\n",
       "  'pat': 2,\n",
       "  'look': 14,\n",
       "  'frame': 1,\n",
       "  'have': 3,\n",
       "  'close': 3,\n",
       "  'leave': 7,\n",
       "  'long': 1,\n",
       "  'prepare': 5,\n",
       "  'accord': 1,\n",
       "  'avoid': 2,\n",
       "  'suffer': 2,\n",
       "  'tell': 11,\n",
       "  'return': 2,\n",
       "  'wonder': 3,\n",
       "  'relate': 4,\n",
       "  'share': 3,\n",
       "  'force': 1,\n",
       "  'bind': 2,\n",
       "  'falter': 1,\n",
       "  'apply': 3,\n",
       "  'bear': 7,\n",
       "  'pronounce': 1,\n",
       "  'try': 5,\n",
       "  'dispose': 1,\n",
       "  'dig': 1,\n",
       "  'fill': 1,\n",
       "  'fix': 1,\n",
       "  'wish': 5,\n",
       "  'shun': 2,\n",
       "  'take': 5,\n",
       "  'bend': 1,\n",
       "  'measure': 2,\n",
       "  'supervise': 1,\n",
       "  'pour': 1,\n",
       "  'answer': 4,\n",
       "  'burst': 1,\n",
       "  'open': 4,\n",
       "  'release': 2,\n",
       "  'centre': 1,\n",
       "  'leap': 1,\n",
       "  'stricken': 2,\n",
       "  'overturn': 1,\n",
       "  'vault': 1,\n",
       "  'star': 1,\n",
       "  'scream': 5,\n",
       "  'stumble': 1,\n",
       "  'stagger': 1,\n",
       "  'separate': 5,\n",
       "  'whisper': 5,\n",
       "  'calm': 1,\n",
       "  'sleep': 3,\n",
       "  'disregard': 1,\n",
       "  'even': 1,\n",
       "  'burn': 2,\n",
       "  'understand': 3,\n",
       "  'disturb': 1,\n",
       "  'complain': 1,\n",
       "  'fancy': 1,\n",
       "  'disappear': 6,\n",
       "  'shall': 2,\n",
       "  'forget': 2,\n",
       "  'stalk': 2,\n",
       "  'brood': 2,\n",
       "  'attain': 2,\n",
       "  'lead': 6,\n",
       "  'vein': 1,\n",
       "  'end': 2,\n",
       "  'attribute': 2,\n",
       "  'shake': 3,\n",
       "  'haunt': 2,\n",
       "  'hunt': 2,\n",
       "  'prevent': 1,\n",
       "  'drop': 3,\n",
       "  'plead': 1,\n",
       "  'regard': 1,\n",
       "  'endorse': 1,\n",
       "  'give': 6,\n",
       "  'shiver': 2,\n",
       "  'grow': 7,\n",
       "  'vanish': 4,\n",
       "  'clash': 1,\n",
       "  'conduct': 2,\n",
       "  'suit': 1,\n",
       "  'possess': 3,\n",
       "  'ignore': 1,\n",
       "  'persist': 1,\n",
       "  'punish': 1,\n",
       "  'nurse': 1,\n",
       "  'increase': 1,\n",
       "  'couple': 1,\n",
       "  'indulge': 1,\n",
       "  'grin': 1,\n",
       "  'graduate': 1,\n",
       "  'press': 1,\n",
       "  'ensue': 2,\n",
       "  'handle': 2,\n",
       "  'receive': 3,\n",
       "  'cram': 1,\n",
       "  'persecute': 1,\n",
       "  'harass': 3,\n",
       "  'prostrate': 1,\n",
       "  'fight': 1,\n",
       "  'distinguish': 2,\n",
       "  'sacrifice': 2,\n",
       "  'struggle': 1,\n",
       "  'collapse': 3,\n",
       "  'withhold': 1,\n",
       "  'smuggle': 1,\n",
       "  'stare': 2,\n",
       "  'rouse': 1,\n",
       "  'catch': 1,\n",
       "  'incinerate': 2,\n",
       "  'doubt': 2,\n",
       "  'die': 3,\n",
       "  'buy': 1,\n",
       "  'overshadow': 1,\n",
       "  'send': 2,\n",
       "  'spend': 2,\n",
       "  'chill': 1,\n",
       "  'persuade': 1,\n",
       "  'aid': 1,\n",
       "  'make': 1,\n",
       "  'arrive': 1,\n",
       "  'dine': 1,\n",
       "  'wine': 1,\n",
       "  'arouse': 2,\n",
       "  'stain': 1,\n",
       "  'beat': 5,\n",
       "  'scratch': 1,\n",
       "  'maul': 1,\n",
       "  'fare': 1,\n",
       "  'regain': 1,\n",
       "  'belong': 1,\n",
       "  'collect': 1,\n",
       "  'order': 2,\n",
       "  'declare': 1,\n",
       "  'meet': 4,\n",
       "  'eclipse': 1,\n",
       "  'claw': 4,\n",
       "  'raise': 1,\n",
       "  'reveal': 2,\n",
       "  'swear': 2,\n",
       "  'escape': 2,\n",
       "  'note': 1,\n",
       "  'lie': 6,\n",
       "  'dance': 1,\n",
       "  'howl': 1,\n",
       "  'creep': 2,\n",
       "  'embody': 1,\n",
       "  'enter': 4,\n",
       "  'strew': 1,\n",
       "  'attack': 1,\n",
       "  'capture': 2,\n",
       "  'organise': 1,\n",
       "  'keep': 3,\n",
       "  'report': 1,\n",
       "  'spread': 2,\n",
       "  'effect': 1,\n",
       "  'rush': 1,\n",
       "  'dress': 3,\n",
       "  'cart': 1,\n",
       "  'like': 4,\n",
       "  'mention': 2,\n",
       "  'disgust': 1,\n",
       "  'notice': 4,\n",
       "  'clean': 1,\n",
       "  'entomb': 1,\n",
       "  'shudder': 3,\n",
       "  'mutter': 1,\n",
       "  'fire': 1,\n",
       "  'oblige': 1,\n",
       "  'guide': 3,\n",
       "  'relieve': 1,\n",
       "  'choose': 5,\n",
       "  'result': 3,\n",
       "  'hope': 3,\n",
       "  'supply': 2,\n",
       "  'live': 3,\n",
       "  'sympathise': 1,\n",
       "  'secure': 8,\n",
       "  'seize': 3,\n",
       "  'bisect': 1,\n",
       "  'stab': 1,\n",
       "  'absorb': 2,\n",
       "  'experiment': 3,\n",
       "  'encounter': 1,\n",
       "  'compound': 2,\n",
       "  'serve': 5,\n",
       "  'render': 1,\n",
       "  'research': 1,\n",
       "  'confess': 1,\n",
       "  'enhance': 1,\n",
       "  'reanimate': 9,\n",
       "  'settle': 2,\n",
       "  'get': 1,\n",
       "  'fail': 2,\n",
       "  'lose': 1,\n",
       "  'succeed': 4,\n",
       "  'mark': 1,\n",
       "  'rise': 5,\n",
       "  'utter': 6,\n",
       "  'fall': 5,\n",
       "  'prevail': 1,\n",
       "  'outlaw': 1,\n",
       "  'import': 2,\n",
       "  'abandon': 1,\n",
       "  'watch': 2,\n",
       "  'quake': 1,\n",
       "  'hook': 1,\n",
       "  'knock': 1,\n",
       "  'conjure': 1,\n",
       "  'exact': 1,\n",
       "  'hush': 1,\n",
       "  'offer': 1,\n",
       "  'rid': 1,\n",
       "  'approach': 1,\n",
       "  'time': 1,\n",
       "  'appear': 6,\n",
       "  'furnish': 1,\n",
       "  'cover': 5,\n",
       "  'suspect': 3,\n",
       "  'miss': 2,\n",
       "  'stray': 1,\n",
       "  'develop': 2,\n",
       "  'run': 3,\n",
       "  'blame': 1,\n",
       "  'save': 2,\n",
       "  'draw': 2,\n",
       "  'depart': 3,\n",
       "  'search': 1,\n",
       "  'weigh': 1,\n",
       "  'retire': 1,\n",
       "  'fear': 2,\n",
       "  'track': 1,\n",
       "  'mean': 3,\n",
       "  'float': 1,\n",
       "  'shine': 1,\n",
       "  'turn': 4,\n",
       "  'pull': 1,\n",
       "  'lay': 2,\n",
       "  'clothe': 1,\n",
       "  'rattle': 1,\n",
       "  'unbolt': 1,\n",
       "  'throw': 3,\n",
       "  'stream': 1,\n",
       "  'silhouette': 1,\n",
       "  'attract': 1,\n",
       "  'dread': 1,\n",
       "  'avert': 1,\n",
       "  'empty': 1,\n",
       "  'loom': 1,\n",
       "  'imagine': 2,\n",
       "  'glisten': 1,\n",
       "  'terminate': 1,\n",
       "  'add': 3,\n",
       "  'imply': 4,\n",
       "  'establish': 3,\n",
       "  'isolate': 2,\n",
       "  'state': 1,\n",
       "  'decay': 1,\n",
       "  'damage': 1,\n",
       "  'respond': 2,\n",
       "  'galvanise': 1,\n",
       "  'shatter': 2,\n",
       "  'place': 2,\n",
       "  'shoot': 2,\n",
       "  'create': 3,\n",
       "  'solve': 1,\n",
       "  'explain': 1,\n",
       "  'recognise': 1,\n",
       "  'trust': 2,\n",
       "  'venture': 1,\n",
       "  'predict': 1,\n",
       "  'transact': 1,\n",
       "  'pause': 1,\n",
       "  'ask': 2,\n",
       "  'refuse': 2,\n",
       "  'expect': 3,\n",
       "  'imperil': 1,\n",
       "  'stand': 1,\n",
       "  'gaze': 1,\n",
       "  'dazzle': 1,\n",
       "  'stiffen': 1,\n",
       "  'move': 4,\n",
       "  'remind': 1,\n",
       "  'proceed': 3,\n",
       "  'forbid': 1,\n",
       "  'touch': 2,\n",
       "  'puncture': 1,\n",
       "  'neutralise': 1,\n",
       "  'affect': 2,\n",
       "  'stuff': 1,\n",
       "  'twitch': 2,\n",
       "  'withdraw': 2,\n",
       "  'grope': 1,\n",
       "  'express': 1,\n",
       "  'wait': 1,\n",
       "  'disagree': 1,\n",
       "  'eye': 1,\n",
       "  'extract': 1,\n",
       "  'elapse': 1,\n",
       "  'hitherto': 2,\n",
       "  'nod': 1,\n",
       "  'incline': 1,\n",
       "  'detect': 1,\n",
       "  'redden': 1,\n",
       "  'drive': 1,\n",
       "  'shape': 1,\n",
       "  'form': 1,\n",
       "  'vocalise': 1,\n",
       "  'impel': 1,\n",
       "  'accomplish': 1,\n",
       "  'witness': 2,\n",
       "  'join': 3,\n",
       "  'dilate': 1,\n",
       "  'ring': 1,\n",
       "  'ache': 1,\n",
       "  'curse': 1,\n",
       "  'convulse': 1,\n",
       "  'tremble': 1,\n",
       "  'precede': 1,\n",
       "  'let': 2,\n",
       "  'resist': 2,\n",
       "  'accompany': 1,\n",
       "  'sneer': 1,\n",
       "  'embattle': 1,\n",
       "  'assume': 1,\n",
       "  'connect': 5,\n",
       "  'achieve': 2,\n",
       "  'need': 2,\n",
       "  'build': 1,\n",
       "  'discover': 1,\n",
       "  'adapt': 1,\n",
       "  'reflect': 1,\n",
       "  'resort': 1,\n",
       "  'gnaw': 2,\n",
       "  'revive': 1,\n",
       "  'harden': 2,\n",
       "  'intervene': 1,\n",
       "  'dare': 1,\n",
       "  'dawn': 1,\n",
       "  'prolong': 1,\n",
       "  'degenerate': 3,\n",
       "  'gloat': 1,\n",
       "  'commit': 2,\n",
       "  'conquer': 2,\n",
       "  'nourish': 1,\n",
       "  'hatch': 1,\n",
       "  'exist': 2,\n",
       "  'link': 1,\n",
       "  'slaughter': 1,\n",
       "  'assign': 2,\n",
       "  'devise': 1,\n",
       "  'classify': 1,\n",
       "  'employ': 1,\n",
       "  'cultivate': 1,\n",
       "  'maintain': 1,\n",
       "  'incubate': 1,\n",
       "  'multiply': 1,\n",
       "  'assure': 1,\n",
       "  'study': 2,\n",
       "  'pilot': 1,\n",
       "  'yield': 1,\n",
       "  'decapitate': 2,\n",
       "  'finish': 2,\n",
       "  'sever': 1,\n",
       "  'preserve': 1,\n",
       "  'engraft': 1,\n",
       "  'exhibit': 1,\n",
       "  'exemplify': 1,\n",
       "  'describe': 1,\n",
       "  'faint': 1,\n",
       "  'sprout': 1,\n",
       "  'bubble': 1,\n",
       "  'bake': 1,\n",
       "  'wink': 1,\n",
       "  'observe': 1,\n",
       "  'relegate': 1,\n",
       "  'commence': 1,\n",
       "  'heave': 1,\n",
       "  'stir': 1,\n",
       "  'contract': 1,\n",
       "  'writhe': 1,\n",
       "  'gainsay': 1,\n",
       "  'jump': 1,\n",
       "  'crawl': 1,\n",
       "  'admit': 1,\n",
       "  'perfect': 1,\n",
       "  'wake': 1,\n",
       "  'reawaken': 1,\n",
       "  'transform': 1,\n",
       "  'emerge': 1,\n",
       "  'sear': 1,\n",
       "  'glance': 1,\n",
       "  'entail': 1,\n",
       "  'rifle': 1,\n",
       "  'thrust': 1,\n",
       "  'survive': 1,\n",
       "  'vitalise': 1,\n",
       "  'hint': 1,\n",
       "  'intensify': 1,\n",
       "  'arise': 1,\n",
       "  'duplicate': 1,\n",
       "  'investigate': 1,\n",
       "  'wipe': 1,\n",
       "  'overlook': 1,\n",
       "  'construct': 1,\n",
       "  'contain': 2,\n",
       "  'correspond': 1,\n",
       "  'represent': 1,\n",
       "  'drip': 1,\n",
       "  'betray': 1,\n",
       "  'plaster': 1,\n",
       "  'change': 1,\n",
       "  'paw': 1,\n",
       "  'divide': 1,\n",
       "  'stun': 1,\n",
       "  'baffle': 1,\n",
       "  'shock': 1,\n",
       "  'paint': 1,\n",
       "  'befall': 1,\n",
       "  'eat': 1,\n",
       "  'precipitate': 1,\n",
       "  'trample': 1,\n",
       "  'bite': 1,\n",
       "  'flee': 1,\n",
       "  'act': 1,\n",
       "  'face': 1,\n",
       "  'summon': 1,\n",
       "  'read': 1,\n",
       "  'sit': 1,\n",
       "  'startle': 1,\n",
       "  'deposit': 1,\n",
       "  'grunt': 1,\n",
       "  'file': 1,\n",
       "  'abut': 1,\n",
       "  'slam': 1,\n",
       "  'shell': 1,\n",
       "  'excite': 1,\n",
       "  'listen': 1,\n",
       "  'remember': 1,\n",
       "  'insert': 1,\n",
       "  'smell': 1,\n",
       "  'outline': 1,\n",
       "  'spring': 1,\n",
       "  'tear': 1,\n",
       "  'head': 1,\n",
       "  'wear': 1,\n",
       "  'blaze': 1,\n",
       "  'deny': 1,\n",
       "  'point': 1,\n",
       "  'laugh': 1}}"
      ]
     },
     "execution_count": 17,
     "metadata": {},
     "output_type": "execute_result"
    }
   ],
   "source": [
    "word_count_dict"
   ]
  },
  {
   "cell_type": "code",
   "execution_count": 21,
   "metadata": {
    "hidden": true
   },
   "outputs": [],
   "source": [
    "def filter_word_count_dict_to_frequent(word_count_dict, threshold):\n",
    "    \"\"\"\n",
    "    Loops through word_count_dict, only keeps items where \n",
    "    value is higher than a certain threshold\n",
    "    \"\"\"\n",
    "    frequent_word_count_dict = {}\n",
    "    for pos in ['NOUN', 'PROPN', 'ADJ', 'VERB']:\n",
    "        frequent_word_count_dict[pos] = {}\n",
    "        for key in word_count_dict[pos]:\n",
    "            if word_count_dict[pos][key] > threshold:\n",
    "                frequent_word_count_dict[pos][key] = word_count_dict[pos][key]\n",
    "                \n",
    "    return frequent_word_count_dict\n",
    "        "
   ]
  },
  {
   "cell_type": "code",
   "execution_count": 22,
   "metadata": {
    "hidden": true
   },
   "outputs": [],
   "source": [
    "frequent_word_count_dict = \\\n",
    "    word_count_func.filter_word_count_dict_to_frequent(word_count_dict, 10)"
   ]
  },
  {
   "cell_type": "code",
   "execution_count": 23,
   "metadata": {
    "hidden": true
   },
   "outputs": [
    {
     "data": {
      "text/plain": [
       "{'NOUN': {'friend': 13,\n",
       "  'college': 21,\n",
       "  'life': 39,\n",
       "  'work': 18,\n",
       "  'year': 19,\n",
       "  'experiment': 24,\n",
       "  'fear': 13,\n",
       "  'death': 16,\n",
       "  'solution': 22,\n",
       "  'time': 20,\n",
       "  'case': 11,\n",
       "  'reanimation': 13,\n",
       "  'corpse': 14,\n",
       "  'specimen': 34,\n",
       "  'body': 49,\n",
       "  'eye': 17,\n",
       "  'field': 15,\n",
       "  'thing': 53,\n",
       "  'room': 12,\n",
       "  'laboratory': 18,\n",
       "  'house': 16,\n",
       "  'horror': 15,\n",
       "  'man': 28,\n",
       "  'result': 15,\n",
       "  'night': 17,\n",
       "  'sound': 14,\n",
       "  'police': 13},\n",
       " 'PROPN': {'Herbert': 20, 'West': 132, 'Arkham': 18, 'Dr.': 15, 'Bolton': 12},\n",
       " 'ADJ': {'great': 20,\n",
       "  'hideous': 17,\n",
       "  'dead': 23,\n",
       "  'human': 21,\n",
       "  'fresh': 28,\n",
       "  'small': 12,\n",
       "  'new': 14,\n",
       "  'large': 12},\n",
       " 'VERB': {'see': 17,\n",
       "  'come': 24,\n",
       "  'hold': 11,\n",
       "  'know': 18,\n",
       "  'find': 14,\n",
       "  'restore': 11,\n",
       "  'inject': 15,\n",
       "  'think': 18,\n",
       "  'look': 14,\n",
       "  'tell': 11}}"
      ]
     },
     "execution_count": 23,
     "metadata": {},
     "output_type": "execute_result"
    }
   ],
   "source": [
    "frequent_word_count_dict"
   ]
  },
  {
   "cell_type": "markdown",
   "metadata": {
    "hidden": true
   },
   "source": [
    "Next, saving this as JSON. "
   ]
  },
  {
   "cell_type": "code",
   "execution_count": 12,
   "metadata": {
    "hidden": true
   },
   "outputs": [],
   "source": [
    "import json"
   ]
  },
  {
   "cell_type": "code",
   "execution_count": 24,
   "metadata": {
    "hidden": true
   },
   "outputs": [],
   "source": [
    "with open('./results/word_counts/herbert.json', 'w') as fp:\n",
    "    json.dump(frequent_word_count_dict, fp)"
   ]
  },
  {
   "cell_type": "markdown",
   "metadata": {
    "hidden": true
   },
   "source": [
    "Testing if we can load it back later: "
   ]
  },
  {
   "cell_type": "code",
   "execution_count": 13,
   "metadata": {
    "hidden": true
   },
   "outputs": [],
   "source": [
    "with open('./results/word_counts/herbert.json') as fp:\n",
    "    frequent_word_count_dict = json.load(fp)"
   ]
  },
  {
   "cell_type": "markdown",
   "metadata": {
    "hidden": true
   },
   "source": [
    "## Putting the Process Together"
   ]
  },
  {
   "cell_type": "markdown",
   "metadata": {
    "hidden": true
   },
   "source": [
    "This is basically the project, after experimentation above. "
   ]
  },
  {
   "cell_type": "code",
   "execution_count": 36,
   "metadata": {
    "hidden": true
   },
   "outputs": [],
   "source": [
    "number_of_words_to_collect = 5\n",
    "list_of_pos = ['NOUN', 'ADJ', 'VERB']\n",
    "\n",
    "words = {}\n",
    "word_counts = {}\n",
    "\n",
    "for part_of_speech in list_of_pos:\n",
    "    words[part_of_speech] = {}\n",
    "    word_counts[part_of_speech] = {}\n",
    "    for number in range(number_of_words_to_collect):\n",
    "        words[part_of_speech][number] = []\n",
    "        word_counts[part_of_speech][number] = []"
   ]
  },
  {
   "cell_type": "code",
   "execution_count": 37,
   "metadata": {
    "hidden": true
   },
   "outputs": [
    {
     "name": "stdout",
     "output_type": "stream",
     "text": [
      "Currently processing: the_tomb\n",
      "Currently processing: dagon\n",
      "Currently processing: polaris\n",
      "Currently processing: beyond_the_wall_of_sleep\n",
      "Currently processing: memory\n",
      "Currently processing: old_bugs\n",
      "Currently processing: the_transition_of_juan_romero\n",
      "Currently processing: the_white_ship\n",
      "Currently processing: the_doom_that_came_to_sarnath\n",
      "Currently processing: the_statement_of_randolph_carter\n",
      "Currently processing: the_terrible_old_man\n",
      "Currently processing: the_tree\n",
      "Currently processing: the_cats_of_ulthar\n",
      "Currently processing: the_temple\n",
      "Currently processing: facts_concerning_the_late_arthur_jermyn_and_his_family\n",
      "Currently processing: the_street\n",
      "Currently processing: celephaïs\n",
      "Currently processing: from_beyond\n",
      "Currently processing: nyarlathotep\n",
      "Currently processing: the_picture_in_the_house\n",
      "Currently processing: ex_oblivione\n",
      "Currently processing: the_nameless_city\n",
      "Currently processing: the_quest_of_iranon\n",
      "Currently processing: the_moon-bog\n",
      "Currently processing: the_outsider\n",
      "Currently processing: the_other_gods\n",
      "Currently processing: the_music_of_erich_zann\n",
      "Currently processing: herbert_west_—_reanimator\n",
      "Currently processing: hypnos\n",
      "Currently processing: what_the_moon_brings\n",
      "Currently processing: azathoth\n",
      "Currently processing: the_hound\n",
      "Currently processing: the_lurking_fear\n",
      "Currently processing: the_rats_in_the_walls\n",
      "Currently processing: the_unnamable\n",
      "Currently processing: the_festival\n",
      "Currently processing: the_shunned_house\n",
      "Currently processing: the_horror_at_red_hook\n",
      "Currently processing: he\n",
      "Currently processing: in_the_vault\n",
      "Currently processing: the_descendant\n",
      "Currently processing: cool_air\n",
      "Currently processing: the_call_of_cthulhu\n",
      "Currently processing: pickman's_model\n",
      "Currently processing: the_silver_key\n",
      "Currently processing: the_strange_high_house_in_the_mist\n",
      "Currently processing: the_dream-quest_of_unknown_kadath\n",
      "Currently processing: the_case_of_charles_dexter_ward\n",
      "Currently processing: the_colour_out_of_space\n",
      "Currently processing: the_very_old_folk\n",
      "Currently processing: the_thing_in_the_moonlight\n",
      "Currently processing: the_history_of_the_necronomicon\n",
      "Currently processing: ibid\n",
      "Currently processing: the_dunwich_horror\n",
      "Currently processing: the_whisperer_in_darkness\n",
      "Currently processing: at_the_mountains_of_madness\n",
      "Currently processing: the_shadow_over_innsmouth\n",
      "Currently processing: the_dreams_in_the_witch_house\n",
      "Currently processing: the_thing_on_the_doorstep\n",
      "Currently processing: the_evil_clergyman\n",
      "Currently processing: the_book\n",
      "Currently processing: the_shadow_out_of_time\n",
      "Currently processing: the_haunter_of_the_dark\n"
     ]
    }
   ],
   "source": [
    "for filename in filenames: \n",
    "    my_file = open(txt_adjusted_folder + filename + '.txt')\n",
    "    print(\"Currently processing: \" + filename)\n",
    "    raw_text = my_file.read()\n",
    "    word_count_dict = \\ \n",
    "        word_count_func.create_word_counts_by_pos(\n",
    "            raw_text, list_of_pos)\n",
    "    most_frequent_list_dict = \\\n",
    "        word_count_func.collect_most_frequent_words(\n",
    "            word_count_dict, number_of_words_to_collect)\n",
    "    for part_of_speech in list_of_pos:\n",
    "        for number in range(number_of_words_to_collect):\n",
    "            words[part_of_speech][number].append(\n",
    "                most_frequent_list_dict[part_of_speech][number][0])\n",
    "            word_counts[part_of_speech][number].append(\n",
    "                most_frequent_list_dict[part_of_speech][number][1])"
   ]
  },
  {
   "cell_type": "code",
   "execution_count": 39,
   "metadata": {
    "hidden": true
   },
   "outputs": [],
   "source": [
    "noun_counts = pd.DataFrame()\n",
    "noun_counts['filename'] = filenames\n",
    "for i in range(number_of_words_to_collect):\n",
    "    noun_counts['word_' + str(i+1)] = words['NOUN'][i]\n",
    "    noun_counts['word_' + str(i+1) + '_count'] = word_counts['NOUN'][i]"
   ]
  },
  {
   "cell_type": "code",
   "execution_count": 43,
   "metadata": {
    "hidden": true
   },
   "outputs": [],
   "source": [
    "verb_counts = pd.DataFrame()\n",
    "verb_counts['filename'] = filenames\n",
    "for i in range(number_of_words_to_collect):\n",
    "    verb_counts['word_' + str(i+1)] = words['VERB'][i]\n",
    "    verb_counts['word_' + str(i+1) + '_count'] = word_counts['VERB'][i]"
   ]
  },
  {
   "cell_type": "code",
   "execution_count": 45,
   "metadata": {
    "hidden": true
   },
   "outputs": [],
   "source": [
    "adj_counts = pd.DataFrame()\n",
    "adj_counts['filename'] = filenames\n",
    "for i in range(number_of_words_to_collect):\n",
    "    adj_counts['word_' + str(i+1)] = words['ADJ'][i]\n",
    "    adj_counts['word_' + str(i+1) + '_count'] = word_counts['ADJ'][i]"
   ]
  },
  {
   "cell_type": "code",
   "execution_count": 56,
   "metadata": {
    "hidden": true
   },
   "outputs": [],
   "source": [
    "#save them in csvs\n",
    "noun_counts.to_csv('./results/word_counts/most_frequent_words/most_frequent_nouns.csv', index = False)\n",
    "verb_counts.to_csv('./results/word_counts/most_frequent_words/most_frequent_verbs.csv', index = False)\n",
    "adj_counts.to_csv('./results/word_counts/most_frequent_words/most_frequent_adjs.csv', index = False)"
   ]
  },
  {
   "cell_type": "code",
   "execution_count": 14,
   "metadata": {
    "hidden": true
   },
   "outputs": [],
   "source": [
    "#read in the csvs\n",
    "noun_counts = pd.read_csv('./results/word_counts/most_frequent_words/most_frequent_nouns.csv')\n",
    "verb_counts  = pd.read_csv('./results/word_counts/most_frequent_words/most_frequent_verbs.csv')\n",
    "adj_counts = pd.read_csv('./results/word_counts/most_frequent_words/most_frequent_adjs.csv')"
   ]
  },
  {
   "cell_type": "code",
   "execution_count": 19,
   "metadata": {
    "hidden": true
   },
   "outputs": [
    {
     "data": {
      "text/html": [
       "<div>\n",
       "<style scoped>\n",
       "    .dataframe tbody tr th:only-of-type {\n",
       "        vertical-align: middle;\n",
       "    }\n",
       "\n",
       "    .dataframe tbody tr th {\n",
       "        vertical-align: top;\n",
       "    }\n",
       "\n",
       "    .dataframe thead th {\n",
       "        text-align: right;\n",
       "    }\n",
       "</style>\n",
       "<table border=\"1\" class=\"dataframe\">\n",
       "  <thead>\n",
       "    <tr style=\"text-align: right;\">\n",
       "      <th></th>\n",
       "      <th>filename</th>\n",
       "      <th>word_1</th>\n",
       "      <th>word_1_count</th>\n",
       "      <th>word_2</th>\n",
       "      <th>word_2_count</th>\n",
       "      <th>word_3</th>\n",
       "      <th>word_3_count</th>\n",
       "      <th>word_4</th>\n",
       "      <th>word_4_count</th>\n",
       "      <th>word_5</th>\n",
       "      <th>word_5_count</th>\n",
       "    </tr>\n",
       "  </thead>\n",
       "  <tbody>\n",
       "    <tr>\n",
       "      <td>0</td>\n",
       "      <td>the_tomb</td>\n",
       "      <td>know</td>\n",
       "      <td>14</td>\n",
       "      <td>come</td>\n",
       "      <td>13</td>\n",
       "      <td>feel</td>\n",
       "      <td>8</td>\n",
       "      <td>tell</td>\n",
       "      <td>7</td>\n",
       "      <td>bear</td>\n",
       "      <td>7</td>\n",
       "    </tr>\n",
       "    <tr>\n",
       "      <td>1</td>\n",
       "      <td>dagon</td>\n",
       "      <td>know</td>\n",
       "      <td>7</td>\n",
       "      <td>shall</td>\n",
       "      <td>6</td>\n",
       "      <td>think</td>\n",
       "      <td>6</td>\n",
       "      <td>rise</td>\n",
       "      <td>6</td>\n",
       "      <td>find</td>\n",
       "      <td>4</td>\n",
       "    </tr>\n",
       "    <tr>\n",
       "      <td>2</td>\n",
       "      <td>polaris</td>\n",
       "      <td>save</td>\n",
       "      <td>6</td>\n",
       "      <td>sleep</td>\n",
       "      <td>5</td>\n",
       "      <td>watch</td>\n",
       "      <td>4</td>\n",
       "      <td>leer</td>\n",
       "      <td>4</td>\n",
       "      <td>convey</td>\n",
       "      <td>4</td>\n",
       "    </tr>\n",
       "    <tr>\n",
       "      <td>3</td>\n",
       "      <td>beyond_the_wall_of_sleep</td>\n",
       "      <td>come</td>\n",
       "      <td>9</td>\n",
       "      <td>know</td>\n",
       "      <td>9</td>\n",
       "      <td>wake</td>\n",
       "      <td>6</td>\n",
       "      <td>feel</td>\n",
       "      <td>6</td>\n",
       "      <td>give</td>\n",
       "      <td>5</td>\n",
       "    </tr>\n",
       "    <tr>\n",
       "      <td>4</td>\n",
       "      <td>memory</td>\n",
       "      <td>recall</td>\n",
       "      <td>3</td>\n",
       "      <td>forget</td>\n",
       "      <td>2</td>\n",
       "      <td>grow</td>\n",
       "      <td>2</td>\n",
       "      <td>crumble</td>\n",
       "      <td>2</td>\n",
       "      <td>wane</td>\n",
       "      <td>1</td>\n",
       "    </tr>\n",
       "    <tr>\n",
       "      <td>5</td>\n",
       "      <td>old_bugs</td>\n",
       "      <td>know</td>\n",
       "      <td>12</td>\n",
       "      <td>come</td>\n",
       "      <td>7</td>\n",
       "      <td>want</td>\n",
       "      <td>7</td>\n",
       "      <td>rise</td>\n",
       "      <td>5</td>\n",
       "      <td>remain</td>\n",
       "      <td>4</td>\n",
       "    </tr>\n",
       "    <tr>\n",
       "      <td>6</td>\n",
       "      <td>the_transition_of_juan_romero</td>\n",
       "      <td>come</td>\n",
       "      <td>8</td>\n",
       "      <td>hear</td>\n",
       "      <td>7</td>\n",
       "      <td>see</td>\n",
       "      <td>6</td>\n",
       "      <td>know</td>\n",
       "      <td>5</td>\n",
       "      <td>find</td>\n",
       "      <td>5</td>\n",
       "    </tr>\n",
       "    <tr>\n",
       "      <td>7</td>\n",
       "      <td>the_white_ship</td>\n",
       "      <td>come</td>\n",
       "      <td>12</td>\n",
       "      <td>see</td>\n",
       "      <td>10</td>\n",
       "      <td>sail</td>\n",
       "      <td>9</td>\n",
       "      <td>tell</td>\n",
       "      <td>9</td>\n",
       "      <td>know</td>\n",
       "      <td>8</td>\n",
       "    </tr>\n",
       "    <tr>\n",
       "      <td>8</td>\n",
       "      <td>the_doom_that_came_to_sarnath</td>\n",
       "      <td>come</td>\n",
       "      <td>7</td>\n",
       "      <td>know</td>\n",
       "      <td>6</td>\n",
       "      <td>see</td>\n",
       "      <td>6</td>\n",
       "      <td>find</td>\n",
       "      <td>5</td>\n",
       "      <td>stand</td>\n",
       "      <td>4</td>\n",
       "    </tr>\n",
       "    <tr>\n",
       "      <td>9</td>\n",
       "      <td>the_statement_of_randolph_carter</td>\n",
       "      <td>come</td>\n",
       "      <td>10</td>\n",
       "      <td>know</td>\n",
       "      <td>10</td>\n",
       "      <td>hear</td>\n",
       "      <td>9</td>\n",
       "      <td>tell</td>\n",
       "      <td>8</td>\n",
       "      <td>say</td>\n",
       "      <td>7</td>\n",
       "    </tr>\n",
       "    <tr>\n",
       "      <td>10</td>\n",
       "      <td>the_terrible_old_man</td>\n",
       "      <td>hear</td>\n",
       "      <td>4</td>\n",
       "      <td>talk</td>\n",
       "      <td>3</td>\n",
       "      <td>make</td>\n",
       "      <td>3</td>\n",
       "      <td>watch</td>\n",
       "      <td>3</td>\n",
       "      <td>see</td>\n",
       "      <td>3</td>\n",
       "    </tr>\n",
       "    <tr>\n",
       "      <td>11</td>\n",
       "      <td>the_tree</td>\n",
       "      <td>speak</td>\n",
       "      <td>6</td>\n",
       "      <td>stand</td>\n",
       "      <td>5</td>\n",
       "      <td>know</td>\n",
       "      <td>5</td>\n",
       "      <td>come</td>\n",
       "      <td>5</td>\n",
       "      <td>grow</td>\n",
       "      <td>4</td>\n",
       "    </tr>\n",
       "    <tr>\n",
       "      <td>12</td>\n",
       "      <td>the_cats_of_ulthar</td>\n",
       "      <td>take</td>\n",
       "      <td>5</td>\n",
       "      <td>find</td>\n",
       "      <td>5</td>\n",
       "      <td>hear</td>\n",
       "      <td>4</td>\n",
       "      <td>tell</td>\n",
       "      <td>4</td>\n",
       "      <td>see</td>\n",
       "      <td>4</td>\n",
       "    </tr>\n",
       "    <tr>\n",
       "      <td>13</td>\n",
       "      <td>the_temple</td>\n",
       "      <td>find</td>\n",
       "      <td>12</td>\n",
       "      <td>come</td>\n",
       "      <td>11</td>\n",
       "      <td>see</td>\n",
       "      <td>9</td>\n",
       "      <td>grow</td>\n",
       "      <td>8</td>\n",
       "      <td>know</td>\n",
       "      <td>7</td>\n",
       "    </tr>\n",
       "    <tr>\n",
       "      <td>14</td>\n",
       "      <td>facts_concerning_the_late_arthur_jermyn_and_hi...</td>\n",
       "      <td>hear</td>\n",
       "      <td>10</td>\n",
       "      <td>come</td>\n",
       "      <td>8</td>\n",
       "      <td>stuff</td>\n",
       "      <td>8</td>\n",
       "      <td>see</td>\n",
       "      <td>7</td>\n",
       "      <td>find</td>\n",
       "      <td>6</td>\n",
       "    </tr>\n",
       "    <tr>\n",
       "      <td>15</td>\n",
       "      <td>the_street</td>\n",
       "      <td>come</td>\n",
       "      <td>20</td>\n",
       "      <td>know</td>\n",
       "      <td>9</td>\n",
       "      <td>tell</td>\n",
       "      <td>6</td>\n",
       "      <td>go</td>\n",
       "      <td>6</td>\n",
       "      <td>grow</td>\n",
       "      <td>5</td>\n",
       "    </tr>\n",
       "    <tr>\n",
       "      <td>16</td>\n",
       "      <td>celephaïs</td>\n",
       "      <td>come</td>\n",
       "      <td>14</td>\n",
       "      <td>see</td>\n",
       "      <td>11</td>\n",
       "      <td>find</td>\n",
       "      <td>8</td>\n",
       "      <td>meet</td>\n",
       "      <td>7</td>\n",
       "      <td>sail</td>\n",
       "      <td>6</td>\n",
       "    </tr>\n",
       "    <tr>\n",
       "      <td>17</td>\n",
       "      <td>from_beyond</td>\n",
       "      <td>see</td>\n",
       "      <td>21</td>\n",
       "      <td>know</td>\n",
       "      <td>14</td>\n",
       "      <td>tell</td>\n",
       "      <td>11</td>\n",
       "      <td>feel</td>\n",
       "      <td>9</td>\n",
       "      <td>hear</td>\n",
       "      <td>7</td>\n",
       "    </tr>\n",
       "    <tr>\n",
       "      <td>18</td>\n",
       "      <td>nyarlathotep</td>\n",
       "      <td>see</td>\n",
       "      <td>6</td>\n",
       "      <td>tell</td>\n",
       "      <td>5</td>\n",
       "      <td>come</td>\n",
       "      <td>5</td>\n",
       "      <td>go</td>\n",
       "      <td>4</td>\n",
       "      <td>hear</td>\n",
       "      <td>4</td>\n",
       "    </tr>\n",
       "    <tr>\n",
       "      <td>19</td>\n",
       "      <td>the_picture_in_the_house</td>\n",
       "      <td>feel</td>\n",
       "      <td>7</td>\n",
       "      <td>look</td>\n",
       "      <td>7</td>\n",
       "      <td>come</td>\n",
       "      <td>6</td>\n",
       "      <td>tell</td>\n",
       "      <td>6</td>\n",
       "      <td>see</td>\n",
       "      <td>5</td>\n",
       "    </tr>\n",
       "    <tr>\n",
       "      <td>20</td>\n",
       "      <td>ex_oblivione</td>\n",
       "      <td>find</td>\n",
       "      <td>3</td>\n",
       "      <td>know</td>\n",
       "      <td>3</td>\n",
       "      <td>drive</td>\n",
       "      <td>2</td>\n",
       "      <td>fall</td>\n",
       "      <td>2</td>\n",
       "      <td>walk</td>\n",
       "      <td>2</td>\n",
       "    </tr>\n",
       "    <tr>\n",
       "      <td>21</td>\n",
       "      <td>the_nameless_city</td>\n",
       "      <td>see</td>\n",
       "      <td>30</td>\n",
       "      <td>come</td>\n",
       "      <td>14</td>\n",
       "      <td>know</td>\n",
       "      <td>13</td>\n",
       "      <td>think</td>\n",
       "      <td>12</td>\n",
       "      <td>hold</td>\n",
       "      <td>10</td>\n",
       "    </tr>\n",
       "    <tr>\n",
       "      <td>22</td>\n",
       "      <td>the_quest_of_iranon</td>\n",
       "      <td>sing</td>\n",
       "      <td>19</td>\n",
       "      <td>come</td>\n",
       "      <td>14</td>\n",
       "      <td>find</td>\n",
       "      <td>12</td>\n",
       "      <td>tell</td>\n",
       "      <td>10</td>\n",
       "      <td>shall</td>\n",
       "      <td>10</td>\n",
       "    </tr>\n",
       "    <tr>\n",
       "      <td>23</td>\n",
       "      <td>the_moon-bog</td>\n",
       "      <td>see</td>\n",
       "      <td>14</td>\n",
       "      <td>come</td>\n",
       "      <td>13</td>\n",
       "      <td>hear</td>\n",
       "      <td>12</td>\n",
       "      <td>know</td>\n",
       "      <td>10</td>\n",
       "      <td>tell</td>\n",
       "      <td>9</td>\n",
       "    </tr>\n",
       "    <tr>\n",
       "      <td>24</td>\n",
       "      <td>the_outsider</td>\n",
       "      <td>know</td>\n",
       "      <td>14</td>\n",
       "      <td>find</td>\n",
       "      <td>10</td>\n",
       "      <td>reach</td>\n",
       "      <td>8</td>\n",
       "      <td>try</td>\n",
       "      <td>7</td>\n",
       "      <td>see</td>\n",
       "      <td>7</td>\n",
       "    </tr>\n",
       "    <tr>\n",
       "      <td>25</td>\n",
       "      <td>the_other_gods</td>\n",
       "      <td>hear</td>\n",
       "      <td>10</td>\n",
       "      <td>grow</td>\n",
       "      <td>9</td>\n",
       "      <td>come</td>\n",
       "      <td>6</td>\n",
       "      <td>know</td>\n",
       "      <td>6</td>\n",
       "      <td>climb</td>\n",
       "      <td>6</td>\n",
       "    </tr>\n",
       "    <tr>\n",
       "      <td>26</td>\n",
       "      <td>the_music_of_erich_zann</td>\n",
       "      <td>hear</td>\n",
       "      <td>16</td>\n",
       "      <td>know</td>\n",
       "      <td>12</td>\n",
       "      <td>look</td>\n",
       "      <td>10</td>\n",
       "      <td>find</td>\n",
       "      <td>8</td>\n",
       "      <td>play</td>\n",
       "      <td>7</td>\n",
       "    </tr>\n",
       "    <tr>\n",
       "      <td>27</td>\n",
       "      <td>herbert_west_—_reanimator</td>\n",
       "      <td>come</td>\n",
       "      <td>24</td>\n",
       "      <td>know</td>\n",
       "      <td>18</td>\n",
       "      <td>think</td>\n",
       "      <td>18</td>\n",
       "      <td>see</td>\n",
       "      <td>17</td>\n",
       "      <td>inject</td>\n",
       "      <td>15</td>\n",
       "    </tr>\n",
       "    <tr>\n",
       "      <td>28</td>\n",
       "      <td>hypnos</td>\n",
       "      <td>know</td>\n",
       "      <td>8</td>\n",
       "      <td>see</td>\n",
       "      <td>8</td>\n",
       "      <td>come</td>\n",
       "      <td>7</td>\n",
       "      <td>say</td>\n",
       "      <td>5</td>\n",
       "      <td>tell</td>\n",
       "      <td>5</td>\n",
       "    </tr>\n",
       "    <tr>\n",
       "      <td>29</td>\n",
       "      <td>what_the_moon_brings</td>\n",
       "      <td>see</td>\n",
       "      <td>11</td>\n",
       "      <td>shine</td>\n",
       "      <td>4</td>\n",
       "      <td>bring</td>\n",
       "      <td>3</td>\n",
       "      <td>know</td>\n",
       "      <td>3</td>\n",
       "      <td>watch</td>\n",
       "      <td>3</td>\n",
       "    </tr>\n",
       "    <tr>\n",
       "      <td>30</td>\n",
       "      <td>azathoth</td>\n",
       "      <td>come</td>\n",
       "      <td>3</td>\n",
       "      <td>lean</td>\n",
       "      <td>3</td>\n",
       "      <td>go</td>\n",
       "      <td>2</td>\n",
       "      <td>dream</td>\n",
       "      <td>2</td>\n",
       "      <td>pass</td>\n",
       "      <td>2</td>\n",
       "    </tr>\n",
       "    <tr>\n",
       "      <td>31</td>\n",
       "      <td>the_hound</td>\n",
       "      <td>hear</td>\n",
       "      <td>12</td>\n",
       "      <td>know</td>\n",
       "      <td>7</td>\n",
       "      <td>hold</td>\n",
       "      <td>6</td>\n",
       "      <td>think</td>\n",
       "      <td>6</td>\n",
       "      <td>see</td>\n",
       "      <td>6</td>\n",
       "    </tr>\n",
       "    <tr>\n",
       "      <td>32</td>\n",
       "      <td>the_lurking_fear</td>\n",
       "      <td>come</td>\n",
       "      <td>22</td>\n",
       "      <td>know</td>\n",
       "      <td>21</td>\n",
       "      <td>find</td>\n",
       "      <td>18</td>\n",
       "      <td>lurk</td>\n",
       "      <td>17</td>\n",
       "      <td>leave</td>\n",
       "      <td>17</td>\n",
       "    </tr>\n",
       "    <tr>\n",
       "      <td>33</td>\n",
       "      <td>the_rats_in_the_walls</td>\n",
       "      <td>find</td>\n",
       "      <td>22</td>\n",
       "      <td>know</td>\n",
       "      <td>21</td>\n",
       "      <td>see</td>\n",
       "      <td>17</td>\n",
       "      <td>come</td>\n",
       "      <td>14</td>\n",
       "      <td>tell</td>\n",
       "      <td>12</td>\n",
       "    </tr>\n",
       "    <tr>\n",
       "      <td>34</td>\n",
       "      <td>the_unnamable</td>\n",
       "      <td>tell</td>\n",
       "      <td>14</td>\n",
       "      <td>know</td>\n",
       "      <td>12</td>\n",
       "      <td>see</td>\n",
       "      <td>8</td>\n",
       "      <td>come</td>\n",
       "      <td>8</td>\n",
       "      <td>leave</td>\n",
       "      <td>7</td>\n",
       "    </tr>\n",
       "    <tr>\n",
       "      <td>35</td>\n",
       "      <td>the_festival</td>\n",
       "      <td>see</td>\n",
       "      <td>24</td>\n",
       "      <td>hear</td>\n",
       "      <td>11</td>\n",
       "      <td>know</td>\n",
       "      <td>8</td>\n",
       "      <td>come</td>\n",
       "      <td>8</td>\n",
       "      <td>look</td>\n",
       "      <td>5</td>\n",
       "    </tr>\n",
       "    <tr>\n",
       "      <td>36</td>\n",
       "      <td>the_shunned_house</td>\n",
       "      <td>see</td>\n",
       "      <td>20</td>\n",
       "      <td>know</td>\n",
       "      <td>19</td>\n",
       "      <td>shun</td>\n",
       "      <td>18</td>\n",
       "      <td>die</td>\n",
       "      <td>13</td>\n",
       "      <td>bear</td>\n",
       "      <td>13</td>\n",
       "    </tr>\n",
       "    <tr>\n",
       "      <td>37</td>\n",
       "      <td>the_horror_at_red_hook</td>\n",
       "      <td>know</td>\n",
       "      <td>16</td>\n",
       "      <td>come</td>\n",
       "      <td>16</td>\n",
       "      <td>look</td>\n",
       "      <td>12</td>\n",
       "      <td>see</td>\n",
       "      <td>12</td>\n",
       "      <td>find</td>\n",
       "      <td>11</td>\n",
       "    </tr>\n",
       "    <tr>\n",
       "      <td>38</td>\n",
       "      <td>he</td>\n",
       "      <td>see</td>\n",
       "      <td>19</td>\n",
       "      <td>come</td>\n",
       "      <td>11</td>\n",
       "      <td>find</td>\n",
       "      <td>6</td>\n",
       "      <td>shew</td>\n",
       "      <td>6</td>\n",
       "      <td>keep</td>\n",
       "      <td>6</td>\n",
       "    </tr>\n",
       "    <tr>\n",
       "      <td>39</td>\n",
       "      <td>in_the_vault</td>\n",
       "      <td>begin</td>\n",
       "      <td>8</td>\n",
       "      <td>know</td>\n",
       "      <td>7</td>\n",
       "      <td>give</td>\n",
       "      <td>7</td>\n",
       "      <td>feel</td>\n",
       "      <td>5</td>\n",
       "      <td>wish</td>\n",
       "      <td>5</td>\n",
       "    </tr>\n",
       "    <tr>\n",
       "      <td>40</td>\n",
       "      <td>the_descendant</td>\n",
       "      <td>know</td>\n",
       "      <td>5</td>\n",
       "      <td>tell</td>\n",
       "      <td>5</td>\n",
       "      <td>find</td>\n",
       "      <td>5</td>\n",
       "      <td>try</td>\n",
       "      <td>3</td>\n",
       "      <td>look</td>\n",
       "      <td>3</td>\n",
       "    </tr>\n",
       "    <tr>\n",
       "      <td>41</td>\n",
       "      <td>cool_air</td>\n",
       "      <td>come</td>\n",
       "      <td>6</td>\n",
       "      <td>hear</td>\n",
       "      <td>6</td>\n",
       "      <td>know</td>\n",
       "      <td>6</td>\n",
       "      <td>see</td>\n",
       "      <td>5</td>\n",
       "      <td>find</td>\n",
       "      <td>4</td>\n",
       "    </tr>\n",
       "    <tr>\n",
       "      <td>42</td>\n",
       "      <td>the_call_of_cthulhu</td>\n",
       "      <td>come</td>\n",
       "      <td>35</td>\n",
       "      <td>know</td>\n",
       "      <td>32</td>\n",
       "      <td>find</td>\n",
       "      <td>29</td>\n",
       "      <td>tell</td>\n",
       "      <td>26</td>\n",
       "      <td>say</td>\n",
       "      <td>21</td>\n",
       "    </tr>\n",
       "    <tr>\n",
       "      <td>43</td>\n",
       "      <td>pickman's_model</td>\n",
       "      <td>know</td>\n",
       "      <td>42</td>\n",
       "      <td>see</td>\n",
       "      <td>23</td>\n",
       "      <td>shew</td>\n",
       "      <td>20</td>\n",
       "      <td>think</td>\n",
       "      <td>19</td>\n",
       "      <td>tell</td>\n",
       "      <td>18</td>\n",
       "    </tr>\n",
       "    <tr>\n",
       "      <td>44</td>\n",
       "      <td>the_silver_key</td>\n",
       "      <td>know</td>\n",
       "      <td>20</td>\n",
       "      <td>find</td>\n",
       "      <td>20</td>\n",
       "      <td>come</td>\n",
       "      <td>11</td>\n",
       "      <td>tell</td>\n",
       "      <td>10</td>\n",
       "      <td>see</td>\n",
       "      <td>10</td>\n",
       "    </tr>\n",
       "    <tr>\n",
       "      <td>45</td>\n",
       "      <td>the_strange_high_house_in_the_mist</td>\n",
       "      <td>come</td>\n",
       "      <td>21</td>\n",
       "      <td>see</td>\n",
       "      <td>15</td>\n",
       "      <td>climb</td>\n",
       "      <td>7</td>\n",
       "      <td>hear</td>\n",
       "      <td>7</td>\n",
       "      <td>grow</td>\n",
       "      <td>7</td>\n",
       "    </tr>\n",
       "    <tr>\n",
       "      <td>46</td>\n",
       "      <td>the_dream-quest_of_unknown_kadath</td>\n",
       "      <td>see</td>\n",
       "      <td>133</td>\n",
       "      <td>know</td>\n",
       "      <td>123</td>\n",
       "      <td>come</td>\n",
       "      <td>107</td>\n",
       "      <td>find</td>\n",
       "      <td>64</td>\n",
       "      <td>tell</td>\n",
       "      <td>58</td>\n",
       "    </tr>\n",
       "    <tr>\n",
       "      <td>47</td>\n",
       "      <td>the_case_of_charles_dexter_ward</td>\n",
       "      <td>come</td>\n",
       "      <td>124</td>\n",
       "      <td>find</td>\n",
       "      <td>123</td>\n",
       "      <td>see</td>\n",
       "      <td>95</td>\n",
       "      <td>know</td>\n",
       "      <td>83</td>\n",
       "      <td>tell</td>\n",
       "      <td>64</td>\n",
       "    </tr>\n",
       "    <tr>\n",
       "      <td>48</td>\n",
       "      <td>the_colour_out_of_space</td>\n",
       "      <td>see</td>\n",
       "      <td>46</td>\n",
       "      <td>come</td>\n",
       "      <td>38</td>\n",
       "      <td>go</td>\n",
       "      <td>30</td>\n",
       "      <td>tell</td>\n",
       "      <td>25</td>\n",
       "      <td>know</td>\n",
       "      <td>24</td>\n",
       "    </tr>\n",
       "    <tr>\n",
       "      <td>49</td>\n",
       "      <td>the_very_old_folk</td>\n",
       "      <td>come</td>\n",
       "      <td>6</td>\n",
       "      <td>hold</td>\n",
       "      <td>5</td>\n",
       "      <td>send</td>\n",
       "      <td>4</td>\n",
       "      <td>accompany</td>\n",
       "      <td>4</td>\n",
       "      <td>scream</td>\n",
       "      <td>4</td>\n",
       "    </tr>\n",
       "  </tbody>\n",
       "</table>\n",
       "</div>"
      ],
      "text/plain": [
       "                                             filename  word_1  word_1_count  \\\n",
       "0                                            the_tomb    know            14   \n",
       "1                                               dagon    know             7   \n",
       "2                                             polaris    save             6   \n",
       "3                            beyond_the_wall_of_sleep    come             9   \n",
       "4                                              memory  recall             3   \n",
       "5                                            old_bugs    know            12   \n",
       "6                       the_transition_of_juan_romero    come             8   \n",
       "7                                      the_white_ship    come            12   \n",
       "8                       the_doom_that_came_to_sarnath    come             7   \n",
       "9                    the_statement_of_randolph_carter    come            10   \n",
       "10                               the_terrible_old_man    hear             4   \n",
       "11                                           the_tree   speak             6   \n",
       "12                                 the_cats_of_ulthar    take             5   \n",
       "13                                         the_temple    find            12   \n",
       "14  facts_concerning_the_late_arthur_jermyn_and_hi...    hear            10   \n",
       "15                                         the_street    come            20   \n",
       "16                                          celephaïs    come            14   \n",
       "17                                        from_beyond     see            21   \n",
       "18                                       nyarlathotep     see             6   \n",
       "19                           the_picture_in_the_house    feel             7   \n",
       "20                                       ex_oblivione    find             3   \n",
       "21                                  the_nameless_city     see            30   \n",
       "22                                the_quest_of_iranon    sing            19   \n",
       "23                                       the_moon-bog     see            14   \n",
       "24                                       the_outsider    know            14   \n",
       "25                                     the_other_gods    hear            10   \n",
       "26                            the_music_of_erich_zann    hear            16   \n",
       "27                          herbert_west_—_reanimator    come            24   \n",
       "28                                             hypnos    know             8   \n",
       "29                               what_the_moon_brings     see            11   \n",
       "30                                           azathoth    come             3   \n",
       "31                                          the_hound    hear            12   \n",
       "32                                   the_lurking_fear    come            22   \n",
       "33                              the_rats_in_the_walls    find            22   \n",
       "34                                      the_unnamable    tell            14   \n",
       "35                                       the_festival     see            24   \n",
       "36                                  the_shunned_house     see            20   \n",
       "37                             the_horror_at_red_hook    know            16   \n",
       "38                                                 he     see            19   \n",
       "39                                       in_the_vault   begin             8   \n",
       "40                                     the_descendant    know             5   \n",
       "41                                           cool_air    come             6   \n",
       "42                                the_call_of_cthulhu    come            35   \n",
       "43                                    pickman's_model    know            42   \n",
       "44                                     the_silver_key    know            20   \n",
       "45                 the_strange_high_house_in_the_mist    come            21   \n",
       "46                  the_dream-quest_of_unknown_kadath     see           133   \n",
       "47                    the_case_of_charles_dexter_ward    come           124   \n",
       "48                            the_colour_out_of_space     see            46   \n",
       "49                                  the_very_old_folk    come             6   \n",
       "\n",
       "    word_2  word_2_count word_3  word_3_count     word_4  word_4_count  \\\n",
       "0     come            13   feel             8       tell             7   \n",
       "1    shall             6  think             6       rise             6   \n",
       "2    sleep             5  watch             4       leer             4   \n",
       "3     know             9   wake             6       feel             6   \n",
       "4   forget             2   grow             2    crumble             2   \n",
       "5     come             7   want             7       rise             5   \n",
       "6     hear             7    see             6       know             5   \n",
       "7      see            10   sail             9       tell             9   \n",
       "8     know             6    see             6       find             5   \n",
       "9     know            10   hear             9       tell             8   \n",
       "10    talk             3   make             3      watch             3   \n",
       "11   stand             5   know             5       come             5   \n",
       "12    find             5   hear             4       tell             4   \n",
       "13    come            11    see             9       grow             8   \n",
       "14    come             8  stuff             8        see             7   \n",
       "15    know             9   tell             6         go             6   \n",
       "16     see            11   find             8       meet             7   \n",
       "17    know            14   tell            11       feel             9   \n",
       "18    tell             5   come             5         go             4   \n",
       "19    look             7   come             6       tell             6   \n",
       "20    know             3  drive             2       fall             2   \n",
       "21    come            14   know            13      think            12   \n",
       "22    come            14   find            12       tell            10   \n",
       "23    come            13   hear            12       know            10   \n",
       "24    find            10  reach             8        try             7   \n",
       "25    grow             9   come             6       know             6   \n",
       "26    know            12   look            10       find             8   \n",
       "27    know            18  think            18        see            17   \n",
       "28     see             8   come             7        say             5   \n",
       "29   shine             4  bring             3       know             3   \n",
       "30    lean             3     go             2      dream             2   \n",
       "31    know             7   hold             6      think             6   \n",
       "32    know            21   find            18       lurk            17   \n",
       "33    know            21    see            17       come            14   \n",
       "34    know            12    see             8       come             8   \n",
       "35    hear            11   know             8       come             8   \n",
       "36    know            19   shun            18        die            13   \n",
       "37    come            16   look            12        see            12   \n",
       "38    come            11   find             6       shew             6   \n",
       "39    know             7   give             7       feel             5   \n",
       "40    tell             5   find             5        try             3   \n",
       "41    hear             6   know             6        see             5   \n",
       "42    know            32   find            29       tell            26   \n",
       "43     see            23   shew            20      think            19   \n",
       "44    find            20   come            11       tell            10   \n",
       "45     see            15  climb             7       hear             7   \n",
       "46    know           123   come           107       find            64   \n",
       "47    find           123    see            95       know            83   \n",
       "48    come            38     go            30       tell            25   \n",
       "49    hold             5   send             4  accompany             4   \n",
       "\n",
       "    word_5  word_5_count  \n",
       "0     bear             7  \n",
       "1     find             4  \n",
       "2   convey             4  \n",
       "3     give             5  \n",
       "4     wane             1  \n",
       "5   remain             4  \n",
       "6     find             5  \n",
       "7     know             8  \n",
       "8    stand             4  \n",
       "9      say             7  \n",
       "10     see             3  \n",
       "11    grow             4  \n",
       "12     see             4  \n",
       "13    know             7  \n",
       "14    find             6  \n",
       "15    grow             5  \n",
       "16    sail             6  \n",
       "17    hear             7  \n",
       "18    hear             4  \n",
       "19     see             5  \n",
       "20    walk             2  \n",
       "21    hold            10  \n",
       "22   shall            10  \n",
       "23    tell             9  \n",
       "24     see             7  \n",
       "25   climb             6  \n",
       "26    play             7  \n",
       "27  inject            15  \n",
       "28    tell             5  \n",
       "29   watch             3  \n",
       "30    pass             2  \n",
       "31     see             6  \n",
       "32   leave            17  \n",
       "33    tell            12  \n",
       "34   leave             7  \n",
       "35    look             5  \n",
       "36    bear            13  \n",
       "37    find            11  \n",
       "38    keep             6  \n",
       "39    wish             5  \n",
       "40    look             3  \n",
       "41    find             4  \n",
       "42     say            21  \n",
       "43    tell            18  \n",
       "44     see            10  \n",
       "45    grow             7  \n",
       "46    tell            58  \n",
       "47    tell            64  \n",
       "48    know            24  \n",
       "49  scream             4  "
      ]
     },
     "execution_count": 19,
     "metadata": {},
     "output_type": "execute_result"
    }
   ],
   "source": [
    "verb_counts[:50]"
   ]
  },
  {
   "cell_type": "code",
   "execution_count": 20,
   "metadata": {
    "hidden": true
   },
   "outputs": [
    {
     "data": {
      "text/html": [
       "<div>\n",
       "<style scoped>\n",
       "    .dataframe tbody tr th:only-of-type {\n",
       "        vertical-align: middle;\n",
       "    }\n",
       "\n",
       "    .dataframe tbody tr th {\n",
       "        vertical-align: top;\n",
       "    }\n",
       "\n",
       "    .dataframe thead th {\n",
       "        text-align: right;\n",
       "    }\n",
       "</style>\n",
       "<table border=\"1\" class=\"dataframe\">\n",
       "  <thead>\n",
       "    <tr style=\"text-align: right;\">\n",
       "      <th></th>\n",
       "      <th>filename</th>\n",
       "      <th>word_1</th>\n",
       "      <th>word_1_count</th>\n",
       "      <th>word_2</th>\n",
       "      <th>word_2_count</th>\n",
       "      <th>word_3</th>\n",
       "      <th>word_3_count</th>\n",
       "      <th>word_4</th>\n",
       "      <th>word_4_count</th>\n",
       "      <th>word_5</th>\n",
       "      <th>word_5_count</th>\n",
       "    </tr>\n",
       "  </thead>\n",
       "  <tbody>\n",
       "    <tr>\n",
       "      <td>50</td>\n",
       "      <td>the_thing_in_the_moonlight</td>\n",
       "      <td>write</td>\n",
       "      <td>4</td>\n",
       "      <td>come</td>\n",
       "      <td>4</td>\n",
       "      <td>awaken</td>\n",
       "      <td>3</td>\n",
       "      <td>howl</td>\n",
       "      <td>3</td>\n",
       "      <td>take</td>\n",
       "      <td>2</td>\n",
       "    </tr>\n",
       "    <tr>\n",
       "      <td>51</td>\n",
       "      <td>the_history_of_the_necronomicon</td>\n",
       "      <td>print</td>\n",
       "      <td>5</td>\n",
       "      <td>say</td>\n",
       "      <td>3</td>\n",
       "      <td>tell</td>\n",
       "      <td>3</td>\n",
       "      <td>exist</td>\n",
       "      <td>3</td>\n",
       "      <td>write</td>\n",
       "      <td>2</td>\n",
       "    </tr>\n",
       "    <tr>\n",
       "      <td>52</td>\n",
       "      <td>ibid</td>\n",
       "      <td>take</td>\n",
       "      <td>4</td>\n",
       "      <td>send</td>\n",
       "      <td>4</td>\n",
       "      <td>find</td>\n",
       "      <td>4</td>\n",
       "      <td>have</td>\n",
       "      <td>4</td>\n",
       "      <td>trade</td>\n",
       "      <td>4</td>\n",
       "    </tr>\n",
       "    <tr>\n",
       "      <td>53</td>\n",
       "      <td>the_dunwich_horror</td>\n",
       "      <td>come</td>\n",
       "      <td>65</td>\n",
       "      <td>know</td>\n",
       "      <td>49</td>\n",
       "      <td>see</td>\n",
       "      <td>35</td>\n",
       "      <td>say</td>\n",
       "      <td>31</td>\n",
       "      <td>think</td>\n",
       "      <td>30</td>\n",
       "    </tr>\n",
       "    <tr>\n",
       "      <td>54</td>\n",
       "      <td>the_whisperer_in_darkness</td>\n",
       "      <td>know</td>\n",
       "      <td>79</td>\n",
       "      <td>come</td>\n",
       "      <td>63</td>\n",
       "      <td>think</td>\n",
       "      <td>58</td>\n",
       "      <td>tell</td>\n",
       "      <td>54</td>\n",
       "      <td>hear</td>\n",
       "      <td>45</td>\n",
       "    </tr>\n",
       "    <tr>\n",
       "      <td>55</td>\n",
       "      <td>at_the_mountains_of_madness</td>\n",
       "      <td>find</td>\n",
       "      <td>70</td>\n",
       "      <td>see</td>\n",
       "      <td>68</td>\n",
       "      <td>come</td>\n",
       "      <td>67</td>\n",
       "      <td>think</td>\n",
       "      <td>52</td>\n",
       "      <td>leave</td>\n",
       "      <td>50</td>\n",
       "    </tr>\n",
       "    <tr>\n",
       "      <td>56</td>\n",
       "      <td>the_shadow_over_innsmouth</td>\n",
       "      <td>see</td>\n",
       "      <td>95</td>\n",
       "      <td>look</td>\n",
       "      <td>69</td>\n",
       "      <td>come</td>\n",
       "      <td>68</td>\n",
       "      <td>know</td>\n",
       "      <td>56</td>\n",
       "      <td>begin</td>\n",
       "      <td>51</td>\n",
       "    </tr>\n",
       "    <tr>\n",
       "      <td>57</td>\n",
       "      <td>the_dreams_in_the_witch_house</td>\n",
       "      <td>see</td>\n",
       "      <td>38</td>\n",
       "      <td>know</td>\n",
       "      <td>33</td>\n",
       "      <td>find</td>\n",
       "      <td>33</td>\n",
       "      <td>come</td>\n",
       "      <td>31</td>\n",
       "      <td>hear</td>\n",
       "      <td>29</td>\n",
       "    </tr>\n",
       "    <tr>\n",
       "      <td>58</td>\n",
       "      <td>the_thing_on_the_doorstep</td>\n",
       "      <td>know</td>\n",
       "      <td>43</td>\n",
       "      <td>see</td>\n",
       "      <td>31</td>\n",
       "      <td>tell</td>\n",
       "      <td>25</td>\n",
       "      <td>go</td>\n",
       "      <td>25</td>\n",
       "      <td>come</td>\n",
       "      <td>23</td>\n",
       "    </tr>\n",
       "    <tr>\n",
       "      <td>59</td>\n",
       "      <td>the_evil_clergyman</td>\n",
       "      <td>know</td>\n",
       "      <td>10</td>\n",
       "      <td>see</td>\n",
       "      <td>10</td>\n",
       "      <td>look</td>\n",
       "      <td>9</td>\n",
       "      <td>begin</td>\n",
       "      <td>6</td>\n",
       "      <td>hear</td>\n",
       "      <td>5</td>\n",
       "    </tr>\n",
       "    <tr>\n",
       "      <td>60</td>\n",
       "      <td>the_book</td>\n",
       "      <td>know</td>\n",
       "      <td>10</td>\n",
       "      <td>read</td>\n",
       "      <td>6</td>\n",
       "      <td>see</td>\n",
       "      <td>6</td>\n",
       "      <td>feel</td>\n",
       "      <td>4</td>\n",
       "      <td>remember</td>\n",
       "      <td>4</td>\n",
       "    </tr>\n",
       "    <tr>\n",
       "      <td>61</td>\n",
       "      <td>the_shadow_out_of_time</td>\n",
       "      <td>know</td>\n",
       "      <td>69</td>\n",
       "      <td>come</td>\n",
       "      <td>62</td>\n",
       "      <td>see</td>\n",
       "      <td>55</td>\n",
       "      <td>find</td>\n",
       "      <td>42</td>\n",
       "      <td>begin</td>\n",
       "      <td>35</td>\n",
       "    </tr>\n",
       "    <tr>\n",
       "      <td>62</td>\n",
       "      <td>the_haunter_of_the_dark</td>\n",
       "      <td>know</td>\n",
       "      <td>14</td>\n",
       "      <td>come</td>\n",
       "      <td>13</td>\n",
       "      <td>feel</td>\n",
       "      <td>8</td>\n",
       "      <td>tell</td>\n",
       "      <td>7</td>\n",
       "      <td>bear</td>\n",
       "      <td>7</td>\n",
       "    </tr>\n",
       "  </tbody>\n",
       "</table>\n",
       "</div>"
      ],
      "text/plain": [
       "                           filename word_1  word_1_count word_2  word_2_count  \\\n",
       "50       the_thing_in_the_moonlight  write             4   come             4   \n",
       "51  the_history_of_the_necronomicon  print             5    say             3   \n",
       "52                             ibid   take             4   send             4   \n",
       "53               the_dunwich_horror   come            65   know            49   \n",
       "54        the_whisperer_in_darkness   know            79   come            63   \n",
       "55      at_the_mountains_of_madness   find            70    see            68   \n",
       "56        the_shadow_over_innsmouth    see            95   look            69   \n",
       "57    the_dreams_in_the_witch_house    see            38   know            33   \n",
       "58        the_thing_on_the_doorstep   know            43    see            31   \n",
       "59               the_evil_clergyman   know            10    see            10   \n",
       "60                         the_book   know            10   read             6   \n",
       "61           the_shadow_out_of_time   know            69   come            62   \n",
       "62          the_haunter_of_the_dark   know            14   come            13   \n",
       "\n",
       "    word_3  word_3_count word_4  word_4_count    word_5  word_5_count  \n",
       "50  awaken             3   howl             3      take             2  \n",
       "51    tell             3  exist             3     write             2  \n",
       "52    find             4   have             4     trade             4  \n",
       "53     see            35    say            31     think            30  \n",
       "54   think            58   tell            54      hear            45  \n",
       "55    come            67  think            52     leave            50  \n",
       "56    come            68   know            56     begin            51  \n",
       "57    find            33   come            31      hear            29  \n",
       "58    tell            25     go            25      come            23  \n",
       "59    look             9  begin             6      hear             5  \n",
       "60     see             6   feel             4  remember             4  \n",
       "61     see            55   find            42     begin            35  \n",
       "62    feel             8   tell             7      bear             7  "
      ]
     },
     "execution_count": 20,
     "metadata": {},
     "output_type": "execute_result"
    }
   ],
   "source": [
    "verb_counts[50:]"
   ]
  },
  {
   "cell_type": "markdown",
   "metadata": {
    "hidden": true
   },
   "source": [
    "## All Stories Combined Word Counts"
   ]
  },
  {
   "cell_type": "markdown",
   "metadata": {
    "hidden": true
   },
   "source": [
    "Final thing to check out: combine all the text and run most frequent dict on that. \n",
    "Can't just load all the text in the memory, there is a limit of 1m characters, our string would be 2.6m long. "
   ]
  },
  {
   "cell_type": "code",
   "execution_count": 20,
   "metadata": {
    "hidden": true
   },
   "outputs": [],
   "source": [
    "list_of_pos = ['NOUN', 'ADJ', 'VERB']\n",
    "number_of_words_to_collect = 20\n",
    "\n",
    "word_count_dict = {}\n",
    "for part_of_speech in list_of_pos:\n",
    "    word_count_dict[part_of_speech] = {}"
   ]
  },
  {
   "cell_type": "code",
   "execution_count": 21,
   "metadata": {
    "hidden": true
   },
   "outputs": [
    {
     "name": "stdout",
     "output_type": "stream",
     "text": [
      "Currently processing: the_tomb\n",
      "Currently processing: dagon\n",
      "Currently processing: polaris\n",
      "Currently processing: beyond_the_wall_of_sleep\n",
      "Currently processing: memory\n",
      "Currently processing: old_bugs\n",
      "Currently processing: the_transition_of_juan_romero\n",
      "Currently processing: the_white_ship\n",
      "Currently processing: the_doom_that_came_to_sarnath\n",
      "Currently processing: the_statement_of_randolph_carter\n",
      "Currently processing: the_terrible_old_man\n",
      "Currently processing: the_tree\n",
      "Currently processing: the_cats_of_ulthar\n",
      "Currently processing: the_temple\n",
      "Currently processing: facts_concerning_the_late_arthur_jermyn_and_his_family\n",
      "Currently processing: the_street\n",
      "Currently processing: celephaïs\n",
      "Currently processing: from_beyond\n",
      "Currently processing: nyarlathotep\n",
      "Currently processing: the_picture_in_the_house\n",
      "Currently processing: ex_oblivione\n",
      "Currently processing: the_nameless_city\n",
      "Currently processing: the_quest_of_iranon\n",
      "Currently processing: the_moon-bog\n",
      "Currently processing: the_outsider\n",
      "Currently processing: the_other_gods\n",
      "Currently processing: the_music_of_erich_zann\n",
      "Currently processing: herbert_west_—_reanimator\n",
      "Currently processing: hypnos\n",
      "Currently processing: what_the_moon_brings\n",
      "Currently processing: azathoth\n",
      "Currently processing: the_hound\n",
      "Currently processing: the_lurking_fear\n",
      "Currently processing: the_rats_in_the_walls\n",
      "Currently processing: the_unnamable\n",
      "Currently processing: the_festival\n",
      "Currently processing: the_shunned_house\n",
      "Currently processing: the_horror_at_red_hook\n",
      "Currently processing: he\n",
      "Currently processing: in_the_vault\n",
      "Currently processing: the_descendant\n",
      "Currently processing: cool_air\n",
      "Currently processing: the_call_of_cthulhu\n",
      "Currently processing: pickman's_model\n",
      "Currently processing: the_silver_key\n",
      "Currently processing: the_strange_high_house_in_the_mist\n",
      "Currently processing: the_dream-quest_of_unknown_kadath\n",
      "Currently processing: the_case_of_charles_dexter_ward\n",
      "Currently processing: the_colour_out_of_space\n",
      "Currently processing: the_very_old_folk\n",
      "Currently processing: the_thing_in_the_moonlight\n",
      "Currently processing: the_history_of_the_necronomicon\n",
      "Currently processing: ibid\n",
      "Currently processing: the_dunwich_horror\n",
      "Currently processing: the_whisperer_in_darkness\n",
      "Currently processing: at_the_mountains_of_madness\n",
      "Currently processing: the_shadow_over_innsmouth\n",
      "Currently processing: the_dreams_in_the_witch_house\n",
      "Currently processing: the_thing_on_the_doorstep\n",
      "Currently processing: the_evil_clergyman\n",
      "Currently processing: the_book\n",
      "Currently processing: the_shadow_out_of_time\n",
      "Currently processing: the_haunter_of_the_dark\n"
     ]
    }
   ],
   "source": [
    "for filename in filenames: \n",
    "    my_file = open(txt_adjusted_folder + filename + '.txt')\n",
    "    print(\"Currently processing: \" + filename)\n",
    "    raw_text = my_file.read()\n",
    "    word_count_dict = word_count_func.create_word_counts_by_pos(raw_text, list_of_pos, word_count_dict)"
   ]
  },
  {
   "cell_type": "code",
   "execution_count": 22,
   "metadata": {
    "hidden": true
   },
   "outputs": [
    {
     "data": {
      "text/plain": [
       "{'NOUN': [('thing', 1152),\n",
       "  ('man', 1075),\n",
       "  ('time', 830),\n",
       "  ('night', 666),\n",
       "  ('place', 569),\n",
       "  ('house', 490),\n",
       "  ('day', 476),\n",
       "  ('city', 453),\n",
       "  ('year', 432),\n",
       "  ('stone', 407),\n",
       "  ('dream', 392),\n",
       "  ('room', 383),\n",
       "  ('world', 379),\n",
       "  ('door', 370),\n",
       "  ('way', 367),\n",
       "  ('horror', 352),\n",
       "  ('light', 350),\n",
       "  ('life', 340),\n",
       "  ('wall', 335),\n",
       "  ('eye', 333)],\n",
       " 'ADJ': [('old', 917),\n",
       "  ('great', 797),\n",
       "  ('strange', 488),\n",
       "  ('certain', 446),\n",
       "  ('black', 379),\n",
       "  ('little', 336),\n",
       "  ('ancient', 308),\n",
       "  ('high', 297),\n",
       "  ('small', 282),\n",
       "  ('dark', 277),\n",
       "  ('new', 268),\n",
       "  ('human', 267),\n",
       "  ('unknown', 259),\n",
       "  ('terrible', 256),\n",
       "  ('long', 244),\n",
       "  ('curious', 227),\n",
       "  ('low', 216),\n",
       "  ('hideous', 213),\n",
       "  ('young', 210),\n",
       "  ('good', 204)],\n",
       " 'VERB': [('come', 1100),\n",
       "  ('know', 1095),\n",
       "  ('see', 1079),\n",
       "  ('find', 784),\n",
       "  ('tell', 649),\n",
       "  ('think', 571),\n",
       "  ('hear', 528),\n",
       "  ('look', 474),\n",
       "  ('go', 439),\n",
       "  ('say', 425),\n",
       "  ('leave', 401),\n",
       "  ('begin', 400),\n",
       "  ('feel', 397),\n",
       "  ('take', 368),\n",
       "  ('grow', 310),\n",
       "  ('give', 306),\n",
       "  ('shew', 275),\n",
       "  ('bring', 267),\n",
       "  ('speak', 266),\n",
       "  ('try', 262)]}"
      ]
     },
     "execution_count": 22,
     "metadata": {},
     "output_type": "execute_result"
    }
   ],
   "source": [
    "most_frequent_list_dict = word_count_func.collect_most_frequent_words(word_count_dict, number_of_words_to_collect)\n",
    "most_frequent_list_dict"
   ]
  },
  {
   "cell_type": "markdown",
   "metadata": {
    "heading_collapsed": true
   },
   "source": [
    "# Sentiment Analysis"
   ]
  },
  {
   "cell_type": "markdown",
   "metadata": {
    "hidden": true
   },
   "source": [
    "https://github.com/cjhutto/vaderSentiment"
   ]
  },
  {
   "cell_type": "markdown",
   "metadata": {
    "hidden": true
   },
   "source": [
    "## General Examples"
   ]
  },
  {
   "cell_type": "code",
   "execution_count": 5,
   "metadata": {
    "hidden": true
   },
   "outputs": [
    {
     "data": {
      "text/plain": [
       "0.8"
      ]
     },
     "execution_count": 5,
     "metadata": {},
     "output_type": "execute_result"
    }
   ],
   "source": [
    "sentiment_analyzer = SentimentIntensityAnalyzer()\n",
    "token_scores = sentiment_analyzer.lexicon\n",
    "token_scores['adorned']"
   ]
  },
  {
   "cell_type": "code",
   "execution_count": 9,
   "metadata": {
    "hidden": true
   },
   "outputs": [
    {
     "data": {
      "text/plain": [
       "{'neg': 0.0, 'neu': 0.408, 'pos': 0.592, 'compound': 0.4404}"
      ]
     },
     "execution_count": 9,
     "metadata": {},
     "output_type": "execute_result"
    }
   ],
   "source": [
    "sentiment_analyzer.polarity_scores('I feel good')"
   ]
  },
  {
   "cell_type": "code",
   "execution_count": 10,
   "metadata": {
    "hidden": true
   },
   "outputs": [
    {
     "data": {
      "text/plain": [
       "{'neg': 0.0, 'neu': 0.0, 'pos': 1.0, 'compound': 0.2023}"
      ]
     },
     "execution_count": 10,
     "metadata": {},
     "output_type": "execute_result"
    }
   ],
   "source": [
    "sentiment_analyzer.polarity_scores('adorned')"
   ]
  },
  {
   "cell_type": "code",
   "execution_count": 15,
   "metadata": {
    "hidden": true
   },
   "outputs": [
    {
     "data": {
      "text/plain": [
       "3.954522985664854"
      ]
     },
     "execution_count": 15,
     "metadata": {},
     "output_type": "execute_result"
    }
   ],
   "source": [
    "0.8 / 0.2023"
   ]
  },
  {
   "cell_type": "code",
   "execution_count": 11,
   "metadata": {
    "hidden": true
   },
   "outputs": [
    {
     "data": {
      "text/plain": [
       "{'neg': 0.0, 'neu': 1.0, 'pos': 0.0, 'compound': 0.0}"
      ]
     },
     "execution_count": 11,
     "metadata": {},
     "output_type": "execute_result"
    }
   ],
   "source": [
    "sentiment_analyzer.polarity_scores('I feel nothing inside.')"
   ]
  },
  {
   "cell_type": "code",
   "execution_count": 12,
   "metadata": {
    "hidden": true
   },
   "outputs": [
    {
     "data": {
      "text/plain": [
       "{'neg': 0.538, 'neu': 0.462, 'pos': 0.0, 'compound': -0.5423}"
      ]
     },
     "execution_count": 12,
     "metadata": {},
     "output_type": "execute_result"
    }
   ],
   "source": [
    "sentiment_analyzer.polarity_scores('The soup tastes bad')"
   ]
  },
  {
   "cell_type": "markdown",
   "metadata": {
    "hidden": true
   },
   "source": [
    "## Lovecraft Examples"
   ]
  },
  {
   "cell_type": "code",
   "execution_count": 16,
   "metadata": {
    "hidden": true
   },
   "outputs": [],
   "source": [
    "text_to_analyze = 'Then came we to a pleasant coast gay with blossoms of every hue, where as far inland as we could see basked lovely groves and radiant arbours beneath a meridian sun. '\n"
   ]
  },
  {
   "cell_type": "code",
   "execution_count": 17,
   "metadata": {
    "hidden": true
   },
   "outputs": [
    {
     "data": {
      "text/plain": [
       "{'neg': 0.0, 'neu': 0.733, 'pos': 0.267, 'compound': 0.8807}"
      ]
     },
     "execution_count": 17,
     "metadata": {},
     "output_type": "execute_result"
    }
   ],
   "source": [
    "sentiment_analyzer.polarity_scores(text_to_analyze)"
   ]
  },
  {
   "cell_type": "code",
   "execution_count": null,
   "metadata": {
    "hidden": true
   },
   "outputs": [],
   "source": [
    "# loop through text, list words with values"
   ]
  },
  {
   "cell_type": "code",
   "execution_count": 34,
   "metadata": {
    "hidden": true
   },
   "outputs": [
    {
     "data": {
      "text/plain": [
       "[('pleasant', 2.3), ('lovely', 2.8), ('radiant', 2.1)]"
      ]
     },
     "execution_count": 34,
     "metadata": {},
     "output_type": "execute_result"
    }
   ],
   "source": [
    "result = []\n",
    "\n",
    "for word in text_to_analyze.split():\n",
    "    if word in token_scores:\n",
    "        result.append((word, token_scores[word]))\n",
    "        \n",
    "result"
   ]
  },
  {
   "cell_type": "code",
   "execution_count": 26,
   "metadata": {
    "hidden": true
   },
   "outputs": [],
   "source": [
    "text_to_analyze_2 = 'I have said that the unbroken monotony of the rolling plain was a source of vague horror to me; but I think my horror was greater when I gained the summit of the mound and looked down the other side into an immeasurable pit or canyon, whose black recesses the moon had not yet soared high enough to illumine. I felt myself on the edge of the world; peering over the rim into a fathomless chaos of eternal night. Through my terror ran curious reminiscences of Paradise Lost, and of Satan‘s hideous climb through the unfashioned realms of darkness.'\n"
   ]
  },
  {
   "cell_type": "code",
   "execution_count": 28,
   "metadata": {
    "hidden": true
   },
   "outputs": [
    {
     "data": {
      "text/plain": [
       "{'neg': 0.186, 'neu': 0.692, 'pos': 0.121, 'compound': -0.8074}"
      ]
     },
     "execution_count": 28,
     "metadata": {},
     "output_type": "execute_result"
    }
   ],
   "source": [
    "sent_score = sentiment_analyzer.polarity_scores(text_to_analyze_2)\n",
    "sent_score"
   ]
  },
  {
   "cell_type": "code",
   "execution_count": 29,
   "metadata": {
    "hidden": true
   },
   "outputs": [
    {
     "data": {
      "text/plain": [
       "0.186"
      ]
     },
     "execution_count": 29,
     "metadata": {},
     "output_type": "execute_result"
    }
   ],
   "source": [
    "sent_score['neg']"
   ]
  },
  {
   "cell_type": "code",
   "execution_count": 20,
   "metadata": {
    "hidden": true
   },
   "outputs": [
    {
     "data": {
      "text/plain": [
       "[('vague', -0.4),\n",
       " ('horror', -2.7),\n",
       " ('horror', -2.7),\n",
       " ('greater', 1.5),\n",
       " ('gained', 1.6),\n",
       " ('chaos', -2.7),\n",
       " ('terror', -2.4),\n",
       " ('curious', 1.3)]"
      ]
     },
     "execution_count": 20,
     "metadata": {},
     "output_type": "execute_result"
    }
   ],
   "source": [
    "result = []\n",
    "\n",
    "for word in text_to_analyze_2.split():\n",
    "    if word in token_scores:\n",
    "        result.append((word, token_scores[word]))\n",
    "        \n",
    "result"
   ]
  },
  {
   "cell_type": "markdown",
   "metadata": {
    "hidden": true
   },
   "source": [
    "## Ranking all the Stories"
   ]
  },
  {
   "cell_type": "code",
   "execution_count": 25,
   "metadata": {
    "hidden": true
   },
   "outputs": [],
   "source": [
    "sentiment_analysis_df = pd.DataFrame()\n",
    "sentiment_analysis_df['filename'] = filenames"
   ]
  },
  {
   "cell_type": "code",
   "execution_count": 38,
   "metadata": {
    "hidden": true
   },
   "outputs": [
    {
     "name": "stdout",
     "output_type": "stream",
     "text": [
      "Processing the_tomb\n",
      "Processing dagon\n",
      "Processing polaris\n",
      "Processing beyond_the_wall_of_sleep\n",
      "Processing memory\n",
      "Processing old_bugs\n",
      "Processing the_transition_of_juan_romero\n",
      "Processing the_white_ship\n",
      "Processing the_doom_that_came_to_sarnath\n",
      "Processing the_statement_of_randolph_carter\n",
      "Processing the_terrible_old_man\n",
      "Processing the_tree\n",
      "Processing the_cats_of_ulthar\n",
      "Processing the_temple\n",
      "Processing facts_concerning_the_late_arthur_jermyn_and_his_family\n",
      "Processing the_street\n",
      "Processing celephaïs\n",
      "Processing from_beyond\n",
      "Processing nyarlathotep\n",
      "Processing the_picture_in_the_house\n",
      "Processing ex_oblivione\n",
      "Processing the_nameless_city\n",
      "Processing the_quest_of_iranon\n",
      "Processing the_moon-bog\n",
      "Processing the_outsider\n",
      "Processing the_other_gods\n",
      "Processing the_music_of_erich_zann\n",
      "Processing herbert_west_—_reanimator\n",
      "Processing hypnos\n",
      "Processing what_the_moon_brings\n",
      "Processing azathoth\n",
      "Processing the_hound\n",
      "Processing the_lurking_fear\n",
      "Processing the_rats_in_the_walls\n",
      "Processing the_unnamable\n",
      "Processing the_festival\n",
      "Processing the_shunned_house\n",
      "Processing the_horror_at_red_hook\n",
      "Processing he\n",
      "Processing in_the_vault\n",
      "Processing the_descendant\n",
      "Processing cool_air\n",
      "Processing the_call_of_cthulhu\n",
      "Processing pickman's_model\n",
      "Processing the_silver_key\n",
      "Processing the_strange_high_house_in_the_mist\n",
      "Processing the_dream-quest_of_unknown_kadath\n",
      "Processing the_case_of_charles_dexter_ward\n",
      "Processing the_colour_out_of_space\n",
      "Processing the_very_old_folk\n",
      "Processing the_thing_in_the_moonlight\n",
      "Processing the_history_of_the_necronomicon\n",
      "Processing ibid\n",
      "Processing the_dunwich_horror\n",
      "Processing the_whisperer_in_darkness\n",
      "Processing at_the_mountains_of_madness\n",
      "Processing the_shadow_over_innsmouth\n",
      "Processing the_dreams_in_the_witch_house\n",
      "Processing the_thing_on_the_doorstep\n",
      "Processing the_evil_clergyman\n",
      "Processing the_book\n",
      "Processing the_shadow_out_of_time\n",
      "Processing the_haunter_of_the_dark\n"
     ]
    }
   ],
   "source": [
    "neg_portion = []\n",
    "neu_portion = []\n",
    "pos_portion = []\n",
    "compound_score = []\n",
    "\n",
    "for filename in filenames:\n",
    "    print(\"Processing \" + filename)\n",
    "    my_file = open(txt_adjusted_folder + filename + '.txt')\n",
    "    raw_text = my_file.read()\n",
    "    sent_score = sentiment_analyzer.polarity_scores(raw_text)\n",
    "    neg_portion.append(sent_score['neg'])\n",
    "    neu_portion.append(sent_score['neu'])\n",
    "    pos_portion.append(sent_score['pos'])\n",
    "    compound_score.append(sent_score['compound'])"
   ]
  },
  {
   "cell_type": "code",
   "execution_count": 39,
   "metadata": {
    "hidden": true
   },
   "outputs": [],
   "source": [
    "sentiment_analysis_df['neg_portion'] = neg_portion\n",
    "sentiment_analysis_df['neu_portion'] = neu_portion\n",
    "sentiment_analysis_df['pos_portion'] = pos_portion\n",
    "sentiment_analysis_df['compound_score'] = compound_score"
   ]
  },
  {
   "cell_type": "code",
   "execution_count": 40,
   "metadata": {
    "hidden": true
   },
   "outputs": [
    {
     "data": {
      "text/html": [
       "<div>\n",
       "<style scoped>\n",
       "    .dataframe tbody tr th:only-of-type {\n",
       "        vertical-align: middle;\n",
       "    }\n",
       "\n",
       "    .dataframe tbody tr th {\n",
       "        vertical-align: top;\n",
       "    }\n",
       "\n",
       "    .dataframe thead th {\n",
       "        text-align: right;\n",
       "    }\n",
       "</style>\n",
       "<table border=\"1\" class=\"dataframe\">\n",
       "  <thead>\n",
       "    <tr style=\"text-align: right;\">\n",
       "      <th></th>\n",
       "      <th>filename</th>\n",
       "      <th>neg_portion</th>\n",
       "      <th>neu_portion</th>\n",
       "      <th>pos_portion</th>\n",
       "      <th>compound_score</th>\n",
       "    </tr>\n",
       "  </thead>\n",
       "  <tbody>\n",
       "    <tr>\n",
       "      <td>1</td>\n",
       "      <td>the_tomb</td>\n",
       "      <td>0.117</td>\n",
       "      <td>0.799</td>\n",
       "      <td>0.084</td>\n",
       "      <td>-0.9995</td>\n",
       "    </tr>\n",
       "    <tr>\n",
       "      <td>2</td>\n",
       "      <td>dagon</td>\n",
       "      <td>0.095</td>\n",
       "      <td>0.836</td>\n",
       "      <td>0.069</td>\n",
       "      <td>-0.9968</td>\n",
       "    </tr>\n",
       "    <tr>\n",
       "      <td>3</td>\n",
       "      <td>polaris</td>\n",
       "      <td>0.130</td>\n",
       "      <td>0.767</td>\n",
       "      <td>0.103</td>\n",
       "      <td>-0.9889</td>\n",
       "    </tr>\n",
       "    <tr>\n",
       "      <td>4</td>\n",
       "      <td>beyond_the_wall_of_sleep</td>\n",
       "      <td>0.108</td>\n",
       "      <td>0.781</td>\n",
       "      <td>0.111</td>\n",
       "      <td>0.8094</td>\n",
       "    </tr>\n",
       "    <tr>\n",
       "      <td>5</td>\n",
       "      <td>memory</td>\n",
       "      <td>0.049</td>\n",
       "      <td>0.905</td>\n",
       "      <td>0.045</td>\n",
       "      <td>0.3612</td>\n",
       "    </tr>\n",
       "    <tr>\n",
       "      <td>...</td>\n",
       "      <td>...</td>\n",
       "      <td>...</td>\n",
       "      <td>...</td>\n",
       "      <td>...</td>\n",
       "      <td>...</td>\n",
       "    </tr>\n",
       "    <tr>\n",
       "      <td>59</td>\n",
       "      <td>the_thing_on_the_doorstep</td>\n",
       "      <td>0.109</td>\n",
       "      <td>0.811</td>\n",
       "      <td>0.080</td>\n",
       "      <td>-0.9999</td>\n",
       "    </tr>\n",
       "    <tr>\n",
       "      <td>60</td>\n",
       "      <td>the_evil_clergyman</td>\n",
       "      <td>0.080</td>\n",
       "      <td>0.831</td>\n",
       "      <td>0.089</td>\n",
       "      <td>0.9637</td>\n",
       "    </tr>\n",
       "    <tr>\n",
       "      <td>61</td>\n",
       "      <td>the_book</td>\n",
       "      <td>0.088</td>\n",
       "      <td>0.838</td>\n",
       "      <td>0.075</td>\n",
       "      <td>-0.8896</td>\n",
       "    </tr>\n",
       "    <tr>\n",
       "      <td>62</td>\n",
       "      <td>the_shadow_out_of_time</td>\n",
       "      <td>0.100</td>\n",
       "      <td>0.800</td>\n",
       "      <td>0.099</td>\n",
       "      <td>-0.9944</td>\n",
       "    </tr>\n",
       "    <tr>\n",
       "      <td>63</td>\n",
       "      <td>the_haunter_of_the_dark</td>\n",
       "      <td>0.117</td>\n",
       "      <td>0.799</td>\n",
       "      <td>0.084</td>\n",
       "      <td>-0.9995</td>\n",
       "    </tr>\n",
       "  </tbody>\n",
       "</table>\n",
       "<p>63 rows × 5 columns</p>\n",
       "</div>"
      ],
      "text/plain": [
       "                     filename  neg_portion  neu_portion  pos_portion  \\\n",
       "1                    the_tomb        0.117        0.799        0.084   \n",
       "2                       dagon        0.095        0.836        0.069   \n",
       "3                     polaris        0.130        0.767        0.103   \n",
       "4    beyond_the_wall_of_sleep        0.108        0.781        0.111   \n",
       "5                      memory        0.049        0.905        0.045   \n",
       "..                        ...          ...          ...          ...   \n",
       "59  the_thing_on_the_doorstep        0.109        0.811        0.080   \n",
       "60         the_evil_clergyman        0.080        0.831        0.089   \n",
       "61                   the_book        0.088        0.838        0.075   \n",
       "62     the_shadow_out_of_time        0.100        0.800        0.099   \n",
       "63    the_haunter_of_the_dark        0.117        0.799        0.084   \n",
       "\n",
       "    compound_score  \n",
       "1          -0.9995  \n",
       "2          -0.9968  \n",
       "3          -0.9889  \n",
       "4           0.8094  \n",
       "5           0.3612  \n",
       "..             ...  \n",
       "59         -0.9999  \n",
       "60          0.9637  \n",
       "61         -0.8896  \n",
       "62         -0.9944  \n",
       "63         -0.9995  \n",
       "\n",
       "[63 rows x 5 columns]"
      ]
     },
     "execution_count": 40,
     "metadata": {},
     "output_type": "execute_result"
    }
   ],
   "source": [
    "sentiment_analysis_df"
   ]
  },
  {
   "cell_type": "code",
   "execution_count": 41,
   "metadata": {
    "hidden": true
   },
   "outputs": [],
   "source": [
    "sentiment_analysis_df.to_csv('./results/sentiment_analysis.csv')"
   ]
  },
  {
   "cell_type": "code",
   "execution_count": 4,
   "metadata": {
    "hidden": true
   },
   "outputs": [],
   "source": [
    "sentiment_analysis_df = pd.read_csv('./results/sentiment_analysis.csv')"
   ]
  },
  {
   "cell_type": "code",
   "execution_count": 5,
   "metadata": {
    "hidden": true
   },
   "outputs": [
    {
     "data": {
      "text/html": [
       "<div>\n",
       "<style scoped>\n",
       "    .dataframe tbody tr th:only-of-type {\n",
       "        vertical-align: middle;\n",
       "    }\n",
       "\n",
       "    .dataframe tbody tr th {\n",
       "        vertical-align: top;\n",
       "    }\n",
       "\n",
       "    .dataframe thead th {\n",
       "        text-align: right;\n",
       "    }\n",
       "</style>\n",
       "<table border=\"1\" class=\"dataframe\">\n",
       "  <thead>\n",
       "    <tr style=\"text-align: right;\">\n",
       "      <th></th>\n",
       "      <th>Unnamed: 0</th>\n",
       "      <th>neg_portion</th>\n",
       "      <th>neu_portion</th>\n",
       "      <th>pos_portion</th>\n",
       "      <th>compound_score</th>\n",
       "    </tr>\n",
       "  </thead>\n",
       "  <tbody>\n",
       "    <tr>\n",
       "      <td>count</td>\n",
       "      <td>63.000000</td>\n",
       "      <td>63.000000</td>\n",
       "      <td>63.000000</td>\n",
       "      <td>63.000000</td>\n",
       "      <td>63.000000</td>\n",
       "    </tr>\n",
       "    <tr>\n",
       "      <td>mean</td>\n",
       "      <td>32.000000</td>\n",
       "      <td>0.107730</td>\n",
       "      <td>0.809111</td>\n",
       "      <td>0.083190</td>\n",
       "      <td>-0.502546</td>\n",
       "    </tr>\n",
       "    <tr>\n",
       "      <td>std</td>\n",
       "      <td>18.330303</td>\n",
       "      <td>0.026684</td>\n",
       "      <td>0.031800</td>\n",
       "      <td>0.021803</td>\n",
       "      <td>0.840161</td>\n",
       "    </tr>\n",
       "    <tr>\n",
       "      <td>min</td>\n",
       "      <td>1.000000</td>\n",
       "      <td>0.048000</td>\n",
       "      <td>0.714000</td>\n",
       "      <td>0.030000</td>\n",
       "      <td>-1.000000</td>\n",
       "    </tr>\n",
       "    <tr>\n",
       "      <td>25%</td>\n",
       "      <td>16.500000</td>\n",
       "      <td>0.092500</td>\n",
       "      <td>0.788500</td>\n",
       "      <td>0.069500</td>\n",
       "      <td>-0.999700</td>\n",
       "    </tr>\n",
       "    <tr>\n",
       "      <td>50%</td>\n",
       "      <td>32.000000</td>\n",
       "      <td>0.108000</td>\n",
       "      <td>0.808000</td>\n",
       "      <td>0.084000</td>\n",
       "      <td>-0.998200</td>\n",
       "    </tr>\n",
       "    <tr>\n",
       "      <td>75%</td>\n",
       "      <td>47.500000</td>\n",
       "      <td>0.122500</td>\n",
       "      <td>0.827000</td>\n",
       "      <td>0.095000</td>\n",
       "      <td>-0.221300</td>\n",
       "    </tr>\n",
       "    <tr>\n",
       "      <td>max</td>\n",
       "      <td>63.000000</td>\n",
       "      <td>0.164000</td>\n",
       "      <td>0.905000</td>\n",
       "      <td>0.164000</td>\n",
       "      <td>0.999600</td>\n",
       "    </tr>\n",
       "  </tbody>\n",
       "</table>\n",
       "</div>"
      ],
      "text/plain": [
       "       Unnamed: 0  neg_portion  neu_portion  pos_portion  compound_score\n",
       "count   63.000000    63.000000    63.000000    63.000000       63.000000\n",
       "mean    32.000000     0.107730     0.809111     0.083190       -0.502546\n",
       "std     18.330303     0.026684     0.031800     0.021803        0.840161\n",
       "min      1.000000     0.048000     0.714000     0.030000       -1.000000\n",
       "25%     16.500000     0.092500     0.788500     0.069500       -0.999700\n",
       "50%     32.000000     0.108000     0.808000     0.084000       -0.998200\n",
       "75%     47.500000     0.122500     0.827000     0.095000       -0.221300\n",
       "max     63.000000     0.164000     0.905000     0.164000        0.999600"
      ]
     },
     "execution_count": 5,
     "metadata": {},
     "output_type": "execute_result"
    }
   ],
   "source": [
    "sentiment_analysis_df.describe()"
   ]
  },
  {
   "cell_type": "code",
   "execution_count": 6,
   "metadata": {
    "hidden": true
   },
   "outputs": [],
   "source": [
    "sentiment_analysis_df.sort_values('compound_score', inplace = True)\n",
    "titles = sentiment_analysis_df['filename']\n",
    "compound_score = sentiment_analysis_df['compound_score']\n",
    "neg_portion = sentiment_analysis_df['neg_portion']\n",
    "neu_portion = sentiment_analysis_df['neu_portion']\n",
    "pos_portion = sentiment_analysis_df['pos_portion']\n"
   ]
  },
  {
   "cell_type": "code",
   "execution_count": 11,
   "metadata": {
    "hidden": true
   },
   "outputs": [
    {
     "data": {
      "image/png": "[encoded data removed]",
      "text/plain": [
       "<Figure size 576x1152 with 1 Axes>"
      ]
     },
     "metadata": {
      "needs_background": "light"
     },
     "output_type": "display_data"
    }
   ],
   "source": [
    "plt.figure(figsize = (8,16))\n",
    "plt.barh(width = compound_score, y = titles)\n",
    "plt.title('Writings Ranked by Compound Score')\n",
    "plt.xlabel('compound_score')\n",
    "plt.tight_layout()\n",
    "plt.savefig('./results/sentiment_analysis_chart_compound_score.png')\n",
    "plt.show()"
   ]
  },
  {
   "cell_type": "code",
   "execution_count": 12,
   "metadata": {
    "hidden": true
   },
   "outputs": [],
   "source": [
    "neg_portion = np.array(neg_portion)\n",
    "neu_portion = np.array(neu_portion)\n",
    "pos_portion = np.array(pos_portion)\n",
    "\n",
    "neg_plus_neu_portion = np.add(neg_portion, neu_portion)"
   ]
  },
  {
   "cell_type": "code",
   "execution_count": 14,
   "metadata": {
    "hidden": true
   },
   "outputs": [
    {
     "data": {
      "image/png": "[encoded data removed]",
      "text/plain": [
       "<Figure size 720x1440 with 1 Axes>"
      ]
     },
     "metadata": {
      "needs_background": "light"
     },
     "output_type": "display_data"
    }
   ],
   "source": [
    "plt.figure(figsize = (10,20))\n",
    "plt.barh(width = neg_portion, y = titles, label = 'Negative')\n",
    "plt.barh(width = neu_portion, y = titles, label = 'Neutral', left = neg_portion)\n",
    "plt.barh(width = pos_portion, y = titles, label = 'Positive', left = neg_plus_neu_portion)\n",
    "plt.title('Writings Portions of Negative, Neutral, and Positive Text')\n",
    "plt.legend()\n",
    "plt.tight_layout()\n",
    "plt.savefig('./results/sentiment_analysis_chart_text_portions.png')\n",
    "plt.show()"
   ]
  },
  {
   "cell_type": "code",
   "execution_count": null,
   "metadata": {
    "hidden": true
   },
   "outputs": [],
   "source": []
  },
  {
   "cell_type": "code",
   "execution_count": null,
   "metadata": {
    "hidden": true
   },
   "outputs": [],
   "source": []
  },
  {
   "cell_type": "markdown",
   "metadata": {},
   "source": [
    "# TF - IDF"
   ]
  },
  {
   "cell_type": "markdown",
   "metadata": {},
   "source": [
    "## How it Works"
   ]
  },
  {
   "cell_type": "markdown",
   "metadata": {},
   "source": [
    "First, we need a tokenizer function that takes a document and converts it into a list of text tokens. Using spaCy tokenizer with TfidfVectorizer from sklearn. \n",
    "\n",
    "https://scikit-learn.org/stable/modules/generated/sklearn.feature_extraction.text.TfidfVectorizer.html"
   ]
  },
  {
   "cell_type": "code",
   "execution_count": 122,
   "metadata": {},
   "outputs": [],
   "source": [
    "def spacy_tokenizer(document):\n",
    "    tokens = nlp(document)\n",
    "    tokens = [token for token in tokens if (\n",
    "        token.is_stop == False and \\\n",
    "        token.is_punct == False and \\\n",
    "        token.lemma_.strip()!= '')]\n",
    "    tokens = [token.lemma_ for token in tokens]\n",
    "    return tokens"
   ]
  },
  {
   "cell_type": "code",
   "execution_count": 123,
   "metadata": {},
   "outputs": [
    {
     "data": {
      "text/plain": [
       "<3x5 sparse matrix of type '<class 'numpy.float64'>'\n",
       "\twith 8 stored elements in Compressed Sparse Row format>"
      ]
     },
     "execution_count": 123,
     "metadata": {},
     "output_type": "execute_result"
    }
   ],
   "source": [
    "tfidf_vector = TfidfVectorizer(input = 'content', tokenizer = spacy_tokenizer)\n",
    "corpus = [\n",
    "    \"Monsters are bad.\", \\\n",
    "    \"I saw a monster yesterday.\", \\\n",
    "    \"Why are we talking about bad monsters?\"]\n",
    "# fit: learns vocabulary and idf\n",
    "# transform: transforms documents into document-term matrix\n",
    "result = tfidf_vector.fit_transform(corpus)\n",
    "result"
   ]
  },
  {
   "cell_type": "code",
   "execution_count": 124,
   "metadata": {},
   "outputs": [
    {
     "data": {
      "text/plain": [
       "matrix([[0.78980693, 0.61335554, 0.        , 0.        , 0.        ],\n",
       "        [0.        , 0.38537163, 0.65249088, 0.        , 0.65249088],\n",
       "        [0.54783215, 0.42544054, 0.        , 0.72033345, 0.        ]])"
      ]
     },
     "execution_count": 124,
     "metadata": {},
     "output_type": "execute_result"
    }
   ],
   "source": [
    "result.todense()"
   ]
  },
  {
   "cell_type": "code",
   "execution_count": 125,
   "metadata": {},
   "outputs": [
    {
     "data": {
      "text/plain": [
       "['bad', 'monster', 'see', 'talk', 'yesterday']"
      ]
     },
     "execution_count": 125,
     "metadata": {},
     "output_type": "execute_result"
    }
   ],
   "source": [
    "tfidf_vector.get_feature_names()"
   ]
  },
  {
   "cell_type": "code",
   "execution_count": 126,
   "metadata": {},
   "outputs": [
    {
     "data": {
      "text/html": [
       "<div>\n",
       "<style scoped>\n",
       "    .dataframe tbody tr th:only-of-type {\n",
       "        vertical-align: middle;\n",
       "    }\n",
       "\n",
       "    .dataframe tbody tr th {\n",
       "        vertical-align: top;\n",
       "    }\n",
       "\n",
       "    .dataframe thead th {\n",
       "        text-align: right;\n",
       "    }\n",
       "</style>\n",
       "<table border=\"1\" class=\"dataframe\">\n",
       "  <thead>\n",
       "    <tr style=\"text-align: right;\">\n",
       "      <th></th>\n",
       "      <th>bad</th>\n",
       "      <th>monster</th>\n",
       "      <th>see</th>\n",
       "      <th>talk</th>\n",
       "      <th>yesterday</th>\n",
       "    </tr>\n",
       "  </thead>\n",
       "  <tbody>\n",
       "    <tr>\n",
       "      <td>0</td>\n",
       "      <td>0.789807</td>\n",
       "      <td>0.613356</td>\n",
       "      <td>0.000000</td>\n",
       "      <td>0.000000</td>\n",
       "      <td>0.000000</td>\n",
       "    </tr>\n",
       "    <tr>\n",
       "      <td>1</td>\n",
       "      <td>0.000000</td>\n",
       "      <td>0.385372</td>\n",
       "      <td>0.652491</td>\n",
       "      <td>0.000000</td>\n",
       "      <td>0.652491</td>\n",
       "    </tr>\n",
       "    <tr>\n",
       "      <td>2</td>\n",
       "      <td>0.547832</td>\n",
       "      <td>0.425441</td>\n",
       "      <td>0.000000</td>\n",
       "      <td>0.720333</td>\n",
       "      <td>0.000000</td>\n",
       "    </tr>\n",
       "  </tbody>\n",
       "</table>\n",
       "</div>"
      ],
      "text/plain": [
       "        bad   monster       see      talk  yesterday\n",
       "0  0.789807  0.613356  0.000000  0.000000   0.000000\n",
       "1  0.000000  0.385372  0.652491  0.000000   0.652491\n",
       "2  0.547832  0.425441  0.000000  0.720333   0.000000"
      ]
     },
     "execution_count": 126,
     "metadata": {},
     "output_type": "execute_result"
    }
   ],
   "source": [
    "dense = result.todense()\n",
    "denselist = dense.tolist()\n",
    "df = pd.DataFrame(denselist, \\\n",
    "    columns=tfidf_vector.get_feature_names())\n",
    "df"
   ]
  },
  {
   "cell_type": "markdown",
   "metadata": {},
   "source": [
    "Could also play with max_df and min_df to limit frequency. \n",
    "\n",
    "Applying l2 normalization, so cosine similarity is the dot product. "
   ]
  },
  {
   "cell_type": "markdown",
   "metadata": {},
   "source": [
    "Trying to recreate first document TF-IDF. \n",
    "<br>\n",
    "\n",
    "TF of both terms is 0.5. Because of l2-normalisation, we can drop this. \n",
    "IDF of bad: log(2+1/3+1), IDF of monster: log(3+1 / 3+1)"
   ]
  },
  {
   "cell_type": "code",
   "execution_count": 6,
   "metadata": {},
   "outputs": [],
   "source": [
    "import math"
   ]
  },
  {
   "cell_type": "code",
   "execution_count": 11,
   "metadata": {},
   "outputs": [
    {
     "data": {
      "text/plain": [
       "1.2876820724517808"
      ]
     },
     "execution_count": 11,
     "metadata": {},
     "output_type": "execute_result"
    }
   ],
   "source": [
    "math.log(4/3) + 1"
   ]
  },
  {
   "cell_type": "code",
   "execution_count": 10,
   "metadata": {},
   "outputs": [
    {
     "data": {
      "text/plain": [
       "1.0"
      ]
     },
     "execution_count": 10,
     "metadata": {},
     "output_type": "execute_result"
    }
   ],
   "source": [
    "math.log(1) + 1"
   ]
  },
  {
   "cell_type": "code",
   "execution_count": 12,
   "metadata": {},
   "outputs": [
    {
     "data": {
      "text/plain": [
       "1.2876812161289692"
      ]
     },
     "execution_count": 12,
     "metadata": {},
     "output_type": "execute_result"
    }
   ],
   "source": [
    "0.789807 / 0.613356"
   ]
  },
  {
   "cell_type": "code",
   "execution_count": 13,
   "metadata": {},
   "outputs": [
    {
     "data": {
      "text/plain": [
       "0.6438410362258904"
      ]
     },
     "execution_count": 13,
     "metadata": {},
     "output_type": "execute_result"
    }
   ],
   "source": [
    "1.2876820724517808 * 0.5"
   ]
  },
  {
   "cell_type": "code",
   "execution_count": 14,
   "metadata": {},
   "outputs": [
    {
     "data": {
      "text/plain": [
       "0.8151878801407859"
      ]
     },
     "execution_count": 14,
     "metadata": {},
     "output_type": "execute_result"
    }
   ],
   "source": [
    "(0.6438410362258904  **2 + 0.5**2) ** 0.5"
   ]
  },
  {
   "cell_type": "code",
   "execution_count": 15,
   "metadata": {},
   "outputs": [
    {
     "data": {
      "text/plain": [
       "0.7898069290660905"
      ]
     },
     "execution_count": 15,
     "metadata": {},
     "output_type": "execute_result"
    }
   ],
   "source": [
    "0.6438410362258904 / 0.8151878801407859"
   ]
  },
  {
   "cell_type": "code",
   "execution_count": 16,
   "metadata": {},
   "outputs": [
    {
     "data": {
      "text/plain": [
       "0.6133555370249717"
      ]
     },
     "execution_count": 16,
     "metadata": {},
     "output_type": "execute_result"
    }
   ],
   "source": [
    "0.5 / 0.8151878801407859"
   ]
  },
  {
   "cell_type": "code",
   "execution_count": 127,
   "metadata": {},
   "outputs": [
    {
     "data": {
      "text/plain": [
       "1.0000003399924422"
      ]
     },
     "execution_count": 127,
     "metadata": {},
     "output_type": "execute_result"
    }
   ],
   "source": [
    "# l2 normalisation check\n",
    "(0.789807 **2 + 0.613356**2) ** 0.5"
   ]
  },
  {
   "cell_type": "markdown",
   "metadata": {},
   "source": [
    "From the point where we have the dense matrix, need to calculate cosine similarity by hand. \n",
    "\n",
    "https://intellipaat.com/community/1103/python-tf-idf-cosine-to-find-document-similarity"
   ]
  },
  {
   "cell_type": "code",
   "execution_count": 128,
   "metadata": {},
   "outputs": [
    {
     "data": {
      "text/plain": [
       "array([1.        , 0.23636982, 0.69362794])"
      ]
     },
     "execution_count": 128,
     "metadata": {},
     "output_type": "execute_result"
    }
   ],
   "source": [
    "# linear kernel is same as a dot product\n",
    "cosine_similarities = linear_kernel(result[0:1], result).flatten()\n",
    "cosine_similarities"
   ]
  },
  {
   "cell_type": "code",
   "execution_count": 129,
   "metadata": {},
   "outputs": [
    {
     "data": {
      "text/plain": [
       "0.236370228432"
      ]
     },
     "execution_count": 129,
     "metadata": {},
     "output_type": "execute_result"
    }
   ],
   "source": [
    "0.613356 * 0.385372"
   ]
  },
  {
   "cell_type": "code",
   "execution_count": 130,
   "metadata": {},
   "outputs": [
    {
     "data": {
      "text/plain": [
       "0.69362833842"
      ]
     },
     "execution_count": 130,
     "metadata": {},
     "output_type": "execute_result"
    }
   ],
   "source": [
    "0.789807 * 0.547832 + 0.613356 * 0.425441"
   ]
  },
  {
   "cell_type": "markdown",
   "metadata": {},
   "source": [
    "Checking how we can convert cosine similarities in a df. "
   ]
  },
  {
   "cell_type": "code",
   "execution_count": 131,
   "metadata": {},
   "outputs": [],
   "source": [
    "cos_df = pd.DataFrame(columns=[0,1,2])"
   ]
  },
  {
   "cell_type": "code",
   "execution_count": 132,
   "metadata": {},
   "outputs": [],
   "source": [
    "for i in range(2 + 1):\n",
    "    curr_cos_sim = linear_kernel(result[i:i+1], result).flatten()\n",
    "    cos_df[i] = curr_cos_sim"
   ]
  },
  {
   "cell_type": "code",
   "execution_count": 133,
   "metadata": {},
   "outputs": [
    {
     "data": {
      "text/html": [
       "<div>\n",
       "<style scoped>\n",
       "    .dataframe tbody tr th:only-of-type {\n",
       "        vertical-align: middle;\n",
       "    }\n",
       "\n",
       "    .dataframe tbody tr th {\n",
       "        vertical-align: top;\n",
       "    }\n",
       "\n",
       "    .dataframe thead th {\n",
       "        text-align: right;\n",
       "    }\n",
       "</style>\n",
       "<table border=\"1\" class=\"dataframe\">\n",
       "  <thead>\n",
       "    <tr style=\"text-align: right;\">\n",
       "      <th></th>\n",
       "      <th>0</th>\n",
       "      <th>1</th>\n",
       "      <th>2</th>\n",
       "    </tr>\n",
       "  </thead>\n",
       "  <tbody>\n",
       "    <tr>\n",
       "      <td>0</td>\n",
       "      <td>1.000000</td>\n",
       "      <td>0.236370</td>\n",
       "      <td>0.693628</td>\n",
       "    </tr>\n",
       "    <tr>\n",
       "      <td>1</td>\n",
       "      <td>0.236370</td>\n",
       "      <td>1.000000</td>\n",
       "      <td>0.163953</td>\n",
       "    </tr>\n",
       "    <tr>\n",
       "      <td>2</td>\n",
       "      <td>0.693628</td>\n",
       "      <td>0.163953</td>\n",
       "      <td>1.000000</td>\n",
       "    </tr>\n",
       "  </tbody>\n",
       "</table>\n",
       "</div>"
      ],
      "text/plain": [
       "          0         1         2\n",
       "0  1.000000  0.236370  0.693628\n",
       "1  0.236370  1.000000  0.163953\n",
       "2  0.693628  0.163953  1.000000"
      ]
     },
     "execution_count": 133,
     "metadata": {},
     "output_type": "execute_result"
    }
   ],
   "source": [
    "cos_df"
   ]
  },
  {
   "cell_type": "markdown",
   "metadata": {},
   "source": [
    "## K-Means Cluster"
   ]
  },
  {
   "cell_type": "markdown",
   "metadata": {},
   "source": [
    "This is interesting, I think we don't need to calculate the cosine similarities, because for normalised vectors, cosine distance is in a linear relationship with euclidean. \n",
    "https://stats.stackexchange.com/questions/299013/cosine-distance-as-similarity-measure-in-kmeans"
   ]
  },
  {
   "cell_type": "code",
   "execution_count": 138,
   "metadata": {},
   "outputs": [],
   "source": [
    "kmeans = KMeans(n_clusters=2, random_state=0).fit(result)"
   ]
  },
  {
   "cell_type": "code",
   "execution_count": 139,
   "metadata": {},
   "outputs": [
    {
     "data": {
      "text/plain": [
       "array([0, 1, 0], dtype=int32)"
      ]
     },
     "execution_count": 139,
     "metadata": {},
     "output_type": "execute_result"
    }
   ],
   "source": [
    "kmeans.labels_"
   ]
  },
  {
   "cell_type": "markdown",
   "metadata": {},
   "source": [
    "OK, that's great, exactly what we wanted, sentences 0 and 2 are in the same group. "
   ]
  },
  {
   "cell_type": "markdown",
   "metadata": {},
   "source": [
    "## Using Filenames"
   ]
  },
  {
   "cell_type": "markdown",
   "metadata": {},
   "source": [
    "If we pass on a list of filenames, it should work. "
   ]
  },
  {
   "cell_type": "code",
   "execution_count": 114,
   "metadata": {},
   "outputs": [],
   "source": [
    "filenames_test = [\n",
    "    './data/original/txts_adjusted/at_the_mountains_of_madness.txt', \n",
    "    './data/original/txts_adjusted/azathoth.txt']"
   ]
  },
  {
   "cell_type": "code",
   "execution_count": 115,
   "metadata": {},
   "outputs": [],
   "source": [
    "tfidf_vector = TfidfVectorizer(input = 'filename', tokenizer = spacy_tokenizer)"
   ]
  },
  {
   "cell_type": "code",
   "execution_count": 116,
   "metadata": {},
   "outputs": [],
   "source": [
    "result = tfidf_vector.fit_transform(filenames_test)"
   ]
  },
  {
   "cell_type": "code",
   "execution_count": 117,
   "metadata": {},
   "outputs": [
    {
     "data": {
      "text/plain": [
       "matrix([[0.0070271 , 0.00351355, 0.00175677, ..., 0.0351355 , 0.0070271 ,\n",
       "         0.00175677],\n",
       "        [0.        , 0.        , 0.        , ..., 0.        , 0.        ,\n",
       "         0.        ]])"
      ]
     },
     "execution_count": 117,
     "metadata": {},
     "output_type": "execute_result"
    }
   ],
   "source": [
    "result.todense()"
   ]
  },
  {
   "cell_type": "code",
   "execution_count": 120,
   "metadata": {},
   "outputs": [
    {
     "data": {
      "text/plain": [
       "['wrong',\n",
       " 'x.',\n",
       " 'xi',\n",
       " 'xii',\n",
       " 'xiphodons',\n",
       " 'yaanek',\n",
       " 'yawn',\n",
       " 'year',\n",
       " 'yellowish',\n",
       " 'yesterday',\n",
       " 'yield',\n",
       " 'yog',\n",
       " 'young',\n",
       " 'zeal',\n",
       " 'zenith',\n",
       " 'zero',\n",
       " 'ziggurat',\n",
       " '°',\n",
       " '×',\n",
       " '–less']"
      ]
     },
     "execution_count": 120,
     "metadata": {},
     "output_type": "execute_result"
    }
   ],
   "source": [
    "tfidf_vector.get_feature_names()[-20:]"
   ]
  },
  {
   "cell_type": "markdown",
   "metadata": {},
   "source": [
    "## Putting it all Together"
   ]
  },
  {
   "cell_type": "code",
   "execution_count": 144,
   "metadata": {},
   "outputs": [],
   "source": [
    "# define file paths\n",
    "filepaths = []\n",
    "for filename in filenames: \n",
    "    filepaths.append('./data/original/txts_adjusted/' + filename + '.txt')"
   ]
  },
  {
   "cell_type": "code",
   "execution_count": 145,
   "metadata": {},
   "outputs": [],
   "source": [
    "tfidf_vector = TfidfVectorizer(input = 'filename', tokenizer = spacy_tokenizer)"
   ]
  },
  {
   "cell_type": "code",
   "execution_count": 146,
   "metadata": {},
   "outputs": [],
   "source": [
    "# takes a long time\n",
    "result = tfidf_vector.fit_transform(filepaths)"
   ]
  },
  {
   "cell_type": "code",
   "execution_count": 147,
   "metadata": {},
   "outputs": [
    {
     "data": {
      "text/plain": [
       "<63x17813 sparse matrix of type '<class 'numpy.float64'>'\n",
       "\twith 82441 stored elements in Compressed Sparse Row format>"
      ]
     },
     "execution_count": 147,
     "metadata": {},
     "output_type": "execute_result"
    }
   ],
   "source": [
    "result"
   ]
  },
  {
   "cell_type": "code",
   "execution_count": 148,
   "metadata": {},
   "outputs": [],
   "source": [
    "# grouping them in two groups"
   ]
  },
  {
   "cell_type": "code",
   "execution_count": 164,
   "metadata": {},
   "outputs": [],
   "source": [
    "kmeans_models = {}\n",
    "for i in range(2,10+1):\n",
    "    current_kmean = KMeans(n_clusters=i).fit(result)\n",
    "    kmeans_models[i] = current_kmean"
   ]
  },
  {
   "cell_type": "code",
   "execution_count": 166,
   "metadata": {},
   "outputs": [],
   "source": [
    "cluster_df = pd.DataFrame()\n",
    "cluster_df['title'] = filenames\n",
    "for i in range(2, 10+1):\n",
    "    col_name = str(i) +'means_label'\n",
    "    cluster_df[col_name] = kmeans_models[i].labels_"
   ]
  },
  {
   "cell_type": "code",
   "execution_count": 167,
   "metadata": {},
   "outputs": [
    {
     "data": {
      "text/html": [
       "<div>\n",
       "<style scoped>\n",
       "    .dataframe tbody tr th:only-of-type {\n",
       "        vertical-align: middle;\n",
       "    }\n",
       "\n",
       "    .dataframe tbody tr th {\n",
       "        vertical-align: top;\n",
       "    }\n",
       "\n",
       "    .dataframe thead th {\n",
       "        text-align: right;\n",
       "    }\n",
       "</style>\n",
       "<table border=\"1\" class=\"dataframe\">\n",
       "  <thead>\n",
       "    <tr style=\"text-align: right;\">\n",
       "      <th></th>\n",
       "      <th>title</th>\n",
       "      <th>2means_label</th>\n",
       "      <th>3means_label</th>\n",
       "      <th>4means_label</th>\n",
       "      <th>5means_label</th>\n",
       "      <th>6means_label</th>\n",
       "      <th>7means_label</th>\n",
       "      <th>8means_label</th>\n",
       "      <th>9means_label</th>\n",
       "      <th>10means_label</th>\n",
       "    </tr>\n",
       "  </thead>\n",
       "  <tbody>\n",
       "    <tr>\n",
       "      <td>1</td>\n",
       "      <td>the_tomb</td>\n",
       "      <td>1</td>\n",
       "      <td>0</td>\n",
       "      <td>2</td>\n",
       "      <td>4</td>\n",
       "      <td>4</td>\n",
       "      <td>4</td>\n",
       "      <td>5</td>\n",
       "      <td>4</td>\n",
       "      <td>4</td>\n",
       "    </tr>\n",
       "    <tr>\n",
       "      <td>2</td>\n",
       "      <td>dagon</td>\n",
       "      <td>1</td>\n",
       "      <td>0</td>\n",
       "      <td>1</td>\n",
       "      <td>2</td>\n",
       "      <td>1</td>\n",
       "      <td>6</td>\n",
       "      <td>4</td>\n",
       "      <td>5</td>\n",
       "      <td>3</td>\n",
       "    </tr>\n",
       "    <tr>\n",
       "      <td>3</td>\n",
       "      <td>polaris</td>\n",
       "      <td>0</td>\n",
       "      <td>0</td>\n",
       "      <td>3</td>\n",
       "      <td>2</td>\n",
       "      <td>1</td>\n",
       "      <td>1</td>\n",
       "      <td>4</td>\n",
       "      <td>2</td>\n",
       "      <td>3</td>\n",
       "    </tr>\n",
       "    <tr>\n",
       "      <td>4</td>\n",
       "      <td>beyond_the_wall_of_sleep</td>\n",
       "      <td>1</td>\n",
       "      <td>0</td>\n",
       "      <td>1</td>\n",
       "      <td>4</td>\n",
       "      <td>2</td>\n",
       "      <td>5</td>\n",
       "      <td>1</td>\n",
       "      <td>5</td>\n",
       "      <td>4</td>\n",
       "    </tr>\n",
       "    <tr>\n",
       "      <td>5</td>\n",
       "      <td>memory</td>\n",
       "      <td>0</td>\n",
       "      <td>0</td>\n",
       "      <td>1</td>\n",
       "      <td>2</td>\n",
       "      <td>1</td>\n",
       "      <td>6</td>\n",
       "      <td>0</td>\n",
       "      <td>2</td>\n",
       "      <td>3</td>\n",
       "    </tr>\n",
       "    <tr>\n",
       "      <td>...</td>\n",
       "      <td>...</td>\n",
       "      <td>...</td>\n",
       "      <td>...</td>\n",
       "      <td>...</td>\n",
       "      <td>...</td>\n",
       "      <td>...</td>\n",
       "      <td>...</td>\n",
       "      <td>...</td>\n",
       "      <td>...</td>\n",
       "      <td>...</td>\n",
       "    </tr>\n",
       "    <tr>\n",
       "      <td>59</td>\n",
       "      <td>the_thing_on_the_doorstep</td>\n",
       "      <td>1</td>\n",
       "      <td>2</td>\n",
       "      <td>1</td>\n",
       "      <td>1</td>\n",
       "      <td>2</td>\n",
       "      <td>3</td>\n",
       "      <td>6</td>\n",
       "      <td>5</td>\n",
       "      <td>0</td>\n",
       "    </tr>\n",
       "    <tr>\n",
       "      <td>60</td>\n",
       "      <td>the_evil_clergyman</td>\n",
       "      <td>1</td>\n",
       "      <td>2</td>\n",
       "      <td>1</td>\n",
       "      <td>0</td>\n",
       "      <td>5</td>\n",
       "      <td>4</td>\n",
       "      <td>5</td>\n",
       "      <td>2</td>\n",
       "      <td>5</td>\n",
       "    </tr>\n",
       "    <tr>\n",
       "      <td>61</td>\n",
       "      <td>the_book</td>\n",
       "      <td>1</td>\n",
       "      <td>0</td>\n",
       "      <td>1</td>\n",
       "      <td>0</td>\n",
       "      <td>5</td>\n",
       "      <td>4</td>\n",
       "      <td>4</td>\n",
       "      <td>5</td>\n",
       "      <td>3</td>\n",
       "    </tr>\n",
       "    <tr>\n",
       "      <td>62</td>\n",
       "      <td>the_shadow_out_of_time</td>\n",
       "      <td>1</td>\n",
       "      <td>0</td>\n",
       "      <td>1</td>\n",
       "      <td>4</td>\n",
       "      <td>2</td>\n",
       "      <td>3</td>\n",
       "      <td>4</td>\n",
       "      <td>5</td>\n",
       "      <td>3</td>\n",
       "    </tr>\n",
       "    <tr>\n",
       "      <td>63</td>\n",
       "      <td>the_haunter_of_the_dark</td>\n",
       "      <td>1</td>\n",
       "      <td>0</td>\n",
       "      <td>2</td>\n",
       "      <td>4</td>\n",
       "      <td>4</td>\n",
       "      <td>4</td>\n",
       "      <td>5</td>\n",
       "      <td>4</td>\n",
       "      <td>4</td>\n",
       "    </tr>\n",
       "  </tbody>\n",
       "</table>\n",
       "<p>63 rows × 10 columns</p>\n",
       "</div>"
      ],
      "text/plain": [
       "                        title  2means_label  3means_label  4means_label  \\\n",
       "1                    the_tomb             1             0             2   \n",
       "2                       dagon             1             0             1   \n",
       "3                     polaris             0             0             3   \n",
       "4    beyond_the_wall_of_sleep             1             0             1   \n",
       "5                      memory             0             0             1   \n",
       "..                        ...           ...           ...           ...   \n",
       "59  the_thing_on_the_doorstep             1             2             1   \n",
       "60         the_evil_clergyman             1             2             1   \n",
       "61                   the_book             1             0             1   \n",
       "62     the_shadow_out_of_time             1             0             1   \n",
       "63    the_haunter_of_the_dark             1             0             2   \n",
       "\n",
       "    5means_label  6means_label  7means_label  8means_label  9means_label  \\\n",
       "1              4             4             4             5             4   \n",
       "2              2             1             6             4             5   \n",
       "3              2             1             1             4             2   \n",
       "4              4             2             5             1             5   \n",
       "5              2             1             6             0             2   \n",
       "..           ...           ...           ...           ...           ...   \n",
       "59             1             2             3             6             5   \n",
       "60             0             5             4             5             2   \n",
       "61             0             5             4             4             5   \n",
       "62             4             2             3             4             5   \n",
       "63             4             4             4             5             4   \n",
       "\n",
       "    10means_label  \n",
       "1               4  \n",
       "2               3  \n",
       "3               3  \n",
       "4               4  \n",
       "5               3  \n",
       "..            ...  \n",
       "59              0  \n",
       "60              5  \n",
       "61              3  \n",
       "62              3  \n",
       "63              4  \n",
       "\n",
       "[63 rows x 10 columns]"
      ]
     },
     "execution_count": 167,
     "metadata": {},
     "output_type": "execute_result"
    }
   ],
   "source": [
    "cluster_df"
   ]
  },
  {
   "cell_type": "code",
   "execution_count": 171,
   "metadata": {},
   "outputs": [
    {
     "data": {
      "text/plain": [
       "2                                  dagon\n",
       "3                                polaris\n",
       "5                                 memory\n",
       "8                         the_white_ship\n",
       "9          the_doom_that_came_to_sarnath\n",
       "11                  the_terrible_old_man\n",
       "12                              the_tree\n",
       "14                            the_temple\n",
       "16                            the_street\n",
       "17                             celephaïs\n",
       "19                          nyarlathotep\n",
       "21                          ex_oblivione\n",
       "22                     the_nameless_city\n",
       "23                   the_quest_of_iranon\n",
       "24                          the_moon-bog\n",
       "30                  what_the_moon_brings\n",
       "31                              azathoth\n",
       "46    the_strange_high_house_in_the_mist\n",
       "47     the_dream-quest_of_unknown_kadath\n",
       "Name: title, dtype: object"
      ]
     },
     "execution_count": 171,
     "metadata": {},
     "output_type": "execute_result"
    }
   ],
   "source": [
    "# dream titles\n",
    "cluster_df[cluster_df['5means_label'] == 2]['title']"
   ]
  },
  {
   "cell_type": "code",
   "execution_count": 183,
   "metadata": {},
   "outputs": [
    {
     "data": {
      "text/plain": [
       "20     the_picture_in_the_house\n",
       "54           the_dunwich_horror\n",
       "57    the_shadow_over_innsmouth\n",
       "Name: title, dtype: object"
      ]
     },
     "execution_count": 183,
     "metadata": {},
     "output_type": "execute_result"
    }
   ],
   "source": [
    "cluster_df[cluster_df['10means_label'] == 8]['title']"
   ]
  },
  {
   "cell_type": "code",
   "execution_count": 184,
   "metadata": {},
   "outputs": [],
   "source": [
    "cluster_df.to_csv('./results/word_counts/tfidf_clustering.csv', index = False)"
   ]
  },
  {
   "cell_type": "code",
   "execution_count": null,
   "metadata": {},
   "outputs": [],
   "source": []
  }
 ],
 "metadata": {
  "kernelspec": {
   "display_name": "Python 3",
   "language": "python",
   "name": "python3"
  },
  "language_info": {
   "codemirror_mode": {
    "name": "ipython",
    "version": 3
   },
   "file_extension": ".py",
   "mimetype": "text/x-python",
   "name": "python",
   "nbconvert_exporter": "python",
   "pygments_lexer": "ipython3",
   "version": "3.7.4"
  },
  "toc": {
   "base_numbering": 1,
   "nav_menu": {},
   "number_sections": true,
   "sideBar": true,
   "skip_h1_title": false,
   "title_cell": "Table of Contents",
   "title_sidebar": "Contents",
   "toc_cell": false,
   "toc_position": {},
   "toc_section_display": true,
   "toc_window_display": true
  },
  "varInspector": {
   "cols": {
    "lenName": 16,
    "lenType": 16,
    "lenVar": 40
   },
   "kernels_config": {
    "python": {
     "delete_cmd_postfix": "",
     "delete_cmd_prefix": "del ",
     "library": "var_list.py",
     "varRefreshCmd": "print(var_dic_list())"
    },
    "r": {
     "delete_cmd_postfix": ") ",
     "delete_cmd_prefix": "rm(",
     "library": "var_list.r",
     "varRefreshCmd": "cat(var_dic_list()) "
    }
   },
   "types_to_exclude": [
    "module",
    "function",
    "builtin_function_or_method",
    "instance",
    "_Feature"
   ],
   "window_display": false
  }
 },
 "nbformat": 4,
 "nbformat_minor": 2
}
