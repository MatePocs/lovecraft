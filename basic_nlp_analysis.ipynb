{
 "cells": [
  {
   "cell_type": "markdown",
   "metadata": {},
   "source": [
    "TODO: \n",
    "replace weird characters quotation marks\n",
    "nltk stop words remove them\n",
    "\n",
    "not sure if need it, but normalization: lowercase, stemming, lemmatization"
   ]
  },
  {
   "cell_type": "markdown",
   "metadata": {},
   "source": [
    "# Infrastructure"
   ]
  },
  {
   "cell_type": "markdown",
   "metadata": {},
   "source": [
    "In this section, we are importing necessary libraries, setting up global parameters like folders, and creating the lists of titles, years, etc. "
   ]
  },
  {
   "cell_type": "code",
   "execution_count": 75,
   "metadata": {},
   "outputs": [],
   "source": [
    "import re\n",
    "from vaderSentiment.vaderSentiment import SentimentIntensityAnalyzer\n",
    "import pandas as pd\n",
    "\n",
    "import seaborn as sns\n",
    "import matplotlib.pyplot as plt\n",
    "plt.style.use('seaborn-deep')"
   ]
  },
  {
   "cell_type": "code",
   "execution_count": 2,
   "metadata": {},
   "outputs": [],
   "source": [
    "# this is the folder that should be used: \n",
    "txt_adjusted_folder = './data/original/txts_adjusted/'\n",
    "# only used in pdf extraction\n",
    "txt_folder = './data/original/txts/'"
   ]
  },
  {
   "cell_type": "code",
   "execution_count": 3,
   "metadata": {},
   "outputs": [],
   "source": [
    "df = pd.read_csv('./data/original/table_of_contents.csv', header = None, \\\n",
    "                 names = ['original_title', 'page_num','filename','year'])\n",
    "\n",
    "# skipping first one\n",
    "filenames =  df['filename'][1:]"
   ]
  },
  {
   "cell_type": "markdown",
   "metadata": {},
   "source": [
    "# Preparation"
   ]
  },
  {
   "cell_type": "markdown",
   "metadata": {},
   "source": [
    "Contains code that cleans the data further. As of now: handling weird characters, most importantly quotation marks and apostrophes, which hurt lemmatization. To keep things simple, we are changing everything to ' and \". (Called typewriter apostrophe I think.)"
   ]
  },
  {
   "cell_type": "markdown",
   "metadata": {},
   "source": [
    "## Example"
   ]
  },
  {
   "cell_type": "markdown",
   "metadata": {},
   "source": [
    "Checking one writing for examples. "
   ]
  },
  {
   "cell_type": "code",
   "execution_count": 57,
   "metadata": {},
   "outputs": [],
   "source": [
    "my_file = open(txt_folder + 'the_dunwich_horror.txt')\n",
    "raw_text = my_file.read()\n",
    "characters = raw_text.lower().replace('\\n','')\n",
    "characters = characters.replace('\\x0c','')\n",
    "characters = characters.replace(' ','')"
   ]
  },
  {
   "cell_type": "code",
   "execution_count": 70,
   "metadata": {},
   "outputs": [
    {
     "data": {
      "text/plain": [
       "'-2wdj0i”m8uüosczävèr‖l)q,4b76e’n—a1(:é.ftpk?x‘hg!;93―y5'"
      ]
     },
     "execution_count": 70,
     "metadata": {},
     "output_type": "execute_result"
    }
   ],
   "source": [
    "unique_characters = set(characters)\n",
    "unique_characters_in_string = ''.join(set(characters))\n",
    "unique_characters_in_string"
   ]
  },
  {
   "cell_type": "markdown",
   "metadata": {},
   "source": [
    "We create a string of regular characters, ones that we expect in a text. (Might be expanded later.)"
   ]
  },
  {
   "cell_type": "code",
   "execution_count": 81,
   "metadata": {},
   "outputs": [],
   "source": [
    "regular_characters = 'abcdefghijklmnopqrstuvwxyz1234567890.,?!()-:;\\'\"'"
   ]
  },
  {
   "cell_type": "code",
   "execution_count": 82,
   "metadata": {},
   "outputs": [],
   "source": [
    "for character in regular_characters:\n",
    "    try:\n",
    "        unique_characters.remove(character)\n",
    "    except:\n",
    "        pass"
   ]
  },
  {
   "cell_type": "markdown",
   "metadata": {},
   "source": [
    "See what we are left with. "
   ]
  },
  {
   "cell_type": "code",
   "execution_count": 83,
   "metadata": {},
   "outputs": [
    {
     "data": {
      "text/plain": [
       "{'ä', 'è', 'é', 'ü', '—', '―', '‖', '‘', '’', '”'}"
      ]
     },
     "execution_count": 83,
     "metadata": {},
     "output_type": "execute_result"
    }
   ],
   "source": [
    "unique_characters"
   ]
  },
  {
   "cell_type": "code",
   "execution_count": 80,
   "metadata": {},
   "outputs": [
    {
     "data": {
      "text/plain": [
       "False"
      ]
     },
     "execution_count": 80,
     "metadata": {},
     "output_type": "execute_result"
    }
   ],
   "source": [
    "'—' == '―'"
   ]
  },
  {
   "cell_type": "code",
   "execution_count": 84,
   "metadata": {},
   "outputs": [
    {
     "data": {
      "text/plain": [
       "False"
      ]
     },
     "execution_count": 84,
     "metadata": {},
     "output_type": "execute_result"
    }
   ],
   "source": [
    "'‘' == '’'"
   ]
  },
  {
   "cell_type": "code",
   "execution_count": 85,
   "metadata": {},
   "outputs": [
    {
     "data": {
      "text/plain": [
       "False"
      ]
     },
     "execution_count": 85,
     "metadata": {},
     "output_type": "execute_result"
    }
   ],
   "source": [
    "'‘' == \"'\" or  '’' == \"'\""
   ]
  },
  {
   "cell_type": "code",
   "execution_count": 59,
   "metadata": {},
   "outputs": [
    {
     "data": {
      "text/plain": [
       "36016"
      ]
     },
     "execution_count": 59,
     "metadata": {},
     "output_type": "execute_result"
    }
   ],
   "source": [
    "raw_text.index('ä')"
   ]
  },
  {
   "cell_type": "code",
   "execution_count": 86,
   "metadata": {},
   "outputs": [
    {
     "data": {
      "text/plain": [
       "32285"
      ]
     },
     "execution_count": 86,
     "metadata": {},
     "output_type": "execute_result"
    }
   ],
   "source": [
    "raw_text.index('è')"
   ]
  },
  {
   "cell_type": "code",
   "execution_count": 88,
   "metadata": {},
   "outputs": [
    {
     "data": {
      "text/plain": [
       "66610"
      ]
     },
     "execution_count": 88,
     "metadata": {},
     "output_type": "execute_result"
    }
   ],
   "source": [
    "raw_text.index('é')"
   ]
  },
  {
   "cell_type": "code",
   "execution_count": 90,
   "metadata": {},
   "outputs": [
    {
     "data": {
      "text/plain": [
       "66781"
      ]
     },
     "execution_count": 90,
     "metadata": {},
     "output_type": "execute_result"
    }
   ],
   "source": [
    "raw_text.index('ü')"
   ]
  },
  {
   "cell_type": "markdown",
   "metadata": {},
   "source": [
    "I checked in the text, the Latin letters look OK. Dashes and apostrophes are annoying. "
   ]
  },
  {
   "cell_type": "markdown",
   "metadata": {},
   "source": [
    "## Listing Characters"
   ]
  },
  {
   "cell_type": "markdown",
   "metadata": {},
   "source": [
    "Let's gather a similar string, just for all the writings combined."
   ]
  },
  {
   "cell_type": "code",
   "execution_count": 94,
   "metadata": {},
   "outputs": [],
   "source": [
    "raw_text = ''\n",
    "for filename in filenames:\n",
    "    my_file = open(txt_folder + filename + '.txt')\n",
    "    raw_text += my_file.read()\n",
    "# this runs surprisingly fast"
   ]
  },
  {
   "cell_type": "code",
   "execution_count": 225,
   "metadata": {},
   "outputs": [],
   "source": [
    "regular_characters = 'abcdefghijklmnopqrstuvwxyz1234567890°×·/.,?¿!¡()[]-–:;\\'\"áääæéêëèïñöü#&'\n",
    "# expanded after considering examples in the text "
   ]
  },
  {
   "cell_type": "code",
   "execution_count": 206,
   "metadata": {},
   "outputs": [],
   "source": [
    "characters = raw_text.lower().replace('\\n','')\n",
    "characters = characters.replace('\\x0c','')\n",
    "characters = characters.replace(' ','')"
   ]
  },
  {
   "cell_type": "code",
   "execution_count": 207,
   "metadata": {},
   "outputs": [],
   "source": [
    "unique_characters = set(characters)\n",
    "for character in regular_characters:\n",
    "    try:\n",
    "        unique_characters.remove(character)\n",
    "    except:\n",
    "        pass"
   ]
  },
  {
   "cell_type": "code",
   "execution_count": 208,
   "metadata": {},
   "outputs": [
    {
     "data": {
      "text/plain": [
       "{'*', 'å', 'ν', 'ο', 'π', 'ς', 'υ', '—', '―', '‖', '‗', '‘', '’', '”', '•'}"
      ]
     },
     "execution_count": 208,
     "metadata": {},
     "output_type": "execute_result"
    }
   ],
   "source": [
    "unique_characters"
   ]
  },
  {
   "cell_type": "markdown",
   "metadata": {},
   "source": [
    "One by one, check examples in the text make the decision whether we 1) delete, 2) leave unchanged, or 3) replace with an other character. Decision is collected in the dictionary at the end. "
   ]
  },
  {
   "cell_type": "code",
   "execution_count": 197,
   "metadata": {},
   "outputs": [
    {
     "data": {
      "text/plain": [
       "'ing to its ashes. \\n\\n*      *      * \\n\\nTh'"
      ]
     },
     "execution_count": 197,
     "metadata": {},
     "output_type": "execute_result"
    }
   ],
   "source": [
    "position_1 = raw_text.find('*')\n",
    "raw_text[position_1-20:position_1+20]"
   ]
  },
  {
   "cell_type": "code",
   "execution_count": 198,
   "metadata": {},
   "outputs": [
    {
     "data": {
      "text/plain": [
       "''"
      ]
     },
     "execution_count": 198,
     "metadata": {},
     "output_type": "execute_result"
    }
   ],
   "source": [
    "position_2 = raw_text[position_1 + 20:].find('*')\n",
    "raw_text[position_1 + 20:][position_2-20:position_2+20]"
   ]
  },
  {
   "cell_type": "code",
   "execution_count": 226,
   "metadata": {},
   "outputs": [
    {
     "data": {
      "text/plain": [
       "\"\\n 'å',\\n 'ν',\\n 'ο',\\n 'π',\\n 'ς',\\n 'υ',\\n\""
      ]
     },
     "execution_count": 226,
     "metadata": {},
     "output_type": "execute_result"
    }
   ],
   "source": [
    "# these letters are assumed OK\n",
    "\"\"\"\n",
    " 'å',\n",
    " 'ν',\n",
    " 'ο',\n",
    " 'π',\n",
    " 'ς',\n",
    " 'υ',\n",
    "\"\"\""
   ]
  },
  {
   "cell_type": "code",
   "execution_count": 195,
   "metadata": {},
   "outputs": [
    {
     "data": {
      "text/plain": [
       "'man authority, ―es lässt sich nicht lese'"
      ]
     },
     "execution_count": 195,
     "metadata": {},
     "output_type": "execute_result"
    }
   ],
   "source": [
    "position_1 = raw_text.find('ä')\n",
    "raw_text[position_1-20:position_1+20]"
   ]
  },
  {
   "cell_type": "code",
   "execution_count": 196,
   "metadata": {},
   "outputs": [
    {
     "data": {
      "text/plain": [
       "'ces of the Widmannstätten \\nfigures found'"
      ]
     },
     "execution_count": 196,
     "metadata": {},
     "output_type": "execute_result"
    }
   ],
   "source": [
    "position_2 = raw_text[position_1 + 20:].find('ä')\n",
    "raw_text[position_1 + 20:][position_2-20:position_2+20]"
   ]
  },
  {
   "cell_type": "code",
   "execution_count": 200,
   "metadata": {},
   "outputs": [
    {
     "data": {
      "text/plain": [
       "' \\nthe winter of 1900–1901, when to the s'"
      ]
     },
     "execution_count": 200,
     "metadata": {},
     "output_type": "execute_result"
    }
   ],
   "source": [
    "character_to_check = '–'\n",
    "position_1 = raw_text.find(character_to_check)\n",
    "raw_text[position_1-20:position_1+20]"
   ]
  },
  {
   "cell_type": "code",
   "execution_count": 201,
   "metadata": {},
   "outputs": [
    {
     "data": {
      "text/plain": [
       "' of September 24, 19––, I heard a knock '"
      ]
     },
     "execution_count": 201,
     "metadata": {},
     "output_type": "execute_result"
    }
   ],
   "source": [
    "position_2 = raw_text[position_1 + 20:].find(character_to_check)\n",
    "raw_text[position_1 + 20:][position_2-20:position_2+20]"
   ]
  },
  {
   "cell_type": "code",
   "execution_count": 212,
   "metadata": {},
   "outputs": [
    {
     "data": {
      "text/plain": [
       "'ams of a waning moon—but of these things'"
      ]
     },
     "execution_count": 212,
     "metadata": {},
     "output_type": "execute_result"
    }
   ],
   "source": [
    "character_to_check = '—'\n",
    "position_1 = raw_text.find(character_to_check)\n",
    "raw_text[position_1-20:position_1+20]"
   ]
  },
  {
   "cell_type": "code",
   "execution_count": 213,
   "metadata": {},
   "outputs": [
    {
     "data": {
      "text/plain": [
       "'Than white as a lily—and dead half a yea'"
      ]
     },
     "execution_count": 213,
     "metadata": {},
     "output_type": "execute_result"
    }
   ],
   "source": [
    "position_2 = raw_text[position_1 + 20:].find(character_to_check)\n",
    "raw_text[position_1 + 20:][position_2-20:position_2+20]"
   ]
  },
  {
   "cell_type": "code",
   "execution_count": 214,
   "metadata": {},
   "outputs": [
    {
     "data": {
      "text/plain": [
       "'g to what they call ―divine wrath‖ in a '"
      ]
     },
     "execution_count": 214,
     "metadata": {},
     "output_type": "execute_result"
    }
   ],
   "source": [
    "character_to_check = '―'\n",
    "position_1 = raw_text.find(character_to_check)\n",
    "raw_text[position_1-20:position_1+20]"
   ]
  },
  {
   "cell_type": "code",
   "execution_count": 215,
   "metadata": {},
   "outputs": [
    {
     "data": {
      "text/plain": [
       "'d bore the initials ―J. H.‖ The face was'"
      ]
     },
     "execution_count": 215,
     "metadata": {},
     "output_type": "execute_result"
    }
   ],
   "source": [
    "position_2 = raw_text[position_1 + 20:].find(character_to_check)\n",
    "raw_text[position_1 + 20:][position_2-20:position_2+20]"
   ]
  },
  {
   "cell_type": "code",
   "execution_count": 216,
   "metadata": {},
   "outputs": [
    {
     "data": {
      "text/plain": [
       "'y call ―divine wrath‖ in a \\nmanner that '"
      ]
     },
     "execution_count": 216,
     "metadata": {},
     "output_type": "execute_result"
    }
   ],
   "source": [
    "character_to_check = '‖'\n",
    "position_1 = raw_text.find(character_to_check)\n",
    "raw_text[position_1-20:position_1+20]"
   ]
  },
  {
   "cell_type": "code",
   "execution_count": 217,
   "metadata": {},
   "outputs": [
    {
     "data": {
      "text/plain": [
       "' the initials ―J. H.‖ The face was such '"
      ]
     },
     "execution_count": 217,
     "metadata": {},
     "output_type": "execute_result"
    }
   ],
   "source": [
    "position_2 = raw_text[position_1 + 20:].find(character_to_check)\n",
    "raw_text[position_1 + 20:][position_2-20:position_2+20]"
   ]
  },
  {
   "cell_type": "code",
   "execution_count": 218,
   "metadata": {},
   "outputs": [
    {
     "data": {
      "text/plain": [
       "'ation to reach some ‗big, big \\ncabin wit'"
      ]
     },
     "execution_count": 218,
     "metadata": {},
     "output_type": "execute_result"
    }
   ],
   "source": [
    "character_to_check = '‗'\n",
    "position_1 = raw_text.find(character_to_check)\n",
    "raw_text[position_1-20:position_1+20]"
   ]
  },
  {
   "cell_type": "code",
   "execution_count": 219,
   "metadata": {},
   "outputs": [
    {
     "data": {
      "text/plain": [
       "' and kill a certain ‗thing that shines a'"
      ]
     },
     "execution_count": 219,
     "metadata": {},
     "output_type": "execute_result"
    }
   ],
   "source": [
    "position_2 = raw_text[position_1 + 20:].find(character_to_check)\n",
    "raw_text[position_1 + 20:][position_2-20:position_2+20]"
   ]
  },
  {
   "cell_type": "code",
   "execution_count": 223,
   "metadata": {},
   "outputs": [
    {
     "data": {
      "text/plain": [
       "'an decadence: \\n\\nHEL • HELOYM • SOTHER • '"
      ]
     },
     "execution_count": 223,
     "metadata": {},
     "output_type": "execute_result"
    }
   ],
   "source": [
    "character_to_check = '•'\n",
    "position_1 = raw_text.find(character_to_check)\n",
    "raw_text[position_1-20:position_1+20]"
   ]
  },
  {
   "cell_type": "code",
   "execution_count": 224,
   "metadata": {},
   "outputs": [],
   "source": [
    "#that looks intentional, leave it"
   ]
  },
  {
   "cell_type": "code",
   "execution_count": 241,
   "metadata": {},
   "outputs": [],
   "source": [
    "replace_dict = {}\n",
    "replace_dict['*'] = ''\n",
    "replace_dict['—'] = '–'\n",
    "replace_dict['―'] = ''\n",
    "replace_dict['‖'] = '\\\"'\n",
    "replace_dict['‗'] = ''\n",
    "replace_dict['”'] = '\"'\n",
    "replace_dict['‘'] = '\\''\n",
    "replace_dict['’'] = '\\''"
   ]
  },
  {
   "cell_type": "markdown",
   "metadata": {},
   "source": [
    "## Adjusting the Text Files"
   ]
  },
  {
   "cell_type": "markdown",
   "metadata": {},
   "source": [
    "Loop through the writings, replace the text, then save in the adjusted txt folder. "
   ]
  },
  {
   "cell_type": "code",
   "execution_count": 248,
   "metadata": {},
   "outputs": [],
   "source": [
    "for filename in filenames: \n",
    "    # read in original file\n",
    "    my_file = open(txt_folder + filename + '.txt')\n",
    "    raw_text = my_file.read()\n",
    "    # replace characters\n",
    "    for replace_char in replace_dict: \n",
    "        raw_text = raw_text.replace(replace_char, replace_dict[replace_char])\n",
    "    # save the adjusted text in a different file\n",
    "    text_file = open(txt_adjusted_folder + filename + '.txt', 'w')\n",
    "    text_file.write(raw_text)\n",
    "    text_file.close()"
   ]
  },
  {
   "cell_type": "markdown",
   "metadata": {
    "heading_collapsed": true
   },
   "source": [
    "# Word Count"
   ]
  },
  {
   "cell_type": "markdown",
   "metadata": {
    "hidden": true
   },
   "source": [
    "Simply count the words, can use string split for that. \n",
    "This will for example combine end-of-sentence punctuations, but that's fine. "
   ]
  },
  {
   "cell_type": "code",
   "execution_count": 8,
   "metadata": {
    "hidden": true
   },
   "outputs": [],
   "source": [
    "words = raw_text.split()"
   ]
  },
  {
   "cell_type": "code",
   "execution_count": 10,
   "metadata": {
    "hidden": true
   },
   "outputs": [
    {
     "data": {
      "text/plain": [
       "17435"
      ]
     },
     "execution_count": 10,
     "metadata": {},
     "output_type": "execute_result"
    }
   ],
   "source": [
    "len(words)"
   ]
  },
  {
   "cell_type": "markdown",
   "metadata": {
    "hidden": true
   },
   "source": [
    "this would not work, leaves in dashes, like 'superstition—but'"
   ]
  },
  {
   "cell_type": "code",
   "execution_count": 22,
   "metadata": {
    "hidden": true
   },
   "outputs": [],
   "source": [
    "words = re.split(r'[-\\s.,;—!‖?]+', raw_text)"
   ]
  },
  {
   "cell_type": "code",
   "execution_count": 23,
   "metadata": {
    "hidden": true
   },
   "outputs": [
    {
     "data": {
      "text/plain": [
       "17607"
      ]
     },
     "execution_count": 23,
     "metadata": {},
     "output_type": "execute_result"
    }
   ],
   "source": [
    "len(words)"
   ]
  },
  {
   "cell_type": "markdown",
   "metadata": {
    "heading_collapsed": true
   },
   "source": [
    "# Tokenize with NLTK"
   ]
  },
  {
   "cell_type": "markdown",
   "metadata": {
    "hidden": true
   },
   "source": [
    "different tokenizations, do page 41 example do do things like word that in every writing"
   ]
  },
  {
   "cell_type": "markdown",
   "metadata": {
    "hidden": true
   },
   "source": [
    "trying regex tokenizer first"
   ]
  },
  {
   "cell_type": "code",
   "execution_count": 29,
   "metadata": {
    "hidden": true
   },
   "outputs": [],
   "source": [
    "from nltk.tokenize import RegexpTokenizer\n",
    "tokenizer = RegexpTokenizer(r'\\w+|$[0-9.]+|\\S+')\n",
    "words = tokenizer.tokenize(raw_text)"
   ]
  },
  {
   "cell_type": "code",
   "execution_count": 30,
   "metadata": {
    "hidden": true
   },
   "outputs": [
    {
     "data": {
      "text/plain": [
       "19945"
      ]
     },
     "execution_count": 30,
     "metadata": {},
     "output_type": "execute_result"
    }
   ],
   "source": [
    "len(words)"
   ]
  },
  {
   "cell_type": "markdown",
   "metadata": {
    "hidden": true
   },
   "source": [
    "source: http://www.nltk.org/book/ch01.html\n",
    "https://www.nltk.org/book/ch03.html"
   ]
  },
  {
   "cell_type": "code",
   "execution_count": 252,
   "metadata": {
    "hidden": true
   },
   "outputs": [],
   "source": [
    "from nltk.tokenize import TreebankWordTokenizer\n",
    "tokenizer = TreebankWordTokenizer()\n",
    "tokens = tokenizer.tokenize(raw_text)"
   ]
  },
  {
   "cell_type": "code",
   "execution_count": 253,
   "metadata": {
    "hidden": true
   },
   "outputs": [
    {
     "data": {
      "text/plain": [
       "4436"
      ]
     },
     "execution_count": 253,
     "metadata": {},
     "output_type": "execute_result"
    }
   ],
   "source": [
    "len(tokens)"
   ]
  },
  {
   "cell_type": "code",
   "execution_count": 34,
   "metadata": {
    "hidden": true
   },
   "outputs": [
    {
     "data": {
      "text/plain": [
       "['close',\n",
       " 'to',\n",
       " 'the',\n",
       " 'feet',\n",
       " 'of',\n",
       " 'the',\n",
       " 'domed',\n",
       " 'hills',\n",
       " 'among',\n",
       " 'which',\n",
       " 'it',\n",
       " 'rises.',\n",
       " 'As',\n",
       " 'the',\n",
       " 'hills',\n",
       " 'draw',\n",
       " 'nearer',\n",
       " ',',\n",
       " 'one',\n",
       " 'heeds',\n",
       " 'their',\n",
       " 'wooded',\n",
       " 'sides',\n",
       " 'more',\n",
       " 'than',\n",
       " 'their',\n",
       " 'stone-crowned',\n",
       " 'tops.',\n",
       " 'Those',\n",
       " 'sides',\n",
       " 'loom',\n",
       " 'up',\n",
       " 'so',\n",
       " 'darkly',\n",
       " 'and',\n",
       " 'precipitously',\n",
       " 'that',\n",
       " 'one',\n",
       " 'wishes',\n",
       " 'they',\n",
       " 'would',\n",
       " 'keep',\n",
       " 'their',\n",
       " 'distance',\n",
       " ',',\n",
       " 'but',\n",
       " 'there',\n",
       " 'is',\n",
       " 'no',\n",
       " 'road',\n",
       " 'by',\n",
       " 'which',\n",
       " 'to',\n",
       " 'escape',\n",
       " 'them.',\n",
       " 'Across',\n",
       " 'a',\n",
       " 'covered',\n",
       " 'bridge',\n",
       " 'one',\n",
       " 'sees',\n",
       " 'a',\n",
       " 'small',\n",
       " 'village',\n",
       " 'huddled',\n",
       " 'between',\n",
       " 'the',\n",
       " 'stream',\n",
       " 'and',\n",
       " 'the',\n",
       " 'vertical',\n",
       " 'slope',\n",
       " 'of',\n",
       " 'Round',\n",
       " 'Mountain',\n",
       " ',',\n",
       " 'and',\n",
       " 'wonders',\n",
       " 'at',\n",
       " 'the',\n",
       " 'cluster',\n",
       " 'of',\n",
       " 'rotting',\n",
       " 'gambrel',\n",
       " 'roofs',\n",
       " 'bespeaking',\n",
       " 'an',\n",
       " 'earlier',\n",
       " 'architectural',\n",
       " 'period',\n",
       " 'than',\n",
       " 'that',\n",
       " 'of',\n",
       " 'the',\n",
       " 'neighbouring',\n",
       " 'region.',\n",
       " 'It',\n",
       " 'is',\n",
       " 'not',\n",
       " 'reassuring',\n",
       " 'to',\n",
       " 'see',\n",
       " ',',\n",
       " 'on',\n",
       " 'a',\n",
       " 'closer',\n",
       " 'glance',\n",
       " ',',\n",
       " 'that',\n",
       " 'most',\n",
       " 'of',\n",
       " 'the',\n",
       " 'houses',\n",
       " 'are',\n",
       " 'deserted',\n",
       " 'and',\n",
       " 'falling',\n",
       " 'to',\n",
       " 'ruin',\n",
       " ',',\n",
       " 'and',\n",
       " 'that',\n",
       " 'the',\n",
       " 'broken-steepled',\n",
       " 'church',\n",
       " 'now',\n",
       " 'harbours',\n",
       " 'the',\n",
       " 'one',\n",
       " 'slovenly',\n",
       " 'mercantile',\n",
       " 'establishment',\n",
       " 'of',\n",
       " 'the',\n",
       " 'hamlet.',\n",
       " 'One',\n",
       " 'dreads',\n",
       " 'to',\n",
       " 'trust',\n",
       " 'the',\n",
       " 'tenebrous',\n",
       " 'tunnel',\n",
       " 'of',\n",
       " 'the',\n",
       " 'bridge',\n",
       " ',',\n",
       " 'yet',\n",
       " 'there',\n",
       " 'is',\n",
       " 'no',\n",
       " 'way',\n",
       " 'to',\n",
       " 'avoid',\n",
       " 'it.',\n",
       " 'Once',\n",
       " 'across',\n",
       " ',',\n",
       " 'it',\n",
       " 'is',\n",
       " 'hard',\n",
       " 'to',\n",
       " 'prevent',\n",
       " 'the',\n",
       " 'impression',\n",
       " 'of',\n",
       " 'a',\n",
       " 'faint',\n",
       " ',',\n",
       " 'malign',\n",
       " 'odour',\n",
       " 'about',\n",
       " 'the',\n",
       " 'village',\n",
       " 'street',\n",
       " ',',\n",
       " 'as',\n",
       " 'of',\n",
       " 'the',\n",
       " 'massed',\n",
       " 'mould',\n",
       " 'and',\n",
       " 'decay',\n",
       " 'of',\n",
       " 'centuries.',\n",
       " 'It',\n",
       " 'is',\n",
       " 'always',\n",
       " 'a',\n",
       " 'relief',\n",
       " 'to',\n",
       " 'get',\n",
       " 'clear',\n",
       " 'of',\n",
       " 'the',\n",
       " 'place',\n",
       " ',',\n",
       " 'and',\n",
       " 'to',\n",
       " 'follow',\n",
       " 'the',\n",
       " 'narrow',\n",
       " 'road',\n",
       " 'around',\n",
       " 'the',\n",
       " 'base',\n",
       " 'of',\n",
       " 'the',\n",
       " 'hills',\n",
       " 'and',\n",
       " 'across',\n",
       " 'the',\n",
       " 'level',\n",
       " 'country',\n",
       " 'beyond',\n",
       " 'till',\n",
       " 'it',\n",
       " 'rejoins',\n",
       " 'the',\n",
       " 'Aylesbury',\n",
       " 'pike.',\n",
       " 'Afterward',\n",
       " 'one',\n",
       " 'sometimes',\n",
       " 'learns',\n",
       " 'that',\n",
       " 'one',\n",
       " 'has',\n",
       " 'been',\n",
       " 'through',\n",
       " 'Dunwich.',\n",
       " 'Outsiders',\n",
       " 'visit',\n",
       " 'Dunwich',\n",
       " 'as',\n",
       " 'seldom',\n",
       " 'as',\n",
       " 'possible',\n",
       " ',',\n",
       " 'and',\n",
       " 'since',\n",
       " 'a',\n",
       " 'certain',\n",
       " 'season',\n",
       " 'of',\n",
       " 'horror',\n",
       " 'all',\n",
       " 'the',\n",
       " 'signboards',\n",
       " 'pointing',\n",
       " 'toward',\n",
       " 'it',\n",
       " 'have',\n",
       " 'been',\n",
       " 'taken',\n",
       " 'down.',\n",
       " 'The',\n",
       " 'scenery',\n",
       " ',',\n",
       " 'judged',\n",
       " 'by',\n",
       " 'any',\n",
       " 'ordinary',\n",
       " 'aesthetic',\n",
       " 'canon',\n",
       " ',',\n",
       " 'is',\n",
       " 'more',\n",
       " 'than',\n",
       " 'commonly',\n",
       " 'beautiful',\n",
       " ';',\n",
       " 'yet',\n",
       " 'there',\n",
       " 'is',\n",
       " 'no',\n",
       " 'influx',\n",
       " 'of',\n",
       " 'artists',\n",
       " 'or',\n",
       " 'summer',\n",
       " 'tourists.',\n",
       " 'Two',\n",
       " 'centuries',\n",
       " 'ago',\n",
       " ',',\n",
       " 'when',\n",
       " 'talk',\n",
       " 'of',\n",
       " 'witch-blood',\n",
       " ',',\n",
       " 'Satan-worship',\n",
       " ',',\n",
       " 'and',\n",
       " 'strange',\n",
       " 'forest',\n",
       " 'presences',\n",
       " 'was',\n",
       " 'not',\n",
       " 'laughed',\n",
       " 'at',\n",
       " ',',\n",
       " 'it',\n",
       " 'was',\n",
       " 'the',\n",
       " 'custom',\n",
       " 'to',\n",
       " 'give',\n",
       " 'reasons',\n",
       " 'for',\n",
       " 'avoiding',\n",
       " 'the',\n",
       " 'locality.',\n",
       " 'In',\n",
       " 'our',\n",
       " 'sensible',\n",
       " 'age—since',\n",
       " 'the',\n",
       " 'Dunwich',\n",
       " 'horror',\n",
       " 'of',\n",
       " '1928',\n",
       " 'was',\n",
       " 'hushed',\n",
       " 'up',\n",
       " 'by',\n",
       " 'those',\n",
       " 'who',\n",
       " 'had',\n",
       " 'the',\n",
       " 'town',\n",
       " '‘',\n",
       " 's',\n",
       " 'and',\n",
       " 'the',\n",
       " 'world',\n",
       " '‘',\n",
       " 's',\n",
       " 'welfare',\n",
       " 'at',\n",
       " 'heart—people',\n",
       " 'shun',\n",
       " 'it',\n",
       " 'without',\n",
       " 'knowing',\n",
       " 'exactly',\n",
       " 'why.',\n",
       " 'Perhaps',\n",
       " 'one',\n",
       " 'reason—though',\n",
       " 'it',\n",
       " 'can',\n",
       " 'not',\n",
       " 'apply',\n",
       " 'to',\n",
       " 'uninformed',\n",
       " 'strangers—is',\n",
       " 'that',\n",
       " 'the',\n",
       " 'natives',\n",
       " 'are',\n",
       " 'now',\n",
       " 'repellently',\n",
       " 'decadent',\n",
       " ',',\n",
       " 'having',\n",
       " 'gone',\n",
       " 'far',\n",
       " 'along',\n",
       " 'that',\n",
       " 'path',\n",
       " 'of',\n",
       " 'retrogression',\n",
       " 'so',\n",
       " 'common',\n",
       " 'in',\n",
       " 'many',\n",
       " 'New',\n",
       " 'England',\n",
       " 'backwaters.',\n",
       " 'They',\n",
       " 'have',\n",
       " 'come',\n",
       " 'to',\n",
       " 'form',\n",
       " 'a',\n",
       " 'race',\n",
       " 'by',\n",
       " 'themselves',\n",
       " ',',\n",
       " 'with',\n",
       " 'the',\n",
       " 'well-',\n",
       " 'defined',\n",
       " 'mental',\n",
       " 'and',\n",
       " 'physical',\n",
       " 'stigmata',\n",
       " 'of',\n",
       " 'degeneracy',\n",
       " 'and',\n",
       " 'inbreeding.',\n",
       " 'The',\n",
       " 'average',\n",
       " 'of',\n",
       " 'their',\n",
       " 'intelligence',\n",
       " 'is',\n",
       " 'woefully',\n",
       " 'low',\n",
       " ',',\n",
       " 'whilst',\n",
       " 'their',\n",
       " 'annals',\n",
       " 'reek',\n",
       " 'of',\n",
       " 'overt',\n",
       " 'viciousness',\n",
       " 'and',\n",
       " 'of',\n",
       " 'half-hidden',\n",
       " 'murders',\n",
       " ',',\n",
       " 'incests',\n",
       " ',',\n",
       " 'and',\n",
       " 'deeds',\n",
       " 'of',\n",
       " 'almost',\n",
       " 'unnamable',\n",
       " 'violence',\n",
       " 'and',\n",
       " 'perversity.',\n",
       " 'The',\n",
       " 'old',\n",
       " 'gentry',\n",
       " ',',\n",
       " 'representing',\n",
       " 'the',\n",
       " 'two',\n",
       " 'or',\n",
       " 'three',\n",
       " 'armigerous',\n",
       " 'families',\n",
       " 'which',\n",
       " 'came',\n",
       " 'from',\n",
       " 'Salem',\n",
       " 'in',\n",
       " '1692',\n",
       " ',',\n",
       " 'have',\n",
       " 'kept',\n",
       " 'somewhat',\n",
       " 'above',\n",
       " 'the',\n",
       " 'general',\n",
       " 'level',\n",
       " 'of',\n",
       " 'decay',\n",
       " ';',\n",
       " 'though',\n",
       " 'many',\n",
       " 'branches',\n",
       " 'are',\n",
       " 'sunk',\n",
       " 'into',\n",
       " 'the',\n",
       " 'sordid',\n",
       " 'populace',\n",
       " 'so',\n",
       " 'deeply',\n",
       " 'that',\n",
       " 'only',\n",
       " 'their',\n",
       " 'names',\n",
       " 'remain',\n",
       " 'as',\n",
       " 'a',\n",
       " 'key',\n",
       " 'to',\n",
       " 'the',\n",
       " 'origin',\n",
       " 'they',\n",
       " 'disgrace.',\n",
       " 'Some',\n",
       " 'of',\n",
       " 'the',\n",
       " 'Whateleys',\n",
       " 'and',\n",
       " 'Bishops',\n",
       " 'still',\n",
       " 'send',\n",
       " 'their',\n",
       " 'eldest',\n",
       " 'sons',\n",
       " 'to',\n",
       " 'Harvard',\n",
       " 'and',\n",
       " 'Miskatonic',\n",
       " ',',\n",
       " 'though',\n",
       " 'those',\n",
       " 'sons',\n",
       " 'seldom',\n",
       " 'return',\n",
       " 'to',\n",
       " 'the',\n",
       " 'mouldering',\n",
       " 'gambrel',\n",
       " 'roofs',\n",
       " 'under',\n",
       " 'which',\n",
       " 'they',\n",
       " 'and',\n",
       " 'their',\n",
       " 'ancestors',\n",
       " 'were',\n",
       " 'born.',\n",
       " 'No',\n",
       " 'one',\n",
       " ',',\n",
       " 'even',\n",
       " 'those',\n",
       " 'who',\n",
       " 'have',\n",
       " 'the',\n",
       " 'facts',\n",
       " 'concerning',\n",
       " 'the',\n",
       " 'recent',\n",
       " 'horror',\n",
       " ',',\n",
       " 'can',\n",
       " 'say',\n",
       " 'just',\n",
       " 'what',\n",
       " 'is',\n",
       " 'the',\n",
       " 'matter',\n",
       " 'with',\n",
       " 'Dunwich',\n",
       " ';',\n",
       " 'though',\n",
       " 'old',\n",
       " 'legends',\n",
       " 'speak',\n",
       " 'of',\n",
       " 'unhallowed',\n",
       " 'rites',\n",
       " 'and',\n",
       " 'conclaves',\n",
       " 'of',\n",
       " 'the',\n",
       " 'Indians',\n",
       " ',',\n",
       " 'amidst',\n",
       " 'which',\n",
       " 'they',\n",
       " 'called',\n",
       " 'forbidden',\n",
       " 'shapes',\n",
       " 'of',\n",
       " 'shadow',\n",
       " 'out',\n",
       " 'of',\n",
       " 'the',\n",
       " 'great',\n",
       " 'rounded',\n",
       " 'hills',\n",
       " ',',\n",
       " 'and',\n",
       " 'made',\n",
       " 'wild',\n",
       " 'orgiastic',\n",
       " 'prayers',\n",
       " 'that',\n",
       " 'were',\n",
       " 'answered',\n",
       " 'by',\n",
       " 'loud',\n",
       " 'crackings',\n",
       " 'and',\n",
       " 'rumblings',\n",
       " 'from',\n",
       " 'the',\n",
       " 'ground',\n",
       " 'below.',\n",
       " 'In',\n",
       " '1747',\n",
       " 'the',\n",
       " 'Reverend',\n",
       " 'Abijah',\n",
       " 'Hoadley',\n",
       " ',',\n",
       " 'newly',\n",
       " 'come',\n",
       " 'to',\n",
       " 'the',\n",
       " 'Congregational',\n",
       " 'Church',\n",
       " 'at',\n",
       " 'Dunwich',\n",
       " 'Village',\n",
       " ',',\n",
       " 'preached',\n",
       " 'a',\n",
       " 'memorable',\n",
       " 'sermon',\n",
       " 'on',\n",
       " 'the',\n",
       " 'close',\n",
       " 'presence',\n",
       " 'of',\n",
       " 'Satan',\n",
       " 'and',\n",
       " 'his',\n",
       " 'imps',\n",
       " ';',\n",
       " 'in',\n",
       " 'which',\n",
       " 'he',\n",
       " 'said',\n",
       " ':',\n",
       " '―It',\n",
       " 'must',\n",
       " 'be',\n",
       " 'allow',\n",
       " '‘',\n",
       " 'd',\n",
       " ',',\n",
       " 'that',\n",
       " 'these',\n",
       " 'Blasphemies',\n",
       " 'of',\n",
       " 'an',\n",
       " 'infernall',\n",
       " 'Train',\n",
       " 'of',\n",
       " 'Daemons',\n",
       " 'are',\n",
       " 'Matters',\n",
       " 'of',\n",
       " 'too',\n",
       " 'common',\n",
       " 'Knowledge',\n",
       " 'to',\n",
       " 'be',\n",
       " 'deny',\n",
       " '‘',\n",
       " 'd',\n",
       " ';',\n",
       " 'the',\n",
       " 'cursed',\n",
       " 'Voices',\n",
       " 'of',\n",
       " 'Azazel',\n",
       " 'and',\n",
       " 'Buzrael',\n",
       " ',',\n",
       " 'of',\n",
       " 'Beelzebub',\n",
       " 'and',\n",
       " 'Belial',\n",
       " ',',\n",
       " 'being',\n",
       " 'heard',\n",
       " 'now',\n",
       " 'from',\n",
       " 'under',\n",
       " 'Ground',\n",
       " 'by',\n",
       " 'above',\n",
       " 'a',\n",
       " 'Score',\n",
       " 'of',\n",
       " 'credible',\n",
       " 'Witnesses',\n",
       " 'now',\n",
       " 'living.',\n",
       " 'I',\n",
       " 'my',\n",
       " 'self',\n",
       " 'did',\n",
       " 'not',\n",
       " 'more',\n",
       " 'than',\n",
       " 'a',\n",
       " 'Fortnight',\n",
       " 'ago',\n",
       " 'catch',\n",
       " 'a',\n",
       " 'very',\n",
       " 'plain',\n",
       " 'Discourse',\n",
       " 'of',\n",
       " 'evill',\n",
       " 'Powers',\n",
       " 'in',\n",
       " 'the',\n",
       " 'Hill',\n",
       " 'behind',\n",
       " 'my',\n",
       " 'House',\n",
       " ';',\n",
       " 'wherein',\n",
       " 'there',\n",
       " 'were',\n",
       " 'a',\n",
       " 'Rattling',\n",
       " 'and',\n",
       " 'Rolling',\n",
       " ',',\n",
       " 'Groaning',\n",
       " ',',\n",
       " 'Screeching',\n",
       " ',',\n",
       " 'and',\n",
       " 'Hissing',\n",
       " ',',\n",
       " 'such',\n",
       " 'as',\n",
       " 'no',\n",
       " 'Things',\n",
       " 'of',\n",
       " 'this',\n",
       " 'Earth',\n",
       " 'cou',\n",
       " '‘',\n",
       " 'd',\n",
       " 'raise',\n",
       " 'up',\n",
       " ',',\n",
       " 'and',\n",
       " 'which',\n",
       " 'must',\n",
       " 'needs',\n",
       " 'have',\n",
       " 'come',\n",
       " 'from',\n",
       " 'those',\n",
       " 'Caves',\n",
       " 'that',\n",
       " 'only',\n",
       " 'black',\n",
       " 'Magick',\n",
       " 'can',\n",
       " 'discover',\n",
       " ',',\n",
       " 'and',\n",
       " 'only',\n",
       " 'the',\n",
       " 'Divell',\n",
       " 'unlock.‖',\n",
       " 'Mr.',\n",
       " 'Hoadley',\n",
       " 'disappeared',\n",
       " 'soon',\n",
       " 'after',\n",
       " 'delivering',\n",
       " 'this',\n",
       " 'sermon',\n",
       " ';',\n",
       " 'but',\n",
       " 'the',\n",
       " 'text',\n",
       " ',',\n",
       " 'printed',\n",
       " 'in',\n",
       " 'Springfield',\n",
       " ',',\n",
       " 'is',\n",
       " 'still',\n",
       " 'extant.',\n",
       " 'Noises',\n",
       " 'in',\n",
       " 'the',\n",
       " 'hills',\n",
       " 'continued',\n",
       " 'to',\n",
       " 'be',\n",
       " 'reported',\n",
       " 'from',\n",
       " 'year',\n",
       " 'to',\n",
       " 'year',\n",
       " ',',\n",
       " 'and',\n",
       " 'still',\n",
       " 'form',\n",
       " 'a',\n",
       " 'puzzle',\n",
       " 'to',\n",
       " 'geologists',\n",
       " 'and',\n",
       " 'physiographers.',\n",
       " 'Other',\n",
       " 'traditions',\n",
       " 'tell',\n",
       " 'of',\n",
       " 'foul',\n",
       " 'odours',\n",
       " 'near',\n",
       " 'the',\n",
       " 'hill-crowning',\n",
       " 'circles',\n",
       " 'of',\n",
       " 'stone',\n",
       " 'pillars',\n",
       " ',',\n",
       " 'and',\n",
       " 'of',\n",
       " 'rushing',\n",
       " 'airy',\n",
       " 'presences',\n",
       " 'to',\n",
       " 'be',\n",
       " 'heard',\n",
       " 'faintly',\n",
       " 'at',\n",
       " 'certain',\n",
       " 'hours',\n",
       " 'from',\n",
       " 'stated',\n",
       " 'points',\n",
       " 'at',\n",
       " 'the',\n",
       " 'bottom',\n",
       " 'of',\n",
       " 'the',\n",
       " 'great',\n",
       " 'ravines',\n",
       " ';',\n",
       " 'while',\n",
       " 'still',\n",
       " 'others',\n",
       " 'try',\n",
       " 'to',\n",
       " 'explain',\n",
       " 'the',\n",
       " 'Devil',\n",
       " '‘',\n",
       " 's',\n",
       " 'Hop',\n",
       " 'Yard—a',\n",
       " 'bleak',\n",
       " ',',\n",
       " 'blasted',\n",
       " 'hillside',\n",
       " 'where',\n",
       " 'no',\n",
       " 'tree',\n",
       " ',',\n",
       " 'shrub',\n",
       " ',',\n",
       " 'or',\n",
       " 'grass-blade',\n",
       " 'will',\n",
       " 'grow.',\n",
       " 'Then',\n",
       " 'too',\n",
       " ',',\n",
       " 'the',\n",
       " 'natives',\n",
       " 'are',\n",
       " 'mortally',\n",
       " 'afraid',\n",
       " 'of',\n",
       " 'the',\n",
       " 'numerous',\n",
       " 'whippoorwills',\n",
       " 'which',\n",
       " 'grow',\n",
       " 'vocal',\n",
       " 'on',\n",
       " 'warm',\n",
       " 'nights.',\n",
       " 'It',\n",
       " 'is',\n",
       " 'vowed',\n",
       " 'that',\n",
       " 'the',\n",
       " 'birds',\n",
       " 'are',\n",
       " 'psychopomps',\n",
       " 'lying',\n",
       " 'in',\n",
       " 'wait',\n",
       " 'for',\n",
       " 'the',\n",
       " 'souls',\n",
       " 'of',\n",
       " 'the',\n",
       " 'dying',\n",
       " ',',\n",
       " 'and',\n",
       " 'that',\n",
       " 'they',\n",
       " 'time',\n",
       " 'their',\n",
       " 'eerie',\n",
       " 'cries',\n",
       " 'in',\n",
       " 'unison',\n",
       " 'with',\n",
       " 'the',\n",
       " 'sufferer',\n",
       " '‘',\n",
       " 's',\n",
       " 'struggling',\n",
       " 'breath.',\n",
       " 'If',\n",
       " 'they',\n",
       " 'can',\n",
       " 'catch',\n",
       " 'the',\n",
       " 'fleeing',\n",
       " 'soul',\n",
       " 'when',\n",
       " 'it',\n",
       " 'leaves',\n",
       " 'the',\n",
       " 'body',\n",
       " ',',\n",
       " 'they',\n",
       " 'instantly',\n",
       " 'flutter',\n",
       " 'away',\n",
       " 'chittering',\n",
       " 'in',\n",
       " 'daemoniac',\n",
       " 'laughter',\n",
       " ';',\n",
       " 'but',\n",
       " 'if',\n",
       " 'they',\n",
       " 'fail',\n",
       " ',',\n",
       " 'they',\n",
       " 'subside',\n",
       " 'gradually',\n",
       " 'into',\n",
       " 'a',\n",
       " 'disappointed',\n",
       " 'silence.',\n",
       " 'These',\n",
       " 'tales',\n",
       " ',',\n",
       " 'of',\n",
       " 'course',\n",
       " ',',\n",
       " 'are',\n",
       " 'obsolete',\n",
       " 'and',\n",
       " 'ridiculous',\n",
       " ';',\n",
       " 'because',\n",
       " 'they',\n",
       " 'come',\n",
       " 'down',\n",
       " 'from',\n",
       " 'very',\n",
       " 'old',\n",
       " 'times.',\n",
       " 'Dunwich',\n",
       " 'is',\n",
       " 'indeed',\n",
       " 'ridiculously',\n",
       " 'old—older',\n",
       " 'by',\n",
       " 'far',\n",
       " 'than',\n",
       " 'any',\n",
       " 'of',\n",
       " 'the',\n",
       " 'communities',\n",
       " 'within',\n",
       " 'thirty',\n",
       " 'miles',\n",
       " 'of',\n",
       " 'it.',\n",
       " 'South',\n",
       " 'of',\n",
       " 'the',\n",
       " 'village',\n",
       " 'one',\n",
       " 'may',\n",
       " 'still',\n",
       " 'spy',\n",
       " 'the',\n",
       " 'cellar',\n",
       " 'walls',\n",
       " 'and',\n",
       " 'chimney',\n",
       " 'of',\n",
       " 'the',\n",
       " 'ancient',\n",
       " 'Bishop',\n",
       " 'house',\n",
       " ',',\n",
       " 'which',\n",
       " ...]"
      ]
     },
     "execution_count": 34,
     "metadata": {},
     "output_type": "execute_result"
    }
   ],
   "source": [
    "tokens[500:]"
   ]
  },
  {
   "cell_type": "markdown",
   "metadata": {
    "hidden": true
   },
   "source": [
    "let's see what it does with a sentence like 'I dun‘t keer what folks think—ef Lavinny‘s boy looked like his pa, he wouldn‘t look like nothin‘ ye expeck.'"
   ]
  },
  {
   "cell_type": "code",
   "execution_count": 39,
   "metadata": {
    "hidden": true
   },
   "outputs": [
    {
     "data": {
      "text/plain": [
       "2169"
      ]
     },
     "execution_count": 39,
     "metadata": {},
     "output_type": "execute_result"
    }
   ],
   "source": [
    "tokens.index('Lavinny')"
   ]
  },
  {
   "cell_type": "code",
   "execution_count": 40,
   "metadata": {
    "hidden": true
   },
   "outputs": [
    {
     "data": {
      "text/plain": [
       "['Lavinny',\n",
       " '‘',\n",
       " 's',\n",
       " 'boy',\n",
       " 'looked',\n",
       " 'like',\n",
       " 'his',\n",
       " 'pa',\n",
       " ',',\n",
       " 'he',\n",
       " 'wouldn',\n",
       " '‘',\n",
       " 't',\n",
       " 'look',\n",
       " 'like',\n",
       " 'nothin',\n",
       " '‘',\n",
       " 'ye',\n",
       " 'expeck.',\n",
       " 'Ye',\n",
       " 'needn',\n",
       " '‘',\n",
       " 't',\n",
       " 'think',\n",
       " 'the',\n",
       " 'only',\n",
       " 'folks',\n",
       " 'is',\n",
       " 'the',\n",
       " 'folks',\n",
       " 'hereabaouts.',\n",
       " 'Lavinny',\n",
       " '‘',\n",
       " 's',\n",
       " 'read',\n",
       " 'some',\n",
       " ',',\n",
       " 'an',\n",
       " '‘',\n",
       " 'has',\n",
       " 'seed',\n",
       " 'some',\n",
       " 'things',\n",
       " 'the',\n",
       " 'most',\n",
       " 'o',\n",
       " '‘',\n",
       " 'ye',\n",
       " 'only',\n",
       " 'tell',\n",
       " 'abaout.',\n",
       " 'I',\n",
       " 'calc',\n",
       " '‘',\n",
       " 'late',\n",
       " 'her',\n",
       " 'man',\n",
       " 'is',\n",
       " 'as',\n",
       " 'good',\n",
       " 'a',\n",
       " 'husban',\n",
       " '‘',\n",
       " 'as',\n",
       " 'ye',\n",
       " 'kin',\n",
       " 'find',\n",
       " 'this',\n",
       " 'side',\n",
       " 'of',\n",
       " 'Aylesbury',\n",
       " ';',\n",
       " 'an',\n",
       " '‘',\n",
       " 'ef',\n",
       " 'ye',\n",
       " 'knowed',\n",
       " 'as',\n",
       " 'much',\n",
       " 'abaout',\n",
       " 'the',\n",
       " 'hills',\n",
       " 'as',\n",
       " 'I',\n",
       " 'dew',\n",
       " ',',\n",
       " 'ye',\n",
       " 'wouldn',\n",
       " '‘',\n",
       " 't',\n",
       " 'ast',\n",
       " 'no',\n",
       " 'better',\n",
       " 'church',\n",
       " 'weddin',\n",
       " '‘',\n",
       " 'nor',\n",
       " 'her',\n",
       " '‘',\n",
       " 'n.',\n",
       " 'Let',\n",
       " 'me',\n",
       " 'tell',\n",
       " 'ye',\n",
       " 'suthin',\n",
       " '‘',\n",
       " '—some',\n",
       " 'day',\n",
       " 'yew',\n",
       " 'folks',\n",
       " '’',\n",
       " 'll',\n",
       " 'hear',\n",
       " 'a',\n",
       " 'child',\n",
       " 'o',\n",
       " '’',\n",
       " 'Lavinny',\n",
       " '’',\n",
       " 's',\n",
       " 'a-callin',\n",
       " '’',\n",
       " 'its',\n",
       " 'father',\n",
       " '’',\n",
       " 's',\n",
       " 'name',\n",
       " 'on',\n",
       " 'the',\n",
       " 'top',\n",
       " 'o',\n",
       " '’',\n",
       " 'Sentinel',\n",
       " 'Hill',\n",
       " '!',\n",
       " '”',\n",
       " 'The',\n",
       " 'only',\n",
       " 'persons',\n",
       " 'who',\n",
       " 'saw',\n",
       " 'Wilbur',\n",
       " 'during',\n",
       " 'the',\n",
       " 'first',\n",
       " 'month',\n",
       " 'of',\n",
       " 'his',\n",
       " 'life',\n",
       " 'were',\n",
       " 'old',\n",
       " 'Zechariah',\n",
       " 'Whateley',\n",
       " ',',\n",
       " 'of',\n",
       " 'the',\n",
       " 'undecayed',\n",
       " 'Whateleys',\n",
       " ',',\n",
       " 'and',\n",
       " 'Earl',\n",
       " 'Sawyer',\n",
       " '‘',\n",
       " 's',\n",
       " 'common-law',\n",
       " 'wife',\n",
       " ',',\n",
       " 'Mamie',\n",
       " 'Bishop.',\n",
       " 'Mamie',\n",
       " '‘',\n",
       " 's',\n",
       " 'visit',\n",
       " 'was',\n",
       " 'frankly',\n",
       " 'one',\n",
       " 'of',\n",
       " 'curiosity',\n",
       " ',',\n",
       " 'and',\n",
       " 'her',\n",
       " 'subsequent',\n",
       " 'tales',\n",
       " 'did',\n",
       " 'justice',\n",
       " 'to',\n",
       " 'her',\n",
       " 'observations',\n",
       " ';',\n",
       " 'but',\n",
       " 'Zechariah',\n",
       " 'came',\n",
       " 'to',\n",
       " 'lead',\n",
       " 'a',\n",
       " 'pair',\n",
       " 'of',\n",
       " 'Alderney',\n",
       " 'cows',\n",
       " 'which',\n",
       " 'Old',\n",
       " 'Whateley',\n",
       " 'had',\n",
       " 'bought',\n",
       " 'of',\n",
       " 'his',\n",
       " 'son',\n",
       " 'Curtis.',\n",
       " 'This',\n",
       " 'marked',\n",
       " 'the',\n",
       " 'beginning',\n",
       " 'of',\n",
       " 'a',\n",
       " 'course',\n",
       " 'of',\n",
       " 'cattle-buying',\n",
       " 'on',\n",
       " 'the',\n",
       " 'part',\n",
       " 'of',\n",
       " 'small',\n",
       " 'Wilbur',\n",
       " '‘',\n",
       " 's',\n",
       " 'family',\n",
       " 'which',\n",
       " 'ended',\n",
       " 'only',\n",
       " 'in',\n",
       " '1928',\n",
       " ',',\n",
       " 'when',\n",
       " 'the',\n",
       " 'Dunwich',\n",
       " 'horror',\n",
       " 'came',\n",
       " 'and',\n",
       " 'went',\n",
       " ';',\n",
       " 'yet',\n",
       " 'at',\n",
       " 'no',\n",
       " 'time',\n",
       " 'did',\n",
       " 'the',\n",
       " 'ramshackle',\n",
       " 'Whateley',\n",
       " 'barn',\n",
       " 'seem',\n",
       " 'overcrowded',\n",
       " 'with',\n",
       " 'livestock.',\n",
       " 'There',\n",
       " 'came',\n",
       " 'a',\n",
       " 'period',\n",
       " 'when',\n",
       " 'people',\n",
       " 'were',\n",
       " 'curious',\n",
       " 'enough',\n",
       " 'to',\n",
       " 'steal',\n",
       " 'up',\n",
       " 'and',\n",
       " 'count',\n",
       " 'the',\n",
       " 'herd',\n",
       " 'that',\n",
       " 'grazed',\n",
       " 'precariously',\n",
       " 'on',\n",
       " 'the',\n",
       " 'steep',\n",
       " 'hillside',\n",
       " 'above',\n",
       " 'the',\n",
       " 'old',\n",
       " 'farmhouse',\n",
       " ',',\n",
       " 'and',\n",
       " 'they',\n",
       " 'could',\n",
       " 'never',\n",
       " 'find',\n",
       " 'more',\n",
       " 'than',\n",
       " 'ten',\n",
       " 'or',\n",
       " 'twelve',\n",
       " 'anaemic',\n",
       " ',',\n",
       " 'bloodless-looking',\n",
       " 'specimens.',\n",
       " 'Evidently',\n",
       " 'some',\n",
       " 'blight',\n",
       " 'or',\n",
       " 'distemper',\n",
       " ',',\n",
       " 'perhaps',\n",
       " 'sprung',\n",
       " 'from',\n",
       " 'the',\n",
       " 'unwholesome',\n",
       " 'pasturage',\n",
       " 'or',\n",
       " 'the',\n",
       " 'diseased',\n",
       " 'fungi',\n",
       " 'and',\n",
       " 'timbers',\n",
       " 'of',\n",
       " 'the',\n",
       " 'filthy',\n",
       " 'barn',\n",
       " ',',\n",
       " 'caused',\n",
       " 'a',\n",
       " 'heavy',\n",
       " 'mortality',\n",
       " 'amongst',\n",
       " 'the',\n",
       " 'Whateley',\n",
       " 'animals.',\n",
       " 'Odd',\n",
       " 'wounds',\n",
       " 'or',\n",
       " 'sores',\n",
       " ',',\n",
       " 'having',\n",
       " 'something',\n",
       " 'of',\n",
       " 'the',\n",
       " 'aspect',\n",
       " 'of',\n",
       " 'incisions',\n",
       " ',',\n",
       " 'seemed',\n",
       " 'to',\n",
       " 'afflict',\n",
       " 'the',\n",
       " 'visible',\n",
       " 'cattle',\n",
       " ';',\n",
       " 'and',\n",
       " 'once',\n",
       " 'or',\n",
       " 'twice',\n",
       " 'during',\n",
       " 'the',\n",
       " 'earlier',\n",
       " 'months',\n",
       " 'certain',\n",
       " 'callers',\n",
       " 'fancied',\n",
       " 'they',\n",
       " 'could',\n",
       " 'discern',\n",
       " 'similar',\n",
       " 'sores',\n",
       " 'about',\n",
       " 'the',\n",
       " 'throats',\n",
       " 'of',\n",
       " 'the',\n",
       " 'grey',\n",
       " ',',\n",
       " 'unshaven',\n",
       " 'old',\n",
       " 'man',\n",
       " 'and',\n",
       " 'his',\n",
       " 'slatternly',\n",
       " ',',\n",
       " 'crinkly-haired',\n",
       " 'albino',\n",
       " 'daughter.',\n",
       " 'In',\n",
       " 'the',\n",
       " 'spring',\n",
       " 'after',\n",
       " 'Wilbur',\n",
       " '‘',\n",
       " 's',\n",
       " 'birth',\n",
       " 'Lavinia',\n",
       " 'resumed',\n",
       " 'her',\n",
       " 'customary',\n",
       " 'rambles',\n",
       " 'in',\n",
       " 'the',\n",
       " 'hills',\n",
       " ',',\n",
       " 'bearing',\n",
       " 'in',\n",
       " 'her',\n",
       " 'misproportioned',\n",
       " 'arms',\n",
       " 'the',\n",
       " 'swarthy',\n",
       " 'child.',\n",
       " 'Public',\n",
       " 'interest',\n",
       " 'in',\n",
       " 'the',\n",
       " 'Whateleys',\n",
       " 'subsided',\n",
       " 'after',\n",
       " 'most',\n",
       " 'of',\n",
       " 'the',\n",
       " 'country',\n",
       " 'folk',\n",
       " 'had',\n",
       " 'seen',\n",
       " 'the',\n",
       " 'baby',\n",
       " ',',\n",
       " 'and',\n",
       " 'no',\n",
       " 'one',\n",
       " 'bothered',\n",
       " 'to',\n",
       " 'comment',\n",
       " 'on',\n",
       " 'the',\n",
       " 'swift',\n",
       " 'development',\n",
       " 'which',\n",
       " 'that',\n",
       " 'newcomer',\n",
       " 'seemed',\n",
       " 'every',\n",
       " 'day',\n",
       " 'to',\n",
       " 'exhibit.',\n",
       " 'Wilbur',\n",
       " '‘',\n",
       " 's',\n",
       " 'growth',\n",
       " 'was',\n",
       " 'indeed',\n",
       " 'phenomenal',\n",
       " ',',\n",
       " 'for',\n",
       " 'within',\n",
       " 'three',\n",
       " 'months',\n",
       " 'of',\n",
       " 'his',\n",
       " 'birth',\n",
       " 'he',\n",
       " 'had',\n",
       " 'attained',\n",
       " 'a',\n",
       " 'size',\n",
       " 'and',\n",
       " 'muscular',\n",
       " 'power',\n",
       " 'not',\n",
       " 'usually',\n",
       " 'found',\n",
       " 'in',\n",
       " 'infants',\n",
       " 'under',\n",
       " 'a',\n",
       " 'full',\n",
       " 'year',\n",
       " 'of',\n",
       " 'age.',\n",
       " 'His',\n",
       " 'motions',\n",
       " 'and',\n",
       " 'even',\n",
       " 'his',\n",
       " 'vocal',\n",
       " 'sounds',\n",
       " 'shewed',\n",
       " 'a',\n",
       " 'restraint',\n",
       " 'and',\n",
       " 'deliberateness',\n",
       " 'highly',\n",
       " 'peculiar',\n",
       " 'in',\n",
       " 'an',\n",
       " 'infant',\n",
       " ',',\n",
       " 'and',\n",
       " 'no',\n",
       " 'one',\n",
       " 'was',\n",
       " 'really',\n",
       " 'unprepared',\n",
       " 'when',\n",
       " ',',\n",
       " 'at',\n",
       " 'seven',\n",
       " 'months',\n",
       " ',',\n",
       " 'he',\n",
       " 'began',\n",
       " 'to',\n",
       " 'walk',\n",
       " 'unassisted',\n",
       " ',',\n",
       " 'with',\n",
       " 'falterings',\n",
       " 'which',\n",
       " 'another',\n",
       " 'month',\n",
       " 'was',\n",
       " 'sufficient',\n",
       " 'to',\n",
       " 'remove.',\n",
       " 'It',\n",
       " 'was',\n",
       " 'somewhat',\n",
       " 'after',\n",
       " 'this',\n",
       " 'time—on',\n",
       " 'Hallowe',\n",
       " '‘',\n",
       " 'en—that',\n",
       " 'a',\n",
       " 'great',\n",
       " 'blaze',\n",
       " 'was',\n",
       " 'seen',\n",
       " 'at',\n",
       " 'midnight',\n",
       " 'on',\n",
       " 'the',\n",
       " 'top',\n",
       " 'of',\n",
       " 'Sentinel',\n",
       " 'Hill',\n",
       " 'where',\n",
       " 'the',\n",
       " 'old',\n",
       " 'table-like',\n",
       " 'stone',\n",
       " 'stands',\n",
       " 'amidst',\n",
       " 'its',\n",
       " 'tumulus',\n",
       " 'of',\n",
       " 'ancient',\n",
       " 'bones.',\n",
       " 'Considerable',\n",
       " 'talk',\n",
       " 'was',\n",
       " 'started',\n",
       " 'when',\n",
       " 'Silas',\n",
       " 'Bishop—of',\n",
       " 'the',\n",
       " 'undecayed',\n",
       " 'Bishops—',\n",
       " 'mentioned',\n",
       " 'having',\n",
       " 'seen',\n",
       " 'the',\n",
       " 'boy',\n",
       " 'running',\n",
       " 'sturdily',\n",
       " 'up',\n",
       " 'that',\n",
       " 'hill',\n",
       " 'ahead',\n",
       " 'of',\n",
       " 'his',\n",
       " 'mother',\n",
       " 'about',\n",
       " 'an',\n",
       " 'hour',\n",
       " 'before',\n",
       " 'the',\n",
       " 'blaze',\n",
       " 'was',\n",
       " 'remarked.',\n",
       " 'Silas',\n",
       " 'was',\n",
       " 'rounding',\n",
       " 'up',\n",
       " 'a',\n",
       " 'stray',\n",
       " 'heifer',\n",
       " ',',\n",
       " 'but',\n",
       " 'he',\n",
       " 'nearly',\n",
       " 'forgot',\n",
       " 'his',\n",
       " 'mission',\n",
       " 'when',\n",
       " 'he',\n",
       " 'fleetingly',\n",
       " 'spied',\n",
       " 'the',\n",
       " 'two',\n",
       " 'figures',\n",
       " 'in',\n",
       " 'the',\n",
       " 'dim',\n",
       " 'light',\n",
       " 'of',\n",
       " 'his',\n",
       " 'lantern.',\n",
       " 'They',\n",
       " 'darted',\n",
       " 'almost',\n",
       " 'noiselessly',\n",
       " 'through',\n",
       " 'the',\n",
       " 'underbrush',\n",
       " ',',\n",
       " 'and',\n",
       " 'the',\n",
       " 'astonished',\n",
       " 'watcher',\n",
       " 'seemed',\n",
       " 'to',\n",
       " 'think',\n",
       " 'they',\n",
       " 'were',\n",
       " 'entirely',\n",
       " 'unclothed.',\n",
       " 'Afterward',\n",
       " 'he',\n",
       " 'could',\n",
       " 'not',\n",
       " 'be',\n",
       " 'sure',\n",
       " 'about',\n",
       " 'the',\n",
       " 'boy',\n",
       " ',',\n",
       " 'who',\n",
       " 'may',\n",
       " 'have',\n",
       " 'had',\n",
       " 'some',\n",
       " 'kind',\n",
       " 'of',\n",
       " 'a',\n",
       " 'fringed',\n",
       " 'belt',\n",
       " 'and',\n",
       " 'a',\n",
       " 'pair',\n",
       " 'of',\n",
       " 'dark',\n",
       " 'trunks',\n",
       " 'or',\n",
       " 'trousers',\n",
       " 'on.',\n",
       " 'Wilbur',\n",
       " 'was',\n",
       " 'never',\n",
       " 'subsequently',\n",
       " 'seen',\n",
       " 'alive',\n",
       " 'and',\n",
       " 'conscious',\n",
       " 'without',\n",
       " 'complete',\n",
       " 'and',\n",
       " 'tightly',\n",
       " 'buttoned',\n",
       " 'attire',\n",
       " ',',\n",
       " 'the',\n",
       " 'disarrangement',\n",
       " 'or',\n",
       " 'threatened',\n",
       " 'disarrangement',\n",
       " 'of',\n",
       " 'which',\n",
       " 'always',\n",
       " 'seemed',\n",
       " 'to',\n",
       " 'fill',\n",
       " 'him',\n",
       " 'with',\n",
       " 'anger',\n",
       " 'and',\n",
       " 'alarm.',\n",
       " 'His',\n",
       " 'contrast',\n",
       " 'with',\n",
       " 'his',\n",
       " 'squalid',\n",
       " 'mother',\n",
       " 'and',\n",
       " 'grandfather',\n",
       " 'in',\n",
       " 'this',\n",
       " 'respect',\n",
       " 'was',\n",
       " 'thought',\n",
       " 'very',\n",
       " 'notable',\n",
       " 'until',\n",
       " 'the',\n",
       " 'horror',\n",
       " 'of',\n",
       " '1928',\n",
       " 'suggested',\n",
       " 'the',\n",
       " 'most',\n",
       " 'valid',\n",
       " 'of',\n",
       " 'reasons.',\n",
       " 'The',\n",
       " 'next',\n",
       " 'January',\n",
       " 'gossips',\n",
       " 'were',\n",
       " 'mildly',\n",
       " 'interested',\n",
       " 'in',\n",
       " 'the',\n",
       " 'fact',\n",
       " 'that',\n",
       " '―Lavinny',\n",
       " '‘',\n",
       " 's',\n",
       " 'black',\n",
       " 'brat‖',\n",
       " 'had',\n",
       " 'commenced',\n",
       " 'to',\n",
       " 'talk',\n",
       " ',',\n",
       " 'and',\n",
       " 'at',\n",
       " 'the',\n",
       " 'age',\n",
       " 'of',\n",
       " 'only',\n",
       " 'eleven',\n",
       " 'months.',\n",
       " 'His',\n",
       " 'speech',\n",
       " 'was',\n",
       " 'somewhat',\n",
       " 'remarkable',\n",
       " 'both',\n",
       " 'because',\n",
       " 'of',\n",
       " 'its',\n",
       " 'difference',\n",
       " 'from',\n",
       " 'the',\n",
       " 'ordinary',\n",
       " 'accents',\n",
       " 'of',\n",
       " 'the',\n",
       " 'region',\n",
       " ',',\n",
       " 'and',\n",
       " 'because',\n",
       " 'it',\n",
       " 'displayed',\n",
       " 'a',\n",
       " 'freedom',\n",
       " 'from',\n",
       " 'infantile',\n",
       " 'lisping',\n",
       " 'of',\n",
       " 'which',\n",
       " 'many',\n",
       " 'children',\n",
       " 'of',\n",
       " 'three',\n",
       " 'or',\n",
       " 'four',\n",
       " 'might',\n",
       " 'well',\n",
       " 'be',\n",
       " 'proud.',\n",
       " 'The',\n",
       " 'boy',\n",
       " 'was',\n",
       " 'not',\n",
       " 'talkative',\n",
       " ',',\n",
       " 'yet',\n",
       " 'when',\n",
       " 'he',\n",
       " 'spoke',\n",
       " 'he',\n",
       " 'seemed',\n",
       " 'to',\n",
       " 'reflect',\n",
       " 'some',\n",
       " 'elusive',\n",
       " 'element',\n",
       " 'wholly',\n",
       " 'unpossessed',\n",
       " 'by',\n",
       " 'Dunwich',\n",
       " 'and',\n",
       " 'its',\n",
       " 'denizens.',\n",
       " 'The',\n",
       " 'strangeness',\n",
       " 'did',\n",
       " 'not',\n",
       " 'reside',\n",
       " 'in',\n",
       " 'what',\n",
       " 'he',\n",
       " 'said',\n",
       " ',',\n",
       " 'or',\n",
       " 'even',\n",
       " 'in',\n",
       " 'the',\n",
       " 'simple',\n",
       " 'idioms',\n",
       " 'he',\n",
       " 'used',\n",
       " ';',\n",
       " 'but',\n",
       " 'seemed',\n",
       " 'vaguely',\n",
       " 'linked',\n",
       " 'with',\n",
       " 'his',\n",
       " 'intonation',\n",
       " 'or',\n",
       " 'with',\n",
       " 'the',\n",
       " 'internal',\n",
       " 'organs',\n",
       " 'that',\n",
       " 'produced',\n",
       " 'the',\n",
       " 'spoken',\n",
       " 'sounds.',\n",
       " 'His',\n",
       " 'facial',\n",
       " 'aspect',\n",
       " ',',\n",
       " 'too',\n",
       " ',',\n",
       " 'was',\n",
       " 'remarkable',\n",
       " 'for',\n",
       " 'its',\n",
       " 'maturity',\n",
       " ';',\n",
       " 'for',\n",
       " 'though',\n",
       " 'he',\n",
       " 'shared',\n",
       " 'his',\n",
       " 'mother',\n",
       " '‘',\n",
       " 's',\n",
       " 'and',\n",
       " 'grandfather',\n",
       " '‘',\n",
       " 's',\n",
       " 'chinlessness',\n",
       " ',',\n",
       " 'his',\n",
       " 'firm',\n",
       " 'and',\n",
       " 'precociously',\n",
       " 'shaped',\n",
       " 'nose',\n",
       " 'united',\n",
       " 'with',\n",
       " 'the',\n",
       " 'expression',\n",
       " 'of',\n",
       " 'his',\n",
       " 'large',\n",
       " ',',\n",
       " 'dark',\n",
       " ',',\n",
       " 'almost',\n",
       " 'Latin',\n",
       " 'eyes',\n",
       " 'to',\n",
       " 'give',\n",
       " 'him',\n",
       " 'an',\n",
       " 'air',\n",
       " 'of',\n",
       " 'quasi-adulthood',\n",
       " 'and',\n",
       " 'well-nigh',\n",
       " 'preternatural',\n",
       " 'intelligence.',\n",
       " 'He',\n",
       " 'was',\n",
       " ',',\n",
       " 'however',\n",
       " ',',\n",
       " 'exceedingly',\n",
       " 'ugly',\n",
       " 'despite',\n",
       " 'his',\n",
       " 'appearance',\n",
       " 'of',\n",
       " 'brilliancy',\n",
       " ';',\n",
       " 'there',\n",
       " 'being',\n",
       " 'something',\n",
       " 'almost',\n",
       " 'goatish',\n",
       " 'or',\n",
       " 'animalistic',\n",
       " 'about',\n",
       " 'his',\n",
       " 'thick',\n",
       " 'lips',\n",
       " ',',\n",
       " 'large-pored',\n",
       " ',',\n",
       " 'yellowish',\n",
       " 'skin',\n",
       " ',',\n",
       " 'coarse',\n",
       " 'crinkly',\n",
       " 'hair',\n",
       " ',',\n",
       " 'and',\n",
       " 'oddly',\n",
       " 'elongated',\n",
       " 'ears.',\n",
       " 'He',\n",
       " 'was',\n",
       " 'soon',\n",
       " 'disliked',\n",
       " 'even',\n",
       " 'more',\n",
       " 'decidedly',\n",
       " 'than',\n",
       " 'his',\n",
       " 'mother',\n",
       " 'and',\n",
       " 'grandsire',\n",
       " ',',\n",
       " 'and',\n",
       " 'all',\n",
       " 'conjectures',\n",
       " 'about',\n",
       " 'him',\n",
       " 'were',\n",
       " 'spiced',\n",
       " 'with',\n",
       " 'references',\n",
       " 'to',\n",
       " 'the',\n",
       " 'bygone',\n",
       " 'magic',\n",
       " 'of',\n",
       " 'Old',\n",
       " 'Whateley',\n",
       " ',',\n",
       " 'and',\n",
       " 'how',\n",
       " 'the',\n",
       " 'hills',\n",
       " 'once',\n",
       " 'shook',\n",
       " 'when',\n",
       " 'he',\n",
       " 'shrieked',\n",
       " 'the',\n",
       " 'dreadful',\n",
       " 'name',\n",
       " 'of',\n",
       " 'Yog-Sothoth',\n",
       " 'in',\n",
       " 'the',\n",
       " 'midst',\n",
       " 'of',\n",
       " 'a',\n",
       " 'circle',\n",
       " 'of',\n",
       " 'stones',\n",
       " 'with',\n",
       " 'a',\n",
       " 'great',\n",
       " 'book',\n",
       " 'open',\n",
       " 'in',\n",
       " 'his',\n",
       " 'arms',\n",
       " 'before',\n",
       " ...]"
      ]
     },
     "execution_count": 40,
     "metadata": {},
     "output_type": "execute_result"
    }
   ],
   "source": [
    "tokens[2169:]"
   ]
  },
  {
   "cell_type": "code",
   "execution_count": 41,
   "metadata": {
    "hidden": true
   },
   "outputs": [],
   "source": [
    "test_sentence = \"I don't think we'll go.\""
   ]
  },
  {
   "cell_type": "code",
   "execution_count": 42,
   "metadata": {
    "hidden": true
   },
   "outputs": [
    {
     "data": {
      "text/plain": [
       "['I', 'do', \"n't\", 'think', 'we', \"'ll\", 'go', '.']"
      ]
     },
     "execution_count": 42,
     "metadata": {},
     "output_type": "execute_result"
    }
   ],
   "source": [
    "tokenizer.tokenize(test_sentence)"
   ]
  },
  {
   "cell_type": "code",
   "execution_count": 47,
   "metadata": {
    "hidden": true
   },
   "outputs": [],
   "source": [
    "test_sentence_2 = \"Why wouldn't we?\""
   ]
  },
  {
   "cell_type": "code",
   "execution_count": 48,
   "metadata": {
    "hidden": true
   },
   "outputs": [
    {
     "data": {
      "text/plain": [
       "['Why', 'would', \"n't\", 'we', '?']"
      ]
     },
     "execution_count": 48,
     "metadata": {},
     "output_type": "execute_result"
    }
   ],
   "source": [
    "tokenizer.tokenize(test_sentence_2)"
   ]
  },
  {
   "cell_type": "code",
   "execution_count": 50,
   "metadata": {
    "hidden": true
   },
   "outputs": [],
   "source": [
    "test_sentence_3 = \"Why wouldn‘t we?\""
   ]
  },
  {
   "cell_type": "code",
   "execution_count": 51,
   "metadata": {
    "hidden": true
   },
   "outputs": [
    {
     "data": {
      "text/plain": [
       "['Why', 'wouldn', '‘', 't', 'we', '?']"
      ]
     },
     "execution_count": 51,
     "metadata": {},
     "output_type": "execute_result"
    }
   ],
   "source": [
    "tokenizer.tokenize(test_sentence_3)"
   ]
  },
  {
   "cell_type": "code",
   "execution_count": null,
   "metadata": {
    "hidden": true
   },
   "outputs": [],
   "source": []
  },
  {
   "cell_type": "code",
   "execution_count": null,
   "metadata": {
    "hidden": true
   },
   "outputs": [],
   "source": []
  },
  {
   "cell_type": "code",
   "execution_count": null,
   "metadata": {
    "hidden": true
   },
   "outputs": [],
   "source": []
  },
  {
   "cell_type": "code",
   "execution_count": null,
   "metadata": {
    "hidden": true
   },
   "outputs": [],
   "source": []
  },
  {
   "cell_type": "code",
   "execution_count": null,
   "metadata": {
    "hidden": true
   },
   "outputs": [],
   "source": []
  },
  {
   "cell_type": "code",
   "execution_count": 5,
   "metadata": {
    "hidden": true
   },
   "outputs": [],
   "source": [
    "from nltk.util import ngrams"
   ]
  },
  {
   "cell_type": "code",
   "execution_count": 17,
   "metadata": {
    "hidden": true
   },
   "outputs": [],
   "source": [
    "two_grams = list(ngrams(tokens,2))"
   ]
  },
  {
   "cell_type": "code",
   "execution_count": 21,
   "metadata": {
    "hidden": true
   },
   "outputs": [],
   "source": [
    "my_dict = {x:two_grams.count(x) for x in two_grams}"
   ]
  },
  {
   "cell_type": "code",
   "execution_count": 22,
   "metadata": {
    "hidden": true
   },
   "outputs": [],
   "source": [
    "sorted_d = sorted(my_dict.items(), key=lambda x: x[1])"
   ]
  },
  {
   "cell_type": "code",
   "execution_count": 24,
   "metadata": {
    "hidden": true
   },
   "outputs": [
    {
     "data": {
      "text/plain": [
       "[(('o', '‘'), 26),\n",
       " (('of', 'a'), 29),\n",
       " (('It', 'was'), 30),\n",
       " ((',', 'the'), 31),\n",
       " (('seemed', 'to'), 31),\n",
       " ((';', 'and'), 33),\n",
       " (('at', 'the'), 38),\n",
       " ((',', 'an'), 42),\n",
       " (('from', 'the'), 46),\n",
       " (('‘', 't'), 46),\n",
       " ((',', 'but'), 54),\n",
       " (('on', 'the'), 58),\n",
       " (('to', 'the'), 59),\n",
       " (('and', 'the'), 64),\n",
       " (('.', '.'), 78),\n",
       " (('an', '‘'), 80),\n",
       " (('in', 'the'), 85),\n",
       " (('‘', 's'), 135),\n",
       " (('of', 'the'), 170),\n",
       " ((',', 'and'), 233)]"
      ]
     },
     "execution_count": 24,
     "metadata": {},
     "output_type": "execute_result"
    }
   ],
   "source": [
    "sorted_d[-20:]"
   ]
  },
  {
   "cell_type": "markdown",
   "metadata": {
    "hidden": true
   },
   "source": [
    "trying out things from nltk guide, need to convert to nltk text, based on forum here: https://stackoverflow.com/questions/29110950/python-concordance-command-in-nltk"
   ]
  },
  {
   "cell_type": "code",
   "execution_count": null,
   "metadata": {
    "hidden": true
   },
   "outputs": [],
   "source": []
  },
  {
   "cell_type": "markdown",
   "metadata": {
    "hidden": true
   },
   "source": [
    "maybe do Porter Stemmer (pg 59) for word analysis"
   ]
  },
  {
   "cell_type": "code",
   "execution_count": null,
   "metadata": {
    "hidden": true
   },
   "outputs": [],
   "source": []
  },
  {
   "cell_type": "code",
   "execution_count": null,
   "metadata": {
    "hidden": true
   },
   "outputs": [],
   "source": []
  },
  {
   "cell_type": "markdown",
   "metadata": {
    "heading_collapsed": true
   },
   "source": [
    "# Other NLTK Stuff"
   ]
  },
  {
   "cell_type": "markdown",
   "metadata": {
    "hidden": true
   },
   "source": [
    "ply with concordance and similar"
   ]
  },
  {
   "cell_type": "code",
   "execution_count": 28,
   "metadata": {
    "hidden": true
   },
   "outputs": [
    {
     "name": "stdout",
     "output_type": "stream",
     "text": [
      "Displaying 24 of 24 matches:\n",
      "The Dunwich Horror ―Gorgons , and Hydras , and Chimaer\n",
      "ble , and since a certain season of horror all the signboards pointing toward \n",
      " our sensible age—since the Dunwich horror of 1928 was hushed up by those who \n",
      "ave the facts concerning the recent horror , can say just what is the matter w\n",
      "ded only in 1928 , when the Dunwich horror came and went ; yet at no time did \n",
      " was thought very notable until the horror of 1928 suggested the most valid of\n",
      "some terrible part of the intruding horror , and to glimpse a hellish advance \n",
      "tains that May-Night ? What Roodmas horror fastened itself on the world in hal\n",
      "as Wilbur Whateley. VI. The Dunwich horror itself came between Lammas and the \n",
      " the dark of September 9th that the horror broke loose. The hill noises had be\n",
      "and Cold Spring Glen , examining in horror the vast , monstrous prints , the m\n",
      "end and beard the unknown Cyclopean horror in its lair. Three dogs that were w\n",
      "re were many who hoped that the new horror had gone as swiftly as it had come.\n",
      " , while early explorers noted with horror a fresh set of the monstrous tracks\n",
      "lasphemously stupendous bulk of the horror ; whilst the conformation of the tr\n",
      " the inexorable trail. Whatever the horror was , it could scale a sheer stony \n",
      " thrashed around by the mountainous horror , whilst upon its slightly concave \n",
      " ruined Whateley farmhouse when the horror escaped. Men looked at one another \n",
      "ooked down the hill. Apparently the horror had descended by a route much the s\n",
      "e spiritually poignant phase of the horror had been blackly unwinding itself b\n",
      "for themselves with rising pangs of horror the drear Frye ruins with their lin\n",
      " that he had actually come upon the horror and its monstrous work , trembled w\n",
      "yer was expected to give the unseen horror a moment of visibility. Two or thre\n",
      " up where it had left off , and the horror of the sight that had prostrated hi\n"
     ]
    }
   ],
   "source": [
    "textList = Text(tokens)\n",
    "textList.concordance('horror')"
   ]
  },
  {
   "cell_type": "code",
   "execution_count": 32,
   "metadata": {
    "hidden": true
   },
   "outputs": [
    {
     "name": "stdout",
     "output_type": "stream",
     "text": [
      "dunwich new recent serene intruding mountainous\n"
     ]
    }
   ],
   "source": [
    "textList.similar('unseen')"
   ]
  },
  {
   "cell_type": "code",
   "execution_count": null,
   "metadata": {
    "hidden": true
   },
   "outputs": [],
   "source": []
  },
  {
   "cell_type": "code",
   "execution_count": null,
   "metadata": {
    "hidden": true
   },
   "outputs": [],
   "source": []
  },
  {
   "cell_type": "markdown",
   "metadata": {},
   "source": [
    "# Sentiment Analysis"
   ]
  },
  {
   "cell_type": "markdown",
   "metadata": {},
   "source": [
    "https://github.com/cjhutto/vaderSentiment"
   ]
  },
  {
   "cell_type": "markdown",
   "metadata": {},
   "source": [
    "## General Examples"
   ]
  },
  {
   "cell_type": "code",
   "execution_count": 5,
   "metadata": {},
   "outputs": [
    {
     "data": {
      "text/plain": [
       "0.8"
      ]
     },
     "execution_count": 5,
     "metadata": {},
     "output_type": "execute_result"
    }
   ],
   "source": [
    "sentiment_analyzer = SentimentIntensityAnalyzer()\n",
    "token_scores = sentiment_analyzer.lexicon\n",
    "token_scores['adorned']"
   ]
  },
  {
   "cell_type": "code",
   "execution_count": 9,
   "metadata": {},
   "outputs": [
    {
     "data": {
      "text/plain": [
       "{'neg': 0.0, 'neu': 0.408, 'pos': 0.592, 'compound': 0.4404}"
      ]
     },
     "execution_count": 9,
     "metadata": {},
     "output_type": "execute_result"
    }
   ],
   "source": [
    "sentiment_analyzer.polarity_scores('I feel good')"
   ]
  },
  {
   "cell_type": "code",
   "execution_count": 10,
   "metadata": {},
   "outputs": [
    {
     "data": {
      "text/plain": [
       "{'neg': 0.0, 'neu': 0.0, 'pos': 1.0, 'compound': 0.2023}"
      ]
     },
     "execution_count": 10,
     "metadata": {},
     "output_type": "execute_result"
    }
   ],
   "source": [
    "sentiment_analyzer.polarity_scores('adorned')"
   ]
  },
  {
   "cell_type": "code",
   "execution_count": 15,
   "metadata": {},
   "outputs": [
    {
     "data": {
      "text/plain": [
       "3.954522985664854"
      ]
     },
     "execution_count": 15,
     "metadata": {},
     "output_type": "execute_result"
    }
   ],
   "source": [
    "0.8 / 0.2023"
   ]
  },
  {
   "cell_type": "code",
   "execution_count": 11,
   "metadata": {},
   "outputs": [
    {
     "data": {
      "text/plain": [
       "{'neg': 0.0, 'neu': 1.0, 'pos': 0.0, 'compound': 0.0}"
      ]
     },
     "execution_count": 11,
     "metadata": {},
     "output_type": "execute_result"
    }
   ],
   "source": [
    "sentiment_analyzer.polarity_scores('I feel nothing inside.')"
   ]
  },
  {
   "cell_type": "code",
   "execution_count": 12,
   "metadata": {},
   "outputs": [
    {
     "data": {
      "text/plain": [
       "{'neg': 0.538, 'neu': 0.462, 'pos': 0.0, 'compound': -0.5423}"
      ]
     },
     "execution_count": 12,
     "metadata": {},
     "output_type": "execute_result"
    }
   ],
   "source": [
    "sentiment_analyzer.polarity_scores('The soup tastes bad')"
   ]
  },
  {
   "cell_type": "markdown",
   "metadata": {},
   "source": [
    "## Lovecraft Examples"
   ]
  },
  {
   "cell_type": "code",
   "execution_count": 16,
   "metadata": {},
   "outputs": [],
   "source": [
    "text_to_analyze = 'Then came we to a pleasant coast gay with blossoms of every hue, where as far inland as we could see basked lovely groves and radiant arbours beneath a meridian sun. '\n"
   ]
  },
  {
   "cell_type": "code",
   "execution_count": 17,
   "metadata": {},
   "outputs": [
    {
     "data": {
      "text/plain": [
       "{'neg': 0.0, 'neu': 0.733, 'pos': 0.267, 'compound': 0.8807}"
      ]
     },
     "execution_count": 17,
     "metadata": {},
     "output_type": "execute_result"
    }
   ],
   "source": [
    "sentiment_analyzer.polarity_scores(text_to_analyze)"
   ]
  },
  {
   "cell_type": "code",
   "execution_count": null,
   "metadata": {},
   "outputs": [],
   "source": [
    "# loop through text, list words with values"
   ]
  },
  {
   "cell_type": "code",
   "execution_count": 34,
   "metadata": {},
   "outputs": [
    {
     "data": {
      "text/plain": [
       "[('pleasant', 2.3), ('lovely', 2.8), ('radiant', 2.1)]"
      ]
     },
     "execution_count": 34,
     "metadata": {},
     "output_type": "execute_result"
    }
   ],
   "source": [
    "result = []\n",
    "\n",
    "for word in text_to_analyze.split():\n",
    "    if word in token_scores:\n",
    "        result.append((word, token_scores[word]))\n",
    "        \n",
    "result"
   ]
  },
  {
   "cell_type": "code",
   "execution_count": 26,
   "metadata": {},
   "outputs": [],
   "source": [
    "text_to_analyze_2 = 'I have said that the unbroken monotony of the rolling plain was a source of vague horror to me; but I think my horror was greater when I gained the summit of the mound and looked down the other side into an immeasurable pit or canyon, whose black recesses the moon had not yet soared high enough to illumine. I felt myself on the edge of the world; peering over the rim into a fathomless chaos of eternal night. Through my terror ran curious reminiscences of Paradise Lost, and of Satan‘s hideous climb through the unfashioned realms of darkness.'\n"
   ]
  },
  {
   "cell_type": "code",
   "execution_count": 28,
   "metadata": {},
   "outputs": [
    {
     "data": {
      "text/plain": [
       "{'neg': 0.186, 'neu': 0.692, 'pos': 0.121, 'compound': -0.8074}"
      ]
     },
     "execution_count": 28,
     "metadata": {},
     "output_type": "execute_result"
    }
   ],
   "source": [
    "sent_score = sentiment_analyzer.polarity_scores(text_to_analyze_2)\n",
    "sent_score"
   ]
  },
  {
   "cell_type": "code",
   "execution_count": 29,
   "metadata": {},
   "outputs": [
    {
     "data": {
      "text/plain": [
       "0.186"
      ]
     },
     "execution_count": 29,
     "metadata": {},
     "output_type": "execute_result"
    }
   ],
   "source": [
    "sent_score['neg']"
   ]
  },
  {
   "cell_type": "code",
   "execution_count": 20,
   "metadata": {},
   "outputs": [
    {
     "data": {
      "text/plain": [
       "[('vague', -0.4),\n",
       " ('horror', -2.7),\n",
       " ('horror', -2.7),\n",
       " ('greater', 1.5),\n",
       " ('gained', 1.6),\n",
       " ('chaos', -2.7),\n",
       " ('terror', -2.4),\n",
       " ('curious', 1.3)]"
      ]
     },
     "execution_count": 20,
     "metadata": {},
     "output_type": "execute_result"
    }
   ],
   "source": [
    "result = []\n",
    "\n",
    "for word in text_to_analyze_2.split():\n",
    "    if word in token_scores:\n",
    "        result.append((word, token_scores[word]))\n",
    "        \n",
    "result"
   ]
  },
  {
   "cell_type": "markdown",
   "metadata": {},
   "source": [
    "## Ranking all the Stories"
   ]
  },
  {
   "cell_type": "code",
   "execution_count": 25,
   "metadata": {},
   "outputs": [],
   "source": [
    "sentiment_analysis_df = pd.DataFrame()\n",
    "sentiment_analysis_df['filename'] = filenames"
   ]
  },
  {
   "cell_type": "code",
   "execution_count": 38,
   "metadata": {},
   "outputs": [
    {
     "name": "stdout",
     "output_type": "stream",
     "text": [
      "Processing the_tomb\n",
      "Processing dagon\n",
      "Processing polaris\n",
      "Processing beyond_the_wall_of_sleep\n",
      "Processing memory\n",
      "Processing old_bugs\n",
      "Processing the_transition_of_juan_romero\n",
      "Processing the_white_ship\n",
      "Processing the_doom_that_came_to_sarnath\n",
      "Processing the_statement_of_randolph_carter\n",
      "Processing the_terrible_old_man\n",
      "Processing the_tree\n",
      "Processing the_cats_of_ulthar\n",
      "Processing the_temple\n",
      "Processing facts_concerning_the_late_arthur_jermyn_and_his_family\n",
      "Processing the_street\n",
      "Processing celephaïs\n",
      "Processing from_beyond\n",
      "Processing nyarlathotep\n",
      "Processing the_picture_in_the_house\n",
      "Processing ex_oblivione\n",
      "Processing the_nameless_city\n",
      "Processing the_quest_of_iranon\n",
      "Processing the_moon-bog\n",
      "Processing the_outsider\n",
      "Processing the_other_gods\n",
      "Processing the_music_of_erich_zann\n",
      "Processing herbert_west_—_reanimator\n",
      "Processing hypnos\n",
      "Processing what_the_moon_brings\n",
      "Processing azathoth\n",
      "Processing the_hound\n",
      "Processing the_lurking_fear\n",
      "Processing the_rats_in_the_walls\n",
      "Processing the_unnamable\n",
      "Processing the_festival\n",
      "Processing the_shunned_house\n",
      "Processing the_horror_at_red_hook\n",
      "Processing he\n",
      "Processing in_the_vault\n",
      "Processing the_descendant\n",
      "Processing cool_air\n",
      "Processing the_call_of_cthulhu\n",
      "Processing pickman's_model\n",
      "Processing the_silver_key\n",
      "Processing the_strange_high_house_in_the_mist\n",
      "Processing the_dream-quest_of_unknown_kadath\n",
      "Processing the_case_of_charles_dexter_ward\n",
      "Processing the_colour_out_of_space\n",
      "Processing the_very_old_folk\n",
      "Processing the_thing_in_the_moonlight\n",
      "Processing the_history_of_the_necronomicon\n",
      "Processing ibid\n",
      "Processing the_dunwich_horror\n",
      "Processing the_whisperer_in_darkness\n",
      "Processing at_the_mountains_of_madness\n",
      "Processing the_shadow_over_innsmouth\n",
      "Processing the_dreams_in_the_witch_house\n",
      "Processing the_thing_on_the_doorstep\n",
      "Processing the_evil_clergyman\n",
      "Processing the_book\n",
      "Processing the_shadow_out_of_time\n",
      "Processing the_haunter_of_the_dark\n"
     ]
    }
   ],
   "source": [
    "neg_portion = []\n",
    "neu_portion = []\n",
    "pos_portion = []\n",
    "compound_score = []\n",
    "\n",
    "for filename in filenames:\n",
    "    print(\"Processing \" + filename)\n",
    "    my_file = open(txt_adjusted_folder + filename + '.txt')\n",
    "    raw_text = my_file.read()\n",
    "    sent_score = sentiment_analyzer.polarity_scores(raw_text)\n",
    "    neg_portion.append(sent_score['neg'])\n",
    "    neu_portion.append(sent_score['neu'])\n",
    "    pos_portion.append(sent_score['pos'])\n",
    "    compound_score.append(sent_score['compound'])"
   ]
  },
  {
   "cell_type": "code",
   "execution_count": 39,
   "metadata": {},
   "outputs": [],
   "source": [
    "sentiment_analysis_df['neg_portion'] = neg_portion\n",
    "sentiment_analysis_df['neu_portion'] = neu_portion\n",
    "sentiment_analysis_df['pos_portion'] = pos_portion\n",
    "sentiment_analysis_df['compound_score'] = compound_score"
   ]
  },
  {
   "cell_type": "code",
   "execution_count": 40,
   "metadata": {},
   "outputs": [
    {
     "data": {
      "text/html": [
       "<div>\n",
       "<style scoped>\n",
       "    .dataframe tbody tr th:only-of-type {\n",
       "        vertical-align: middle;\n",
       "    }\n",
       "\n",
       "    .dataframe tbody tr th {\n",
       "        vertical-align: top;\n",
       "    }\n",
       "\n",
       "    .dataframe thead th {\n",
       "        text-align: right;\n",
       "    }\n",
       "</style>\n",
       "<table border=\"1\" class=\"dataframe\">\n",
       "  <thead>\n",
       "    <tr style=\"text-align: right;\">\n",
       "      <th></th>\n",
       "      <th>filename</th>\n",
       "      <th>neg_portion</th>\n",
       "      <th>neu_portion</th>\n",
       "      <th>pos_portion</th>\n",
       "      <th>compound_score</th>\n",
       "    </tr>\n",
       "  </thead>\n",
       "  <tbody>\n",
       "    <tr>\n",
       "      <td>1</td>\n",
       "      <td>the_tomb</td>\n",
       "      <td>0.117</td>\n",
       "      <td>0.799</td>\n",
       "      <td>0.084</td>\n",
       "      <td>-0.9995</td>\n",
       "    </tr>\n",
       "    <tr>\n",
       "      <td>2</td>\n",
       "      <td>dagon</td>\n",
       "      <td>0.095</td>\n",
       "      <td>0.836</td>\n",
       "      <td>0.069</td>\n",
       "      <td>-0.9968</td>\n",
       "    </tr>\n",
       "    <tr>\n",
       "      <td>3</td>\n",
       "      <td>polaris</td>\n",
       "      <td>0.130</td>\n",
       "      <td>0.767</td>\n",
       "      <td>0.103</td>\n",
       "      <td>-0.9889</td>\n",
       "    </tr>\n",
       "    <tr>\n",
       "      <td>4</td>\n",
       "      <td>beyond_the_wall_of_sleep</td>\n",
       "      <td>0.108</td>\n",
       "      <td>0.781</td>\n",
       "      <td>0.111</td>\n",
       "      <td>0.8094</td>\n",
       "    </tr>\n",
       "    <tr>\n",
       "      <td>5</td>\n",
       "      <td>memory</td>\n",
       "      <td>0.049</td>\n",
       "      <td>0.905</td>\n",
       "      <td>0.045</td>\n",
       "      <td>0.3612</td>\n",
       "    </tr>\n",
       "    <tr>\n",
       "      <td>...</td>\n",
       "      <td>...</td>\n",
       "      <td>...</td>\n",
       "      <td>...</td>\n",
       "      <td>...</td>\n",
       "      <td>...</td>\n",
       "    </tr>\n",
       "    <tr>\n",
       "      <td>59</td>\n",
       "      <td>the_thing_on_the_doorstep</td>\n",
       "      <td>0.109</td>\n",
       "      <td>0.811</td>\n",
       "      <td>0.080</td>\n",
       "      <td>-0.9999</td>\n",
       "    </tr>\n",
       "    <tr>\n",
       "      <td>60</td>\n",
       "      <td>the_evil_clergyman</td>\n",
       "      <td>0.080</td>\n",
       "      <td>0.831</td>\n",
       "      <td>0.089</td>\n",
       "      <td>0.9637</td>\n",
       "    </tr>\n",
       "    <tr>\n",
       "      <td>61</td>\n",
       "      <td>the_book</td>\n",
       "      <td>0.088</td>\n",
       "      <td>0.838</td>\n",
       "      <td>0.075</td>\n",
       "      <td>-0.8896</td>\n",
       "    </tr>\n",
       "    <tr>\n",
       "      <td>62</td>\n",
       "      <td>the_shadow_out_of_time</td>\n",
       "      <td>0.100</td>\n",
       "      <td>0.800</td>\n",
       "      <td>0.099</td>\n",
       "      <td>-0.9944</td>\n",
       "    </tr>\n",
       "    <tr>\n",
       "      <td>63</td>\n",
       "      <td>the_haunter_of_the_dark</td>\n",
       "      <td>0.117</td>\n",
       "      <td>0.799</td>\n",
       "      <td>0.084</td>\n",
       "      <td>-0.9995</td>\n",
       "    </tr>\n",
       "  </tbody>\n",
       "</table>\n",
       "<p>63 rows × 5 columns</p>\n",
       "</div>"
      ],
      "text/plain": [
       "                     filename  neg_portion  neu_portion  pos_portion  \\\n",
       "1                    the_tomb        0.117        0.799        0.084   \n",
       "2                       dagon        0.095        0.836        0.069   \n",
       "3                     polaris        0.130        0.767        0.103   \n",
       "4    beyond_the_wall_of_sleep        0.108        0.781        0.111   \n",
       "5                      memory        0.049        0.905        0.045   \n",
       "..                        ...          ...          ...          ...   \n",
       "59  the_thing_on_the_doorstep        0.109        0.811        0.080   \n",
       "60         the_evil_clergyman        0.080        0.831        0.089   \n",
       "61                   the_book        0.088        0.838        0.075   \n",
       "62     the_shadow_out_of_time        0.100        0.800        0.099   \n",
       "63    the_haunter_of_the_dark        0.117        0.799        0.084   \n",
       "\n",
       "    compound_score  \n",
       "1          -0.9995  \n",
       "2          -0.9968  \n",
       "3          -0.9889  \n",
       "4           0.8094  \n",
       "5           0.3612  \n",
       "..             ...  \n",
       "59         -0.9999  \n",
       "60          0.9637  \n",
       "61         -0.8896  \n",
       "62         -0.9944  \n",
       "63         -0.9995  \n",
       "\n",
       "[63 rows x 5 columns]"
      ]
     },
     "execution_count": 40,
     "metadata": {},
     "output_type": "execute_result"
    }
   ],
   "source": [
    "sentiment_analysis_df"
   ]
  },
  {
   "cell_type": "code",
   "execution_count": 41,
   "metadata": {},
   "outputs": [],
   "source": [
    "sentiment_analysis_df.to_csv('./results/sentiment_analysis.csv')"
   ]
  },
  {
   "cell_type": "code",
   "execution_count": 94,
   "metadata": {},
   "outputs": [],
   "source": [
    "sentiment_analysis_df = pd.read_csv('./results/sentiment_analysis.csv')"
   ]
  },
  {
   "cell_type": "code",
   "execution_count": 95,
   "metadata": {},
   "outputs": [
    {
     "data": {
      "text/html": [
       "<div>\n",
       "<style scoped>\n",
       "    .dataframe tbody tr th:only-of-type {\n",
       "        vertical-align: middle;\n",
       "    }\n",
       "\n",
       "    .dataframe tbody tr th {\n",
       "        vertical-align: top;\n",
       "    }\n",
       "\n",
       "    .dataframe thead th {\n",
       "        text-align: right;\n",
       "    }\n",
       "</style>\n",
       "<table border=\"1\" class=\"dataframe\">\n",
       "  <thead>\n",
       "    <tr style=\"text-align: right;\">\n",
       "      <th></th>\n",
       "      <th>Unnamed: 0</th>\n",
       "      <th>neg_portion</th>\n",
       "      <th>neu_portion</th>\n",
       "      <th>pos_portion</th>\n",
       "      <th>compound_score</th>\n",
       "    </tr>\n",
       "  </thead>\n",
       "  <tbody>\n",
       "    <tr>\n",
       "      <td>count</td>\n",
       "      <td>63.000000</td>\n",
       "      <td>63.000000</td>\n",
       "      <td>63.000000</td>\n",
       "      <td>63.000000</td>\n",
       "      <td>63.000000</td>\n",
       "    </tr>\n",
       "    <tr>\n",
       "      <td>mean</td>\n",
       "      <td>32.000000</td>\n",
       "      <td>0.107730</td>\n",
       "      <td>0.809111</td>\n",
       "      <td>0.083190</td>\n",
       "      <td>-0.502546</td>\n",
       "    </tr>\n",
       "    <tr>\n",
       "      <td>std</td>\n",
       "      <td>18.330303</td>\n",
       "      <td>0.026684</td>\n",
       "      <td>0.031800</td>\n",
       "      <td>0.021803</td>\n",
       "      <td>0.840161</td>\n",
       "    </tr>\n",
       "    <tr>\n",
       "      <td>min</td>\n",
       "      <td>1.000000</td>\n",
       "      <td>0.048000</td>\n",
       "      <td>0.714000</td>\n",
       "      <td>0.030000</td>\n",
       "      <td>-1.000000</td>\n",
       "    </tr>\n",
       "    <tr>\n",
       "      <td>25%</td>\n",
       "      <td>16.500000</td>\n",
       "      <td>0.092500</td>\n",
       "      <td>0.788500</td>\n",
       "      <td>0.069500</td>\n",
       "      <td>-0.999700</td>\n",
       "    </tr>\n",
       "    <tr>\n",
       "      <td>50%</td>\n",
       "      <td>32.000000</td>\n",
       "      <td>0.108000</td>\n",
       "      <td>0.808000</td>\n",
       "      <td>0.084000</td>\n",
       "      <td>-0.998200</td>\n",
       "    </tr>\n",
       "    <tr>\n",
       "      <td>75%</td>\n",
       "      <td>47.500000</td>\n",
       "      <td>0.122500</td>\n",
       "      <td>0.827000</td>\n",
       "      <td>0.095000</td>\n",
       "      <td>-0.221300</td>\n",
       "    </tr>\n",
       "    <tr>\n",
       "      <td>max</td>\n",
       "      <td>63.000000</td>\n",
       "      <td>0.164000</td>\n",
       "      <td>0.905000</td>\n",
       "      <td>0.164000</td>\n",
       "      <td>0.999600</td>\n",
       "    </tr>\n",
       "  </tbody>\n",
       "</table>\n",
       "</div>"
      ],
      "text/plain": [
       "       Unnamed: 0  neg_portion  neu_portion  pos_portion  compound_score\n",
       "count   63.000000    63.000000    63.000000    63.000000       63.000000\n",
       "mean    32.000000     0.107730     0.809111     0.083190       -0.502546\n",
       "std     18.330303     0.026684     0.031800     0.021803        0.840161\n",
       "min      1.000000     0.048000     0.714000     0.030000       -1.000000\n",
       "25%     16.500000     0.092500     0.788500     0.069500       -0.999700\n",
       "50%     32.000000     0.108000     0.808000     0.084000       -0.998200\n",
       "75%     47.500000     0.122500     0.827000     0.095000       -0.221300\n",
       "max     63.000000     0.164000     0.905000     0.164000        0.999600"
      ]
     },
     "execution_count": 95,
     "metadata": {},
     "output_type": "execute_result"
    }
   ],
   "source": [
    "sentiment_analysis_df.describe()"
   ]
  },
  {
   "cell_type": "code",
   "execution_count": 96,
   "metadata": {},
   "outputs": [],
   "source": [
    "sentiment_analysis_df.sort_values('compound_score', inplace = True)\n",
    "titles = sentiment_analysis_df['filename']\n",
    "compound_score = sentiment_analysis_df['compound_score']\n",
    "neg_portion = sentiment_analysis_df['neg_portion']\n",
    "neu_portion = sentiment_analysis_df['neu_portion']\n",
    "pos_portion = sentiment_analysis_df['pos_portion']\n"
   ]
  },
  {
   "cell_type": "code",
   "execution_count": 97,
   "metadata": {},
   "outputs": [
    {
     "data": {
      "image/png": "[encoded data removed]",
      "text/plain": [
       "<Figure size 576x1152 with 1 Axes>"
      ]
     },
     "metadata": {},
     "output_type": "display_data"
    }
   ],
   "source": [
    "plt.figure(figsize = (8,16))\n",
    "plt.barh(width = compound_score, y = titles)\n",
    "plt.title('Writings Ranked by Compound Score')\n",
    "plt.xlabel('compound_score')\n",
    "plt.show()"
   ]
  },
  {
   "cell_type": "code",
   "execution_count": 98,
   "metadata": {},
   "outputs": [],
   "source": [
    "neg_portion = np.array(neg_portion)\n",
    "neu_portion = np.array(neu_portion)\n",
    "pos_portion = np.array(pos_portion)\n",
    "\n",
    "neg_plus_neu_portion = np.add(neg_portion, neu_portion)"
   ]
  },
  {
   "cell_type": "code",
   "execution_count": 99,
   "metadata": {},
   "outputs": [
    {
     "data": {
      "image/png": "[encoded data removed]",
      "text/plain": [
       "<Figure size 720x1440 with 1 Axes>"
      ]
     },
     "metadata": {},
     "output_type": "display_data"
    }
   ],
   "source": [
    "plt.figure(figsize = (10,20))\n",
    "plt.barh(width = neg_portion, y = titles, label = 'Negative')\n",
    "plt.barh(width = neu_portion, y = titles, label = 'Neutral', left = neg_portion)\n",
    "plt.barh(width = pos_portion, y = titles, label = 'Positive', left = neg_plus_neu_portion)\n",
    "plt.title('Writings Portions of Negative, Neutral, and Positive Text')\n",
    "plt.legend()\n",
    "plt.show()"
   ]
  },
  {
   "cell_type": "code",
   "execution_count": null,
   "metadata": {},
   "outputs": [],
   "source": []
  },
  {
   "cell_type": "code",
   "execution_count": null,
   "metadata": {},
   "outputs": [],
   "source": []
  },
  {
   "cell_type": "markdown",
   "metadata": {},
   "source": [
    "# TF - IDF"
   ]
  },
  {
   "cell_type": "code",
   "execution_count": null,
   "metadata": {},
   "outputs": [],
   "source": []
  }
 ],
 "metadata": {
  "kernelspec": {
   "display_name": "Python 3",
   "language": "python",
   "name": "python3"
  },
  "language_info": {
   "codemirror_mode": {
    "name": "ipython",
    "version": 3
   },
   "file_extension": ".py",
   "mimetype": "text/x-python",
   "name": "python",
   "nbconvert_exporter": "python",
   "pygments_lexer": "ipython3",
   "version": "3.7.4"
  },
  "toc": {
   "base_numbering": 1,
   "nav_menu": {},
   "number_sections": true,
   "sideBar": true,
   "skip_h1_title": false,
   "title_cell": "Table of Contents",
   "title_sidebar": "Contents",
   "toc_cell": false,
   "toc_position": {},
   "toc_section_display": true,
   "toc_window_display": false
  },
  "varInspector": {
   "cols": {
    "lenName": 16,
    "lenType": 16,
    "lenVar": 40
   },
   "kernels_config": {
    "python": {
     "delete_cmd_postfix": "",
     "delete_cmd_prefix": "del ",
     "library": "var_list.py",
     "varRefreshCmd": "print(var_dic_list())"
    },
    "r": {
     "delete_cmd_postfix": ") ",
     "delete_cmd_prefix": "rm(",
     "library": "var_list.r",
     "varRefreshCmd": "cat(var_dic_list()) "
    }
   },
   "types_to_exclude": [
    "module",
    "function",
    "builtin_function_or_method",
    "instance",
    "_Feature"
   ],
   "window_display": false
  }
 },
 "nbformat": 4,
 "nbformat_minor": 2
}
