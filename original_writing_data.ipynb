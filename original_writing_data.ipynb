{
 "cells": [
  {
   "cell_type": "markdown",
   "metadata": {},
   "source": [
    "available here in pdf: \n",
    "\n",
    "\n",
    "https://arkhamarchivist.com/ebook/The%20Complete%20Works%20of%20H.P.%20Lovecraft.pdf"
   ]
  },
  {
   "cell_type": "markdown",
   "metadata": {},
   "source": [
    "working with pdf: \n",
    "\n",
    "https://realpython.com/pdf-python/"
   ]
  },
  {
   "cell_type": "code",
   "execution_count": 1,
   "metadata": {},
   "outputs": [],
   "source": [
    "# had to pip install pypdf2 first"
   ]
  },
  {
   "cell_type": "code",
   "execution_count": 4,
   "metadata": {},
   "outputs": [],
   "source": [
    "import PyPDF2"
   ]
  },
  {
   "cell_type": "code",
   "execution_count": 20,
   "metadata": {},
   "outputs": [],
   "source": [
    "reader = PyPDF2.PdfFileReader('./data/Complete_Works_Lovecraft.pdf')"
   ]
  },
  {
   "cell_type": "code",
   "execution_count": 21,
   "metadata": {},
   "outputs": [
    {
     "data": {
      "text/plain": [
       "{'/Author': 'H.P. Lovecraft',\n",
       " '/Creator': 'Microsoft® Word 2010',\n",
       " '/CreationDate': \"D:20110729214233-04'00'\",\n",
       " '/ModDate': \"D:20110729214233-04'00'\",\n",
       " '/Producer': 'Microsoft® Word 2010'}"
      ]
     },
     "execution_count": 21,
     "metadata": {},
     "output_type": "execute_result"
    }
   ],
   "source": [
    "reader.documentInfo"
   ]
  },
  {
   "cell_type": "code",
   "execution_count": 22,
   "metadata": {},
   "outputs": [
    {
     "data": {
      "text/plain": [
       "708"
      ]
     },
     "execution_count": 22,
     "metadata": {},
     "output_type": "execute_result"
    }
   ],
   "source": [
    "reader.numPages"
   ]
  },
  {
   "cell_type": "code",
   "execution_count": 40,
   "metadata": {},
   "outputs": [
    {
     "name": "stdout",
     "output_type": "stream",
     "text": [
      "\n",
      " \n",
      "Will soon lose his wig and slip under the table;\n",
      " \n",
      "\n",
      "\n",
      " \n",
      "Better under the table than und\n",
      "er the gro\n",
      "when the \n",
      "thing\n",
      " \n",
      "happened, and I was borne away to this accursed abode of sorrow\n",
      " \n",
      "and monotony.\n",
      " \n",
      "\n"
     ]
    }
   ],
   "source": [
    "page = reader.getPage(8)\n",
    "page_text = page.extractText()\n",
    "print(page_text[:100])\n",
    "\n",
    "print(page_text[-100:])"
   ]
  },
  {
   "cell_type": "code",
   "execution_count": 42,
   "metadata": {},
   "outputs": [],
   "source": [
    "# there are clearly lines missing there"
   ]
  },
  {
   "cell_type": "code",
   "execution_count": 44,
   "metadata": {},
   "outputs": [],
   "source": [
    "# let's try to split as a last resort... try to split pages 5 - 11 into a new file"
   ]
  },
  {
   "cell_type": "code",
   "execution_count": 51,
   "metadata": {},
   "outputs": [],
   "source": [
    "for page in range(9):\n",
    "    pdf_writer = PyPDF2.PdfFileWriter()\n",
    "    pdf_writer.addPage(reader.getPage(page))\n",
    "output_filename = './data/The_Tomb.pdf'\n",
    "with open(output_filename, 'wb') as out:\n",
    "    pdf_writer.write(out)"
   ]
  },
  {
   "cell_type": "code",
   "execution_count": 52,
   "metadata": {},
   "outputs": [],
   "source": [
    "# this is annoying, the pdf is created properly without lines being missesd"
   ]
  },
  {
   "cell_type": "code",
   "execution_count": 53,
   "metadata": {},
   "outputs": [],
   "source": [
    "reader2 = PyPDF2.PdfFileReader('./data/The_Tomb.pdf')"
   ]
  },
  {
   "cell_type": "code",
   "execution_count": 54,
   "metadata": {},
   "outputs": [
    {
     "data": {
      "text/plain": [
       "'\\n \\nWill soon lose his wig and slip under the table;\\n \\n\\n\\n \\nBetter under the table than und\\ner the ground!\\n \\nSo revel and chaff\\n \\nAs ye thirstily quaff:\\n \\n\\n \\n \\n\\n \\nAnd damn me if I can stand upright or talk!\\n \\n \\nHere, landlord, bid Betty to summon a chair;\\n \\n\\nhome for a while, for my wife is not there!\\n \\nSo lend me a hand;\\n \\n\\n \\n\\n \\n \\nAbout this time I conceived my present fear of fire and thunderstorms. Previously indifferent to \\nsuch things, I had now a\\nn unspeakable horror of them; and would retire to the innermost \\nrecesses of the house whenever the heavens threatened an electrical display. A favourite \\nhaunt of mine during the day was the ruined cellar of the mansion that had burned down, and \\nin fancy I \\nwould picture the structure as it had been in its prime. On one occasion I startled a \\nvillager by leading him confidently to a shallow sub\\n-\\ncellar, of whose existence I seemed to \\nknow in spite of the fact that it had been unseen and forgotten for many gener\\nations.\\n \\nAt last came that which I had long feared. My parents, alarmed at the altered manner and \\nappearance of their only son, commenced to exert over my movements a kindly espionage \\nwhich threatened to result in disaster. I had told no one of my visits to\\n \\nthe tomb, having \\nguarded my secret purpose with religious zeal since childhood; but now I was forced to \\nexercise care in threading the mazes of the wooded hollow, that I might throw off a possible \\npursuer. My key to the vault I kept suspended from a cord \\nabout my neck, its presence known \\nonly to me. I never carried out of the sepulchre any of the things I came upon whilst within its \\nwalls.\\n \\nOne morning as I emerged from the damp tomb and fastened the chain of the portal with \\nnone too steady hand, I beheld i\\nn an adjacent thicket the dreaded face of a watcher. Surely \\nthe end was near; for my bower was discovered, and the objective of my nocturnal journeys \\nrevealed. The man did not accost me, so I hastened home in an effort to overhear what he \\nmight report to m\\ny careworn father. Were my sojourns beyond the chained door about to be \\nproclaimed to the world? Imagine my delighted astonishment on hearing the spy inform my \\nparent in a cautious whisper \\nthat I had spent the night in the bower outside the tomb;\\n \\nmy \\nsleep\\n-\\nfilmed eyes fixed upon the crevice where the padlocked portal stood ajar! By what \\nmiracle had the watcher been thus deluded? I was now convinced that a supernatural agency \\nprotected me. Made bold by this heaven\\n-\\nsent circumstance, I began to resume perfect \\nopenness in going to the vault; confident that no one could witness my entrance. For a week I \\ntasted to the full the joys of that charnel conviviality which I must not describe, when the \\nthing\\n \\nhappened, and I was borne away to this accursed abode of sorrow\\n \\nand monotony.\\n \\n'"
      ]
     },
     "execution_count": 54,
     "metadata": {},
     "output_type": "execute_result"
    }
   ],
   "source": [
    "reader2.getPage(0).extractText()"
   ]
  },
  {
   "cell_type": "code",
   "execution_count": 55,
   "metadata": {},
   "outputs": [],
   "source": [
    "# nope, still missing the text"
   ]
  },
  {
   "cell_type": "code",
   "execution_count": 57,
   "metadata": {},
   "outputs": [],
   "source": [
    "#trying out PDFMiner\n",
    "# https://pdfminersix.readthedocs.io/en/latest/\n",
    "# pip install pdfminer.six"
   ]
  },
  {
   "cell_type": "code",
   "execution_count": 58,
   "metadata": {},
   "outputs": [],
   "source": [
    "from pdfminer.converter import TextConverter"
   ]
  },
  {
   "cell_type": "code",
   "execution_count": 59,
   "metadata": {},
   "outputs": [],
   "source": [
    "import io\n",
    "\n",
    "from pdfminer.pdfinterp import PDFResourceManager, PDFPageInterpreter\n",
    "from pdfminer.converter import TextConverter\n",
    "from pdfminer.layout import LAParams\n",
    "from pdfminer.pdfpage import PDFPage\n",
    "\n",
    "\n",
    "def convert_pdf_to_txt(path):\n",
    "    '''Convert pdf content from a file path to text\n",
    "\n",
    "    :path the file path\n",
    "    '''\n",
    "    rsrcmgr = PDFResourceManager()\n",
    "    codec = 'utf-8'\n",
    "    laparams = LAParams()\n",
    "\n",
    "    with io.StringIO() as retstr:\n",
    "        with TextConverter(rsrcmgr, retstr, codec=codec,\n",
    "                           laparams=laparams) as device:\n",
    "            with open(path, 'rb') as fp:\n",
    "                interpreter = PDFPageInterpreter(rsrcmgr, device)\n",
    "                password = \"\"\n",
    "                maxpages = 0\n",
    "                caching = True\n",
    "                pagenos = set()\n",
    "\n",
    "                for page in PDFPage.get_pages(fp,\n",
    "                                              pagenos,\n",
    "                                              maxpages=maxpages,\n",
    "                                              password=password,\n",
    "                                              caching=caching,\n",
    "                                              check_extractable=True):\n",
    "                    interpreter.process_page(page)\n",
    "\n",
    "                return retstr.getvalue()"
   ]
  },
  {
   "cell_type": "code",
   "execution_count": 60,
   "metadata": {},
   "outputs": [],
   "source": [
    "text = convert_pdf_to_txt('./data/The_Tomb.pdf')"
   ]
  },
  {
   "cell_type": "code",
   "execution_count": 62,
   "metadata": {},
   "outputs": [
    {
     "data": {
      "text/plain": [
       "str"
      ]
     },
     "execution_count": 62,
     "metadata": {},
     "output_type": "execute_result"
    }
   ],
   "source": [
    "type(text)"
   ]
  },
  {
   "cell_type": "code",
   "execution_count": 63,
   "metadata": {},
   "outputs": [
    {
     "data": {
      "text/plain": [
       "'Young Harry, propp‘d up just as straight as he‘s able, \\nWill soon lose his wig and slip under the table; \\nBut fill up your goblets and pass ‘em around— \\nBetter under the table than under the ground! \\nSo revel and chaff \\nAs ye thirstily quaff: \\nUnder six feet of dirt ‘tis less easy to laugh! \\n \\nThe fiend strike me blue! I‘m scarce able to walk, \\nAnd damn me if I can stand upright or talk! \\n \\nHere, landlord, bid Betty to summon a chair; \\nI‘ll try home for a while, for my wife is not there! \\nSo lend me a hand; \\nI‘m not able to stand, \\nBut I‘m gay whilst I linger on top of the land! \\n\\n \\n\\nAbout this time I conceived my present fear of fire and thunderstorms. Previously indifferent to \\nsuch things, I had now an unspeakable horror of them; and would retire to the innermost \\nrecesses of the house whenever the heavens threatened an electrical display. A favourite \\nhaunt of mine during the day was the ruined cellar of the mansion that had burned down, and \\nin fancy I would picture the structure as it had been in its prime. On one occasion I startled a \\nvillager by leading him confidently to a shallow sub-cellar, of whose existence I seemed to \\nknow in spite of the fact that it had been unseen and forgotten for many generations. \\n\\nAt last came that which I had long feared. My parents, alarmed at the altered manner and \\nappearance of their only son, commenced to exert over my movements a kindly espionage \\nwhich threatened to result in disaster. I had told no one of my visits to the tomb, having \\nguarded my secret purpose with religious zeal since childhood; but now I was forced to \\nexercise care in threading the mazes of the wooded hollow, that I might throw off a possible \\npursuer. My key to the vault I kept suspended from a cord about my neck, its presence known \\nonly to me. I never carried out of the sepulchre any of the things I came upon whilst within its \\nwalls. \\n\\nOne morning as I emerged from the damp tomb and fastened the chain of the portal with \\nnone too steady hand, I beheld in an adjacent thicket the dreaded face of a watcher. Surely \\nthe end was near; for my bower was discovered, and the objective of my nocturnal journeys \\nrevealed. The man did not accost me, so I hastened home in an effort to overhear what he \\nmight report to my careworn father. Were my sojourns beyond the chained door about to be \\nproclaimed to the world? Imagine my delighted astonishment on hearing the spy inform my \\nparent in a cautious whisper that I had spent the night in the bower outside the tomb; my \\nsleep-filmed eyes fixed upon the crevice where the padlocked portal stood ajar! By what \\nmiracle had the watcher been thus deluded? I was now convinced that a supernatural agency \\nprotected me. Made bold by this heaven-sent circumstance, I began to resume perfect \\nopenness in going to the vault; confident that no one could witness my entrance. For a week I \\ntasted to the full the joys of that charnel conviviality which I must not describe, when the thing \\nhappened, and I was borne away to this accursed abode of sorrow and monotony. \\n\\n\\x0c'"
      ]
     },
     "execution_count": 63,
     "metadata": {},
     "output_type": "execute_result"
    }
   ],
   "source": [
    "text"
   ]
  },
  {
   "cell_type": "code",
   "execution_count": 64,
   "metadata": {},
   "outputs": [],
   "source": [
    "# OK, that seems to work, now the question is, how to split it up"
   ]
  },
  {
   "cell_type": "code",
   "execution_count": null,
   "metadata": {},
   "outputs": [],
   "source": [
    "# we will split up "
   ]
  }
 ],
 "metadata": {
  "kernelspec": {
   "display_name": "Python 3",
   "language": "python",
   "name": "python3"
  },
  "language_info": {
   "codemirror_mode": {
    "name": "ipython",
    "version": 3
   },
   "file_extension": ".py",
   "mimetype": "text/x-python",
   "name": "python",
   "nbconvert_exporter": "python",
   "pygments_lexer": "ipython3",
   "version": "3.7.4"
  },
  "toc": {
   "base_numbering": 1,
   "nav_menu": {},
   "number_sections": true,
   "sideBar": true,
   "skip_h1_title": false,
   "title_cell": "Table of Contents",
   "title_sidebar": "Contents",
   "toc_cell": false,
   "toc_position": {},
   "toc_section_display": true,
   "toc_window_display": false
  },
  "varInspector": {
   "cols": {
    "lenName": 16,
    "lenType": 16,
    "lenVar": 40
   },
   "kernels_config": {
    "python": {
     "delete_cmd_postfix": "",
     "delete_cmd_prefix": "del ",
     "library": "var_list.py",
     "varRefreshCmd": "print(var_dic_list())"
    },
    "r": {
     "delete_cmd_postfix": ") ",
     "delete_cmd_prefix": "rm(",
     "library": "var_list.r",
     "varRefreshCmd": "cat(var_dic_list()) "
    }
   },
   "types_to_exclude": [
    "module",
    "function",
    "builtin_function_or_method",
    "instance",
    "_Feature"
   ],
   "window_display": false
  }
 },
 "nbformat": 4,
 "nbformat_minor": 2
}
