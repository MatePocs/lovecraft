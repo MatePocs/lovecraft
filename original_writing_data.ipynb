{
 "cells": [
  {
   "cell_type": "markdown",
   "metadata": {},
   "source": [
    "available here in pdf: \n",
    "\n",
    "\n",
    "https://arkhamarchivist.com/ebook/The%20Complete%20Works%20of%20H.P.%20Lovecraft.pdf"
   ]
  },
  {
   "cell_type": "markdown",
   "metadata": {},
   "source": [
    "working with pdf: \n",
    "\n",
    "https://realpython.com/pdf-python/\n",
    "\n",
    "had to pip install pypdf2, pip install pdfminer.six first"
   ]
  },
  {
   "cell_type": "code",
   "execution_count": 14,
   "metadata": {},
   "outputs": [],
   "source": [
    "import PyPDF2\n",
    "import data_func"
   ]
  },
  {
   "cell_type": "code",
   "execution_count": 2,
   "metadata": {},
   "outputs": [],
   "source": [
    "reader = PyPDF2.PdfFileReader('./data/original/Complete_Works_Lovecraft.pdf')"
   ]
  },
  {
   "cell_type": "code",
   "execution_count": 3,
   "metadata": {},
   "outputs": [
    {
     "data": {
      "text/plain": [
       "{'/Author': 'H.P. Lovecraft',\n",
       " '/Creator': 'Microsoft® Word 2010',\n",
       " '/CreationDate': \"D:20110729214233-04'00'\",\n",
       " '/ModDate': \"D:20110729214233-04'00'\",\n",
       " '/Producer': 'Microsoft® Word 2010'}"
      ]
     },
     "execution_count": 3,
     "metadata": {},
     "output_type": "execute_result"
    }
   ],
   "source": [
    "reader.documentInfo"
   ]
  },
  {
   "cell_type": "code",
   "execution_count": 64,
   "metadata": {},
   "outputs": [
    {
     "data": {
      "text/plain": [
       "708"
      ]
     },
     "execution_count": 64,
     "metadata": {},
     "output_type": "execute_result"
    }
   ],
   "source": [
    "num_of_pages = reader.numPages\n",
    "num_of_pages"
   ]
  },
  {
   "cell_type": "code",
   "execution_count": null,
   "metadata": {},
   "outputs": [],
   "source": [
    "# to extract with pypdf2, we can use: reader2.getPage(7).extractText(), but lines will be missing"
   ]
  },
  {
   "cell_type": "code",
   "execution_count": 5,
   "metadata": {},
   "outputs": [],
   "source": [
    "# first, we need to extract the page numbers from the table of contents"
   ]
  },
  {
   "cell_type": "code",
   "execution_count": 13,
   "metadata": {},
   "outputs": [],
   "source": [
    "# saving a new table of contents file\n",
    "writer = PyPDF2.PdfFileWriter()\n",
    "\n",
    "for page in range(2,4):\n",
    "\n",
    "    writer.addPage(reader.getPage(page))\n",
    "    \n",
    "output_filename = './data/original/table_of_contents.pdf'\n",
    "\n",
    "with open(output_filename, 'wb') as output:\n",
    "    writer.write(output)"
   ]
  },
  {
   "cell_type": "code",
   "execution_count": null,
   "metadata": {},
   "outputs": [],
   "source": [
    "# read in table_of_contents file with pdfminer"
   ]
  },
  {
   "cell_type": "code",
   "execution_count": 36,
   "metadata": {},
   "outputs": [],
   "source": [
    "text = data_func.convert_pdf_to_txt('./data/original/table_of_contents.pdf')"
   ]
  },
  {
   "cell_type": "code",
   "execution_count": 40,
   "metadata": {},
   "outputs": [],
   "source": [
    "text = text.replace('.','')\n",
    "text = text.replace('\\x0c','')"
   ]
  },
  {
   "cell_type": "code",
   "execution_count": 41,
   "metadata": {},
   "outputs": [],
   "source": [
    "table_of_contents_raw = text.split('\\n')"
   ]
  },
  {
   "cell_type": "code",
   "execution_count": 42,
   "metadata": {},
   "outputs": [
    {
     "data": {
      "text/plain": [
       "['Table of Contents ',\n",
       " '',\n",
       " 'Preface  2 ',\n",
       " 'The Tomb  5 ',\n",
       " 'Dagon  12 ',\n",
       " 'Polaris 16 ',\n",
       " 'Beyond the Wall of Sleep  19 ',\n",
       " 'Memory  26 ',\n",
       " 'Old Bugs  27 ',\n",
       " 'The Transition of Juan Romero  32 ',\n",
       " 'The White Ship  37 ',\n",
       " 'The Doom That Came to Sarnath  41 ',\n",
       " 'The Statement of Randolph Carter  45 ',\n",
       " 'The Terrible Old Man  49 ',\n",
       " 'The Tree  51 ',\n",
       " 'The Cats of Ulthar 54 ',\n",
       " 'The Temple  56 ',\n",
       " 'Facts Concerning the Late Arthur Jermyn and His Family  64 ',\n",
       " 'The Street  70 ',\n",
       " 'Celephaïs  74 ',\n",
       " 'From Beyond  78 ',\n",
       " 'Nyarlathotep  83 ',\n",
       " 'The Picture in the House  85 ',\n",
       " 'Ex Oblivione  90 ',\n",
       " 'The Nameless City  92 ',\n",
       " 'The Quest of Iranon  100 ',\n",
       " 'The Moon-Bog  104 ',\n",
       " 'The Outsider  109 ',\n",
       " 'The Other Gods  113 ',\n",
       " 'The Music of Erich Zann  116 ',\n",
       " 'Herbert West — Reanimator  121 ',\n",
       " 'Hypnos  139 ',\n",
       " 'What the Moon Brings  144 ',\n",
       " 'Azathoth  146 ',\n",
       " 'The Hound  147 ',\n",
       " 'The Lurking Fear  152 ',\n",
       " 'The Rats in the Walls  165 ',\n",
       " 'The Unnamable  177 ',\n",
       " 'The Festival  182 ',\n",
       " 'The Shunned House  188 ',\n",
       " 'The Horror at Red Hook  204 ',\n",
       " 'He  217 ',\n",
       " 'In the Vault  224 ',\n",
       " 'The Descendant  229 ',\n",
       " 'Cool Air  232 ',\n",
       " 'The Call of Cthulhu  238 ',\n",
       " \"Pickman's Model  256 \",\n",
       " 'The Silver Key  264 ',\n",
       " '',\n",
       " 'The Strange High House in the Mist  272 ',\n",
       " 'The Dream-Quest of Unknown Kadath  278 ',\n",
       " 'The Case of Charles Dexter Ward  338 ',\n",
       " 'The Colour Out of Space  414 ',\n",
       " 'The Very Old Folk  431 ',\n",
       " 'The Thing in the Moonlight  435 ',\n",
       " 'The History of the Necronomicon  437 ',\n",
       " 'Ibid  439 ',\n",
       " 'The Dunwich Horror  442 ',\n",
       " 'The Whisperer in Darkness  469 ',\n",
       " 'At the Mountains of Madness  510 ',\n",
       " 'The Shadow Over Innsmouth  572 ',\n",
       " 'The Dreams in the Witch House  612 ',\n",
       " 'The Thing on the Doorstep  634 ',\n",
       " 'The Evil Clergyman  651 ',\n",
       " 'The Book  654 ',\n",
       " 'The Shadow Out of Time  656 ',\n",
       " 'The Haunter of the Dark  694 ',\n",
       " '',\n",
       " ' ',\n",
       " '',\n",
       " '']"
      ]
     },
     "execution_count": 42,
     "metadata": {},
     "output_type": "execute_result"
    }
   ],
   "source": [
    "table_of_contents_raw"
   ]
  },
  {
   "cell_type": "code",
   "execution_count": null,
   "metadata": {},
   "outputs": [],
   "source": [
    "# divide all of them with '  ', see if there is a 2nd element, if yes, if second is a number, and if yes, split them"
   ]
  },
  {
   "cell_type": "code",
   "execution_count": null,
   "metadata": {},
   "outputs": [],
   "source": [
    "# unfortunately not all elements are "
   ]
  },
  {
   "cell_type": "code",
   "execution_count": 72,
   "metadata": {},
   "outputs": [],
   "source": [
    "title_list = []\n",
    "page_list = []\n",
    "for item in table_of_contents_raw:\n",
    "    split_item = item.split('  ')\n",
    "    if len(split_item) > 1:\n",
    "        title_list.append(split_item[0].strip())\n",
    "        page_list.append(int(split_item[1].strip()))"
   ]
  },
  {
   "cell_type": "code",
   "execution_count": 73,
   "metadata": {},
   "outputs": [],
   "source": [
    "# for page_list, we need to add the last page as well\n",
    "page_list.append(num_of_pages)"
   ]
  },
  {
   "cell_type": "code",
   "execution_count": 82,
   "metadata": {},
   "outputs": [],
   "source": [
    "# we are skipping the first one, preface\n",
    "for i in range(1, len(title_list)):\n",
    "    title = convert_title_to_filename(title_list[i])\n",
    "    page_start = page_list[i] - 1\n",
    "    page_end = page_list[i+1] - 2\n",
    "    \n",
    "    writer = PyPDF2.PdfFileWriter()\n",
    "\n",
    "    for page in range(page_start,page_end + 1):\n",
    "        writer.addPage(reader.getPage(page))\n",
    "    \n",
    "    output_filename = './data/original/' + title + '.pdf'\n",
    "\n",
    "    with open(output_filename, 'wb') as output:\n",
    "        writer.write(output)\n",
    "    "
   ]
  },
  {
   "cell_type": "code",
   "execution_count": 83,
   "metadata": {},
   "outputs": [
    {
     "data": {
      "text/plain": [
       "'Dagon'"
      ]
     },
     "execution_count": 83,
     "metadata": {},
     "output_type": "execute_result"
    }
   ],
   "source": [
    "title_list[2]"
   ]
  },
  {
   "cell_type": "code",
   "execution_count": 84,
   "metadata": {},
   "outputs": [
    {
     "data": {
      "text/plain": [
       "12"
      ]
     },
     "execution_count": 84,
     "metadata": {},
     "output_type": "execute_result"
    }
   ],
   "source": [
    "page_list[2]"
   ]
  },
  {
   "cell_type": "code",
   "execution_count": 85,
   "metadata": {},
   "outputs": [
    {
     "data": {
      "text/plain": [
       "19"
      ]
     },
     "execution_count": 85,
     "metadata": {},
     "output_type": "execute_result"
    }
   ],
   "source": [
    "page_list[3]"
   ]
  },
  {
   "cell_type": "code",
   "execution_count": null,
   "metadata": {},
   "outputs": [],
   "source": []
  },
  {
   "cell_type": "code",
   "execution_count": null,
   "metadata": {},
   "outputs": [],
   "source": []
  },
  {
   "cell_type": "code",
   "execution_count": null,
   "metadata": {},
   "outputs": [],
   "source": []
  },
  {
   "cell_type": "code",
   "execution_count": null,
   "metadata": {},
   "outputs": [],
   "source": []
  },
  {
   "cell_type": "code",
   "execution_count": null,
   "metadata": {},
   "outputs": [],
   "source": []
  },
  {
   "cell_type": "code",
   "execution_count": null,
   "metadata": {},
   "outputs": [],
   "source": []
  },
  {
   "cell_type": "code",
   "execution_count": null,
   "metadata": {},
   "outputs": [],
   "source": []
  },
  {
   "cell_type": "code",
   "execution_count": null,
   "metadata": {},
   "outputs": [],
   "source": []
  },
  {
   "cell_type": "code",
   "execution_count": null,
   "metadata": {},
   "outputs": [],
   "source": []
  },
  {
   "cell_type": "code",
   "execution_count": null,
   "metadata": {},
   "outputs": [],
   "source": []
  },
  {
   "cell_type": "code",
   "execution_count": 61,
   "metadata": {},
   "outputs": [],
   "source": [
    "def convert_title_to_filename(title):\n",
    "    filename = title.lower()\n",
    "    filename = filename.replace(' ', '_')\n",
    "    return filename"
   ]
  },
  {
   "cell_type": "code",
   "execution_count": 51,
   "metadata": {},
   "outputs": [],
   "source": []
  }
 ],
 "metadata": {
  "kernelspec": {
   "display_name": "Python 3",
   "language": "python",
   "name": "python3"
  },
  "language_info": {
   "codemirror_mode": {
    "name": "ipython",
    "version": 3
   },
   "file_extension": ".py",
   "mimetype": "text/x-python",
   "name": "python",
   "nbconvert_exporter": "python",
   "pygments_lexer": "ipython3",
   "version": "3.7.4"
  },
  "toc": {
   "base_numbering": 1,
   "nav_menu": {},
   "number_sections": true,
   "sideBar": true,
   "skip_h1_title": false,
   "title_cell": "Table of Contents",
   "title_sidebar": "Contents",
   "toc_cell": false,
   "toc_position": {},
   "toc_section_display": true,
   "toc_window_display": false
  },
  "varInspector": {
   "cols": {
    "lenName": 16,
    "lenType": 16,
    "lenVar": 40
   },
   "kernels_config": {
    "python": {
     "delete_cmd_postfix": "",
     "delete_cmd_prefix": "del ",
     "library": "var_list.py",
     "varRefreshCmd": "print(var_dic_list())"
    },
    "r": {
     "delete_cmd_postfix": ") ",
     "delete_cmd_prefix": "rm(",
     "library": "var_list.r",
     "varRefreshCmd": "cat(var_dic_list()) "
    }
   },
   "types_to_exclude": [
    "module",
    "function",
    "builtin_function_or_method",
    "instance",
    "_Feature"
   ],
   "window_display": false
  }
 },
 "nbformat": 4,
 "nbformat_minor": 2
}
