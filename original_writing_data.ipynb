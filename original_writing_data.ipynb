{
 "cells": [
  {
   "cell_type": "markdown",
   "metadata": {},
   "source": [
    "# Summary"
   ]
  },
  {
   "cell_type": "markdown",
   "metadata": {},
   "source": [
    "In this Jupyter Notebook, we take the complete works of H.P.Lovecraft pdf, split the stories into individual `pdf` files, clean the text, and convert everything into `txt` files. The source file I'm working with is available here in pdf: \n",
    "\n",
    "https://arkhamarchivist.com/free-complete-lovecraft-ebook-nook-kindle/"
   ]
  },
  {
   "cell_type": "markdown",
   "metadata": {},
   "source": [
    "We are using PyPDF2 and PDFMiner, installing the libraries: \n",
    "<br>\n",
    "`pip install pypdf2`\n",
    "<br>\n",
    "`pip install pdfminer.six`"
   ]
  },
  {
   "cell_type": "markdown",
   "metadata": {},
   "source": [
    "# Set up Environment"
   ]
  },
  {
   "cell_type": "code",
   "execution_count": 5,
   "metadata": {},
   "outputs": [
    {
     "name": "stdout",
     "output_type": "stream",
     "text": [
      "{'/Author': 'H.P. Lovecraft', '/Creator': 'Microsoft® Word 2010', '/CreationDate': \"D:20110729214233-04'00'\", '/ModDate': \"D:20110729214233-04'00'\", '/Producer': 'Microsoft® Word 2010'}\n",
      "Number of pages: 708\n"
     ]
    }
   ],
   "source": [
    "import PyPDF2\n",
    "import data_func\n",
    "import csv\n",
    "\n",
    "reader = PyPDF2.PdfFileReader(\n",
    "    './data/original/Complete_Works_Lovecraft.pdf')\n",
    "\n",
    "print(reader.documentInfo)\n",
    "\n",
    "num_of_pages = reader.numPages\n",
    "print('Number of pages: ' + str(num_of_pages))"
   ]
  },
  {
   "cell_type": "markdown",
   "metadata": {},
   "source": [
    "# Table of Contents"
   ]
  },
  {
   "cell_type": "markdown",
   "metadata": {},
   "source": [
    "First, we are saving the Table of Contents as a separate pdf file. "
   ]
  },
  {
   "cell_type": "code",
   "execution_count": 6,
   "metadata": {},
   "outputs": [],
   "source": [
    "writer = PyPDF2.PdfFileWriter()\n",
    "\n",
    "for page in range(2,4):\n",
    "\n",
    "    writer.addPage(reader.getPage(page))\n",
    "    \n",
    "output_filename = './data/original/table_of_contents.pdf'\n",
    "\n",
    "with open(output_filename, 'wb') as output:\n",
    "    writer.write(output)"
   ]
  },
  {
   "cell_type": "markdown",
   "metadata": {},
   "source": [
    "The next step is to extract text. To extract with PyPDF2, we can use the extractText, like: reader.getPage(7).extractText(). However, in doing that, lines would be missing. We are using PDFMiner for this reason. "
   ]
  },
  {
   "cell_type": "code",
   "execution_count": 7,
   "metadata": {},
   "outputs": [],
   "source": [
    "text = data_func.convert_pdf_to_string(\n",
    "    './data/original/table_of_contents.pdf')"
   ]
  },
  {
   "cell_type": "code",
   "execution_count": 8,
   "metadata": {},
   "outputs": [
    {
     "data": {
      "text/plain": [
       "'Table of Contents \\n\\nPreface ............................................................................................................................. 2 \\nThe Tomb .......................................................................................................................... 5 \\nDagon ............................................................................................................................. 12 \\nPolaris............................................................................................................................. 16 \\nBeyond the Wall of Sleep ............................................................................................... 19 \\nMemory ........................................................................................................................... 26 \\nOld Bugs ......................................................................................................................... 27 \\nThe Transition of Juan Romero ..........'"
      ]
     },
     "execution_count": 8,
     "metadata": {},
     "output_type": "execute_result"
    }
   ],
   "source": [
    "text[:1000]"
   ]
  },
  {
   "cell_type": "code",
   "execution_count": 9,
   "metadata": {},
   "outputs": [
    {
     "data": {
      "text/plain": [
       "['Table of Contents ',\n",
       " '',\n",
       " 'Preface  2 ',\n",
       " 'The Tomb  5 ',\n",
       " 'Dagon  12 ',\n",
       " 'Polaris 16 ',\n",
       " 'Beyond the Wall of Sleep  19 ',\n",
       " 'Memory  26 ',\n",
       " 'Old Bugs  27 ',\n",
       " 'The Transition of Juan Romero  32 ']"
      ]
     },
     "execution_count": 9,
     "metadata": {},
     "output_type": "execute_result"
    }
   ],
   "source": [
    "text = text.replace('.','')\n",
    "text = text.replace('\\x0c','')\n",
    "table_of_contents_raw = text.split('\\n')\n",
    "table_of_contents_raw[:10]"
   ]
  },
  {
   "cell_type": "markdown",
   "metadata": {},
   "source": [
    "Converting the string above to lists. "
   ]
  },
  {
   "cell_type": "code",
   "execution_count": 10,
   "metadata": {},
   "outputs": [],
   "source": [
    "title_list = []\n",
    "pagenum_list = []\n",
    "title_formatted_list = []\n",
    "for item in table_of_contents_raw:\n",
    "        title, pagenum = \\\n",
    "            data_func.split_to_title_and_pagenum(item)\n",
    "        if title != None:\n",
    "            title_list.append(title)\n",
    "            pagenum_list.append(pagenum)\n",
    "            title_formatted_list.append(\n",
    "                data_func.convert_title_to_filename(title))\n",
    "            \n",
    "# for page_list, we need to add the last page as well\n",
    "pagenum_list.append(num_of_pages + 1)"
   ]
  },
  {
   "cell_type": "markdown",
   "metadata": {},
   "source": [
    "# Saving Individual PDF Files"
   ]
  },
  {
   "cell_type": "markdown",
   "metadata": {},
   "source": [
    "Next up, we are saving the individual PDF files, skipping the first one, which is the Preface. "
   ]
  },
  {
   "cell_type": "code",
   "execution_count": 11,
   "metadata": {},
   "outputs": [],
   "source": [
    "for i in range(1, len(title_formatted_list)):\n",
    "    title_formatted = title_formatted_list[i]\n",
    "    page_start = pagenum_list[i] - 1\n",
    "    page_end = pagenum_list[i+1] - 2\n",
    "    \n",
    "    writer = PyPDF2.PdfFileWriter()\n",
    "\n",
    "    for page in range(page_start,page_end + 1):\n",
    "        writer.addPage(reader.getPage(page))\n",
    "    \n",
    "    output_filename = './data/original/pdfs/' + title_formatted + '.pdf'\n",
    "\n",
    "    with open(output_filename, 'wb') as output:\n",
    "        writer.write(output)"
   ]
  },
  {
   "cell_type": "markdown",
   "metadata": {},
   "source": [
    "# Saving Individual TXT Files"
   ]
  },
  {
   "cell_type": "markdown",
   "metadata": {},
   "source": [
    "Loop through individual pdf's, convert to string, clean string, save out txt. "
   ]
  },
  {
   "cell_type": "code",
   "execution_count": 29,
   "metadata": {},
   "outputs": [],
   "source": [
    "year_written = []\n",
    "# first element is Preface, where year is not applicable\n",
    "year_written.append('n/a')\n",
    "\n",
    "for title_formatted in title_formatted_list[1:]:\n",
    "    \n",
    "    text = data_func.convert_pdf_to_string(\n",
    "        './data/original/pdfs/' + title_formatted + '.pdf')\n",
    "    \n",
    "    # exclude the year after the title, collect in a list\n",
    "    i = 0\n",
    "    while text[i]!= '(':\n",
    "        i+=1\n",
    "    year = text[i+1:i+5]\n",
    "    text = text[:i] + text[i+6:]\n",
    "    year_written.append(year)\n",
    "    \n",
    "    # replace 'Return to Table of Contents', which is not part of the text\n",
    "    text = text.replace('Return to Table of Contents', '')\n",
    "    \n",
    "    # replace Fin from the end of the last title\n",
    "    if title_formatted == 'the_haunter_of_the_dark':\n",
    "        text = text[:-15]\n",
    "    \n",
    "    # save in a txt file\n",
    "    text_file = open('./data/original/txts/' + title_formatted + '.txt', 'w')\n",
    "    n = text_file.write(text)\n",
    "    text_file.close()"
   ]
  },
  {
   "cell_type": "markdown",
   "metadata": {},
   "source": [
    "# Saving Table of Contents in a CSV"
   ]
  },
  {
   "cell_type": "markdown",
   "metadata": {},
   "source": [
    "Save titles, clean titles, page numbers, and years in which the story was written in a csv. "
   ]
  },
  {
   "cell_type": "code",
   "execution_count": 30,
   "metadata": {},
   "outputs": [],
   "source": [
    "with open('./data/original/table_of_contents.csv', 'a') as f:\n",
    "    writer = csv.writer(f)\n",
    "    writer.writerows(zip(\n",
    "        title_list, pagenum_list, title_formatted_list, year_written))"
   ]
  }
 ],
 "metadata": {
  "kernelspec": {
   "display_name": "Python 3",
   "language": "python",
   "name": "python3"
  },
  "language_info": {
   "codemirror_mode": {
    "name": "ipython",
    "version": 3
   },
   "file_extension": ".py",
   "mimetype": "text/x-python",
   "name": "python",
   "nbconvert_exporter": "python",
   "pygments_lexer": "ipython3",
   "version": "3.7.4"
  },
  "toc": {
   "base_numbering": 1,
   "nav_menu": {},
   "number_sections": true,
   "sideBar": true,
   "skip_h1_title": false,
   "title_cell": "Table of Contents",
   "title_sidebar": "Contents",
   "toc_cell": false,
   "toc_position": {},
   "toc_section_display": true,
   "toc_window_display": false
  },
  "varInspector": {
   "cols": {
    "lenName": 16,
    "lenType": 16,
    "lenVar": 40
   },
   "kernels_config": {
    "python": {
     "delete_cmd_postfix": "",
     "delete_cmd_prefix": "del ",
     "library": "var_list.py",
     "varRefreshCmd": "print(var_dic_list())"
    },
    "r": {
     "delete_cmd_postfix": ") ",
     "delete_cmd_prefix": "rm(",
     "library": "var_list.r",
     "varRefreshCmd": "cat(var_dic_list()) "
    }
   },
   "types_to_exclude": [
    "module",
    "function",
    "builtin_function_or_method",
    "instance",
    "_Feature"
   ],
   "window_display": false
  }
 },
 "nbformat": 4,
 "nbformat_minor": 2
}
