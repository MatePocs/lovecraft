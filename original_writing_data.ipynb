{
 "cells": [
  {
   "cell_type": "markdown",
   "metadata": {},
   "source": [
    "# Summary"
   ]
  },
  {
   "cell_type": "markdown",
   "metadata": {},
   "source": [
    "In this Jupyter Notebook, we take the complete works of H.P.Lovecraft pdf, split the stories into individual `pdf` files, clean the text, and convert everything into `txt` files. The source file I'm working with is available here in pdf: \n",
    "\n",
    "https://arkhamarchivist.com/free-complete-lovecraft-ebook-nook-kindle/"
   ]
  },
  {
   "cell_type": "markdown",
   "metadata": {},
   "source": [
    "We are using PyPDF2 and PDFMiner, installing the libraries: \n",
    "<br>\n",
    "`pip install pypdf2`\n",
    "<br>\n",
    "`pip install pdfminer.six`"
   ]
  },
  {
   "cell_type": "markdown",
   "metadata": {},
   "source": [
    "# Set up Environment"
   ]
  },
  {
   "cell_type": "code",
   "execution_count": 1,
   "metadata": {},
   "outputs": [],
   "source": [
    "import PyPDF2\n",
    "import data_func\n",
    "import csv"
   ]
  },
  {
   "cell_type": "code",
   "execution_count": 2,
   "metadata": {},
   "outputs": [],
   "source": [
    "reader = PyPDF2.PdfFileReader('./data/original/Complete_Works_Lovecraft.pdf')"
   ]
  },
  {
   "cell_type": "code",
   "execution_count": 3,
   "metadata": {},
   "outputs": [
    {
     "data": {
      "text/plain": [
       "{'/Author': 'H.P. Lovecraft',\n",
       " '/Creator': 'Microsoft® Word 2010',\n",
       " '/CreationDate': \"D:20110729214233-04'00'\",\n",
       " '/ModDate': \"D:20110729214233-04'00'\",\n",
       " '/Producer': 'Microsoft® Word 2010'}"
      ]
     },
     "execution_count": 3,
     "metadata": {},
     "output_type": "execute_result"
    }
   ],
   "source": [
    "reader.documentInfo"
   ]
  },
  {
   "cell_type": "code",
   "execution_count": 4,
   "metadata": {},
   "outputs": [
    {
     "data": {
      "text/plain": [
       "708"
      ]
     },
     "execution_count": 4,
     "metadata": {},
     "output_type": "execute_result"
    }
   ],
   "source": [
    "num_of_pages = reader.numPages\n",
    "num_of_pages"
   ]
  },
  {
   "cell_type": "markdown",
   "metadata": {},
   "source": [
    "# Table of Contents"
   ]
  },
  {
   "cell_type": "markdown",
   "metadata": {},
   "source": [
    "First, we are saving the Table of Contents as a separate pdf file. "
   ]
  },
  {
   "cell_type": "code",
   "execution_count": 5,
   "metadata": {},
   "outputs": [],
   "source": [
    "writer = PyPDF2.PdfFileWriter()\n",
    "\n",
    "for page in range(2,4):\n",
    "\n",
    "    writer.addPage(reader.getPage(page))\n",
    "    \n",
    "output_filename = './data/original/table_of_contents.pdf'\n",
    "\n",
    "with open(output_filename, 'wb') as output:\n",
    "    writer.write(output)"
   ]
  },
  {
   "cell_type": "markdown",
   "metadata": {},
   "source": [
    "The next step is to extract text. To extract with PyPDF2, we can use the extractText, like: reader.getPage(7).extractText(). However, in doing that, lines would be missing. We are using PDFMiner for this reason. "
   ]
  },
  {
   "cell_type": "code",
   "execution_count": 6,
   "metadata": {},
   "outputs": [],
   "source": [
    "text = data_func.convert_pdf_to_string('./data/original/table_of_contents.pdf')"
   ]
  },
  {
   "cell_type": "code",
   "execution_count": 8,
   "metadata": {},
   "outputs": [
    {
     "data": {
      "text/plain": [
       "'Table of Contents \\n\\nPreface ............................................................................................................................. 2 \\nThe Tomb .......................................................................................................................... 5 \\nDagon ............................................................................................................................. 12 \\nPolaris............................................................................................................................. 16 \\nBeyond the Wall of Sleep ............................................................................................... 19 \\nMemory ........................................................................................................................... 26 \\nOld Bugs ......................................................................................................................... 27 \\nThe Transition of Juan Romero ..........'"
      ]
     },
     "execution_count": 8,
     "metadata": {},
     "output_type": "execute_result"
    }
   ],
   "source": [
    "text[:1000]"
   ]
  },
  {
   "cell_type": "code",
   "execution_count": 11,
   "metadata": {},
   "outputs": [
    {
     "data": {
      "text/plain": [
       "['Table of Contents ',\n",
       " '',\n",
       " 'Preface  2 ',\n",
       " 'The Tomb  5 ',\n",
       " 'Dagon  12 ',\n",
       " 'Polaris 16 ',\n",
       " 'Beyond the Wall of Sleep  19 ',\n",
       " 'Memory  26 ',\n",
       " 'Old Bugs  27 ',\n",
       " 'The Transition of Juan Romero  32 ']"
      ]
     },
     "execution_count": 11,
     "metadata": {},
     "output_type": "execute_result"
    }
   ],
   "source": [
    "text = text.replace('.','')\n",
    "text = text.replace('\\x0c','')\n",
    "table_of_contents_raw = text.split('\\n')\n",
    "table_of_contents_raw[:10]"
   ]
  },
  {
   "cell_type": "code",
   "execution_count": null,
   "metadata": {},
   "outputs": [],
   "source": [
    "# divide all of them with '  ', see if there is a 2nd element, if yes, if second is a number, and if yes, split them"
   ]
  },
  {
   "cell_type": "code",
   "execution_count": null,
   "metadata": {},
   "outputs": [],
   "source": [
    "# unfortunately not all elements are only 2 space"
   ]
  },
  {
   "cell_type": "code",
   "execution_count": 55,
   "metadata": {},
   "outputs": [],
   "source": [
    "title_list = []\n",
    "pagenum_list = []\n",
    "title_formatted_list = []\n",
    "for item in table_of_contents_raw:\n",
    "        title, pagenum = data_func.split_to_title_and_pagenum(item)\n",
    "        if title != None:\n",
    "            title_list.append(title)\n",
    "            pagenum_list.append(pagenum)\n",
    "            title_formatted_list.append(data_func.convert_title_to_filename(title))\n",
    "            \n",
    "# for page_list, we need to add the last page as well\n",
    "pagenum_list.append(num_of_pages + 1)"
   ]
  },
  {
   "cell_type": "code",
   "execution_count": 56,
   "metadata": {},
   "outputs": [],
   "source": [
    "# let's save this all in a csv too"
   ]
  },
  {
   "cell_type": "code",
   "execution_count": 57,
   "metadata": {},
   "outputs": [],
   "source": [
    "with open('./data/original/table_of_contents.csv', 'a') as f:\n",
    "    writer = csv.writer(f)\n",
    "    writer.writerows(zip(title_list, pagenum_list, title_formatted_list))"
   ]
  },
  {
   "cell_type": "markdown",
   "metadata": {},
   "source": [
    "# Saving Individual PDF Files"
   ]
  },
  {
   "cell_type": "code",
   "execution_count": 58,
   "metadata": {},
   "outputs": [],
   "source": [
    "# saving the individual pdf files\n",
    "# we are skipping the first one, which is preface\n",
    "for i in range(1, len(title_formatted_list)):\n",
    "    title_formatted = title_formatted_list[i]\n",
    "    page_start = pagenum_list[i] - 1\n",
    "    page_end = pagenum_list[i+1] - 2\n",
    "    \n",
    "    writer = PyPDF2.PdfFileWriter()\n",
    "\n",
    "    for page in range(page_start,page_end + 1):\n",
    "        writer.addPage(reader.getPage(page))\n",
    "    \n",
    "    output_filename = './data/original/pdfs/' + title_formatted + '.pdf'\n",
    "\n",
    "    with open(output_filename, 'wb') as output:\n",
    "        writer.write(output)\n",
    "    "
   ]
  },
  {
   "cell_type": "markdown",
   "metadata": {},
   "source": [
    "# Saving Individual TXT Files"
   ]
  },
  {
   "cell_type": "code",
   "execution_count": 68,
   "metadata": {},
   "outputs": [],
   "source": [
    "for title_formatted in title_formatted_list[1:]:\n",
    "    \n",
    "    text = data_func.convert_pdf_to_txt('./data/original/pdfs/' + title_formatted + '.pdf')\n",
    "    \n",
    "    # replace 'Return to Table of Contents', which is not part of the text\n",
    "    text = text.replace('Return to Table of Contents', '')\n",
    "    \n",
    "    # replace Fin from the end of the last title\n",
    "    if title_formatted == 'the_haunter_of_the_dark':\n",
    "        text = text[:-15]\n",
    "    \n",
    "    text_file = open('./data/original/txts/' + title_formatted + '.txt', 'w')\n",
    "    n = text_file.write(text)\n",
    "    text_file.close()"
   ]
  }
 ],
 "metadata": {
  "kernelspec": {
   "display_name": "Python 3",
   "language": "python",
   "name": "python3"
  },
  "language_info": {
   "codemirror_mode": {
    "name": "ipython",
    "version": 3
   },
   "file_extension": ".py",
   "mimetype": "text/x-python",
   "name": "python",
   "nbconvert_exporter": "python",
   "pygments_lexer": "ipython3",
   "version": "3.7.4"
  },
  "toc": {
   "base_numbering": 1,
   "nav_menu": {},
   "number_sections": true,
   "sideBar": true,
   "skip_h1_title": false,
   "title_cell": "Table of Contents",
   "title_sidebar": "Contents",
   "toc_cell": false,
   "toc_position": {},
   "toc_section_display": true,
   "toc_window_display": false
  },
  "varInspector": {
   "cols": {
    "lenName": 16,
    "lenType": 16,
    "lenVar": 40
   },
   "kernels_config": {
    "python": {
     "delete_cmd_postfix": "",
     "delete_cmd_prefix": "del ",
     "library": "var_list.py",
     "varRefreshCmd": "print(var_dic_list())"
    },
    "r": {
     "delete_cmd_postfix": ") ",
     "delete_cmd_prefix": "rm(",
     "library": "var_list.r",
     "varRefreshCmd": "cat(var_dic_list()) "
    }
   },
   "types_to_exclude": [
    "module",
    "function",
    "builtin_function_or_method",
    "instance",
    "_Feature"
   ],
   "window_display": false
  }
 },
 "nbformat": 4,
 "nbformat_minor": 2
}
