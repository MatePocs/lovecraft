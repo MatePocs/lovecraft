{
 "cells": [
  {
   "cell_type": "markdown",
   "metadata": {},
   "source": [
    "# Introduction"
   ]
  },
  {
   "cell_type": "markdown",
   "metadata": {},
   "source": [
    "In this notebook, I examine the neural network approaches. Using the Natural Language Processing in Action book, from Manning Publishing.\n",
    "\n"
   ]
  },
  {
   "cell_type": "code",
   "execution_count": 74,
   "metadata": {},
   "outputs": [],
   "source": [
    "import pandas as pd\n",
    "from nltk import tokenize\n",
    "%config Completer.use_jedi = False\n",
    "# this makes autocomplete faster\n",
    "\n",
    "import matplotlib.pyplot as plt\n",
    "import seaborn as sns\n",
    "\n",
    "import adjustText\n",
    "\n",
    "# only if needed, takes a while\n",
    "# import spacy\n",
    "# nlp = spacy.load(\"en_core_web_lg\")\n",
    "\n",
    "from gensim.models.word2vec import Word2Vec\n",
    "from gensim.models.keyedvectors import KeyedVectors\n",
    "\n",
    "from sklearn.decomposition import PCA\n",
    "\n",
    "from keras.models import Sequential\n",
    "from keras.layers import Dense, Activation\n",
    "from keras.layers import LSTM\n",
    "from keras.optimizers import RMSprop\n",
    "\n",
    "from keras.utils import to_categorical\n",
    "from keras.preprocessing.sequence import pad_sequences\n",
    "\n",
    "import pickle"
   ]
  },
  {
   "cell_type": "markdown",
   "metadata": {},
   "source": [
    "We need `adjustText` for the labels in charts.GitHub link: https://github.com/Phlya/adjustText"
   ]
  },
  {
   "cell_type": "code",
   "execution_count": 2,
   "metadata": {},
   "outputs": [],
   "source": [
    "# this is the folder that should be used: \n",
    "txt_folder = './data/original/txts_adjusted/'\n",
    "\n",
    "df = pd.read_csv('./data/original/table_of_contents.csv', header = None, \\\n",
    "                 names = ['original_title', 'page_num','filename','year'])\n",
    "\n",
    "# skipping first one\n",
    "filenames =  df['filename'][1:]"
   ]
  },
  {
   "cell_type": "markdown",
   "metadata": {
    "heading_collapsed": true
   },
   "source": [
    "# Word Vectors"
   ]
  },
  {
   "cell_type": "markdown",
   "metadata": {
    "hidden": true
   },
   "source": [
    "## Notes"
   ]
  },
  {
   "cell_type": "markdown",
   "metadata": {
    "hidden": true
   },
   "source": [
    "__LSA__: does not capture implied hidden meanings of words. Great for document classification, semantic search, and clustering, but not for semantic reasoning or working with short phrases. In lsa, every word that occurs in same document will have impact on score, now, only the close words will. \n",
    "\n",
    "__word vectors__: able to decide things like is this an animal, place, etc, synonyms, word vectors are multidimensional vectors that capture the meaning of a word in different dimensions (e.g. animalness, placeness, etc), and then you can do math on it, e.g. vw(marie curie) - vw(science) + vw(music)\n",
    "\n",
    "No need to label anything, proximity of words is what matters, so it is unsupervised. In a way, labels are the words near other words in the dataset."
   ]
  },
  {
   "cell_type": "markdown",
   "metadata": {
    "hidden": true
   },
   "source": [
    "There are two approaches on how to create word vectors: skip-gram approach and continuous bag-of-words (pg 191 in book for details). \n",
    "\n",
    "__skip-gram__: divide text into n-grams, with softmax activation, calculate the probability of an output word being found as a surrounding word of an input word. Once training is done, weight matrix will be the embedding. Works well with small corpora and rare terms. \n",
    "\n",
    "__continuous b-o-w__: instad of creating input - output tokens, multi-hot vector for all surrounding tokens to the center target token. This approach is more accurate for frequent words, and faster to train. "
   ]
  },
  {
   "cell_type": "markdown",
   "metadata": {
    "hidden": true
   },
   "source": [
    "Practical concerns: stop words should not be ignored, they might carry meaning, plus word vectors are often used in generative models. So they remain in, and to reduce emphasis, they are sampled in inverse proportion of their frequency. Recommended parameters: small corpus: negative sampling rate of 5-20, large: can reduce to 2 to 5. "
   ]
  },
  {
   "cell_type": "markdown",
   "metadata": {
    "hidden": true
   },
   "source": [
    "## Pretrained Examples"
   ]
  },
  {
   "cell_type": "code",
   "execution_count": 2,
   "metadata": {
    "hidden": true
   },
   "outputs": [],
   "source": [
    "# this step takes a while\n",
    "word_vectors = KeyedVectors.load_word2vec_format(\\\n",
    "    './word2vec_pretrained/GoogleNews-vectors-negative300.bin.gz', \\\n",
    "    binary = True, limit = 1000000)"
   ]
  },
  {
   "cell_type": "code",
   "execution_count": 15,
   "metadata": {
    "hidden": true
   },
   "outputs": [
    {
     "data": {
      "text/plain": [
       "[('good', 0.6836092472076416),\n",
       " ('lovely', 0.6676311492919922),\n",
       " ('neat', 0.6616737246513367),\n",
       " ('fantastic', 0.6569241285324097),\n",
       " ('wonderful', 0.6561347246170044)]"
      ]
     },
     "execution_count": 15,
     "metadata": {},
     "output_type": "execute_result"
    }
   ],
   "source": [
    "word_vectors.most_similar(positive = ['nice'], topn = 5)"
   ]
  },
  {
   "cell_type": "code",
   "execution_count": 16,
   "metadata": {
    "hidden": true
   },
   "outputs": [
    {
     "data": {
      "text/plain": [
       "[('J.Gordon_###-###', 0.38660115003585815),\n",
       " ('M.Kenseth_###-###', 0.35581791400909424),\n",
       " ('D.Earnhardt_Jr._###-###', 0.34227001667022705),\n",
       " ('G.Biffle_###-###', 0.3420777916908264),\n",
       " ('HuMax_TAC_TM', 0.3141660690307617)]"
      ]
     },
     "execution_count": 16,
     "metadata": {},
     "output_type": "execute_result"
    }
   ],
   "source": [
    "word_vectors.most_similar(negative = ['nice'], topn = 5)"
   ]
  },
  {
   "cell_type": "code",
   "execution_count": 8,
   "metadata": {
    "hidden": true
   },
   "outputs": [
    {
     "data": {
      "text/plain": [
       "[('europe', 0.7222039103507996),\n",
       " ('spain', 0.701023519039154),\n",
       " ('european', 0.6962700486183167),\n",
       " ('german', 0.6810604929924011),\n",
       " ('italy', 0.6680153608322144),\n",
       " ('england', 0.66745924949646),\n",
       " ('usa', 0.6651221513748169),\n",
       " ('switzerland', 0.6604776978492737),\n",
       " ('sweden', 0.6577832698822021),\n",
       " ('india', 0.6428229808807373)]"
      ]
     },
     "execution_count": 8,
     "metadata": {},
     "output_type": "execute_result"
    }
   ],
   "source": [
    "# finding synonyms\n",
    "word_vectors.most_similar(positive=['france', 'germany'], topn = 10)"
   ]
  },
  {
   "cell_type": "code",
   "execution_count": 9,
   "metadata": {
    "hidden": true
   },
   "outputs": [
    {
     "name": "stderr",
     "output_type": "stream",
     "text": [
      "/Users/flatiron/opt/anaconda3/lib/python3.7/site-packages/gensim/models/keyedvectors.py:877: FutureWarning: arrays to stack must be passed as a \"sequence\" type such as list or tuple. Support for non-sequence iterables such as generators is deprecated as of NumPy 1.16 and will raise an error in the future.\n",
      "  vectors = vstack(self.word_vec(word, use_norm=True) for word in used_words).astype(REAL)\n"
     ]
    },
    {
     "data": {
      "text/plain": [
       "'Beethoven'"
      ]
     },
     "execution_count": 9,
     "metadata": {},
     "output_type": "execute_result"
    }
   ],
   "source": [
    "# finding odd one outs\n",
    "word_vectors.doesnt_match(['Hitler', 'Churchill', 'Stalin', 'Beethoven'])"
   ]
  },
  {
   "cell_type": "code",
   "execution_count": 4,
   "metadata": {
    "hidden": true
   },
   "outputs": [
    {
     "data": {
      "text/plain": [
       "[('queen', 0.7118192911148071)]"
      ]
     },
     "execution_count": 4,
     "metadata": {},
     "output_type": "execute_result"
    }
   ],
   "source": [
    "# famous math operations\n",
    "word_vectors.most_similar(positive = ['king', 'woman'], negative = ['man'], topn = 1)"
   ]
  },
  {
   "cell_type": "code",
   "execution_count": 5,
   "metadata": {
    "hidden": true
   },
   "outputs": [
    {
     "data": {
      "text/plain": [
       "[('gynecologist', 0.7093892097473145)]"
      ]
     },
     "execution_count": 5,
     "metadata": {},
     "output_type": "execute_result"
    }
   ],
   "source": [
    "word_vectors.most_similar(positive = ['doctor', 'woman'], negative = ['man'], topn = 1)"
   ]
  },
  {
   "cell_type": "code",
   "execution_count": 6,
   "metadata": {
    "hidden": true
   },
   "outputs": [
    {
     "data": {
      "text/plain": [
       "[('physician', 0.6744842529296875)]"
      ]
     },
     "execution_count": 6,
     "metadata": {},
     "output_type": "execute_result"
    }
   ],
   "source": [
    "word_vectors.most_similar(positive = ['doctor', 'female'], negative = ['male'], topn = 1)"
   ]
  },
  {
   "cell_type": "code",
   "execution_count": 12,
   "metadata": {
    "hidden": true
   },
   "outputs": [
    {
     "data": {
      "text/plain": [
       "[('mother', 0.8462507128715515)]"
      ]
     },
     "execution_count": 12,
     "metadata": {},
     "output_type": "execute_result"
    }
   ],
   "source": [
    "word_vectors.most_similar(positive = ['father', 'woman'], negative = ['man'], topn = 1)"
   ]
  },
  {
   "cell_type": "code",
   "execution_count": 56,
   "metadata": {
    "hidden": true
   },
   "outputs": [
    {
     "data": {
      "text/plain": [
       "[('repertory_theater', 0.5712003707885742),\n",
       " ('Theater', 0.5682459473609924),\n",
       " ('Theatre', 0.5592392086982727),\n",
       " ('performing_arts', 0.5544595718383789),\n",
       " ('cinema', 0.5379453897476196),\n",
       " ('playhouse', 0.5297478437423706),\n",
       " ('musicals', 0.527795672416687),\n",
       " ('Playhouse', 0.5240913033485413),\n",
       " ('Stagecrafters', 0.5200196504592896),\n",
       " ('theatregoing', 0.5177725553512573)]"
      ]
     },
     "execution_count": 56,
     "metadata": {},
     "output_type": "execute_result"
    }
   ],
   "source": [
    "word_vectors.most_similar(positive = ['Shakespeare', 'theater'], negative = ['Macbeth'])"
   ]
  },
  {
   "cell_type": "code",
   "execution_count": 13,
   "metadata": {
    "hidden": true
   },
   "outputs": [
    {
     "data": {
      "text/plain": [
       "[('art', 0.5378468036651611),\n",
       " ('artists', 0.5258477926254272),\n",
       " ('Pablo_Picasso', 0.49319028854370117),\n",
       " ('artist', 0.49227362871170044),\n",
       " ('artwork', 0.47473448514938354),\n",
       " ('painting', 0.46198058128356934),\n",
       " ('artist_Robert_Rauschenberg', 0.43100041151046753),\n",
       " ('artworks', 0.4306104779243469),\n",
       " ('painters', 0.43055960536003113),\n",
       " ('photography', 0.42579764127731323)]"
      ]
     },
     "execution_count": 13,
     "metadata": {},
     "output_type": "execute_result"
    }
   ],
   "source": [
    "word_vectors.most_similar(positive = ['music', 'Picasso'], negative = ['Beethoven'], topn = 10)"
   ]
  },
  {
   "cell_type": "code",
   "execution_count": 14,
   "metadata": {
    "hidden": true
   },
   "outputs": [
    {
     "data": {
      "text/plain": [
       "[('Erroll_Garner', 0.5344928503036499),\n",
       " ('songs', 0.5321550965309143),\n",
       " ('Beethoven', 0.5134056806564331),\n",
       " ('Frampton_Comes_Alive', 0.5108814835548401),\n",
       " (\"Chico_O'Farrill\", 0.5059295892715454),\n",
       " ('Jimi_Hendrix', 0.5056772232055664),\n",
       " ('Mozart', 0.5042005777359009),\n",
       " ('Manu_Dibango', 0.49042925238609314),\n",
       " ('Chucho_Valdes', 0.4867725372314453),\n",
       " ('Mose_Allison', 0.4866839051246643)]"
      ]
     },
     "execution_count": 14,
     "metadata": {},
     "output_type": "execute_result"
    }
   ],
   "source": [
    "word_vectors.most_similar(positive = ['Picasso', 'music'], negative = ['art'], topn = 10)"
   ]
  },
  {
   "cell_type": "code",
   "execution_count": 15,
   "metadata": {
    "hidden": true
   },
   "outputs": [
    {
     "data": {
      "text/plain": [
       "[('Mao', 0.7007876634597778),\n",
       " ('Chairman_Mao', 0.6467739343643188),\n",
       " ('Mao_Zedong', 0.5951652526855469),\n",
       " ('Mao_Tse_tung', 0.5835192203521729),\n",
       " ('Deng_Xiaoping', 0.5821856260299683),\n",
       " ('Chairman_Mao_Zedong', 0.5699514150619507),\n",
       " ('Communist', 0.5632455348968506),\n",
       " ('Communist_Party_CCP', 0.5581366419792175),\n",
       " ('Hu_Yaobang', 0.5552926063537598),\n",
       " ('Great_Helmsman', 0.5500338077545166)]"
      ]
     },
     "execution_count": 15,
     "metadata": {},
     "output_type": "execute_result"
    }
   ],
   "source": [
    "word_vectors.most_similar(positive = ['China', 'Stalin'], negative = ['Russia'], topn = 10)"
   ]
  },
  {
   "cell_type": "code",
   "execution_count": 16,
   "metadata": {
    "hidden": true
   },
   "outputs": [
    {
     "data": {
      "text/plain": [
       "[('Hitler', 0.6709142923355103),\n",
       " ('Adolf_Hitler', 0.5992249250411987),\n",
       " ('Third_Reich', 0.5972428917884827),\n",
       " ('Nazi', 0.5926545858383179),\n",
       " ('Nazis', 0.5889713764190674),\n",
       " ('Hitler_Third_Reich', 0.5791662931442261),\n",
       " ('Hilter', 0.5716949701309204),\n",
       " ('Adolph_Hitler', 0.5711631774902344),\n",
       " ('Nazi_Germany', 0.5646259784698486),\n",
       " ('Fuehrer', 0.5622488856315613)]"
      ]
     },
     "execution_count": 16,
     "metadata": {},
     "output_type": "execute_result"
    }
   ],
   "source": [
    "word_vectors.most_similar(positive = ['Germany', 'Stalin'], negative = ['Russia'], topn = 10)"
   ]
  },
  {
   "cell_type": "code",
   "execution_count": 17,
   "metadata": {
    "hidden": true
   },
   "outputs": [
    {
     "data": {
      "text/plain": [
       "[('Pétain', 0.608258843421936),\n",
       " ('Mitterand', 0.5562480688095093),\n",
       " ('Maurice_Papon', 0.5539685487747192),\n",
       " ('De_Gaulle', 0.5534417033195496),\n",
       " ('Petain', 0.5488604307174683),\n",
       " ('de_Gaulle', 0.5444628000259399),\n",
       " ('François_Mitterrand', 0.5440154075622559),\n",
       " ('Vichy', 0.5330964922904968),\n",
       " ('Francois_Mitterand', 0.5310631990432739),\n",
       " ('Hitler', 0.5308597087860107)]"
      ]
     },
     "execution_count": 17,
     "metadata": {},
     "output_type": "execute_result"
    }
   ],
   "source": [
    "word_vectors.most_similar(positive = ['France', 'Stalin'], negative = ['Russia'], topn = 10)"
   ]
  },
  {
   "cell_type": "code",
   "execution_count": 18,
   "metadata": {
    "hidden": true
   },
   "outputs": [
    {
     "data": {
      "text/plain": [
       "[('Ceaucescu', 0.5413000583648682),\n",
       " ('Gyula', 0.5344285368919373),\n",
       " ('Hitler', 0.5297396183013916),\n",
       " ('Imre_Nagy', 0.5281765460968018),\n",
       " ('Ferenc', 0.5272859930992126),\n",
       " ('Mussolini', 0.5254130959510803),\n",
       " ('Miklós', 0.5238747596740723),\n",
       " ('László', 0.5185155868530273),\n",
       " ('Goebbels', 0.514951229095459),\n",
       " ('Sándor', 0.5110854506492615)]"
      ]
     },
     "execution_count": 18,
     "metadata": {},
     "output_type": "execute_result"
    }
   ],
   "source": [
    "word_vectors.most_similar(positive = ['Hungary', 'Stalin'], negative = ['Russia'], topn = 10)"
   ]
  },
  {
   "cell_type": "code",
   "execution_count": 17,
   "metadata": {
    "hidden": true
   },
   "outputs": [
    {
     "data": {
      "text/plain": [
       "[('dubai', 0.5724362134933472),\n",
       " ('paris', 0.5279353260993958),\n",
       " ('orlando', 0.5266646146774292),\n",
       " ('los_angeles', 0.5223395228385925),\n",
       " ('nyc', 0.5134665966033936),\n",
       " ('carlos', 0.5048668384552002),\n",
       " ('houston', 0.5046932697296143),\n",
       " ('hong_kong', 0.5034560561180115),\n",
       " ('las_vegas', 0.5033432841300964),\n",
       " ('montreal', 0.49959826469421387)]"
      ]
     },
     "execution_count": 17,
     "metadata": {},
     "output_type": "execute_result"
    }
   ],
   "source": [
    "word_vectors.most_similar(positive = ['spain', 'london'], negative = ['england'],  topn = 10)"
   ]
  },
  {
   "cell_type": "markdown",
   "metadata": {
    "hidden": true
   },
   "source": [
    "Hm. This is quite off. "
   ]
  },
  {
   "cell_type": "markdown",
   "metadata": {
    "hidden": true
   },
   "source": [
    "## Map"
   ]
  },
  {
   "cell_type": "markdown",
   "metadata": {
    "hidden": true
   },
   "source": [
    "Let's see if we can draw a map of european capitals. "
   ]
  },
  {
   "cell_type": "code",
   "execution_count": 9,
   "metadata": {
    "hidden": true
   },
   "outputs": [],
   "source": [
    "capitals = [\n",
    "    'Amsterdam', 'Athens', 'Belgrade', 'Berlin', 'Bern', \n",
    "    'Bratislava', 'Brussels', 'Bucharest', 'Budapest', \n",
    "    'Chisinau', 'Copenhagen','Dublin', 'Helsinki', 'Kiev',\n",
    "    'Lisbon', 'Ljubljana', 'London', 'Luxembourg','Madrid',\n",
    "    'Minsk', 'Monaco', 'Moscow', 'Nicosia', 'Nuuk', 'Oslo', \n",
    "    'Paris','Podgorica', 'Prague', 'Reykjavik', 'Riga', \n",
    "    'Rome', 'San_Marino', 'Sarajevo','Skopje', 'Sofia', \n",
    "    'Stockholm', 'Tallinn', 'Tirana', 'Vaduz', 'Valletta',\n",
    "    'Vatican', 'Vienna', 'Vilnius', 'Warsaw', 'Zagreb']\n",
    "\n",
    "# unfortunately, couldn't find this \n",
    "nope = ['Andorra_la_Vella']"
   ]
  },
  {
   "cell_type": "code",
   "execution_count": 29,
   "metadata": {
    "hidden": true
   },
   "outputs": [],
   "source": [
    "def plot_2d_representation_of_words(\n",
    "    word_list, \n",
    "    word_vectors, \n",
    "    flip_x_axis = False,\n",
    "    flip_y_axis = False,\n",
    "    label_x_axis = \"x\",\n",
    "    label_y_axis = \"y\", \n",
    "    label_label = \"city\"):\n",
    "    \"\"\"\n",
    "    does a principal component analysis on word vectors, \n",
    "    plots them on a 2d chart\n",
    "    \"\"\"\n",
    "    \n",
    "    pca = PCA(n_components = 2)\n",
    "    \n",
    "    word_plus_coordinates=[]\n",
    "    \n",
    "    for word in word_list: \n",
    "    \n",
    "        current_row = []\n",
    "        current_row.append(word)\n",
    "        current_row.extend(word_vectors[word])\n",
    "\n",
    "        word_plus_coordinates.append(current_row)\n",
    "    \n",
    "    word_plus_coordinates = pd.DataFrame(word_plus_coordinates)\n",
    "        \n",
    "    coordinates_2d = pca.fit_transform(\n",
    "        word_plus_coordinates.iloc[:,1:300])\n",
    "    coordinates_2d = pd.DataFrame(\n",
    "        coordinates_2d, columns=[label_x_axis, label_y_axis])\n",
    "    coordinates_2d[label_label] = word_plus_coordinates.iloc[:,0]\n",
    "\n",
    "    if flip_x_axis:\n",
    "        coordinates_2d[label_x_axis] = \\\n",
    "        coordinates_2d[label_x_axis] * (-1)\n",
    "\n",
    "    if flip_y_axis:\n",
    "        coordinates_2d[label_y_axis] = \\\n",
    "        coordinates_2d[label_y_axis] * (-1)\n",
    "            \n",
    "    plt.figure(figsize = (12,8))\n",
    "\n",
    "    p1=sns.scatterplot(\n",
    "        data=coordinates_2d, x=label_x_axis, y=label_y_axis)\n",
    "    \n",
    "    x = coordinates_2d[label_x_axis]\n",
    "    y = coordinates_2d[label_y_axis]\n",
    "    label = coordinates_2d[label_label]\n",
    "    \n",
    "    texts = [plt.text(x[i], y[i], label[i]) for i in range(len(x))]\n",
    "\n",
    "    adjustText.adjust_text(texts)\n",
    "    \n",
    "    plt.savefig(\"map.png\")\n"
   ]
  },
  {
   "cell_type": "code",
   "execution_count": 30,
   "metadata": {
    "hidden": true
   },
   "outputs": [
    {
     "data": {
      "image/png": "[encoded data removed]",
      "text/plain": [
       "<Figure size 864x576 with 1 Axes>"
      ]
     },
     "metadata": {
      "needs_background": "light"
     },
     "output_type": "display_data"
    }
   ],
   "source": [
    "plot_2d_representation_of_words(\n",
    "    word_list = capitals, \n",
    "    word_vectors = word_vectors, \n",
    "    flip_y_axis = True)"
   ]
  },
  {
   "cell_type": "code",
   "execution_count": null,
   "metadata": {
    "hidden": true
   },
   "outputs": [],
   "source": []
  },
  {
   "cell_type": "code",
   "execution_count": null,
   "metadata": {
    "hidden": true
   },
   "outputs": [],
   "source": []
  },
  {
   "cell_type": "code",
   "execution_count": 19,
   "metadata": {
    "hidden": true
   },
   "outputs": [],
   "source": []
  },
  {
   "cell_type": "markdown",
   "metadata": {
    "hidden": true
   },
   "source": [
    "## Training Own - word2vec"
   ]
  },
  {
   "cell_type": "markdown",
   "metadata": {
    "hidden": true
   },
   "source": [
    "Training on Lovecraft text, trying with the original algorithm first. "
   ]
  },
  {
   "cell_type": "markdown",
   "metadata": {
    "hidden": true
   },
   "source": [
    "As a first step, we need text split into sentences. "
   ]
  },
  {
   "cell_type": "code",
   "execution_count": 23,
   "metadata": {
    "hidden": true
   },
   "outputs": [],
   "source": [
    "# trying with one story\n",
    "\n",
    "my_file = open(txt_folder + 'the_dunwich_horror.txt')\n",
    "raw_text = my_file.read()\n",
    "my_file.close()\n",
    "\n",
    "# create tokenized in the required format, \n",
    "# list of sentences, each sentence is a list of tokens\n",
    "\n",
    "sentences = tokenize.sent_tokenize(raw_text)\n",
    "sentences_tokenized = []\n",
    "\n",
    "for sentence in sentences:\n",
    "    sentence_tokenized = nlp(sentence)\n",
    "    sentences_tokenized_list = []\n",
    "    for token in sentence_tokenized:\n",
    "        sentences_tokenized_list.append(token.lemma_)\n",
    "    sentences_tokenized.append(sentences_tokenized_list)"
   ]
  },
  {
   "cell_type": "code",
   "execution_count": 103,
   "metadata": {
    "hidden": true
   },
   "outputs": [],
   "source": [
    "model = Word2Vec(\n",
    "    sentences_tokenized, \n",
    "    workers = -1, \n",
    "    size = 100, \n",
    "    min_count = 3, \n",
    "    window = 10, \n",
    "    sample = 5)\n",
    "\n",
    "# increasing sample means that we won't get boring stopwords in the results\n",
    "# min count = 3, otherwise for example daughter are excluded\n",
    "\n",
    "model.init_sims(replace = True) \n",
    "# to get rid of unnecessary stuff in memory"
   ]
  },
  {
   "cell_type": "code",
   "execution_count": 104,
   "metadata": {
    "hidden": true
   },
   "outputs": [
    {
     "data": {
      "text/plain": [
       "[('watch', 0.2908990979194641),\n",
       " ('rite', 0.28141331672668457),\n",
       " ('abandon', 0.2760845720767975),\n",
       " ('rush', 0.27406400442123413),\n",
       " ('complete', 0.26243871450424194),\n",
       " ('ready', 0.2602434754371643),\n",
       " ('voice', 0.25994643568992615),\n",
       " ('none', 0.2586766481399536),\n",
       " ('fail', 0.2547798156738281),\n",
       " ('cave', 0.24298059940338135)]"
      ]
     },
     "execution_count": 104,
     "metadata": {},
     "output_type": "execute_result"
    }
   ],
   "source": [
    "model.wv.most_similar(positive = ['horror'])"
   ]
  },
  {
   "cell_type": "code",
   "execution_count": 105,
   "metadata": {
    "hidden": true
   },
   "outputs": [
    {
     "data": {
      "text/plain": [
       "[('unison', 0.3200337588787079),\n",
       " ('everybody', 0.30372485518455505),\n",
       " ('community', 0.2893528342247009),\n",
       " ('white', 0.281683087348938),\n",
       " ('unseen', 0.27846288681030273),\n",
       " ('vital', 0.2618259787559509),\n",
       " ('Sawyer', 0.24717813730239868),\n",
       " ('either', 0.2439933717250824),\n",
       " ('tarry', 0.24331888556480408),\n",
       " ('month', 0.23465459048748016)]"
      ]
     },
     "execution_count": 105,
     "metadata": {},
     "output_type": "execute_result"
    }
   ],
   "source": [
    "model.wv.most_similar(positive = ['Whateley'], negative = ['horror'])"
   ]
  },
  {
   "cell_type": "code",
   "execution_count": 106,
   "metadata": {
    "hidden": true
   },
   "outputs": [
    {
     "data": {
      "text/plain": [
       "[('sphere', 0.35368138551712036),\n",
       " ('quite', 0.29772794246673584),\n",
       " ('power', 0.2661077380180359),\n",
       " ('even', 0.24735844135284424),\n",
       " (';', 0.24534285068511963),\n",
       " ('need', 0.24197405576705933),\n",
       " ('raound', 0.24109742045402527),\n",
       " ('inclined', 0.2403174787759781),\n",
       " ('sickly', 0.23939597606658936),\n",
       " ('unmistakably', 0.2393909990787506)]"
      ]
     },
     "execution_count": 106,
     "metadata": {},
     "output_type": "execute_result"
    }
   ],
   "source": [
    "model.wv.most_similar(positive = ['Rice', 'Professor'], negative = ['Morgan'])"
   ]
  },
  {
   "cell_type": "code",
   "execution_count": 111,
   "metadata": {
    "hidden": true
   },
   "outputs": [
    {
     "name": "stderr",
     "output_type": "stream",
     "text": [
      "/Users/flatiron/opt/anaconda3/lib/python3.7/site-packages/gensim/models/keyedvectors.py:877: FutureWarning: arrays to stack must be passed as a \"sequence\" type such as list or tuple. Support for non-sequence iterables such as generators is deprecated as of NumPy 1.16 and will raise an error in the future.\n",
      "  vectors = vstack(self.word_vec(word, use_norm=True) for word in used_words).astype(REAL)\n"
     ]
    },
    {
     "data": {
      "text/plain": [
       "'Morgan'"
      ]
     },
     "execution_count": 111,
     "metadata": {},
     "output_type": "execute_result"
    }
   ],
   "source": [
    "model.wv.doesnt_match(['Armitage', 'Rice', 'Morgan', 'Wilbur', 'Whateley'])"
   ]
  },
  {
   "cell_type": "markdown",
   "metadata": {
    "hidden": true
   },
   "source": [
    "Repeating with a different hyperparameter setting. "
   ]
  },
  {
   "cell_type": "code",
   "execution_count": 36,
   "metadata": {
    "hidden": true
   },
   "outputs": [],
   "source": [
    "model = Word2Vec(\n",
    "    sentences_tokenized, \n",
    "    workers = -1, \n",
    "    size = 150, \n",
    "    min_count = 5, \n",
    "    window = 5, \n",
    "    sample = 20)\n",
    "\n",
    "model.init_sims(replace = True)"
   ]
  },
  {
   "cell_type": "code",
   "execution_count": 37,
   "metadata": {
    "hidden": true
   },
   "outputs": [
    {
     "data": {
      "text/plain": [
       "[('even', 0.2762913405895233),\n",
       " ('run', 0.27387917041778564),\n",
       " ('Osborn', 0.24285763502120972),\n",
       " ('face', 0.22632747888565063),\n",
       " ('distance', 0.21938148140907288),\n",
       " ('nor', 0.21487723290920258),\n",
       " ('something', 0.21195335686206818),\n",
       " ('again', 0.19428494572639465),\n",
       " ('old', 0.17669382691383362),\n",
       " ('half', 0.173443004488945)]"
      ]
     },
     "execution_count": 37,
     "metadata": {},
     "output_type": "execute_result"
    }
   ],
   "source": [
    "model.wv.most_similar(positive = ['horror'])"
   ]
  },
  {
   "cell_type": "code",
   "execution_count": 38,
   "metadata": {
    "hidden": true
   },
   "outputs": [
    {
     "data": {
      "text/plain": [
       "[('away', 0.2359006702899933),\n",
       " ('frightened', 0.19334784150123596),\n",
       " ('some', 0.192066952586174),\n",
       " ('cow', 0.18966959416866302),\n",
       " ('\"', 0.18600395321846008),\n",
       " ('month', 0.1852327138185501),\n",
       " ('fur', 0.18251380324363708),\n",
       " ('if', 0.17968705296516418),\n",
       " ('mountain', 0.17530925571918488),\n",
       " ('altar', 0.17447912693023682)]"
      ]
     },
     "execution_count": 38,
     "metadata": {},
     "output_type": "execute_result"
    }
   ],
   "source": [
    "model.wv.most_similar(positive = ['Rice', 'Professor'], negative = ['Morgan'])"
   ]
  },
  {
   "cell_type": "markdown",
   "metadata": {
    "hidden": true
   },
   "source": [
    "These results seem to be completely random. "
   ]
  },
  {
   "cell_type": "code",
   "execution_count": 40,
   "metadata": {
    "hidden": true
   },
   "outputs": [
    {
     "name": "stdout",
     "output_type": "stream",
     "text": [
      "the_tomb\n",
      "dagon\n",
      "polaris\n",
      "beyond_the_wall_of_sleep\n",
      "memory\n",
      "old_bugs\n",
      "the_transition_of_juan_romero\n",
      "the_white_ship\n",
      "the_doom_that_came_to_sarnath\n",
      "the_statement_of_randolph_carter\n",
      "the_terrible_old_man\n",
      "the_tree\n",
      "the_cats_of_ulthar\n",
      "the_temple\n",
      "facts_concerning_the_late_arthur_jermyn_and_his_family\n",
      "the_street\n",
      "celephaïs\n",
      "from_beyond\n",
      "nyarlathotep\n",
      "the_picture_in_the_house\n",
      "ex_oblivione\n",
      "the_nameless_city\n",
      "the_quest_of_iranon\n",
      "the_moon-bog\n",
      "the_outsider\n",
      "the_other_gods\n",
      "the_music_of_erich_zann\n",
      "herbert_west_—_reanimator\n",
      "hypnos\n",
      "what_the_moon_brings\n",
      "azathoth\n",
      "the_hound\n",
      "the_lurking_fear\n",
      "the_rats_in_the_walls\n",
      "the_unnamable\n",
      "the_festival\n",
      "the_shunned_house\n",
      "the_horror_at_red_hook\n",
      "he\n",
      "in_the_vault\n",
      "the_descendant\n",
      "cool_air\n",
      "the_call_of_cthulhu\n",
      "pickman's_model\n",
      "the_silver_key\n",
      "the_strange_high_house_in_the_mist\n",
      "the_dream-quest_of_unknown_kadath\n",
      "the_case_of_charles_dexter_ward\n",
      "the_colour_out_of_space\n",
      "the_very_old_folk\n",
      "the_thing_in_the_moonlight\n",
      "the_history_of_the_necronomicon\n",
      "ibid\n",
      "the_dunwich_horror\n",
      "the_whisperer_in_darkness\n",
      "at_the_mountains_of_madness\n",
      "the_shadow_over_innsmouth\n",
      "the_dreams_in_the_witch_house\n",
      "the_thing_on_the_doorstep\n",
      "the_evil_clergyman\n",
      "the_book\n",
      "the_shadow_out_of_time\n",
      "the_haunter_of_the_dark\n"
     ]
    }
   ],
   "source": [
    "# trying with all the stories\n",
    "\n",
    "sentences_tokenized = []\n",
    "\n",
    "for filename in filenames: \n",
    "    \n",
    "    print(filename)\n",
    "\n",
    "    my_file = open(txt_folder + filename + '.txt')\n",
    "    raw_text = my_file.read()\n",
    "    my_file.close()\n",
    "\n",
    "    # create tokenized in the required format, \n",
    "    # list of sentences, each sentence is a list of tokens\n",
    "\n",
    "    sentences = tokenize.sent_tokenize(raw_text)\n",
    "\n",
    "    for sentence in sentences:\n",
    "        sentence_tokenized = nlp(sentence)\n",
    "        sentence_tokenized_list = []\n",
    "        for token in sentence_tokenized:\n",
    "            \n",
    "            # TODO probably exclude punctuations, do lowercase\n",
    "            # maybe keep original\n",
    "            \n",
    "            sentence_tokenized_list.append(token.lemma_)\n",
    "        sentences_tokenized.append(sentence_tokenized_list)"
   ]
  },
  {
   "cell_type": "code",
   "execution_count": 41,
   "metadata": {
    "hidden": true
   },
   "outputs": [],
   "source": [
    "model = Word2Vec(\n",
    "    sentences_tokenized, \n",
    "    workers = -1, \n",
    "    size = 300, \n",
    "    min_count = 5, \n",
    "    window = 10, \n",
    "    sample = 5)\n",
    "\n",
    "model.init_sims(replace = True)"
   ]
  },
  {
   "cell_type": "code",
   "execution_count": 43,
   "metadata": {
    "hidden": true
   },
   "outputs": [
    {
     "data": {
      "text/plain": [
       "[('Kalos', 0.20821326971054077),\n",
       " ('collect', 0.198687344789505),\n",
       " ('straggler', 0.19196133315563202),\n",
       " ('backwoods', 0.19010305404663086),\n",
       " ('thy', 0.1836623251438141),\n",
       " ('shudder', 0.18184515833854675),\n",
       " ('lift', 0.18037131428718567),\n",
       " ('upon', 0.17957769334316254),\n",
       " (\"cou'd\", 0.178560271859169),\n",
       " ('weaken', 0.17794013023376465)]"
      ]
     },
     "execution_count": 43,
     "metadata": {},
     "output_type": "execute_result"
    }
   ],
   "source": [
    "model.wv.most_similar(positive = ['Cthulhu'])"
   ]
  },
  {
   "cell_type": "code",
   "execution_count": 44,
   "metadata": {
    "hidden": true
   },
   "outputs": [
    {
     "data": {
      "text/plain": [
       "[('beam', 0.2265617996454239),\n",
       " ('fix', 0.21004167199134827),\n",
       " ('psychologist', 0.20848049223423004),\n",
       " ('ancient', 0.20240074396133423),\n",
       " ('hallway', 0.1878056824207306),\n",
       " ('friend', 0.18628254532814026),\n",
       " ('require', 0.18044225871562958),\n",
       " (\"o'clock\", 0.18028804659843445),\n",
       " ('steamer', 0.17896586656570435),\n",
       " ('small', 0.17890100181102753)]"
      ]
     },
     "execution_count": 44,
     "metadata": {},
     "output_type": "execute_result"
    }
   ],
   "source": [
    "model.wv.most_similar(positive = ['Nyarlathotep'])"
   ]
  },
  {
   "cell_type": "code",
   "execution_count": 45,
   "metadata": {
    "hidden": true
   },
   "outputs": [
    {
     "data": {
      "text/plain": [
       "[('eighty', 0.21315644681453705),\n",
       " ('wrap', 0.20066747069358826),\n",
       " ('soon', 0.19899974763393402),\n",
       " ('smooth', 0.19140422344207764),\n",
       " ('volition', 0.19094344973564148),\n",
       " ('agony', 0.1891910284757614),\n",
       " ('every', 0.17952460050582886),\n",
       " ('together', 0.17825554311275482),\n",
       " ('adjust', 0.1757020652294159),\n",
       " ('mocking', 0.174333855509758)]"
      ]
     },
     "execution_count": 45,
     "metadata": {},
     "output_type": "execute_result"
    }
   ],
   "source": [
    "model.wv.most_similar(positive = ['Armitage'])"
   ]
  },
  {
   "cell_type": "code",
   "execution_count": 51,
   "metadata": {
    "hidden": true
   },
   "outputs": [
    {
     "data": {
      "text/plain": [
       "[('abaout', 0.2585300803184509),\n",
       " ('scaly', 0.20826557278633118),\n",
       " ('understand', 0.20526288449764252),\n",
       " ('fine', 0.20021550357341766),\n",
       " ('exact', 0.19289813935756683),\n",
       " ('ghostly', 0.19059231877326965),\n",
       " ('morbidity', 0.1847139596939087),\n",
       " ('result', 0.17364315688610077),\n",
       " ('detect', 0.17269597947597504),\n",
       " ('descendant', 0.1718100607395172)]"
      ]
     },
     "execution_count": 51,
     "metadata": {},
     "output_type": "execute_result"
    }
   ],
   "source": [
    "model.wv.most_similar(positive = ['Innsmouth'])"
   ]
  },
  {
   "cell_type": "markdown",
   "metadata": {
    "hidden": true
   },
   "source": [
    "Sadly, this is not working. "
   ]
  },
  {
   "cell_type": "code",
   "execution_count": 61,
   "metadata": {
    "hidden": true
   },
   "outputs": [],
   "source": [
    "model = Word2Vec(\n",
    "    sentences_tokenized, \n",
    "    workers = -1, \n",
    "    size = 100, \n",
    "    min_count = 10, \n",
    "    window = 10, \n",
    "    sample = 3)\n",
    "\n",
    "model.init_sims(replace = True)"
   ]
  },
  {
   "cell_type": "code",
   "execution_count": 62,
   "metadata": {
    "hidden": true
   },
   "outputs": [
    {
     "data": {
      "text/plain": [
       "[('vacant', 0.3152494728565216),\n",
       " ('text', 0.3148627281188965),\n",
       " ('vault', 0.30906447768211365),\n",
       " ('tent', 0.2965916097164154),\n",
       " ('lately', 0.2887550890445709),\n",
       " ('immediate', 0.2857893109321594),\n",
       " ('detect', 0.28246021270751953),\n",
       " ('fine', 0.2754843235015869),\n",
       " ('wheel', 0.27450698614120483),\n",
       " ('approach', 0.27080610394477844)]"
      ]
     },
     "execution_count": 62,
     "metadata": {},
     "output_type": "execute_result"
    }
   ],
   "source": [
    "model.wv.most_similar(positive = ['Innsmouth'])"
   ]
  },
  {
   "cell_type": "code",
   "execution_count": 63,
   "metadata": {
    "hidden": true
   },
   "outputs": [
    {
     "data": {
      "text/plain": [
       "[('suppress', 0.3270130157470703),\n",
       " ('Square', 0.304298996925354),\n",
       " ('horse', 0.29634755849838257),\n",
       " ('frightened', 0.2929419279098511),\n",
       " ('officer', 0.2921297550201416),\n",
       " ('phonograph', 0.28682035207748413),\n",
       " ('leg', 0.2858068346977234),\n",
       " ('arrest', 0.2834944725036621),\n",
       " ('steadily', 0.28207850456237793),\n",
       " ('worth', 0.28058332204818726)]"
      ]
     },
     "execution_count": 63,
     "metadata": {},
     "output_type": "execute_result"
    }
   ],
   "source": [
    "model.wv.most_similar(positive = ['Rice', 'Professor'], negative = ['Morgan'])"
   ]
  },
  {
   "cell_type": "code",
   "execution_count": 64,
   "metadata": {
    "hidden": true
   },
   "outputs": [
    {
     "data": {
      "text/plain": [
       "[('finally', 0.3371266722679138),\n",
       " ('money', 0.3226736783981323),\n",
       " ('thunder', 0.32264983654022217),\n",
       " ('fantastic', 0.2971569299697876),\n",
       " ('past', 0.2965765595436096),\n",
       " ('delight', 0.2945157587528229),\n",
       " ('georgian', 0.2927424907684326),\n",
       " ('Kalos', 0.28264713287353516),\n",
       " ('galley', 0.27633053064346313),\n",
       " ('chill', 0.2728365361690521)]"
      ]
     },
     "execution_count": 64,
     "metadata": {},
     "output_type": "execute_result"
    }
   ],
   "source": [
    "model.wv.most_similar(positive = ['Cthulhu'])"
   ]
  },
  {
   "cell_type": "code",
   "execution_count": 66,
   "metadata": {
    "hidden": true
   },
   "outputs": [
    {
     "data": {
      "text/plain": [
       "[('opposite', 0.3575073480606079),\n",
       " ('compose', 0.3401351869106293),\n",
       " ('low', 0.3386682868003845),\n",
       " ('island', 0.3158450126647949),\n",
       " ('vain', 0.3146776556968689),\n",
       " ('unique', 0.2986483573913574),\n",
       " ('lattice', 0.29416966438293457),\n",
       " ('ter', 0.2831343412399292),\n",
       " ('Baharna', 0.27469512820243835),\n",
       " ('depend', 0.27294501662254333)]"
      ]
     },
     "execution_count": 66,
     "metadata": {},
     "output_type": "execute_result"
    }
   ],
   "source": [
    "model.wv.most_similar(positive = ['Necronomicon'])"
   ]
  },
  {
   "cell_type": "code",
   "execution_count": 69,
   "metadata": {
    "hidden": true
   },
   "outputs": [
    {
     "data": {
      "text/plain": [
       "[('insect', 0.3729516267776489),\n",
       " ('plaza', 0.35179170966148376),\n",
       " ('salt', 0.34895622730255127),\n",
       " ('Fenner', 0.33790096640586853),\n",
       " ('modern', 0.3140619397163391),\n",
       " ('Yuggoth', 0.3105481266975403),\n",
       " ('bizarre', 0.3026203215122223),\n",
       " ('agree', 0.30226561427116394),\n",
       " ('prevent', 0.2990167737007141),\n",
       " ('fast', 0.2918969988822937)]"
      ]
     },
     "execution_count": 69,
     "metadata": {},
     "output_type": "execute_result"
    }
   ],
   "source": [
    "model.wv.most_similar(positive = ['Dunwich'])"
   ]
  },
  {
   "cell_type": "code",
   "execution_count": 72,
   "metadata": {
    "hidden": true
   },
   "outputs": [
    {
     "data": {
      "text/plain": [
       "[('hour', 0.35955265164375305),\n",
       " ('rite', 0.3380540907382965),\n",
       " ('alive', 0.31731781363487244),\n",
       " ('temperature', 0.31301480531692505),\n",
       " ('sit', 0.30589741468429565),\n",
       " ('poise', 0.3041265904903412),\n",
       " ('dull', 0.2940497398376465),\n",
       " ('genuine', 0.2865021526813507),\n",
       " ('efface', 0.28134462237358093),\n",
       " ('western', 0.27990487217903137)]"
      ]
     },
     "execution_count": 72,
     "metadata": {},
     "output_type": "execute_result"
    }
   ],
   "source": [
    "model.wv.most_similar(positive = ['eldritch'])"
   ]
  },
  {
   "cell_type": "markdown",
   "metadata": {
    "hidden": true
   },
   "source": [
    "This is sadly not working, I probably need more data. \n",
    "\n",
    "Wanted to try out GloVe, but there is no Python implementation. "
   ]
  },
  {
   "cell_type": "code",
   "execution_count": null,
   "metadata": {
    "hidden": true
   },
   "outputs": [],
   "source": []
  },
  {
   "cell_type": "code",
   "execution_count": null,
   "metadata": {
    "hidden": true
   },
   "outputs": [],
   "source": []
  },
  {
   "cell_type": "markdown",
   "metadata": {},
   "source": [
    "# LSTM"
   ]
  },
  {
   "cell_type": "markdown",
   "metadata": {},
   "source": [
    "## Small Example"
   ]
  },
  {
   "cell_type": "markdown",
   "metadata": {},
   "source": [
    "Trying a simpler tutorial first, based on shorter text. \n",
    "\n",
    "https://machinelearningmastery.com/develop-character-based-neural-language-model-keras/"
   ]
  },
  {
   "cell_type": "code",
   "execution_count": 45,
   "metadata": {},
   "outputs": [],
   "source": [
    "filename = \"the_music_of_erich_zann\"\n",
    "my_file = open(txt_folder + filename + '.txt')\n",
    "raw_text = my_file.read()\n",
    "my_file.close()\n",
    "\n",
    "# clean file\n",
    "tokens = raw_text.split()\n",
    "raw_text = ' '.join(tokens)"
   ]
  },
  {
   "cell_type": "code",
   "execution_count": 46,
   "metadata": {},
   "outputs": [],
   "source": [
    "# looks OK\n",
    "# sorted(list(set(raw_text)))\n",
    "# no ! or ? lol"
   ]
  },
  {
   "cell_type": "code",
   "execution_count": 47,
   "metadata": {},
   "outputs": [],
   "source": [
    "length = 20\n",
    "sequences = list()\n",
    "\n",
    "for i in range(length, len(raw_text)):\n",
    "    sequence = raw_text[i-length:i+1]\n",
    "    sequences.append(sequence)"
   ]
  },
  {
   "cell_type": "code",
   "execution_count": 48,
   "metadata": {},
   "outputs": [],
   "source": [
    "chars = sorted(list(set(raw_text)))\n",
    "mapping = dict((c, i) for i, c in enumerate(chars))"
   ]
  },
  {
   "cell_type": "code",
   "execution_count": 49,
   "metadata": {},
   "outputs": [
    {
     "data": {
      "text/plain": [
       "{' ': 0,\n",
       " \"'\": 1,\n",
       " ',': 2,\n",
       " '-': 3,\n",
       " '.': 4,\n",
       " ';': 5,\n",
       " 'A': 6,\n",
       " 'B': 7,\n",
       " 'C': 8,\n",
       " 'D': 9,\n",
       " 'E': 10,\n",
       " 'F': 11,\n",
       " 'G': 12,\n",
       " 'H': 13,\n",
       " 'I': 14,\n",
       " 'K': 15,\n",
       " 'L': 16,\n",
       " 'M': 17,\n",
       " 'N': 18,\n",
       " 'O': 19,\n",
       " 'R': 20,\n",
       " 'S': 21,\n",
       " 'T': 22,\n",
       " 'U': 23,\n",
       " 'W': 24,\n",
       " 'Y': 25,\n",
       " 'Z': 26,\n",
       " 'a': 27,\n",
       " 'b': 28,\n",
       " 'c': 29,\n",
       " 'd': 30,\n",
       " 'e': 31,\n",
       " 'f': 32,\n",
       " 'g': 33,\n",
       " 'h': 34,\n",
       " 'i': 35,\n",
       " 'j': 36,\n",
       " 'k': 37,\n",
       " 'l': 38,\n",
       " 'm': 39,\n",
       " 'n': 40,\n",
       " 'o': 41,\n",
       " 'p': 42,\n",
       " 'q': 43,\n",
       " 'r': 44,\n",
       " 's': 45,\n",
       " 't': 46,\n",
       " 'u': 47,\n",
       " 'v': 48,\n",
       " 'w': 49,\n",
       " 'x': 50,\n",
       " 'y': 51,\n",
       " 'z': 52,\n",
       " '–': 53}"
      ]
     },
     "execution_count": 49,
     "metadata": {},
     "output_type": "execute_result"
    }
   ],
   "source": [
    "mapping"
   ]
  },
  {
   "cell_type": "code",
   "execution_count": 50,
   "metadata": {},
   "outputs": [],
   "source": [
    "encoded_sequences = []\n",
    "\n",
    "for sequence in sequences:\n",
    "    encoded_seq = [mapping[char] for char in sequence]\n",
    "    encoded_sequences.append(encoded_seq)"
   ]
  },
  {
   "cell_type": "code",
   "execution_count": 55,
   "metadata": {},
   "outputs": [],
   "source": [
    "encoded_sequences = np.array(encoded_sequences)\n",
    "X, y = encoded_sequences[:,:-1], encoded_sequences[:,-1]"
   ]
  },
  {
   "cell_type": "code",
   "execution_count": 63,
   "metadata": {},
   "outputs": [],
   "source": [
    "vocab_size = len(chars)"
   ]
  },
  {
   "cell_type": "code",
   "execution_count": 62,
   "metadata": {},
   "outputs": [],
   "source": [
    "# next, one-hot encode\n",
    "encoded_sequences = [to_categorical(x, num_classes=len(chars)) for x in X]\n",
    "X = np.array(encoded_sequences)\n",
    "y = to_categorical(y, num_classes=len(chars))"
   ]
  },
  {
   "cell_type": "code",
   "execution_count": 64,
   "metadata": {},
   "outputs": [
    {
     "name": "stdout",
     "output_type": "stream",
     "text": [
      "Model: \"sequential_4\"\n",
      "_________________________________________________________________\n",
      "Layer (type)                 Output Shape              Param #   \n",
      "=================================================================\n",
      "lstm_4 (LSTM)                (None, 75)                39000     \n",
      "_________________________________________________________________\n",
      "dense_4 (Dense)              (None, 54)                4104      \n",
      "=================================================================\n",
      "Total params: 43,104\n",
      "Trainable params: 43,104\n",
      "Non-trainable params: 0\n",
      "_________________________________________________________________\n",
      "None\n"
     ]
    }
   ],
   "source": [
    "model = Sequential()\n",
    "model.add(LSTM(75, input_shape=(X.shape[1], X.shape[2])))\n",
    "model.add(Dense(vocab_size, activation='softmax'))\n",
    "print(model.summary())"
   ]
  },
  {
   "cell_type": "code",
   "execution_count": 65,
   "metadata": {},
   "outputs": [
    {
     "name": "stdout",
     "output_type": "stream",
     "text": [
      "Epoch 1/100\n",
      " - 8s - loss: 2.9118 - accuracy: 0.1973\n",
      "Epoch 2/100\n",
      " - 8s - loss: 2.4992 - accuracy: 0.3036\n",
      "Epoch 3/100\n",
      " - 8s - loss: 2.3341 - accuracy: 0.3315\n",
      "Epoch 4/100\n",
      " - 8s - loss: 2.2493 - accuracy: 0.3486\n",
      "Epoch 5/100\n",
      " - 8s - loss: 2.1929 - accuracy: 0.3576\n",
      "Epoch 6/100\n",
      " - 8s - loss: 2.1456 - accuracy: 0.3695\n",
      "Epoch 7/100\n",
      " - 9s - loss: 2.1045 - accuracy: 0.3775\n",
      "Epoch 8/100\n",
      " - 9s - loss: 2.0678 - accuracy: 0.3904\n",
      "Epoch 9/100\n",
      " - 8s - loss: 2.0336 - accuracy: 0.4018\n",
      "Epoch 10/100\n",
      " - 9s - loss: 2.0010 - accuracy: 0.4084\n",
      "Epoch 11/100\n",
      " - 8s - loss: 1.9668 - accuracy: 0.4188\n",
      "Epoch 12/100\n",
      " - 8s - loss: 1.9387 - accuracy: 0.4291\n",
      "Epoch 13/100\n",
      " - 8s - loss: 1.9126 - accuracy: 0.4357\n",
      "Epoch 14/100\n",
      " - 8s - loss: 1.8850 - accuracy: 0.4414\n",
      "Epoch 15/100\n",
      " - 9s - loss: 1.8590 - accuracy: 0.4497\n",
      "Epoch 16/100\n",
      " - 9s - loss: 1.8365 - accuracy: 0.4559\n",
      "Epoch 17/100\n",
      " - 9s - loss: 1.8127 - accuracy: 0.4611\n",
      "Epoch 18/100\n",
      " - 8s - loss: 1.7912 - accuracy: 0.4712\n",
      "Epoch 19/100\n",
      " - 8s - loss: 1.7681 - accuracy: 0.4768\n",
      "Epoch 20/100\n",
      " - 8s - loss: 1.7478 - accuracy: 0.4835\n",
      "Epoch 21/100\n",
      " - 8s - loss: 1.7271 - accuracy: 0.4866\n",
      "Epoch 22/100\n",
      " - 8s - loss: 1.7077 - accuracy: 0.4918\n",
      "Epoch 23/100\n",
      " - 10s - loss: 1.6869 - accuracy: 0.4990\n",
      "Epoch 24/100\n",
      " - 11s - loss: 1.6694 - accuracy: 0.5031\n",
      "Epoch 25/100\n",
      " - 10s - loss: 1.6498 - accuracy: 0.5084\n",
      "Epoch 26/100\n",
      " - 8s - loss: 1.6330 - accuracy: 0.5121\n",
      "Epoch 27/100\n",
      " - 8s - loss: 1.6153 - accuracy: 0.5194\n",
      "Epoch 28/100\n",
      " - 8s - loss: 1.5976 - accuracy: 0.5216\n",
      "Epoch 29/100\n",
      " - 8s - loss: 1.5792 - accuracy: 0.5284\n",
      "Epoch 30/100\n",
      " - 8s - loss: 1.5614 - accuracy: 0.5319\n",
      "Epoch 31/100\n",
      " - 9s - loss: 1.5447 - accuracy: 0.5342\n",
      "Epoch 32/100\n",
      " - 8s - loss: 1.5262 - accuracy: 0.5423\n",
      "Epoch 33/100\n",
      " - 9s - loss: 1.5094 - accuracy: 0.5442\n",
      "Epoch 34/100\n",
      " - 8s - loss: 1.4919 - accuracy: 0.5495\n",
      "Epoch 35/100\n",
      " - 8s - loss: 1.4760 - accuracy: 0.5538\n",
      "Epoch 36/100\n",
      " - 8s - loss: 1.4558 - accuracy: 0.5608\n",
      "Epoch 37/100\n",
      " - 8s - loss: 1.4411 - accuracy: 0.5658\n",
      "Epoch 38/100\n",
      " - 9s - loss: 1.4231 - accuracy: 0.5699\n",
      "Epoch 39/100\n",
      " - 9s - loss: 1.4064 - accuracy: 0.5763\n",
      "Epoch 40/100\n",
      " - 9s - loss: 1.3875 - accuracy: 0.5850\n",
      "Epoch 41/100\n",
      " - 8s - loss: 1.3716 - accuracy: 0.5866\n",
      "Epoch 42/100\n",
      " - 8s - loss: 1.3518 - accuracy: 0.5918\n",
      "Epoch 43/100\n",
      " - 8s - loss: 1.3376 - accuracy: 0.5939\n",
      "Epoch 44/100\n",
      " - 9s - loss: 1.3211 - accuracy: 0.6022\n",
      "Epoch 45/100\n",
      " - 8s - loss: 1.3021 - accuracy: 0.6049\n",
      "Epoch 46/100\n",
      " - 8s - loss: 1.2867 - accuracy: 0.6127\n",
      "Epoch 47/100\n",
      " - 9s - loss: 1.2697 - accuracy: 0.6186\n",
      "Epoch 48/100\n",
      " - 8s - loss: 1.2510 - accuracy: 0.6231\n",
      "Epoch 49/100\n",
      " - 9s - loss: 1.2353 - accuracy: 0.6283\n",
      "Epoch 50/100\n",
      " - 8s - loss: 1.2173 - accuracy: 0.6341\n",
      "Epoch 51/100\n",
      " - 8s - loss: 1.2026 - accuracy: 0.6372\n",
      "Epoch 52/100\n",
      " - 10s - loss: 1.1829 - accuracy: 0.6462\n",
      "Epoch 53/100\n",
      " - 9s - loss: 1.1680 - accuracy: 0.6499\n",
      "Epoch 54/100\n",
      " - 9s - loss: 1.1515 - accuracy: 0.6509\n",
      "Epoch 55/100\n",
      " - 8s - loss: 1.1359 - accuracy: 0.6632\n",
      "Epoch 56/100\n",
      " - 8s - loss: 1.1201 - accuracy: 0.6634\n",
      "Epoch 57/100\n",
      " - 8s - loss: 1.1030 - accuracy: 0.6663\n",
      "Epoch 58/100\n",
      " - 8s - loss: 1.0814 - accuracy: 0.6747\n",
      "Epoch 59/100\n",
      " - 8s - loss: 1.0689 - accuracy: 0.6816\n",
      "Epoch 60/100\n",
      " - 8s - loss: 1.0540 - accuracy: 0.6861\n",
      "Epoch 61/100\n",
      " - 8s - loss: 1.0366 - accuracy: 0.6895\n",
      "Epoch 62/100\n",
      " - 8s - loss: 1.0207 - accuracy: 0.6969\n",
      "Epoch 63/100\n",
      " - 8s - loss: 1.0061 - accuracy: 0.7013\n",
      "Epoch 64/100\n",
      " - 8s - loss: 0.9908 - accuracy: 0.7042\n",
      "Epoch 65/100\n",
      " - 8s - loss: 0.9774 - accuracy: 0.7088\n",
      "Epoch 66/100\n",
      " - 8s - loss: 0.9616 - accuracy: 0.7124\n",
      "Epoch 67/100\n",
      " - 8s - loss: 0.9474 - accuracy: 0.7178\n",
      "Epoch 68/100\n",
      " - 8s - loss: 0.9318 - accuracy: 0.7216\n",
      "Epoch 69/100\n",
      " - 8s - loss: 0.9178 - accuracy: 0.7252\n",
      "Epoch 70/100\n",
      " - 8s - loss: 0.8995 - accuracy: 0.7315\n",
      "Epoch 71/100\n",
      " - 8s - loss: 0.8867 - accuracy: 0.7365\n",
      "Epoch 72/100\n",
      " - 8s - loss: 0.8786 - accuracy: 0.7369\n",
      "Epoch 73/100\n",
      " - 8s - loss: 0.8645 - accuracy: 0.7445\n",
      "Epoch 74/100\n",
      " - 8s - loss: 0.8511 - accuracy: 0.7466\n",
      "Epoch 75/100\n",
      " - 8s - loss: 0.8470 - accuracy: 0.7453\n",
      "Epoch 76/100\n",
      " - 8s - loss: 0.8251 - accuracy: 0.7566\n",
      "Epoch 77/100\n",
      " - 8s - loss: 0.8114 - accuracy: 0.7604\n",
      "Epoch 78/100\n",
      " - 8s - loss: 0.8033 - accuracy: 0.7623\n",
      "Epoch 79/100\n",
      " - 8s - loss: 0.7957 - accuracy: 0.7665\n",
      "Epoch 80/100\n",
      " - 8s - loss: 0.7854 - accuracy: 0.7684\n",
      "Epoch 81/100\n",
      " - 8s - loss: 0.7756 - accuracy: 0.7695\n",
      "Epoch 82/100\n",
      " - 8s - loss: 0.7547 - accuracy: 0.7777\n",
      "Epoch 83/100\n",
      " - 8s - loss: 0.7437 - accuracy: 0.7829\n",
      "Epoch 84/100\n",
      " - 8s - loss: 0.7395 - accuracy: 0.7839\n",
      "Epoch 85/100\n",
      " - 8s - loss: 0.7241 - accuracy: 0.7881\n",
      "Epoch 86/100\n",
      " - 8s - loss: 0.7166 - accuracy: 0.7913\n",
      "Epoch 87/100\n",
      " - 8s - loss: 0.7050 - accuracy: 0.7937\n",
      "Epoch 88/100\n",
      " - 8s - loss: 0.7023 - accuracy: 0.7939\n",
      "Epoch 89/100\n",
      " - 8s - loss: 0.6804 - accuracy: 0.8044\n",
      "Epoch 90/100\n",
      " - 8s - loss: 0.6828 - accuracy: 0.8010\n",
      "Epoch 91/100\n",
      " - 8s - loss: 0.6663 - accuracy: 0.8072\n",
      "Epoch 92/100\n",
      " - 8s - loss: 0.6569 - accuracy: 0.8104\n",
      "Epoch 93/100\n",
      " - 8s - loss: 0.6480 - accuracy: 0.8125\n",
      "Epoch 94/100\n",
      " - 8s - loss: 0.6413 - accuracy: 0.8139\n",
      "Epoch 95/100\n",
      " - 8s - loss: 0.6422 - accuracy: 0.8087\n",
      "Epoch 96/100\n",
      " - 8s - loss: 0.6200 - accuracy: 0.8214\n",
      "Epoch 97/100\n",
      " - 8s - loss: 0.6171 - accuracy: 0.8206\n",
      "Epoch 98/100\n",
      " - 8s - loss: 0.6112 - accuracy: 0.8264\n",
      "Epoch 99/100\n",
      " - 8s - loss: 0.5946 - accuracy: 0.8300\n",
      "Epoch 100/100\n",
      " - 8s - loss: 0.5925 - accuracy: 0.8314\n"
     ]
    },
    {
     "data": {
      "text/plain": [
       "<keras.callbacks.callbacks.History at 0x7f82c0304350>"
      ]
     },
     "execution_count": 65,
     "metadata": {},
     "output_type": "execute_result"
    }
   ],
   "source": [
    "# compile model\n",
    "model.compile(loss='categorical_crossentropy', optimizer='adam', metrics=['accuracy'])\n",
    "# fit model\n",
    "model.fit(X, y, epochs=100, verbose=2)"
   ]
  },
  {
   "cell_type": "code",
   "execution_count": 69,
   "metadata": {},
   "outputs": [],
   "source": [
    "# save the model to file\n",
    "model.save('model.h5')\n",
    "# save the mapping\n",
    "pickle.dump(mapping, open('mapping.pkl', 'wb'))"
   ]
  },
  {
   "cell_type": "code",
   "execution_count": 70,
   "metadata": {},
   "outputs": [],
   "source": [
    "# can load it in later if we want to"
   ]
  },
  {
   "cell_type": "code",
   "execution_count": 72,
   "metadata": {},
   "outputs": [],
   "source": [
    "def generate_seq(model, mapping, seq_length, seed_text, n_chars):\n",
    "    in_text = seed_text\n",
    "    # generate a fixed number of characters\n",
    "    for _ in range(n_chars):\n",
    "        # encode the characters as integers\n",
    "        encoded = [mapping[char] for char in in_text]\n",
    "        # truncate sequences to a fixed length\n",
    "        encoded = pad_sequences([encoded], maxlen=seq_length, truncating='pre')\n",
    "        # one hot encode\n",
    "        encoded = to_categorical(encoded, num_classes=len(mapping))\n",
    "        # predict character\n",
    "        yhat = model.predict_classes(encoded, verbose=0)\n",
    "        # reverse map integer to character\n",
    "        out_char = ''\n",
    "        for char, index in mapping.items():\n",
    "            if index == yhat:\n",
    "                out_char = char\n",
    "                break\n",
    "        # append to input\n",
    "        in_text += char\n",
    "    return in_text"
   ]
  },
  {
   "cell_type": "code",
   "execution_count": 76,
   "metadata": {},
   "outputs": [
    {
     "name": "stdout",
     "output_type": "stream",
     "text": [
      "But despite all I have done it remains an humiliating and the floor, when I wo kee over the wailly. The plainingl. I have nemer and my manded wither wind\n"
     ]
    }
   ],
   "source": [
    "print(generate_seq(model, mapping, 20, 'But despite all I have done it remains an humiliating', 100))"
   ]
  },
  {
   "cell_type": "markdown",
   "metadata": {},
   "source": [
    "Well, that is not really useful. "
   ]
  },
  {
   "cell_type": "code",
   "execution_count": null,
   "metadata": {},
   "outputs": [],
   "source": []
  },
  {
   "cell_type": "markdown",
   "metadata": {},
   "source": [
    "## Full Model"
   ]
  },
  {
   "cell_type": "markdown",
   "metadata": {},
   "source": [
    "Following chapter 9 in book. Trying to create a character-based text generation. "
   ]
  },
  {
   "cell_type": "code",
   "execution_count": 66,
   "metadata": {},
   "outputs": [],
   "source": [
    "# check out this too: https://keras.io/examples/generative/lstm_character_level_text_generation/"
   ]
  },
  {
   "cell_type": "code",
   "execution_count": 7,
   "metadata": {},
   "outputs": [],
   "source": [
    "# first, we need all the text in one large file\n",
    "# trying with capital letters as well, plus all weird ones\n",
    "\n",
    "text = \"\"\n",
    "\n",
    "for filename in filenames: \n",
    "\n",
    "    my_file = open(txt_folder + filename + '.txt')\n",
    "    current_text = my_file.read()\n",
    "    my_file.close()\n",
    "    text += current_text"
   ]
  },
  {
   "cell_type": "code",
   "execution_count": 8,
   "metadata": {},
   "outputs": [
    {
     "data": {
      "text/plain": [
       "2631871"
      ]
     },
     "execution_count": 8,
     "metadata": {},
     "output_type": "execute_result"
    }
   ],
   "source": [
    "len(text)"
   ]
  },
  {
   "cell_type": "code",
   "execution_count": 11,
   "metadata": {},
   "outputs": [],
   "source": [
    "# create a dictionary of the characters\n",
    "\n",
    "chars = sorted(list(set(text)))\n",
    "char_indices = dict((c,i) for i,c in enumerate(chars))\n",
    "indices_char = dict((i,c) for i,c in enumerate(chars))"
   ]
  },
  {
   "cell_type": "code",
   "execution_count": 12,
   "metadata": {},
   "outputs": [
    {
     "data": {
      "text/plain": [
       "106"
      ]
     },
     "execution_count": 12,
     "metadata": {},
     "output_type": "execute_result"
    }
   ],
   "source": [
    "len(chars)"
   ]
  },
  {
   "cell_type": "code",
   "execution_count": 14,
   "metadata": {},
   "outputs": [],
   "source": [
    "# now, we are chopping up the text into sentences\n",
    "\n",
    "maxlen = 40\n",
    "step = 3\n",
    "\n",
    "sentences = []\n",
    "next_chars = []\n",
    "\n",
    "for i in range(0, len(text) - maxlen, step):\n",
    "    sentences.append(text[i:i+maxlen])\n",
    "    next_chars.append(text[i+maxlen])\n",
    "    "
   ]
  },
  {
   "cell_type": "code",
   "execution_count": 16,
   "metadata": {},
   "outputs": [
    {
     "data": {
      "text/plain": [
       "877277"
      ]
     },
     "execution_count": 16,
     "metadata": {},
     "output_type": "execute_result"
    }
   ],
   "source": [
    "# this many training sets\n",
    "len(next_chars)"
   ]
  },
  {
   "cell_type": "code",
   "execution_count": 18,
   "metadata": {},
   "outputs": [],
   "source": [
    "# one-hot encode, create training X and y\n",
    "\n",
    "X = np.zeros((len(sentences), maxlen, len(chars)), dtype = np.bool)\n",
    "y = np.zeros((len(sentences), len(chars)), dtype = np.bool)\n",
    "\n",
    "for i, sentence in enumerate(sentences):\n",
    "    for t, char in enumerate(sentence):\n",
    "        X[i, t, char_indices[char]] = 1\n",
    "    y[i, char_indices[next_chars[i]]] = 1"
   ]
  },
  {
   "cell_type": "code",
   "execution_count": 25,
   "metadata": {},
   "outputs": [
    {
     "name": "stdout",
     "output_type": "stream",
     "text": [
      "Model: \"sequential_3\"\n",
      "_________________________________________________________________\n",
      "Layer (type)                 Output Shape              Param #   \n",
      "=================================================================\n",
      "lstm_3 (LSTM)                (None, 128)               120320    \n",
      "_________________________________________________________________\n",
      "dense_3 (Dense)              (None, 106)               13674     \n",
      "_________________________________________________________________\n",
      "activation_3 (Activation)    (None, 106)               0         \n",
      "=================================================================\n",
      "Total params: 133,994\n",
      "Trainable params: 133,994\n",
      "Non-trainable params: 0\n",
      "_________________________________________________________________\n"
     ]
    }
   ],
   "source": [
    "# set up keras model\n",
    "model = Sequential()\n",
    "model.add(LSTM(128, input_shape = (maxlen, len(chars))))\n",
    "model.add(Dense(len(chars)))\n",
    "model.add(Activation('softmax'))\n",
    "\n",
    "# compile\n",
    "optimizer = RMSprop(lr = 0.01)\n",
    "model.compile(loss = 'categorical_crossentropy', optimizer = optimizer)\n",
    "\n",
    "# summary\n",
    "model.summary()"
   ]
  },
  {
   "cell_type": "code",
   "execution_count": 27,
   "metadata": {},
   "outputs": [],
   "source": [
    "# this, of course, takes forever\n",
    "\n",
    "epochs = 6\n",
    "batch_size = 128\n",
    "\n",
    "model_structure = model.to_json()\n",
    "with open(\"lovecraft_lstm_model.json\", \"w\") as json_file:\n",
    "    json_file.write(model_structure)\n",
    "for i in range(5):\n",
    "    model.fit(X, y, batch_size = batch_size, epochs = epochs)\n",
    "    model.save_weights(\"lovecraft_lstm_weights_{}.h5\".format(i+1))"
   ]
  },
  {
   "cell_type": "code",
   "execution_count": null,
   "metadata": {},
   "outputs": [],
   "source": []
  },
  {
   "cell_type": "code",
   "execution_count": null,
   "metadata": {},
   "outputs": [],
   "source": []
  },
  {
   "cell_type": "code",
   "execution_count": null,
   "metadata": {},
   "outputs": [],
   "source": []
  },
  {
   "cell_type": "code",
   "execution_count": 28,
   "metadata": {},
   "outputs": [],
   "source": []
  },
  {
   "cell_type": "code",
   "execution_count": null,
   "metadata": {},
   "outputs": [],
   "source": []
  }
 ],
 "metadata": {
  "kernelspec": {
   "display_name": "Python 3",
   "language": "python",
   "name": "python3"
  },
  "language_info": {
   "codemirror_mode": {
    "name": "ipython",
    "version": 3
   },
   "file_extension": ".py",
   "mimetype": "text/x-python",
   "name": "python",
   "nbconvert_exporter": "python",
   "pygments_lexer": "ipython3",
   "version": "3.7.4"
  },
  "toc": {
   "base_numbering": 1,
   "nav_menu": {},
   "number_sections": true,
   "sideBar": true,
   "skip_h1_title": false,
   "title_cell": "Table of Contents",
   "title_sidebar": "Contents",
   "toc_cell": false,
   "toc_position": {
    "height": "calc(100% - 180px)",
    "left": "10px",
    "top": "150px",
    "width": "308px"
   },
   "toc_section_display": true,
   "toc_window_display": true
  },
  "varInspector": {
   "cols": {
    "lenName": 16,
    "lenType": 16,
    "lenVar": 40
   },
   "kernels_config": {
    "python": {
     "delete_cmd_postfix": "",
     "delete_cmd_prefix": "del ",
     "library": "var_list.py",
     "varRefreshCmd": "print(var_dic_list())"
    },
    "r": {
     "delete_cmd_postfix": ") ",
     "delete_cmd_prefix": "rm(",
     "library": "var_list.r",
     "varRefreshCmd": "cat(var_dic_list()) "
    }
   },
   "types_to_exclude": [
    "module",
    "function",
    "builtin_function_or_method",
    "instance",
    "_Feature"
   ],
   "window_display": false
  }
 },
 "nbformat": 4,
 "nbformat_minor": 2
}
